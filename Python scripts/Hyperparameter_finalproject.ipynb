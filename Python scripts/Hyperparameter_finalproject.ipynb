{
 "cells": [
  {
   "cell_type": "markdown",
   "metadata": {},
   "source": [
    "# Hyperparameter Database Project\n"
   ]
  },
  {
   "cell_type": "markdown",
   "metadata": {},
   "source": [
    "## Abstract\n",
    "\n",
    "This project aims to create database consisting of hyperparameters for all models generated for a particular runtime for a dataset. Here we are making use of H20 AutoML library which generates models for each runtime and gets all hyperparameters for each model.\n",
    "\n",
    "### Aim/Purpose of Research\n",
    "This project aims to create database consisting of hyperparameters for all models generated for a particular runtime for a dataset. Here we are making use of H20 AutoML library which generates models for each runtime and gets all hyperparameters for each model.\n"
   ]
  },
  {
   "cell_type": "markdown",
   "metadata": {},
   "source": [
    "### Methods Used :\n",
    "\n",
    "Exploratory Data Analysis, H20 library. "
   ]
  },
  {
   "cell_type": "markdown",
   "metadata": {},
   "source": [
    "### About the dataset\n",
    "\n",
    "Dataset has been taken from Kaggle : Travel Insurance Claims. This dataset displays information about the travel insurance claims filed by the candidate. \n",
    "\n",
    "#### Number of records: \n",
    "63,327 \n",
    "\n",
    "#### Number of attributes:\n",
    "11\n",
    "\n",
    "#### Type of problem: \n",
    "Binary classification, regression\n",
    "\n",
    "#### Type of variables:\n",
    "Numeric, date, categorical , binary.\n",
    "\n",
    "#### Target attribute:\n",
    "Claim"
   ]
  },
  {
   "cell_type": "code",
   "execution_count": 1,
   "metadata": {},
   "outputs": [
    {
     "name": "stdout",
     "output_type": "stream",
     "text": [
      "Checking whether there is an H2O instance running at http://localhost:54321 ..... not found.\n",
      "Attempting to start a local H2O server...\n",
      "; Java HotSpot(TM) 64-Bit Server VM (build 24.80-b11, mixed mode)\n",
      "  Starting server from C:\\Users\\Ashmita\\Anaconda3\\lib\\site-packages\\h2o\\backend\\bin\\h2o.jar\n",
      "  Ice root: C:\\Users\\Ashmita\\AppData\\Local\\Temp\\tmplcmxw2zm\n",
      "  JVM stdout: C:\\Users\\Ashmita\\AppData\\Local\\Temp\\tmplcmxw2zm\\h2o_Ashmita_started_from_python.out\n",
      "  JVM stderr: C:\\Users\\Ashmita\\AppData\\Local\\Temp\\tmplcmxw2zm\\h2o_Ashmita_started_from_python.err\n",
      "  Server is running at http://127.0.0.1:54321\n",
      "Connecting to H2O server at http://127.0.0.1:54321 ... successful.\n"
     ]
    },
    {
     "data": {
      "text/html": [
       "<div style=\"overflow:auto\"><table style=\"width:50%\"><tr><td>H2O cluster uptime:</td>\n",
       "<td>03 secs</td></tr>\n",
       "<tr><td>H2O cluster timezone:</td>\n",
       "<td>America/New_York</td></tr>\n",
       "<tr><td>H2O data parsing timezone:</td>\n",
       "<td>UTC</td></tr>\n",
       "<tr><td>H2O cluster version:</td>\n",
       "<td>3.24.0.1</td></tr>\n",
       "<tr><td>H2O cluster version age:</td>\n",
       "<td>21 days, 17 hours and 4 minutes </td></tr>\n",
       "<tr><td>H2O cluster name:</td>\n",
       "<td>H2O_from_python_Ashmita_mng3aj</td></tr>\n",
       "<tr><td>H2O cluster total nodes:</td>\n",
       "<td>1</td></tr>\n",
       "<tr><td>H2O cluster free memory:</td>\n",
       "<td>3.522 Gb</td></tr>\n",
       "<tr><td>H2O cluster total cores:</td>\n",
       "<td>4</td></tr>\n",
       "<tr><td>H2O cluster allowed cores:</td>\n",
       "<td>4</td></tr>\n",
       "<tr><td>H2O cluster status:</td>\n",
       "<td>accepting new members, healthy</td></tr>\n",
       "<tr><td>H2O connection url:</td>\n",
       "<td>http://127.0.0.1:54321</td></tr>\n",
       "<tr><td>H2O connection proxy:</td>\n",
       "<td>None</td></tr>\n",
       "<tr><td>H2O internal security:</td>\n",
       "<td>False</td></tr>\n",
       "<tr><td>H2O API Extensions:</td>\n",
       "<td>AutoML, Amazon S3, Algos, Core V3, Core V4</td></tr>\n",
       "<tr><td>Python version:</td>\n",
       "<td>3.7.1 final</td></tr></table></div>"
      ],
      "text/plain": [
       "--------------------------  ------------------------------------------\n",
       "H2O cluster uptime:         03 secs\n",
       "H2O cluster timezone:       America/New_York\n",
       "H2O data parsing timezone:  UTC\n",
       "H2O cluster version:        3.24.0.1\n",
       "H2O cluster version age:    21 days, 17 hours and 4 minutes\n",
       "H2O cluster name:           H2O_from_python_Ashmita_mng3aj\n",
       "H2O cluster total nodes:    1\n",
       "H2O cluster free memory:    3.522 Gb\n",
       "H2O cluster total cores:    4\n",
       "H2O cluster allowed cores:  4\n",
       "H2O cluster status:         accepting new members, healthy\n",
       "H2O connection url:         http://127.0.0.1:54321\n",
       "H2O connection proxy:\n",
       "H2O internal security:      False\n",
       "H2O API Extensions:         AutoML, Amazon S3, Algos, Core V3, Core V4\n",
       "Python version:             3.7.1 final\n",
       "--------------------------  ------------------------------------------"
      ]
     },
     "metadata": {},
     "output_type": "display_data"
    }
   ],
   "source": [
    "import h2o\n",
    "from h2o.automl import H2OAutoML\n",
    "import random, os, sys\n",
    "import warnings\n",
    "warnings.filterwarnings('ignore')\n",
    "from datetime import datetime\n",
    "import pandas as pd\n",
    "import logging\n",
    "import csv\n",
    "import optparse\n",
    "import time\n",
    "import json\n",
    "from distutils.util import strtobool\n",
    "import psutil\n",
    "import pandas as pd\n",
    "import numpy as np\n",
    "import matplotlib.pyplot as plt\n",
    "import seaborn as sns\n",
    "h2o.init()"
   ]
  },
  {
   "cell_type": "code",
   "execution_count": 2,
   "metadata": {},
   "outputs": [],
   "source": [
    "# importing libraries\n",
    "%matplotlib inline\n",
    "import pandas as pd\n",
    "import matplotlib.pyplot as plt\n",
    "import numpy as np\n",
    "from scipy import stats\n",
    "import seaborn as sns\n",
    "import statsmodels.api as sm\n",
    "from sklearn import linear_model\n",
    "from statsmodels.formula.api import ols\n",
    "from sklearn.linear_model import LinearRegression, Ridge, Lasso\n",
    "from sklearn.preprocessing import PolynomialFeatures\n",
    "from sklearn.pipeline import make_pipeline\n",
    "import warnings\n",
    "warnings.filterwarnings('ignore')\n",
    "from sklearn.preprocessing import LabelEncoder\n",
    "from sklearn.model_selection import train_test_split\n",
    "from sklearn.linear_model import LinearRegression\n",
    "from sklearn.tree import DecisionTreeRegressor\n",
    "from sklearn.ensemble import RandomForestRegressor\n",
    "from sklearn.metrics import mean_squared_error, mean_squared_log_error\n",
    "from sklearn.preprocessing import scale\n",
    "from sklearn.linear_model import LogisticRegression\n",
    "from sklearn import metrics\n",
    "from sklearn import preprocessing\n",
    "from pylab import rcParams\n",
    "from scipy.stats import spearmanr\n",
    "from statsmodels.stats.outliers_influence import variance_inflation_factor\n",
    "from sklearn.metrics import mean_squared_error, make_scorer"
   ]
  },
  {
   "cell_type": "code",
   "execution_count": 4,
   "metadata": {},
   "outputs": [],
   "source": [
    "# importing the dataset\n",
    "df=pd.read_csv(\"travel insurance.csv\", decimal = ',')"
   ]
  },
  {
   "cell_type": "code",
   "execution_count": 5,
   "metadata": {},
   "outputs": [
    {
     "data": {
      "text/html": [
       "<div>\n",
       "<style scoped>\n",
       "    .dataframe tbody tr th:only-of-type {\n",
       "        vertical-align: middle;\n",
       "    }\n",
       "\n",
       "    .dataframe tbody tr th {\n",
       "        vertical-align: top;\n",
       "    }\n",
       "\n",
       "    .dataframe thead th {\n",
       "        text-align: right;\n",
       "    }\n",
       "</style>\n",
       "<table border=\"1\" class=\"dataframe\">\n",
       "  <thead>\n",
       "    <tr style=\"text-align: right;\">\n",
       "      <th></th>\n",
       "      <th>Agency</th>\n",
       "      <th>Agency Type</th>\n",
       "      <th>Distribution Channel</th>\n",
       "      <th>Product Name</th>\n",
       "      <th>Claim</th>\n",
       "      <th>Duration</th>\n",
       "      <th>Destination</th>\n",
       "      <th>Net Sales</th>\n",
       "      <th>Commision (in value)</th>\n",
       "      <th>Gender</th>\n",
       "      <th>Age</th>\n",
       "    </tr>\n",
       "  </thead>\n",
       "  <tbody>\n",
       "    <tr>\n",
       "      <th>0</th>\n",
       "      <td>CBH</td>\n",
       "      <td>Travel Agency</td>\n",
       "      <td>Offline</td>\n",
       "      <td>Comprehensive Plan</td>\n",
       "      <td>No</td>\n",
       "      <td>186</td>\n",
       "      <td>MALAYSIA</td>\n",
       "      <td>-29</td>\n",
       "      <td>9.57</td>\n",
       "      <td>F</td>\n",
       "      <td>81</td>\n",
       "    </tr>\n",
       "    <tr>\n",
       "      <th>1</th>\n",
       "      <td>CBH</td>\n",
       "      <td>Travel Agency</td>\n",
       "      <td>Offline</td>\n",
       "      <td>Comprehensive Plan</td>\n",
       "      <td>No</td>\n",
       "      <td>186</td>\n",
       "      <td>MALAYSIA</td>\n",
       "      <td>-29</td>\n",
       "      <td>9.57</td>\n",
       "      <td>F</td>\n",
       "      <td>71</td>\n",
       "    </tr>\n",
       "    <tr>\n",
       "      <th>2</th>\n",
       "      <td>CWT</td>\n",
       "      <td>Travel Agency</td>\n",
       "      <td>Online</td>\n",
       "      <td>Rental Vehicle Excess Insurance</td>\n",
       "      <td>No</td>\n",
       "      <td>65</td>\n",
       "      <td>AUSTRALIA</td>\n",
       "      <td>-49.5</td>\n",
       "      <td>29.7</td>\n",
       "      <td>NaN</td>\n",
       "      <td>32</td>\n",
       "    </tr>\n",
       "    <tr>\n",
       "      <th>3</th>\n",
       "      <td>CWT</td>\n",
       "      <td>Travel Agency</td>\n",
       "      <td>Online</td>\n",
       "      <td>Rental Vehicle Excess Insurance</td>\n",
       "      <td>No</td>\n",
       "      <td>60</td>\n",
       "      <td>AUSTRALIA</td>\n",
       "      <td>-39.6</td>\n",
       "      <td>23.76</td>\n",
       "      <td>NaN</td>\n",
       "      <td>32</td>\n",
       "    </tr>\n",
       "    <tr>\n",
       "      <th>4</th>\n",
       "      <td>CWT</td>\n",
       "      <td>Travel Agency</td>\n",
       "      <td>Online</td>\n",
       "      <td>Rental Vehicle Excess Insurance</td>\n",
       "      <td>No</td>\n",
       "      <td>79</td>\n",
       "      <td>ITALY</td>\n",
       "      <td>-19.8</td>\n",
       "      <td>11.88</td>\n",
       "      <td>NaN</td>\n",
       "      <td>41</td>\n",
       "    </tr>\n",
       "  </tbody>\n",
       "</table>\n",
       "</div>"
      ],
      "text/plain": [
       "  Agency    Agency Type Distribution Channel                     Product Name  \\\n",
       "0    CBH  Travel Agency              Offline               Comprehensive Plan   \n",
       "1    CBH  Travel Agency              Offline               Comprehensive Plan   \n",
       "2    CWT  Travel Agency               Online  Rental Vehicle Excess Insurance   \n",
       "3    CWT  Travel Agency               Online  Rental Vehicle Excess Insurance   \n",
       "4    CWT  Travel Agency               Online  Rental Vehicle Excess Insurance   \n",
       "\n",
       "  Claim  Duration Destination Net Sales Commision (in value) Gender  Age  \n",
       "0    No       186    MALAYSIA       -29                 9.57      F   81  \n",
       "1    No       186    MALAYSIA       -29                 9.57      F   71  \n",
       "2    No        65   AUSTRALIA     -49.5                 29.7    NaN   32  \n",
       "3    No        60   AUSTRALIA     -39.6                23.76    NaN   32  \n",
       "4    No        79       ITALY     -19.8                11.88    NaN   41  "
      ]
     },
     "execution_count": 5,
     "metadata": {},
     "output_type": "execute_result"
    }
   ],
   "source": [
    "df.head()"
   ]
  },
  {
   "cell_type": "code",
   "execution_count": 6,
   "metadata": {},
   "outputs": [
    {
     "data": {
      "text/html": [
       "<div>\n",
       "<style scoped>\n",
       "    .dataframe tbody tr th:only-of-type {\n",
       "        vertical-align: middle;\n",
       "    }\n",
       "\n",
       "    .dataframe tbody tr th {\n",
       "        vertical-align: top;\n",
       "    }\n",
       "\n",
       "    .dataframe thead th {\n",
       "        text-align: right;\n",
       "    }\n",
       "</style>\n",
       "<table border=\"1\" class=\"dataframe\">\n",
       "  <thead>\n",
       "    <tr style=\"text-align: right;\">\n",
       "      <th></th>\n",
       "      <th>Duration</th>\n",
       "      <th>Age</th>\n",
       "    </tr>\n",
       "  </thead>\n",
       "  <tbody>\n",
       "    <tr>\n",
       "      <th>count</th>\n",
       "      <td>63326.000000</td>\n",
       "      <td>63326.000000</td>\n",
       "    </tr>\n",
       "    <tr>\n",
       "      <th>mean</th>\n",
       "      <td>49.317074</td>\n",
       "      <td>39.969981</td>\n",
       "    </tr>\n",
       "    <tr>\n",
       "      <th>std</th>\n",
       "      <td>101.791566</td>\n",
       "      <td>14.017010</td>\n",
       "    </tr>\n",
       "    <tr>\n",
       "      <th>min</th>\n",
       "      <td>-2.000000</td>\n",
       "      <td>0.000000</td>\n",
       "    </tr>\n",
       "    <tr>\n",
       "      <th>25%</th>\n",
       "      <td>9.000000</td>\n",
       "      <td>35.000000</td>\n",
       "    </tr>\n",
       "    <tr>\n",
       "      <th>50%</th>\n",
       "      <td>22.000000</td>\n",
       "      <td>36.000000</td>\n",
       "    </tr>\n",
       "    <tr>\n",
       "      <th>75%</th>\n",
       "      <td>53.000000</td>\n",
       "      <td>43.000000</td>\n",
       "    </tr>\n",
       "    <tr>\n",
       "      <th>max</th>\n",
       "      <td>4881.000000</td>\n",
       "      <td>118.000000</td>\n",
       "    </tr>\n",
       "  </tbody>\n",
       "</table>\n",
       "</div>"
      ],
      "text/plain": [
       "           Duration           Age\n",
       "count  63326.000000  63326.000000\n",
       "mean      49.317074     39.969981\n",
       "std      101.791566     14.017010\n",
       "min       -2.000000      0.000000\n",
       "25%        9.000000     35.000000\n",
       "50%       22.000000     36.000000\n",
       "75%       53.000000     43.000000\n",
       "max     4881.000000    118.000000"
      ]
     },
     "execution_count": 6,
     "metadata": {},
     "output_type": "execute_result"
    }
   ],
   "source": [
    "df.describe()"
   ]
  },
  {
   "cell_type": "code",
   "execution_count": 7,
   "metadata": {},
   "outputs": [
    {
     "data": {
      "text/plain": [
       "Index(['Agency', 'Agency Type', 'Distribution Channel', 'Product Name',\n",
       "       'Claim', 'Duration', 'Destination', 'Net Sales', 'Commision (in value)',\n",
       "       'Gender', 'Age'],\n",
       "      dtype='object')"
      ]
     },
     "execution_count": 7,
     "metadata": {},
     "output_type": "execute_result"
    }
   ],
   "source": [
    "df.columns"
   ]
  },
  {
   "cell_type": "code",
   "execution_count": 8,
   "metadata": {},
   "outputs": [
    {
     "data": {
      "text/plain": [
       "(63326, 11)"
      ]
     },
     "execution_count": 8,
     "metadata": {},
     "output_type": "execute_result"
    }
   ],
   "source": [
    "df.info\n",
    "df.shape"
   ]
  },
  {
   "cell_type": "code",
   "execution_count": 9,
   "metadata": {},
   "outputs": [
    {
     "data": {
      "text/plain": [
       "Agency                  object\n",
       "Agency Type             object\n",
       "Distribution Channel    object\n",
       "Product Name            object\n",
       "Claim                   object\n",
       "Duration                 int64\n",
       "Destination             object\n",
       "Net Sales               object\n",
       "Commision (in value)    object\n",
       "Gender                  object\n",
       "Age                      int64\n",
       "dtype: object"
      ]
     },
     "execution_count": 9,
     "metadata": {},
     "output_type": "execute_result"
    }
   ],
   "source": [
    "df.dtypes"
   ]
  },
  {
   "cell_type": "code",
   "execution_count": 10,
   "metadata": {},
   "outputs": [
    {
     "data": {
      "text/plain": [
       "True"
      ]
     },
     "execution_count": 10,
     "metadata": {},
     "output_type": "execute_result"
    }
   ],
   "source": [
    "# Checking for null values\n",
    "df.isnull().values.any()"
   ]
  },
  {
   "cell_type": "code",
   "execution_count": 11,
   "metadata": {},
   "outputs": [
    {
     "data": {
      "text/plain": [
       "Agency                      0\n",
       "Agency Type                 0\n",
       "Distribution Channel        0\n",
       "Product Name                0\n",
       "Claim                       0\n",
       "Duration                    0\n",
       "Destination                 0\n",
       "Net Sales                   0\n",
       "Commision (in value)        0\n",
       "Gender                  45107\n",
       "Age                         0\n",
       "dtype: int64"
      ]
     },
     "execution_count": 11,
     "metadata": {},
     "output_type": "execute_result"
    }
   ],
   "source": [
    "df.isnull().sum()"
   ]
  },
  {
   "cell_type": "code",
   "execution_count": 12,
   "metadata": {},
   "outputs": [
    {
     "data": {
      "text/plain": [
       "45107"
      ]
     },
     "execution_count": 12,
     "metadata": {},
     "output_type": "execute_result"
    }
   ],
   "source": [
    "df.isnull().sum().sum()\n"
   ]
  },
  {
   "cell_type": "code",
   "execution_count": 13,
   "metadata": {},
   "outputs": [],
   "source": [
    "df = df.drop(['Gender'], axis=1)"
   ]
  },
  {
   "cell_type": "code",
   "execution_count": 14,
   "metadata": {},
   "outputs": [
    {
     "data": {
      "text/html": [
       "<div>\n",
       "<style scoped>\n",
       "    .dataframe tbody tr th:only-of-type {\n",
       "        vertical-align: middle;\n",
       "    }\n",
       "\n",
       "    .dataframe tbody tr th {\n",
       "        vertical-align: top;\n",
       "    }\n",
       "\n",
       "    .dataframe thead th {\n",
       "        text-align: right;\n",
       "    }\n",
       "</style>\n",
       "<table border=\"1\" class=\"dataframe\">\n",
       "  <thead>\n",
       "    <tr style=\"text-align: right;\">\n",
       "      <th></th>\n",
       "      <th>Agency</th>\n",
       "      <th>Agency Type</th>\n",
       "      <th>Distribution Channel</th>\n",
       "      <th>Product Name</th>\n",
       "      <th>Claim</th>\n",
       "      <th>Duration</th>\n",
       "      <th>Destination</th>\n",
       "      <th>Net Sales</th>\n",
       "      <th>Commision (in value)</th>\n",
       "      <th>Age</th>\n",
       "    </tr>\n",
       "  </thead>\n",
       "  <tbody>\n",
       "    <tr>\n",
       "      <th>0</th>\n",
       "      <td>CBH</td>\n",
       "      <td>Travel Agency</td>\n",
       "      <td>Offline</td>\n",
       "      <td>Comprehensive Plan</td>\n",
       "      <td>No</td>\n",
       "      <td>186</td>\n",
       "      <td>MALAYSIA</td>\n",
       "      <td>-29</td>\n",
       "      <td>9.57</td>\n",
       "      <td>81</td>\n",
       "    </tr>\n",
       "    <tr>\n",
       "      <th>1</th>\n",
       "      <td>CBH</td>\n",
       "      <td>Travel Agency</td>\n",
       "      <td>Offline</td>\n",
       "      <td>Comprehensive Plan</td>\n",
       "      <td>No</td>\n",
       "      <td>186</td>\n",
       "      <td>MALAYSIA</td>\n",
       "      <td>-29</td>\n",
       "      <td>9.57</td>\n",
       "      <td>71</td>\n",
       "    </tr>\n",
       "    <tr>\n",
       "      <th>2</th>\n",
       "      <td>CWT</td>\n",
       "      <td>Travel Agency</td>\n",
       "      <td>Online</td>\n",
       "      <td>Rental Vehicle Excess Insurance</td>\n",
       "      <td>No</td>\n",
       "      <td>65</td>\n",
       "      <td>AUSTRALIA</td>\n",
       "      <td>-49.5</td>\n",
       "      <td>29.7</td>\n",
       "      <td>32</td>\n",
       "    </tr>\n",
       "    <tr>\n",
       "      <th>3</th>\n",
       "      <td>CWT</td>\n",
       "      <td>Travel Agency</td>\n",
       "      <td>Online</td>\n",
       "      <td>Rental Vehicle Excess Insurance</td>\n",
       "      <td>No</td>\n",
       "      <td>60</td>\n",
       "      <td>AUSTRALIA</td>\n",
       "      <td>-39.6</td>\n",
       "      <td>23.76</td>\n",
       "      <td>32</td>\n",
       "    </tr>\n",
       "    <tr>\n",
       "      <th>4</th>\n",
       "      <td>CWT</td>\n",
       "      <td>Travel Agency</td>\n",
       "      <td>Online</td>\n",
       "      <td>Rental Vehicle Excess Insurance</td>\n",
       "      <td>No</td>\n",
       "      <td>79</td>\n",
       "      <td>ITALY</td>\n",
       "      <td>-19.8</td>\n",
       "      <td>11.88</td>\n",
       "      <td>41</td>\n",
       "    </tr>\n",
       "  </tbody>\n",
       "</table>\n",
       "</div>"
      ],
      "text/plain": [
       "  Agency    Agency Type Distribution Channel                     Product Name  \\\n",
       "0    CBH  Travel Agency              Offline               Comprehensive Plan   \n",
       "1    CBH  Travel Agency              Offline               Comprehensive Plan   \n",
       "2    CWT  Travel Agency               Online  Rental Vehicle Excess Insurance   \n",
       "3    CWT  Travel Agency               Online  Rental Vehicle Excess Insurance   \n",
       "4    CWT  Travel Agency               Online  Rental Vehicle Excess Insurance   \n",
       "\n",
       "  Claim  Duration Destination Net Sales Commision (in value)  Age  \n",
       "0    No       186    MALAYSIA       -29                 9.57   81  \n",
       "1    No       186    MALAYSIA       -29                 9.57   71  \n",
       "2    No        65   AUSTRALIA     -49.5                 29.7   32  \n",
       "3    No        60   AUSTRALIA     -39.6                23.76   32  \n",
       "4    No        79       ITALY     -19.8                11.88   41  "
      ]
     },
     "execution_count": 14,
     "metadata": {},
     "output_type": "execute_result"
    }
   ],
   "source": [
    "df.head()"
   ]
  },
  {
   "cell_type": "code",
   "execution_count": 15,
   "metadata": {},
   "outputs": [
    {
     "data": {
      "text/html": [
       "<div>\n",
       "<style scoped>\n",
       "    .dataframe tbody tr th:only-of-type {\n",
       "        vertical-align: middle;\n",
       "    }\n",
       "\n",
       "    .dataframe tbody tr th {\n",
       "        vertical-align: top;\n",
       "    }\n",
       "\n",
       "    .dataframe thead th {\n",
       "        text-align: right;\n",
       "    }\n",
       "</style>\n",
       "<table border=\"1\" class=\"dataframe\">\n",
       "  <thead>\n",
       "    <tr style=\"text-align: right;\">\n",
       "      <th></th>\n",
       "      <th>Duration</th>\n",
       "      <th>Age</th>\n",
       "    </tr>\n",
       "  </thead>\n",
       "  <tbody>\n",
       "    <tr>\n",
       "      <th>Duration</th>\n",
       "      <td>1.000000</td>\n",
       "      <td>0.002468</td>\n",
       "    </tr>\n",
       "    <tr>\n",
       "      <th>Age</th>\n",
       "      <td>0.002468</td>\n",
       "      <td>1.000000</td>\n",
       "    </tr>\n",
       "  </tbody>\n",
       "</table>\n",
       "</div>"
      ],
      "text/plain": [
       "          Duration       Age\n",
       "Duration  1.000000  0.002468\n",
       "Age       0.002468  1.000000"
      ]
     },
     "execution_count": 15,
     "metadata": {},
     "output_type": "execute_result"
    }
   ],
   "source": [
    "df.corr()"
   ]
  },
  {
   "cell_type": "code",
   "execution_count": 16,
   "metadata": {},
   "outputs": [
    {
     "data": {
      "image/png": "[encoded data removed]",
      "text/plain": [
       "<Figure size 720x432 with 2 Axes>"
      ]
     },
     "metadata": {
      "needs_background": "light"
     },
     "output_type": "display_data"
    }
   ],
   "source": [
    "plt.figure(figsize=(10,6))\n",
    "sns.heatmap(data=df.iloc[:,2:].corr(),annot=True,fmt='.2f',cmap='coolwarm')\n",
    "plt.show()"
   ]
  },
  {
   "cell_type": "markdown",
   "metadata": {},
   "source": [
    "### Categorical Encoding "
   ]
  },
  {
   "cell_type": "code",
   "execution_count": 17,
   "metadata": {},
   "outputs": [
    {
     "data": {
      "text/html": [
       "<div>\n",
       "<style scoped>\n",
       "    .dataframe tbody tr th:only-of-type {\n",
       "        vertical-align: middle;\n",
       "    }\n",
       "\n",
       "    .dataframe tbody tr th {\n",
       "        vertical-align: top;\n",
       "    }\n",
       "\n",
       "    .dataframe thead th {\n",
       "        text-align: right;\n",
       "    }\n",
       "</style>\n",
       "<table border=\"1\" class=\"dataframe\">\n",
       "  <thead>\n",
       "    <tr style=\"text-align: right;\">\n",
       "      <th></th>\n",
       "      <th>Agency</th>\n",
       "      <th>Agency Type</th>\n",
       "      <th>Distribution Channel</th>\n",
       "      <th>Product Name</th>\n",
       "      <th>Claim</th>\n",
       "      <th>Duration</th>\n",
       "      <th>Destination</th>\n",
       "      <th>Net Sales</th>\n",
       "      <th>Commision (in value)</th>\n",
       "      <th>Age</th>\n",
       "    </tr>\n",
       "  </thead>\n",
       "  <tbody>\n",
       "    <tr>\n",
       "      <th>0</th>\n",
       "      <td>CBH</td>\n",
       "      <td>1</td>\n",
       "      <td>Offline</td>\n",
       "      <td>Comprehensive Plan</td>\n",
       "      <td>No</td>\n",
       "      <td>186</td>\n",
       "      <td>MALAYSIA</td>\n",
       "      <td>-29</td>\n",
       "      <td>9.57</td>\n",
       "      <td>81</td>\n",
       "    </tr>\n",
       "    <tr>\n",
       "      <th>1</th>\n",
       "      <td>CBH</td>\n",
       "      <td>1</td>\n",
       "      <td>Offline</td>\n",
       "      <td>Comprehensive Plan</td>\n",
       "      <td>No</td>\n",
       "      <td>186</td>\n",
       "      <td>MALAYSIA</td>\n",
       "      <td>-29</td>\n",
       "      <td>9.57</td>\n",
       "      <td>71</td>\n",
       "    </tr>\n",
       "    <tr>\n",
       "      <th>2</th>\n",
       "      <td>CWT</td>\n",
       "      <td>1</td>\n",
       "      <td>Online</td>\n",
       "      <td>Rental Vehicle Excess Insurance</td>\n",
       "      <td>No</td>\n",
       "      <td>65</td>\n",
       "      <td>AUSTRALIA</td>\n",
       "      <td>-49.5</td>\n",
       "      <td>29.7</td>\n",
       "      <td>32</td>\n",
       "    </tr>\n",
       "    <tr>\n",
       "      <th>3</th>\n",
       "      <td>CWT</td>\n",
       "      <td>1</td>\n",
       "      <td>Online</td>\n",
       "      <td>Rental Vehicle Excess Insurance</td>\n",
       "      <td>No</td>\n",
       "      <td>60</td>\n",
       "      <td>AUSTRALIA</td>\n",
       "      <td>-39.6</td>\n",
       "      <td>23.76</td>\n",
       "      <td>32</td>\n",
       "    </tr>\n",
       "    <tr>\n",
       "      <th>4</th>\n",
       "      <td>CWT</td>\n",
       "      <td>1</td>\n",
       "      <td>Online</td>\n",
       "      <td>Rental Vehicle Excess Insurance</td>\n",
       "      <td>No</td>\n",
       "      <td>79</td>\n",
       "      <td>ITALY</td>\n",
       "      <td>-19.8</td>\n",
       "      <td>11.88</td>\n",
       "      <td>41</td>\n",
       "    </tr>\n",
       "    <tr>\n",
       "      <th>5</th>\n",
       "      <td>JZI</td>\n",
       "      <td>2</td>\n",
       "      <td>Online</td>\n",
       "      <td>Value Plan</td>\n",
       "      <td>No</td>\n",
       "      <td>66</td>\n",
       "      <td>UNITED STATES</td>\n",
       "      <td>-121</td>\n",
       "      <td>42.35</td>\n",
       "      <td>44</td>\n",
       "    </tr>\n",
       "    <tr>\n",
       "      <th>6</th>\n",
       "      <td>CWT</td>\n",
       "      <td>1</td>\n",
       "      <td>Online</td>\n",
       "      <td>Rental Vehicle Excess Insurance</td>\n",
       "      <td>No</td>\n",
       "      <td>47</td>\n",
       "      <td>UNITED STATES</td>\n",
       "      <td>-39.6</td>\n",
       "      <td>23.76</td>\n",
       "      <td>32</td>\n",
       "    </tr>\n",
       "    <tr>\n",
       "      <th>7</th>\n",
       "      <td>CWT</td>\n",
       "      <td>1</td>\n",
       "      <td>Online</td>\n",
       "      <td>Rental Vehicle Excess Insurance</td>\n",
       "      <td>No</td>\n",
       "      <td>63</td>\n",
       "      <td>AUSTRALIA</td>\n",
       "      <td>-108.9</td>\n",
       "      <td>65.34</td>\n",
       "      <td>29</td>\n",
       "    </tr>\n",
       "    <tr>\n",
       "      <th>8</th>\n",
       "      <td>CWT</td>\n",
       "      <td>1</td>\n",
       "      <td>Online</td>\n",
       "      <td>Rental Vehicle Excess Insurance</td>\n",
       "      <td>No</td>\n",
       "      <td>57</td>\n",
       "      <td>THAILAND</td>\n",
       "      <td>-19.8</td>\n",
       "      <td>11.88</td>\n",
       "      <td>44</td>\n",
       "    </tr>\n",
       "    <tr>\n",
       "      <th>9</th>\n",
       "      <td>CWT</td>\n",
       "      <td>1</td>\n",
       "      <td>Online</td>\n",
       "      <td>Rental Vehicle Excess Insurance</td>\n",
       "      <td>No</td>\n",
       "      <td>186</td>\n",
       "      <td>AUSTRALIA</td>\n",
       "      <td>-99</td>\n",
       "      <td>59.4</td>\n",
       "      <td>37</td>\n",
       "    </tr>\n",
       "  </tbody>\n",
       "</table>\n",
       "</div>"
      ],
      "text/plain": [
       "  Agency  Agency Type Distribution Channel                     Product Name  \\\n",
       "0    CBH            1              Offline               Comprehensive Plan   \n",
       "1    CBH            1              Offline               Comprehensive Plan   \n",
       "2    CWT            1               Online  Rental Vehicle Excess Insurance   \n",
       "3    CWT            1               Online  Rental Vehicle Excess Insurance   \n",
       "4    CWT            1               Online  Rental Vehicle Excess Insurance   \n",
       "5    JZI            2               Online                       Value Plan   \n",
       "6    CWT            1               Online  Rental Vehicle Excess Insurance   \n",
       "7    CWT            1               Online  Rental Vehicle Excess Insurance   \n",
       "8    CWT            1               Online  Rental Vehicle Excess Insurance   \n",
       "9    CWT            1               Online  Rental Vehicle Excess Insurance   \n",
       "\n",
       "  Claim  Duration    Destination Net Sales Commision (in value)  Age  \n",
       "0    No       186       MALAYSIA       -29                 9.57   81  \n",
       "1    No       186       MALAYSIA       -29                 9.57   71  \n",
       "2    No        65      AUSTRALIA     -49.5                 29.7   32  \n",
       "3    No        60      AUSTRALIA     -39.6                23.76   32  \n",
       "4    No        79          ITALY     -19.8                11.88   41  \n",
       "5    No        66  UNITED STATES      -121                42.35   44  \n",
       "6    No        47  UNITED STATES     -39.6                23.76   32  \n",
       "7    No        63      AUSTRALIA    -108.9                65.34   29  \n",
       "8    No        57       THAILAND     -19.8                11.88   44  \n",
       "9    No       186      AUSTRALIA       -99                 59.4   37  "
      ]
     },
     "execution_count": 17,
     "metadata": {},
     "output_type": "execute_result"
    }
   ],
   "source": [
    "#one hot encode\n",
    "agency={\"Agency Type\":{\"Travel Agency\":1,\"Airlines\":2}}\n",
    "df.replace(agency, inplace=True)\n",
    "df.head(10)"
   ]
  },
  {
   "cell_type": "code",
   "execution_count": 18,
   "metadata": {},
   "outputs": [
    {
     "data": {
      "text/html": [
       "<div>\n",
       "<style scoped>\n",
       "    .dataframe tbody tr th:only-of-type {\n",
       "        vertical-align: middle;\n",
       "    }\n",
       "\n",
       "    .dataframe tbody tr th {\n",
       "        vertical-align: top;\n",
       "    }\n",
       "\n",
       "    .dataframe thead th {\n",
       "        text-align: right;\n",
       "    }\n",
       "</style>\n",
       "<table border=\"1\" class=\"dataframe\">\n",
       "  <thead>\n",
       "    <tr style=\"text-align: right;\">\n",
       "      <th></th>\n",
       "      <th>Agency</th>\n",
       "      <th>Agency Type</th>\n",
       "      <th>Distribution Channel</th>\n",
       "      <th>Product Name</th>\n",
       "      <th>Claim</th>\n",
       "      <th>Duration</th>\n",
       "      <th>Destination</th>\n",
       "      <th>Net Sales</th>\n",
       "      <th>Commision (in value)</th>\n",
       "      <th>Age</th>\n",
       "    </tr>\n",
       "  </thead>\n",
       "  <tbody>\n",
       "    <tr>\n",
       "      <th>0</th>\n",
       "      <td>CBH</td>\n",
       "      <td>1</td>\n",
       "      <td>Offline</td>\n",
       "      <td>Comprehensive Plan</td>\n",
       "      <td>No</td>\n",
       "      <td>186</td>\n",
       "      <td>MALAYSIA</td>\n",
       "      <td>-29</td>\n",
       "      <td>9.57</td>\n",
       "      <td>81</td>\n",
       "    </tr>\n",
       "    <tr>\n",
       "      <th>1</th>\n",
       "      <td>CBH</td>\n",
       "      <td>1</td>\n",
       "      <td>Offline</td>\n",
       "      <td>Comprehensive Plan</td>\n",
       "      <td>No</td>\n",
       "      <td>186</td>\n",
       "      <td>MALAYSIA</td>\n",
       "      <td>-29</td>\n",
       "      <td>9.57</td>\n",
       "      <td>71</td>\n",
       "    </tr>\n",
       "    <tr>\n",
       "      <th>2</th>\n",
       "      <td>CWT</td>\n",
       "      <td>1</td>\n",
       "      <td>Online</td>\n",
       "      <td>Rental Vehicle Excess Insurance</td>\n",
       "      <td>No</td>\n",
       "      <td>65</td>\n",
       "      <td>AUSTRALIA</td>\n",
       "      <td>-49.5</td>\n",
       "      <td>29.7</td>\n",
       "      <td>32</td>\n",
       "    </tr>\n",
       "    <tr>\n",
       "      <th>3</th>\n",
       "      <td>CWT</td>\n",
       "      <td>1</td>\n",
       "      <td>Online</td>\n",
       "      <td>Rental Vehicle Excess Insurance</td>\n",
       "      <td>No</td>\n",
       "      <td>60</td>\n",
       "      <td>AUSTRALIA</td>\n",
       "      <td>-39.6</td>\n",
       "      <td>23.76</td>\n",
       "      <td>32</td>\n",
       "    </tr>\n",
       "    <tr>\n",
       "      <th>4</th>\n",
       "      <td>CWT</td>\n",
       "      <td>1</td>\n",
       "      <td>Online</td>\n",
       "      <td>Rental Vehicle Excess Insurance</td>\n",
       "      <td>No</td>\n",
       "      <td>79</td>\n",
       "      <td>ITALY</td>\n",
       "      <td>-19.8</td>\n",
       "      <td>11.88</td>\n",
       "      <td>41</td>\n",
       "    </tr>\n",
       "    <tr>\n",
       "      <th>5</th>\n",
       "      <td>JZI</td>\n",
       "      <td>2</td>\n",
       "      <td>Online</td>\n",
       "      <td>Value Plan</td>\n",
       "      <td>No</td>\n",
       "      <td>66</td>\n",
       "      <td>UNITED STATES</td>\n",
       "      <td>-121</td>\n",
       "      <td>42.35</td>\n",
       "      <td>44</td>\n",
       "    </tr>\n",
       "    <tr>\n",
       "      <th>6</th>\n",
       "      <td>CWT</td>\n",
       "      <td>1</td>\n",
       "      <td>Online</td>\n",
       "      <td>Rental Vehicle Excess Insurance</td>\n",
       "      <td>No</td>\n",
       "      <td>47</td>\n",
       "      <td>UNITED STATES</td>\n",
       "      <td>-39.6</td>\n",
       "      <td>23.76</td>\n",
       "      <td>32</td>\n",
       "    </tr>\n",
       "    <tr>\n",
       "      <th>7</th>\n",
       "      <td>CWT</td>\n",
       "      <td>1</td>\n",
       "      <td>Online</td>\n",
       "      <td>Rental Vehicle Excess Insurance</td>\n",
       "      <td>No</td>\n",
       "      <td>63</td>\n",
       "      <td>AUSTRALIA</td>\n",
       "      <td>-108.9</td>\n",
       "      <td>65.34</td>\n",
       "      <td>29</td>\n",
       "    </tr>\n",
       "    <tr>\n",
       "      <th>8</th>\n",
       "      <td>CWT</td>\n",
       "      <td>1</td>\n",
       "      <td>Online</td>\n",
       "      <td>Rental Vehicle Excess Insurance</td>\n",
       "      <td>No</td>\n",
       "      <td>57</td>\n",
       "      <td>THAILAND</td>\n",
       "      <td>-19.8</td>\n",
       "      <td>11.88</td>\n",
       "      <td>44</td>\n",
       "    </tr>\n",
       "    <tr>\n",
       "      <th>9</th>\n",
       "      <td>CWT</td>\n",
       "      <td>1</td>\n",
       "      <td>Online</td>\n",
       "      <td>Rental Vehicle Excess Insurance</td>\n",
       "      <td>No</td>\n",
       "      <td>186</td>\n",
       "      <td>AUSTRALIA</td>\n",
       "      <td>-99</td>\n",
       "      <td>59.4</td>\n",
       "      <td>37</td>\n",
       "    </tr>\n",
       "  </tbody>\n",
       "</table>\n",
       "</div>"
      ],
      "text/plain": [
       "  Agency  Agency Type Distribution Channel                     Product Name  \\\n",
       "0    CBH            1              Offline               Comprehensive Plan   \n",
       "1    CBH            1              Offline               Comprehensive Plan   \n",
       "2    CWT            1               Online  Rental Vehicle Excess Insurance   \n",
       "3    CWT            1               Online  Rental Vehicle Excess Insurance   \n",
       "4    CWT            1               Online  Rental Vehicle Excess Insurance   \n",
       "5    JZI            2               Online                       Value Plan   \n",
       "6    CWT            1               Online  Rental Vehicle Excess Insurance   \n",
       "7    CWT            1               Online  Rental Vehicle Excess Insurance   \n",
       "8    CWT            1               Online  Rental Vehicle Excess Insurance   \n",
       "9    CWT            1               Online  Rental Vehicle Excess Insurance   \n",
       "\n",
       "  Claim  Duration    Destination Net Sales Commision (in value)  Age  \n",
       "0    No       186       MALAYSIA       -29                 9.57   81  \n",
       "1    No       186       MALAYSIA       -29                 9.57   71  \n",
       "2    No        65      AUSTRALIA     -49.5                 29.7   32  \n",
       "3    No        60      AUSTRALIA     -39.6                23.76   32  \n",
       "4    No        79          ITALY     -19.8                11.88   41  \n",
       "5    No        66  UNITED STATES      -121                42.35   44  \n",
       "6    No        47  UNITED STATES     -39.6                23.76   32  \n",
       "7    No        63      AUSTRALIA    -108.9                65.34   29  \n",
       "8    No        57       THAILAND     -19.8                11.88   44  \n",
       "9    No       186      AUSTRALIA       -99                 59.4   37  "
      ]
     },
     "execution_count": 18,
     "metadata": {},
     "output_type": "execute_result"
    }
   ],
   "source": [
    "#one hot encode\n",
    "distribution_channel={\"Distribution Channel \":{\"Offline\":1,\"Online\":2}}\n",
    "df.replace(distribution_channel, inplace=True)\n",
    "df.head(10)"
   ]
  },
  {
   "cell_type": "code",
   "execution_count": 19,
   "metadata": {},
   "outputs": [
    {
     "data": {
      "text/html": [
       "<div>\n",
       "<style scoped>\n",
       "    .dataframe tbody tr th:only-of-type {\n",
       "        vertical-align: middle;\n",
       "    }\n",
       "\n",
       "    .dataframe tbody tr th {\n",
       "        vertical-align: top;\n",
       "    }\n",
       "\n",
       "    .dataframe thead th {\n",
       "        text-align: right;\n",
       "    }\n",
       "</style>\n",
       "<table border=\"1\" class=\"dataframe\">\n",
       "  <thead>\n",
       "    <tr style=\"text-align: right;\">\n",
       "      <th></th>\n",
       "      <th>Agency</th>\n",
       "      <th>Agency Type</th>\n",
       "      <th>Distribution Channel</th>\n",
       "      <th>Product Name</th>\n",
       "      <th>Claim</th>\n",
       "      <th>Duration</th>\n",
       "      <th>Destination</th>\n",
       "      <th>Net Sales</th>\n",
       "      <th>Commision (in value)</th>\n",
       "      <th>Age</th>\n",
       "    </tr>\n",
       "  </thead>\n",
       "  <tbody>\n",
       "    <tr>\n",
       "      <th>0</th>\n",
       "      <td>CBH</td>\n",
       "      <td>1</td>\n",
       "      <td>Offline</td>\n",
       "      <td>Comprehensive Plan</td>\n",
       "      <td>No</td>\n",
       "      <td>186</td>\n",
       "      <td>MALAYSIA</td>\n",
       "      <td>-29</td>\n",
       "      <td>9.57</td>\n",
       "      <td>81</td>\n",
       "    </tr>\n",
       "    <tr>\n",
       "      <th>1</th>\n",
       "      <td>CBH</td>\n",
       "      <td>1</td>\n",
       "      <td>Offline</td>\n",
       "      <td>Comprehensive Plan</td>\n",
       "      <td>No</td>\n",
       "      <td>186</td>\n",
       "      <td>MALAYSIA</td>\n",
       "      <td>-29</td>\n",
       "      <td>9.57</td>\n",
       "      <td>71</td>\n",
       "    </tr>\n",
       "    <tr>\n",
       "      <th>2</th>\n",
       "      <td>CWT</td>\n",
       "      <td>1</td>\n",
       "      <td>Online</td>\n",
       "      <td>Rental Vehicle Excess Insurance</td>\n",
       "      <td>No</td>\n",
       "      <td>65</td>\n",
       "      <td>AUSTRALIA</td>\n",
       "      <td>-49.5</td>\n",
       "      <td>29.7</td>\n",
       "      <td>32</td>\n",
       "    </tr>\n",
       "    <tr>\n",
       "      <th>3</th>\n",
       "      <td>CWT</td>\n",
       "      <td>1</td>\n",
       "      <td>Online</td>\n",
       "      <td>Rental Vehicle Excess Insurance</td>\n",
       "      <td>No</td>\n",
       "      <td>60</td>\n",
       "      <td>AUSTRALIA</td>\n",
       "      <td>-39.6</td>\n",
       "      <td>23.76</td>\n",
       "      <td>32</td>\n",
       "    </tr>\n",
       "    <tr>\n",
       "      <th>4</th>\n",
       "      <td>CWT</td>\n",
       "      <td>1</td>\n",
       "      <td>Online</td>\n",
       "      <td>Rental Vehicle Excess Insurance</td>\n",
       "      <td>No</td>\n",
       "      <td>79</td>\n",
       "      <td>ITALY</td>\n",
       "      <td>-19.8</td>\n",
       "      <td>11.88</td>\n",
       "      <td>41</td>\n",
       "    </tr>\n",
       "    <tr>\n",
       "      <th>5</th>\n",
       "      <td>JZI</td>\n",
       "      <td>2</td>\n",
       "      <td>Online</td>\n",
       "      <td>Value Plan</td>\n",
       "      <td>No</td>\n",
       "      <td>66</td>\n",
       "      <td>UNITED STATES</td>\n",
       "      <td>-121</td>\n",
       "      <td>42.35</td>\n",
       "      <td>44</td>\n",
       "    </tr>\n",
       "    <tr>\n",
       "      <th>6</th>\n",
       "      <td>CWT</td>\n",
       "      <td>1</td>\n",
       "      <td>Online</td>\n",
       "      <td>Rental Vehicle Excess Insurance</td>\n",
       "      <td>No</td>\n",
       "      <td>47</td>\n",
       "      <td>UNITED STATES</td>\n",
       "      <td>-39.6</td>\n",
       "      <td>23.76</td>\n",
       "      <td>32</td>\n",
       "    </tr>\n",
       "    <tr>\n",
       "      <th>7</th>\n",
       "      <td>CWT</td>\n",
       "      <td>1</td>\n",
       "      <td>Online</td>\n",
       "      <td>Rental Vehicle Excess Insurance</td>\n",
       "      <td>No</td>\n",
       "      <td>63</td>\n",
       "      <td>AUSTRALIA</td>\n",
       "      <td>-108.9</td>\n",
       "      <td>65.34</td>\n",
       "      <td>29</td>\n",
       "    </tr>\n",
       "    <tr>\n",
       "      <th>8</th>\n",
       "      <td>CWT</td>\n",
       "      <td>1</td>\n",
       "      <td>Online</td>\n",
       "      <td>Rental Vehicle Excess Insurance</td>\n",
       "      <td>No</td>\n",
       "      <td>57</td>\n",
       "      <td>THAILAND</td>\n",
       "      <td>-19.8</td>\n",
       "      <td>11.88</td>\n",
       "      <td>44</td>\n",
       "    </tr>\n",
       "    <tr>\n",
       "      <th>9</th>\n",
       "      <td>CWT</td>\n",
       "      <td>1</td>\n",
       "      <td>Online</td>\n",
       "      <td>Rental Vehicle Excess Insurance</td>\n",
       "      <td>No</td>\n",
       "      <td>186</td>\n",
       "      <td>AUSTRALIA</td>\n",
       "      <td>-99</td>\n",
       "      <td>59.4</td>\n",
       "      <td>37</td>\n",
       "    </tr>\n",
       "  </tbody>\n",
       "</table>\n",
       "</div>"
      ],
      "text/plain": [
       "  Agency  Agency Type Distribution Channel                     Product Name  \\\n",
       "0    CBH            1              Offline               Comprehensive Plan   \n",
       "1    CBH            1              Offline               Comprehensive Plan   \n",
       "2    CWT            1               Online  Rental Vehicle Excess Insurance   \n",
       "3    CWT            1               Online  Rental Vehicle Excess Insurance   \n",
       "4    CWT            1               Online  Rental Vehicle Excess Insurance   \n",
       "5    JZI            2               Online                       Value Plan   \n",
       "6    CWT            1               Online  Rental Vehicle Excess Insurance   \n",
       "7    CWT            1               Online  Rental Vehicle Excess Insurance   \n",
       "8    CWT            1               Online  Rental Vehicle Excess Insurance   \n",
       "9    CWT            1               Online  Rental Vehicle Excess Insurance   \n",
       "\n",
       "  Claim  Duration    Destination Net Sales Commision (in value)  Age  \n",
       "0    No       186       MALAYSIA       -29                 9.57   81  \n",
       "1    No       186       MALAYSIA       -29                 9.57   71  \n",
       "2    No        65      AUSTRALIA     -49.5                 29.7   32  \n",
       "3    No        60      AUSTRALIA     -39.6                23.76   32  \n",
       "4    No        79          ITALY     -19.8                11.88   41  \n",
       "5    No        66  UNITED STATES      -121                42.35   44  \n",
       "6    No        47  UNITED STATES     -39.6                23.76   32  \n",
       "7    No        63      AUSTRALIA    -108.9                65.34   29  \n",
       "8    No        57       THAILAND     -19.8                11.88   44  \n",
       "9    No       186      AUSTRALIA       -99                 59.4   37  "
      ]
     },
     "execution_count": 19,
     "metadata": {},
     "output_type": "execute_result"
    }
   ],
   "source": [
    "#one hot encode\n",
    "gender={\"Gender \":{\"F\":1,\"M\":2, np.nan:3}}\n",
    "df.replace(gender, inplace=True)\n",
    "df.head(10)"
   ]
  },
  {
   "cell_type": "code",
   "execution_count": 20,
   "metadata": {},
   "outputs": [
    {
     "data": {
      "text/plain": [
       "0    3\n",
       "1    3\n",
       "2    6\n",
       "3    6\n",
       "4    6\n",
       "5    9\n",
       "6    6\n",
       "7    6\n",
       "8    6\n",
       "9    6\n",
       "Name: Agency, dtype: int8"
      ]
     },
     "execution_count": 20,
     "metadata": {},
     "output_type": "execute_result"
    }
   ],
   "source": [
    "df['Agency'] = pd.DataFrame(df['Agency'])\n",
    "df['Agency']=df['Agency'].astype(\"category\").cat.codes\n",
    "df['Agency'].head(10)"
   ]
  },
  {
   "cell_type": "code",
   "execution_count": 21,
   "metadata": {},
   "outputs": [
    {
     "data": {
      "text/plain": [
       "0    12\n",
       "1    12\n",
       "2    16\n",
       "3    16\n",
       "4    16\n",
       "5    25\n",
       "6    16\n",
       "7    16\n",
       "8    16\n",
       "9    16\n",
       "Name: Product Name, dtype: int8"
      ]
     },
     "execution_count": 21,
     "metadata": {},
     "output_type": "execute_result"
    }
   ],
   "source": [
    "df['Product Name'] = pd.DataFrame(df['Product Name'])\n",
    "df['Product Name']=df['Product Name'].astype(\"category\").cat.codes\n",
    "df['Product Name'].head(10)"
   ]
  },
  {
   "cell_type": "code",
   "execution_count": 22,
   "metadata": {},
   "outputs": [
    {
     "data": {
      "text/plain": [
       "0     79\n",
       "1     79\n",
       "2      4\n",
       "3      4\n",
       "4     61\n",
       "5    140\n",
       "6    140\n",
       "7      4\n",
       "8    129\n",
       "9      4\n",
       "Name: Destination, dtype: int16"
      ]
     },
     "execution_count": 22,
     "metadata": {},
     "output_type": "execute_result"
    }
   ],
   "source": [
    "df['Destination'] = pd.DataFrame(df['Destination'])\n",
    "df['Destination']=df['Destination'].astype(\"category\").cat.codes\n",
    "df['Destination'].head(10)"
   ]
  },
  {
   "cell_type": "code",
   "execution_count": 23,
   "metadata": {},
   "outputs": [
    {
     "data": {
      "text/html": [
       "<div>\n",
       "<style scoped>\n",
       "    .dataframe tbody tr th:only-of-type {\n",
       "        vertical-align: middle;\n",
       "    }\n",
       "\n",
       "    .dataframe tbody tr th {\n",
       "        vertical-align: top;\n",
       "    }\n",
       "\n",
       "    .dataframe thead th {\n",
       "        text-align: right;\n",
       "    }\n",
       "</style>\n",
       "<table border=\"1\" class=\"dataframe\">\n",
       "  <thead>\n",
       "    <tr style=\"text-align: right;\">\n",
       "      <th></th>\n",
       "      <th>Agency</th>\n",
       "      <th>Agency Type</th>\n",
       "      <th>Distribution Channel</th>\n",
       "      <th>Product Name</th>\n",
       "      <th>Claim</th>\n",
       "      <th>Duration</th>\n",
       "      <th>Destination</th>\n",
       "      <th>Net Sales</th>\n",
       "      <th>Commision (in value)</th>\n",
       "      <th>Age</th>\n",
       "    </tr>\n",
       "  </thead>\n",
       "  <tbody>\n",
       "    <tr>\n",
       "      <th>0</th>\n",
       "      <td>3</td>\n",
       "      <td>1</td>\n",
       "      <td>Offline</td>\n",
       "      <td>12</td>\n",
       "      <td>No</td>\n",
       "      <td>186</td>\n",
       "      <td>79</td>\n",
       "      <td>-29</td>\n",
       "      <td>9.57</td>\n",
       "      <td>81</td>\n",
       "    </tr>\n",
       "    <tr>\n",
       "      <th>1</th>\n",
       "      <td>3</td>\n",
       "      <td>1</td>\n",
       "      <td>Offline</td>\n",
       "      <td>12</td>\n",
       "      <td>No</td>\n",
       "      <td>186</td>\n",
       "      <td>79</td>\n",
       "      <td>-29</td>\n",
       "      <td>9.57</td>\n",
       "      <td>71</td>\n",
       "    </tr>\n",
       "    <tr>\n",
       "      <th>2</th>\n",
       "      <td>6</td>\n",
       "      <td>1</td>\n",
       "      <td>Online</td>\n",
       "      <td>16</td>\n",
       "      <td>No</td>\n",
       "      <td>65</td>\n",
       "      <td>4</td>\n",
       "      <td>-49.5</td>\n",
       "      <td>29.7</td>\n",
       "      <td>32</td>\n",
       "    </tr>\n",
       "    <tr>\n",
       "      <th>3</th>\n",
       "      <td>6</td>\n",
       "      <td>1</td>\n",
       "      <td>Online</td>\n",
       "      <td>16</td>\n",
       "      <td>No</td>\n",
       "      <td>60</td>\n",
       "      <td>4</td>\n",
       "      <td>-39.6</td>\n",
       "      <td>23.76</td>\n",
       "      <td>32</td>\n",
       "    </tr>\n",
       "    <tr>\n",
       "      <th>4</th>\n",
       "      <td>6</td>\n",
       "      <td>1</td>\n",
       "      <td>Online</td>\n",
       "      <td>16</td>\n",
       "      <td>No</td>\n",
       "      <td>79</td>\n",
       "      <td>61</td>\n",
       "      <td>-19.8</td>\n",
       "      <td>11.88</td>\n",
       "      <td>41</td>\n",
       "    </tr>\n",
       "    <tr>\n",
       "      <th>5</th>\n",
       "      <td>9</td>\n",
       "      <td>2</td>\n",
       "      <td>Online</td>\n",
       "      <td>25</td>\n",
       "      <td>No</td>\n",
       "      <td>66</td>\n",
       "      <td>140</td>\n",
       "      <td>-121</td>\n",
       "      <td>42.35</td>\n",
       "      <td>44</td>\n",
       "    </tr>\n",
       "    <tr>\n",
       "      <th>6</th>\n",
       "      <td>6</td>\n",
       "      <td>1</td>\n",
       "      <td>Online</td>\n",
       "      <td>16</td>\n",
       "      <td>No</td>\n",
       "      <td>47</td>\n",
       "      <td>140</td>\n",
       "      <td>-39.6</td>\n",
       "      <td>23.76</td>\n",
       "      <td>32</td>\n",
       "    </tr>\n",
       "    <tr>\n",
       "      <th>7</th>\n",
       "      <td>6</td>\n",
       "      <td>1</td>\n",
       "      <td>Online</td>\n",
       "      <td>16</td>\n",
       "      <td>No</td>\n",
       "      <td>63</td>\n",
       "      <td>4</td>\n",
       "      <td>-108.9</td>\n",
       "      <td>65.34</td>\n",
       "      <td>29</td>\n",
       "    </tr>\n",
       "    <tr>\n",
       "      <th>8</th>\n",
       "      <td>6</td>\n",
       "      <td>1</td>\n",
       "      <td>Online</td>\n",
       "      <td>16</td>\n",
       "      <td>No</td>\n",
       "      <td>57</td>\n",
       "      <td>129</td>\n",
       "      <td>-19.8</td>\n",
       "      <td>11.88</td>\n",
       "      <td>44</td>\n",
       "    </tr>\n",
       "    <tr>\n",
       "      <th>9</th>\n",
       "      <td>6</td>\n",
       "      <td>1</td>\n",
       "      <td>Online</td>\n",
       "      <td>16</td>\n",
       "      <td>No</td>\n",
       "      <td>186</td>\n",
       "      <td>4</td>\n",
       "      <td>-99</td>\n",
       "      <td>59.4</td>\n",
       "      <td>37</td>\n",
       "    </tr>\n",
       "  </tbody>\n",
       "</table>\n",
       "</div>"
      ],
      "text/plain": [
       "   Agency  Agency Type Distribution Channel  Product Name Claim  Duration  \\\n",
       "0       3            1              Offline            12    No       186   \n",
       "1       3            1              Offline            12    No       186   \n",
       "2       6            1               Online            16    No        65   \n",
       "3       6            1               Online            16    No        60   \n",
       "4       6            1               Online            16    No        79   \n",
       "5       9            2               Online            25    No        66   \n",
       "6       6            1               Online            16    No        47   \n",
       "7       6            1               Online            16    No        63   \n",
       "8       6            1               Online            16    No        57   \n",
       "9       6            1               Online            16    No       186   \n",
       "\n",
       "   Destination Net Sales Commision (in value)  Age  \n",
       "0           79       -29                 9.57   81  \n",
       "1           79       -29                 9.57   71  \n",
       "2            4     -49.5                 29.7   32  \n",
       "3            4     -39.6                23.76   32  \n",
       "4           61     -19.8                11.88   41  \n",
       "5          140      -121                42.35   44  \n",
       "6          140     -39.6                23.76   32  \n",
       "7            4    -108.9                65.34   29  \n",
       "8          129     -19.8                11.88   44  \n",
       "9            4       -99                 59.4   37  "
      ]
     },
     "execution_count": 23,
     "metadata": {},
     "output_type": "execute_result"
    }
   ],
   "source": [
    "df.head(10)"
   ]
  },
  {
   "cell_type": "code",
   "execution_count": 24,
   "metadata": {},
   "outputs": [
    {
     "data": {
      "text/html": [
       "<div>\n",
       "<style scoped>\n",
       "    .dataframe tbody tr th:only-of-type {\n",
       "        vertical-align: middle;\n",
       "    }\n",
       "\n",
       "    .dataframe tbody tr th {\n",
       "        vertical-align: top;\n",
       "    }\n",
       "\n",
       "    .dataframe thead th {\n",
       "        text-align: right;\n",
       "    }\n",
       "</style>\n",
       "<table border=\"1\" class=\"dataframe\">\n",
       "  <thead>\n",
       "    <tr style=\"text-align: right;\">\n",
       "      <th></th>\n",
       "      <th>Agency</th>\n",
       "      <th>Agency Type</th>\n",
       "      <th>Product Name</th>\n",
       "      <th>Duration</th>\n",
       "      <th>Destination</th>\n",
       "      <th>Age</th>\n",
       "    </tr>\n",
       "  </thead>\n",
       "  <tbody>\n",
       "    <tr>\n",
       "      <th>Agency</th>\n",
       "      <td>1.000000</td>\n",
       "      <td>-0.207529</td>\n",
       "      <td>0.138890</td>\n",
       "      <td>-0.076735</td>\n",
       "      <td>-0.208348</td>\n",
       "      <td>0.126357</td>\n",
       "    </tr>\n",
       "    <tr>\n",
       "      <th>Agency Type</th>\n",
       "      <td>-0.207529</td>\n",
       "      <td>1.000000</td>\n",
       "      <td>0.272308</td>\n",
       "      <td>0.111588</td>\n",
       "      <td>0.150909</td>\n",
       "      <td>0.221503</td>\n",
       "    </tr>\n",
       "    <tr>\n",
       "      <th>Product Name</th>\n",
       "      <td>0.138890</td>\n",
       "      <td>0.272308</td>\n",
       "      <td>1.000000</td>\n",
       "      <td>-0.048609</td>\n",
       "      <td>-0.069257</td>\n",
       "      <td>0.273164</td>\n",
       "    </tr>\n",
       "    <tr>\n",
       "      <th>Duration</th>\n",
       "      <td>-0.076735</td>\n",
       "      <td>0.111588</td>\n",
       "      <td>-0.048609</td>\n",
       "      <td>1.000000</td>\n",
       "      <td>0.074720</td>\n",
       "      <td>0.002468</td>\n",
       "    </tr>\n",
       "    <tr>\n",
       "      <th>Destination</th>\n",
       "      <td>-0.208348</td>\n",
       "      <td>0.150909</td>\n",
       "      <td>-0.069257</td>\n",
       "      <td>0.074720</td>\n",
       "      <td>1.000000</td>\n",
       "      <td>-0.041579</td>\n",
       "    </tr>\n",
       "    <tr>\n",
       "      <th>Age</th>\n",
       "      <td>0.126357</td>\n",
       "      <td>0.221503</td>\n",
       "      <td>0.273164</td>\n",
       "      <td>0.002468</td>\n",
       "      <td>-0.041579</td>\n",
       "      <td>1.000000</td>\n",
       "    </tr>\n",
       "  </tbody>\n",
       "</table>\n",
       "</div>"
      ],
      "text/plain": [
       "                Agency  Agency Type  Product Name  Duration  Destination  \\\n",
       "Agency        1.000000    -0.207529      0.138890 -0.076735    -0.208348   \n",
       "Agency Type  -0.207529     1.000000      0.272308  0.111588     0.150909   \n",
       "Product Name  0.138890     0.272308      1.000000 -0.048609    -0.069257   \n",
       "Duration     -0.076735     0.111588     -0.048609  1.000000     0.074720   \n",
       "Destination  -0.208348     0.150909     -0.069257  0.074720     1.000000   \n",
       "Age           0.126357     0.221503      0.273164  0.002468    -0.041579   \n",
       "\n",
       "                   Age  \n",
       "Agency        0.126357  \n",
       "Agency Type   0.221503  \n",
       "Product Name  0.273164  \n",
       "Duration      0.002468  \n",
       "Destination  -0.041579  \n",
       "Age           1.000000  "
      ]
     },
     "execution_count": 24,
     "metadata": {},
     "output_type": "execute_result"
    }
   ],
   "source": [
    "df.corr()"
   ]
  },
  {
   "cell_type": "code",
   "execution_count": 25,
   "metadata": {},
   "outputs": [
    {
     "data": {
      "image/png": "[encoded data removed]",
      "text/plain": [
       "<Figure size 1152x864 with 2 Axes>"
      ]
     },
     "metadata": {
      "needs_background": "light"
     },
     "output_type": "display_data"
    }
   ],
   "source": [
    "plt.figure(figsize=(16,12))\n",
    "sns.heatmap(data=df.iloc[:,2:].corr(),annot=True,fmt='.2f',cmap='coolwarm')\n",
    "plt.show()"
   ]
  },
  {
   "cell_type": "markdown",
   "metadata": {},
   "source": [
    "### H20"
   ]
  },
  {
   "cell_type": "code",
   "execution_count": 26,
   "metadata": {},
   "outputs": [
    {
     "name": "stdout",
     "output_type": "stream",
     "text": [
      "Yurs3VOV1\n"
     ]
    }
   ],
   "source": [
    "data_path=None\n",
    "all_variables=None\n",
    "test_path=None\n",
    "# target='search_term'\n",
    "target='Claim'\n",
    "nthreads=1 \n",
    "min_mem_size=6 \n",
    "run_time=500\n",
    "classification=False\n",
    "scale=False\n",
    "max_models=9    \n",
    "model_path=None\n",
    "balance_y=False \n",
    "balance_threshold=0.2\n",
    "name=None \n",
    "server_path=None  \n",
    "analysis=0\n",
    "\n",
    "def alphabet(n):\n",
    "  alpha='0123456789abcdefghijklmnopqrstuvwxyzABCDEFGHIJKLMNOPQRSTUVWXYZ'    \n",
    "  str=''\n",
    "  r=len(alpha)-1   \n",
    "  while len(str)<n:\n",
    "    i=random.randint(0,r)\n",
    "    str+=alpha[i]   \n",
    "  return str\n",
    "\n",
    "run_id=alphabet(9)\n",
    "if server_path==None:\n",
    "  server_path=os.path.abspath(os.curdir)\n",
    "os.chdir(server_path) \n",
    "run_dir = os.path.join(server_path,run_id)\n",
    "os.mkdir(run_dir)\n",
    "os.chdir(run_dir)    \n",
    "\n",
    "# run_id to std out\n",
    "print (run_id)"
   ]
  },
  {
   "cell_type": "code",
   "execution_count": 27,
   "metadata": {},
   "outputs": [
    {
     "name": "stdout",
     "output_type": "stream",
     "text": [
      "C:\\Users\\Ashmita\\Desktop\\Data Science Assignments\\Final Project\\hyperparameter-db-project-ds14\\Python scripts\\Yurs3VOV1\\logs   Yurs3VOV1_autoh2o_log.zip\n"
     ]
    }
   ],
   "source": [
    "logfile=run_id+'_autoh2o_log.zip'\n",
    "logs_path=os.path.join(run_dir,'logs')\n",
    "print(logs_path,' ',logfile)"
   ]
  },
  {
   "cell_type": "code",
   "execution_count": 28,
   "metadata": {},
   "outputs": [],
   "source": [
    "def set_meta_data(analysis,run_id,server,data,test,model_path,target,run_time,classification,scale,model,balance,balance_threshold,name,path,nthreads,min_mem_size):\n",
    "  meta_data={}\n",
    "  meta_data['start_time'] = time.time()\n",
    "  meta_data['target']=target\n",
    "  meta_data['server_path']=server\n",
    "  meta_data['data_path']=data \n",
    "  meta_data['test_path']=test\n",
    "  meta_data['max_models']=model\n",
    "  meta_data['run_time']=run_time\n",
    "  meta_data['run_id'] =run_id\n",
    "  meta_data['scale']=scale\n",
    "  meta_data['classification']=classification\n",
    "  meta_data['scale']=False\n",
    "  meta_data['model_path']=model_path\n",
    "  meta_data['balance']=balance\n",
    "  meta_data['balance_threshold']=balance_threshold\n",
    "  meta_data['project'] =name\n",
    "  meta_data['end_time'] = time.time()\n",
    "  meta_data['execution_time'] = 0.0\n",
    "  meta_data['run_path'] =path\n",
    "  meta_data['nthreads'] = nthreads\n",
    "  meta_data['min_mem_size'] = min_mem_size\n",
    "  meta_data['analysis'] = analysis\n",
    "  return meta_data"
   ]
  },
  {
   "cell_type": "code",
   "execution_count": 29,
   "metadata": {},
   "outputs": [
    {
     "name": "stdout",
     "output_type": "stream",
     "text": [
      "{'start_time': 1555966007.4603038, 'target': 'Claim', 'server_path': 'C:\\\\Users\\\\Ashmita\\\\Desktop\\\\Data Science Assignments\\\\Final Project\\\\hyperparameter-db-project-ds14\\\\Python scripts', 'data_path': None, 'test_path': None, 'max_models': 9, 'run_time': 500, 'run_id': 'Yurs3VOV1', 'scale': False, 'classification': False, 'model_path': None, 'balance': False, 'balance_threshold': 0.2, 'project': None, 'end_time': 1555966007.4603038, 'execution_time': 0.0, 'run_path': 'C:\\\\Users\\\\Ashmita\\\\Desktop\\\\Data Science Assignments\\\\Final Project\\\\hyperparameter-db-project-ds14\\\\Python scripts\\\\Yurs3VOV1', 'nthreads': 1, 'min_mem_size': 6, 'analysis': 0}\n"
     ]
    }
   ],
   "source": [
    "metadata = set_meta_data(analysis, run_id,server_path,data_path,test_path,model_path,target,run_time,classification,scale,max_models,balance_y,balance_threshold,name,run_dir,nthreads,min_mem_size)\n",
    "print(metadata)"
   ]
  },
  {
   "cell_type": "code",
   "execution_count": 30,
   "metadata": {},
   "outputs": [
    {
     "data": {
      "text/html": [
       "<div>\n",
       "<style scoped>\n",
       "    .dataframe tbody tr th:only-of-type {\n",
       "        vertical-align: middle;\n",
       "    }\n",
       "\n",
       "    .dataframe tbody tr th {\n",
       "        vertical-align: top;\n",
       "    }\n",
       "\n",
       "    .dataframe thead th {\n",
       "        text-align: right;\n",
       "    }\n",
       "</style>\n",
       "<table border=\"1\" class=\"dataframe\">\n",
       "  <thead>\n",
       "    <tr style=\"text-align: right;\">\n",
       "      <th></th>\n",
       "      <th>0</th>\n",
       "    </tr>\n",
       "  </thead>\n",
       "  <tbody>\n",
       "    <tr>\n",
       "      <th>start_time</th>\n",
       "      <td>1.55597e+09</td>\n",
       "    </tr>\n",
       "    <tr>\n",
       "      <th>target</th>\n",
       "      <td>Claim</td>\n",
       "    </tr>\n",
       "    <tr>\n",
       "      <th>server_path</th>\n",
       "      <td>C:\\Users\\Ashmita\\Desktop\\Data Science Assignme...</td>\n",
       "    </tr>\n",
       "    <tr>\n",
       "      <th>data_path</th>\n",
       "      <td>None</td>\n",
       "    </tr>\n",
       "    <tr>\n",
       "      <th>test_path</th>\n",
       "      <td>None</td>\n",
       "    </tr>\n",
       "    <tr>\n",
       "      <th>max_models</th>\n",
       "      <td>9</td>\n",
       "    </tr>\n",
       "    <tr>\n",
       "      <th>run_time</th>\n",
       "      <td>500</td>\n",
       "    </tr>\n",
       "    <tr>\n",
       "      <th>run_id</th>\n",
       "      <td>Yurs3VOV1</td>\n",
       "    </tr>\n",
       "    <tr>\n",
       "      <th>scale</th>\n",
       "      <td>False</td>\n",
       "    </tr>\n",
       "    <tr>\n",
       "      <th>classification</th>\n",
       "      <td>False</td>\n",
       "    </tr>\n",
       "    <tr>\n",
       "      <th>model_path</th>\n",
       "      <td>None</td>\n",
       "    </tr>\n",
       "    <tr>\n",
       "      <th>balance</th>\n",
       "      <td>False</td>\n",
       "    </tr>\n",
       "    <tr>\n",
       "      <th>balance_threshold</th>\n",
       "      <td>0.2</td>\n",
       "    </tr>\n",
       "    <tr>\n",
       "      <th>project</th>\n",
       "      <td>None</td>\n",
       "    </tr>\n",
       "    <tr>\n",
       "      <th>end_time</th>\n",
       "      <td>1.55597e+09</td>\n",
       "    </tr>\n",
       "    <tr>\n",
       "      <th>execution_time</th>\n",
       "      <td>0</td>\n",
       "    </tr>\n",
       "    <tr>\n",
       "      <th>run_path</th>\n",
       "      <td>C:\\Users\\Ashmita\\Desktop\\Data Science Assignme...</td>\n",
       "    </tr>\n",
       "    <tr>\n",
       "      <th>nthreads</th>\n",
       "      <td>1</td>\n",
       "    </tr>\n",
       "    <tr>\n",
       "      <th>min_mem_size</th>\n",
       "      <td>6</td>\n",
       "    </tr>\n",
       "    <tr>\n",
       "      <th>analysis</th>\n",
       "      <td>0</td>\n",
       "    </tr>\n",
       "  </tbody>\n",
       "</table>\n",
       "</div>"
      ],
      "text/plain": [
       "                                                                   0\n",
       "start_time                                               1.55597e+09\n",
       "target                                                         Claim\n",
       "server_path        C:\\Users\\Ashmita\\Desktop\\Data Science Assignme...\n",
       "data_path                                                       None\n",
       "test_path                                                       None\n",
       "max_models                                                         9\n",
       "run_time                                                         500\n",
       "run_id                                                     Yurs3VOV1\n",
       "scale                                                          False\n",
       "classification                                                 False\n",
       "model_path                                                      None\n",
       "balance                                                        False\n",
       "balance_threshold                                                0.2\n",
       "project                                                         None\n",
       "end_time                                                 1.55597e+09\n",
       "execution_time                                                     0\n",
       "run_path           C:\\Users\\Ashmita\\Desktop\\Data Science Assignme...\n",
       "nthreads                                                           1\n",
       "min_mem_size                                                       6\n",
       "analysis                                                           0"
      ]
     },
     "execution_count": 30,
     "metadata": {},
     "output_type": "execute_result"
    }
   ],
   "source": [
    "generate_md = pd.DataFrame.from_dict(metadata , orient='index')\n",
    "generate_md"
   ]
  },
  {
   "cell_type": "code",
   "execution_count": 31,
   "metadata": {},
   "outputs": [],
   "source": [
    "#dict_to_json(generate_md,n)\n",
    "generate_md.to_csv('metadata_500.csv')"
   ]
  },
  {
   "cell_type": "code",
   "execution_count": 32,
   "metadata": {},
   "outputs": [
    {
     "name": "stdout",
     "output_type": "stream",
     "text": [
      "4\n"
     ]
    }
   ],
   "source": [
    "pct_memory=0.5\n",
    "virtual_memory=psutil.virtual_memory()\n",
    "min_mem_size=int(round(int(pct_memory*virtual_memory.available)/1073741824,0))\n",
    "print(min_mem_size)"
   ]
  },
  {
   "cell_type": "code",
   "execution_count": 33,
   "metadata": {},
   "outputs": [
    {
     "name": "stdout",
     "output_type": "stream",
     "text": [
      "Checking whether there is an H2O instance running at http://localhost:42994 ..... not found.\n",
      "Attempting to start a local H2O server...\n",
      "; Java HotSpot(TM) 64-Bit Server VM (build 24.80-b11, mixed mode)\n",
      "  Starting server from C:\\Users\\Ashmita\\Anaconda3\\lib\\site-packages\\h2o\\backend\\bin\\h2o.jar\n",
      "  Ice root: C:\\Users\\Ashmita\\AppData\\Local\\Temp\\tmp6ht99804\n",
      "  JVM stdout: C:\\Users\\Ashmita\\AppData\\Local\\Temp\\tmp6ht99804\\h2o_Ashmita_started_from_python.out\n",
      "  JVM stderr: C:\\Users\\Ashmita\\AppData\\Local\\Temp\\tmp6ht99804\\h2o_Ashmita_started_from_python.err\n",
      "  Server is running at http://127.0.0.1:42994\n",
      "Connecting to H2O server at http://127.0.0.1:42994 ... successful.\n"
     ]
    },
    {
     "data": {
      "text/html": [
       "<div style=\"overflow:auto\"><table style=\"width:50%\"><tr><td>H2O cluster uptime:</td>\n",
       "<td>03 secs</td></tr>\n",
       "<tr><td>H2O cluster timezone:</td>\n",
       "<td>America/New_York</td></tr>\n",
       "<tr><td>H2O data parsing timezone:</td>\n",
       "<td>UTC</td></tr>\n",
       "<tr><td>H2O cluster version:</td>\n",
       "<td>3.24.0.1</td></tr>\n",
       "<tr><td>H2O cluster version age:</td>\n",
       "<td>21 days, 17 hours and 7 minutes </td></tr>\n",
       "<tr><td>H2O cluster name:</td>\n",
       "<td>H2O_from_python_Ashmita_uz12o5</td></tr>\n",
       "<tr><td>H2O cluster total nodes:</td>\n",
       "<td>1</td></tr>\n",
       "<tr><td>H2O cluster free memory:</td>\n",
       "<td>3.834 Gb</td></tr>\n",
       "<tr><td>H2O cluster total cores:</td>\n",
       "<td>4</td></tr>\n",
       "<tr><td>H2O cluster allowed cores:</td>\n",
       "<td>4</td></tr>\n",
       "<tr><td>H2O cluster status:</td>\n",
       "<td>accepting new members, healthy</td></tr>\n",
       "<tr><td>H2O connection url:</td>\n",
       "<td>http://127.0.0.1:42994</td></tr>\n",
       "<tr><td>H2O connection proxy:</td>\n",
       "<td>None</td></tr>\n",
       "<tr><td>H2O internal security:</td>\n",
       "<td>False</td></tr>\n",
       "<tr><td>H2O API Extensions:</td>\n",
       "<td>AutoML, Amazon S3, Algos, Core V3, Core V4</td></tr>\n",
       "<tr><td>Python version:</td>\n",
       "<td>3.7.1 final</td></tr></table></div>"
      ],
      "text/plain": [
       "--------------------------  ------------------------------------------\n",
       "H2O cluster uptime:         03 secs\n",
       "H2O cluster timezone:       America/New_York\n",
       "H2O data parsing timezone:  UTC\n",
       "H2O cluster version:        3.24.0.1\n",
       "H2O cluster version age:    21 days, 17 hours and 7 minutes\n",
       "H2O cluster name:           H2O_from_python_Ashmita_uz12o5\n",
       "H2O cluster total nodes:    1\n",
       "H2O cluster free memory:    3.834 Gb\n",
       "H2O cluster total cores:    4\n",
       "H2O cluster allowed cores:  4\n",
       "H2O cluster status:         accepting new members, healthy\n",
       "H2O connection url:         http://127.0.0.1:42994\n",
       "H2O connection proxy:\n",
       "H2O internal security:      False\n",
       "H2O API Extensions:         AutoML, Amazon S3, Algos, Core V3, Core V4\n",
       "Python version:             3.7.1 final\n",
       "--------------------------  ------------------------------------------"
      ]
     },
     "metadata": {},
     "output_type": "display_data"
    }
   ],
   "source": [
    "# 65535 Highest port no\n",
    "port_no=random.randint(5555,55555)\n",
    "h2o.init(strict_version_check=False,min_mem_size_GB=min_mem_size,port=port_no)"
   ]
  },
  {
   "cell_type": "code",
   "execution_count": 34,
   "metadata": {},
   "outputs": [],
   "source": [
    "df.to_csv('train_500.csv')"
   ]
  },
  {
   "cell_type": "code",
   "execution_count": 35,
   "metadata": {},
   "outputs": [],
   "source": [
    "data_path='train_500.csv'\n"
   ]
  },
  {
   "cell_type": "code",
   "execution_count": 36,
   "metadata": {},
   "outputs": [
    {
     "name": "stdout",
     "output_type": "stream",
     "text": [
      "Parse progress: |█████████████████████████████████████████████████████████| 100%\n"
     ]
    }
   ],
   "source": [
    "# Load data into H2O\n",
    "train_data = h2o.import_file(data_path)"
   ]
  },
  {
   "cell_type": "code",
   "execution_count": 37,
   "metadata": {},
   "outputs": [
    {
     "data": {
      "text/html": [
       "<table>\n",
       "<thead>\n",
       "<tr><th style=\"text-align: right;\">  C1</th><th style=\"text-align: right;\">  Agency</th><th style=\"text-align: right;\">  Agency Type</th><th>Distribution Channel  </th><th style=\"text-align: right;\">  Product Name</th><th>Claim  </th><th style=\"text-align: right;\">  Duration</th><th style=\"text-align: right;\">  Destination</th><th style=\"text-align: right;\">  Net Sales</th><th style=\"text-align: right;\">  Commision (in value)</th><th style=\"text-align: right;\">  Age</th></tr>\n",
       "</thead>\n",
       "<tbody>\n",
       "<tr><td style=\"text-align: right;\">   0</td><td style=\"text-align: right;\">       3</td><td style=\"text-align: right;\">            1</td><td>Offline               </td><td style=\"text-align: right;\">            12</td><td>No     </td><td style=\"text-align: right;\">       186</td><td style=\"text-align: right;\">           79</td><td style=\"text-align: right;\">      -29  </td><td style=\"text-align: right;\">                  9.57</td><td style=\"text-align: right;\">   81</td></tr>\n",
       "<tr><td style=\"text-align: right;\">   1</td><td style=\"text-align: right;\">       3</td><td style=\"text-align: right;\">            1</td><td>Offline               </td><td style=\"text-align: right;\">            12</td><td>No     </td><td style=\"text-align: right;\">       186</td><td style=\"text-align: right;\">           79</td><td style=\"text-align: right;\">      -29  </td><td style=\"text-align: right;\">                  9.57</td><td style=\"text-align: right;\">   71</td></tr>\n",
       "<tr><td style=\"text-align: right;\">   2</td><td style=\"text-align: right;\">       6</td><td style=\"text-align: right;\">            1</td><td>Online                </td><td style=\"text-align: right;\">            16</td><td>No     </td><td style=\"text-align: right;\">        65</td><td style=\"text-align: right;\">            4</td><td style=\"text-align: right;\">      -49.5</td><td style=\"text-align: right;\">                 29.7 </td><td style=\"text-align: right;\">   32</td></tr>\n",
       "<tr><td style=\"text-align: right;\">   3</td><td style=\"text-align: right;\">       6</td><td style=\"text-align: right;\">            1</td><td>Online                </td><td style=\"text-align: right;\">            16</td><td>No     </td><td style=\"text-align: right;\">        60</td><td style=\"text-align: right;\">            4</td><td style=\"text-align: right;\">      -39.6</td><td style=\"text-align: right;\">                 23.76</td><td style=\"text-align: right;\">   32</td></tr>\n",
       "<tr><td style=\"text-align: right;\">   4</td><td style=\"text-align: right;\">       6</td><td style=\"text-align: right;\">            1</td><td>Online                </td><td style=\"text-align: right;\">            16</td><td>No     </td><td style=\"text-align: right;\">        79</td><td style=\"text-align: right;\">           61</td><td style=\"text-align: right;\">      -19.8</td><td style=\"text-align: right;\">                 11.88</td><td style=\"text-align: right;\">   41</td></tr>\n",
       "</tbody>\n",
       "</table>"
      ]
     },
     "metadata": {},
     "output_type": "display_data"
    },
    {
     "data": {
      "text/plain": []
     },
     "execution_count": 37,
     "metadata": {},
     "output_type": "execute_result"
    }
   ],
   "source": [
    "train_data.head(5)"
   ]
  },
  {
   "cell_type": "code",
   "execution_count": 38,
   "metadata": {},
   "outputs": [],
   "source": [
    "target = 'Claim'"
   ]
  },
  {
   "cell_type": "code",
   "execution_count": 39,
   "metadata": {},
   "outputs": [],
   "source": [
    "# dependent variable\n",
    "# assign target and inputs for classification or regression\n",
    "if target==None:\n",
    "  target=train_data.columns[18]   \n",
    "y = target"
   ]
  },
  {
   "cell_type": "code",
   "execution_count": 40,
   "metadata": {},
   "outputs": [
    {
     "name": "stdout",
     "output_type": "stream",
     "text": [
      "Claim\n"
     ]
    }
   ],
   "source": [
    "print(y)"
   ]
  },
  {
   "cell_type": "code",
   "execution_count": 41,
   "metadata": {},
   "outputs": [
    {
     "name": "stdout",
     "output_type": "stream",
     "text": [
      "['C1', 'Agency', 'Agency Type', 'Product Name', 'Duration', 'Destination', 'Age', 'Distribution Channel', 'Net Sales', 'Commision (in value)']\n",
      "Claim\n"
     ]
    }
   ],
   "source": [
    "def get_independent_variables(train_data, targ):\n",
    "    C = [name for name in train_data.columns if name != targ]\n",
    "    # determine column types\n",
    "    ints, reals, enums = [], [], []\n",
    "    for key, val in train_data.types.items():\n",
    "        if key in C:\n",
    "            if val == 'enum':\n",
    "                enums.append(key)\n",
    "            elif val == 'int':\n",
    "                ints.append(key)            \n",
    "            else: \n",
    "                reals.append(key)    \n",
    "    x = ints + enums + reals\n",
    "    return x\n",
    "\n",
    "X = get_independent_variables(train_data, target) \n",
    "print(X)\n",
    "y = target\n",
    "print(y)"
   ]
  },
  {
   "cell_type": "code",
   "execution_count": 42,
   "metadata": {},
   "outputs": [],
   "source": [
    "# setup autoML\n",
    "run_time=500\n",
    "aml = H2OAutoML(max_runtime_secs=run_time)"
   ]
  },
  {
   "cell_type": "code",
   "execution_count": 43,
   "metadata": {},
   "outputs": [],
   "source": [
    "logs_path = os.getcwd()\n",
    "logfile = 'logs.txt'"
   ]
  },
  {
   "cell_type": "code",
   "execution_count": 44,
   "metadata": {},
   "outputs": [
    {
     "name": "stdout",
     "output_type": "stream",
     "text": [
      "AutoML progress: |████████████████████████████████████████████████████████| 100%\n"
     ]
    }
   ],
   "source": [
    "model_start_time = time.time()\n",
    "aml.train(x=X,y=y,training_frame=train_data)  # Change training_frame=train"
   ]
  },
  {
   "cell_type": "code",
   "execution_count": 45,
   "metadata": {},
   "outputs": [
    {
     "data": {
      "text/html": [
       "<table>\n",
       "<thead>\n",
       "<tr><th>model_id                                           </th><th style=\"text-align: right;\">     auc</th><th style=\"text-align: right;\">  logloss</th><th style=\"text-align: right;\">  mean_per_class_error</th><th style=\"text-align: right;\">    rmse</th><th style=\"text-align: right;\">      mse</th></tr>\n",
       "</thead>\n",
       "<tbody>\n",
       "<tr><td>GBM_2_AutoML_20190422_164836                       </td><td style=\"text-align: right;\">0.825552</td><td style=\"text-align: right;\">0.0656002</td><td style=\"text-align: right;\">              0.379442</td><td style=\"text-align: right;\">0.118575</td><td style=\"text-align: right;\">0.01406  </td></tr>\n",
       "<tr><td>GBM_grid_1_AutoML_20190422_164836_model_2          </td><td style=\"text-align: right;\">0.824705</td><td style=\"text-align: right;\">0.0664736</td><td style=\"text-align: right;\">              0.377362</td><td style=\"text-align: right;\">0.118041</td><td style=\"text-align: right;\">0.0139338</td></tr>\n",
       "<tr><td>GBM_grid_1_AutoML_20190422_164836_model_3          </td><td style=\"text-align: right;\">0.823147</td><td style=\"text-align: right;\">0.0654931</td><td style=\"text-align: right;\">              0.368628</td><td style=\"text-align: right;\">0.118062</td><td style=\"text-align: right;\">0.0139386</td></tr>\n",
       "<tr><td>GBM_1_AutoML_20190422_164836                       </td><td style=\"text-align: right;\">0.822995</td><td style=\"text-align: right;\">0.0682286</td><td style=\"text-align: right;\">              0.329364</td><td style=\"text-align: right;\">0.121141</td><td style=\"text-align: right;\">0.0146752</td></tr>\n",
       "<tr><td>StackedEnsemble_AllModels_AutoML_20190422_164836   </td><td style=\"text-align: right;\">0.819312</td><td style=\"text-align: right;\">0.0680914</td><td style=\"text-align: right;\">              0.351385</td><td style=\"text-align: right;\">0.11932 </td><td style=\"text-align: right;\">0.0142373</td></tr>\n",
       "<tr><td>GBM_3_AutoML_20190422_164836                       </td><td style=\"text-align: right;\">0.81902 </td><td style=\"text-align: right;\">0.0665793</td><td style=\"text-align: right;\">              0.376714</td><td style=\"text-align: right;\">0.119264</td><td style=\"text-align: right;\">0.0142238</td></tr>\n",
       "<tr><td>GBM_5_AutoML_20190422_164836                       </td><td style=\"text-align: right;\">0.814706</td><td style=\"text-align: right;\">0.0660615</td><td style=\"text-align: right;\">              0.382609</td><td style=\"text-align: right;\">0.118405</td><td style=\"text-align: right;\">0.0140198</td></tr>\n",
       "<tr><td>StackedEnsemble_BestOfFamily_AutoML_20190422_164836</td><td style=\"text-align: right;\">0.808414</td><td style=\"text-align: right;\">0.0690085</td><td style=\"text-align: right;\">              0.401715</td><td style=\"text-align: right;\">0.119791</td><td style=\"text-align: right;\">0.0143498</td></tr>\n",
       "<tr><td>GBM_grid_1_AutoML_20190422_164836_model_1          </td><td style=\"text-align: right;\">0.805362</td><td style=\"text-align: right;\">0.0731707</td><td style=\"text-align: right;\">              0.342594</td><td style=\"text-align: right;\">0.119613</td><td style=\"text-align: right;\">0.0143073</td></tr>\n",
       "<tr><td>GBM_4_AutoML_20190422_164836                       </td><td style=\"text-align: right;\">0.804299</td><td style=\"text-align: right;\">0.0683861</td><td style=\"text-align: right;\">              0.378547</td><td style=\"text-align: right;\">0.120104</td><td style=\"text-align: right;\">0.014425 </td></tr>\n",
       "</tbody>\n",
       "</table>"
      ]
     },
     "metadata": {},
     "output_type": "display_data"
    },
    {
     "data": {
      "text/plain": []
     },
     "execution_count": 45,
     "metadata": {},
     "output_type": "execute_result"
    }
   ],
   "source": [
    "# view the leaderboard\n",
    "show_leader_board = aml.leaderboard\n",
    "show_leader_board"
   ]
  },
  {
   "cell_type": "code",
   "execution_count": 46,
   "metadata": {},
   "outputs": [],
   "source": [
    "\n",
    "# get leaderboard\n",
    "aml_leaderboard_df=aml.leaderboard.as_data_frame()"
   ]
  },
  {
   "cell_type": "code",
   "execution_count": 47,
   "metadata": {},
   "outputs": [
    {
     "data": {
      "text/html": [
       "<div>\n",
       "<style scoped>\n",
       "    .dataframe tbody tr th:only-of-type {\n",
       "        vertical-align: middle;\n",
       "    }\n",
       "\n",
       "    .dataframe tbody tr th {\n",
       "        vertical-align: top;\n",
       "    }\n",
       "\n",
       "    .dataframe thead th {\n",
       "        text-align: right;\n",
       "    }\n",
       "</style>\n",
       "<table border=\"1\" class=\"dataframe\">\n",
       "  <thead>\n",
       "    <tr style=\"text-align: right;\">\n",
       "      <th></th>\n",
       "      <th>model_id</th>\n",
       "      <th>auc</th>\n",
       "      <th>logloss</th>\n",
       "      <th>mean_per_class_error</th>\n",
       "      <th>rmse</th>\n",
       "      <th>mse</th>\n",
       "    </tr>\n",
       "  </thead>\n",
       "  <tbody>\n",
       "    <tr>\n",
       "      <th>0</th>\n",
       "      <td>GBM_2_AutoML_20190422_164836</td>\n",
       "      <td>0.825552</td>\n",
       "      <td>0.065600</td>\n",
       "      <td>0.379442</td>\n",
       "      <td>0.118575</td>\n",
       "      <td>0.014060</td>\n",
       "    </tr>\n",
       "    <tr>\n",
       "      <th>1</th>\n",
       "      <td>GBM_grid_1_AutoML_20190422_164836_model_2</td>\n",
       "      <td>0.824705</td>\n",
       "      <td>0.066474</td>\n",
       "      <td>0.377362</td>\n",
       "      <td>0.118041</td>\n",
       "      <td>0.013934</td>\n",
       "    </tr>\n",
       "    <tr>\n",
       "      <th>2</th>\n",
       "      <td>GBM_grid_1_AutoML_20190422_164836_model_3</td>\n",
       "      <td>0.823147</td>\n",
       "      <td>0.065493</td>\n",
       "      <td>0.368628</td>\n",
       "      <td>0.118062</td>\n",
       "      <td>0.013939</td>\n",
       "    </tr>\n",
       "    <tr>\n",
       "      <th>3</th>\n",
       "      <td>GBM_1_AutoML_20190422_164836</td>\n",
       "      <td>0.822995</td>\n",
       "      <td>0.068229</td>\n",
       "      <td>0.329364</td>\n",
       "      <td>0.121141</td>\n",
       "      <td>0.014675</td>\n",
       "    </tr>\n",
       "    <tr>\n",
       "      <th>4</th>\n",
       "      <td>StackedEnsemble_AllModels_AutoML_20190422_164836</td>\n",
       "      <td>0.819312</td>\n",
       "      <td>0.068091</td>\n",
       "      <td>0.351385</td>\n",
       "      <td>0.119320</td>\n",
       "      <td>0.014237</td>\n",
       "    </tr>\n",
       "    <tr>\n",
       "      <th>5</th>\n",
       "      <td>GBM_3_AutoML_20190422_164836</td>\n",
       "      <td>0.819020</td>\n",
       "      <td>0.066579</td>\n",
       "      <td>0.376714</td>\n",
       "      <td>0.119264</td>\n",
       "      <td>0.014224</td>\n",
       "    </tr>\n",
       "    <tr>\n",
       "      <th>6</th>\n",
       "      <td>GBM_5_AutoML_20190422_164836</td>\n",
       "      <td>0.814706</td>\n",
       "      <td>0.066061</td>\n",
       "      <td>0.382609</td>\n",
       "      <td>0.118405</td>\n",
       "      <td>0.014020</td>\n",
       "    </tr>\n",
       "    <tr>\n",
       "      <th>7</th>\n",
       "      <td>StackedEnsemble_BestOfFamily_AutoML_20190422_1...</td>\n",
       "      <td>0.808414</td>\n",
       "      <td>0.069009</td>\n",
       "      <td>0.401715</td>\n",
       "      <td>0.119791</td>\n",
       "      <td>0.014350</td>\n",
       "    </tr>\n",
       "    <tr>\n",
       "      <th>8</th>\n",
       "      <td>GBM_grid_1_AutoML_20190422_164836_model_1</td>\n",
       "      <td>0.805362</td>\n",
       "      <td>0.073171</td>\n",
       "      <td>0.342594</td>\n",
       "      <td>0.119613</td>\n",
       "      <td>0.014307</td>\n",
       "    </tr>\n",
       "    <tr>\n",
       "      <th>9</th>\n",
       "      <td>GBM_4_AutoML_20190422_164836</td>\n",
       "      <td>0.804299</td>\n",
       "      <td>0.068386</td>\n",
       "      <td>0.378547</td>\n",
       "      <td>0.120104</td>\n",
       "      <td>0.014425</td>\n",
       "    </tr>\n",
       "    <tr>\n",
       "      <th>10</th>\n",
       "      <td>DeepLearning_grid_1_AutoML_20190422_164836_mod...</td>\n",
       "      <td>0.787324</td>\n",
       "      <td>0.160498</td>\n",
       "      <td>0.400242</td>\n",
       "      <td>0.120906</td>\n",
       "      <td>0.014618</td>\n",
       "    </tr>\n",
       "    <tr>\n",
       "      <th>11</th>\n",
       "      <td>GLM_grid_1_AutoML_20190422_164836_model_1</td>\n",
       "      <td>0.768482</td>\n",
       "      <td>0.067156</td>\n",
       "      <td>0.407805</td>\n",
       "      <td>0.118464</td>\n",
       "      <td>0.014034</td>\n",
       "    </tr>\n",
       "    <tr>\n",
       "      <th>12</th>\n",
       "      <td>GBM_grid_1_AutoML_20190422_164836_model_5</td>\n",
       "      <td>0.761254</td>\n",
       "      <td>0.085154</td>\n",
       "      <td>0.350287</td>\n",
       "      <td>0.138693</td>\n",
       "      <td>0.019236</td>\n",
       "    </tr>\n",
       "    <tr>\n",
       "      <th>13</th>\n",
       "      <td>XRT_1_AutoML_20190422_164836</td>\n",
       "      <td>0.758017</td>\n",
       "      <td>0.105057</td>\n",
       "      <td>0.419520</td>\n",
       "      <td>0.121427</td>\n",
       "      <td>0.014745</td>\n",
       "    </tr>\n",
       "    <tr>\n",
       "      <th>14</th>\n",
       "      <td>DRF_1_AutoML_20190422_164836</td>\n",
       "      <td>0.756645</td>\n",
       "      <td>0.107428</td>\n",
       "      <td>0.403893</td>\n",
       "      <td>0.122137</td>\n",
       "      <td>0.014918</td>\n",
       "    </tr>\n",
       "    <tr>\n",
       "      <th>15</th>\n",
       "      <td>DeepLearning_grid_1_AutoML_20190422_164836_mod...</td>\n",
       "      <td>0.750297</td>\n",
       "      <td>0.158634</td>\n",
       "      <td>0.405232</td>\n",
       "      <td>0.120938</td>\n",
       "      <td>0.014626</td>\n",
       "    </tr>\n",
       "    <tr>\n",
       "      <th>16</th>\n",
       "      <td>DeepLearning_1_AutoML_20190422_164836</td>\n",
       "      <td>0.739342</td>\n",
       "      <td>0.073041</td>\n",
       "      <td>0.403724</td>\n",
       "      <td>0.119553</td>\n",
       "      <td>0.014293</td>\n",
       "    </tr>\n",
       "    <tr>\n",
       "      <th>17</th>\n",
       "      <td>DeepLearning_grid_1_AutoML_20190422_164836_mod...</td>\n",
       "      <td>0.725582</td>\n",
       "      <td>0.075688</td>\n",
       "      <td>0.354244</td>\n",
       "      <td>0.119338</td>\n",
       "      <td>0.014241</td>\n",
       "    </tr>\n",
       "    <tr>\n",
       "      <th>18</th>\n",
       "      <td>DeepLearning_grid_1_AutoML_20190422_164836_mod...</td>\n",
       "      <td>0.721096</td>\n",
       "      <td>0.167189</td>\n",
       "      <td>0.396453</td>\n",
       "      <td>0.120974</td>\n",
       "      <td>0.014635</td>\n",
       "    </tr>\n",
       "    <tr>\n",
       "      <th>19</th>\n",
       "      <td>GBM_grid_1_AutoML_20190422_164836_model_4</td>\n",
       "      <td>0.574352</td>\n",
       "      <td>0.754583</td>\n",
       "      <td>0.411726</td>\n",
       "      <td>0.189896</td>\n",
       "      <td>0.036060</td>\n",
       "    </tr>\n",
       "  </tbody>\n",
       "</table>\n",
       "</div>"
      ],
      "text/plain": [
       "                                             model_id       auc   logloss  \\\n",
       "0                        GBM_2_AutoML_20190422_164836  0.825552  0.065600   \n",
       "1           GBM_grid_1_AutoML_20190422_164836_model_2  0.824705  0.066474   \n",
       "2           GBM_grid_1_AutoML_20190422_164836_model_3  0.823147  0.065493   \n",
       "3                        GBM_1_AutoML_20190422_164836  0.822995  0.068229   \n",
       "4    StackedEnsemble_AllModels_AutoML_20190422_164836  0.819312  0.068091   \n",
       "5                        GBM_3_AutoML_20190422_164836  0.819020  0.066579   \n",
       "6                        GBM_5_AutoML_20190422_164836  0.814706  0.066061   \n",
       "7   StackedEnsemble_BestOfFamily_AutoML_20190422_1...  0.808414  0.069009   \n",
       "8           GBM_grid_1_AutoML_20190422_164836_model_1  0.805362  0.073171   \n",
       "9                        GBM_4_AutoML_20190422_164836  0.804299  0.068386   \n",
       "10  DeepLearning_grid_1_AutoML_20190422_164836_mod...  0.787324  0.160498   \n",
       "11          GLM_grid_1_AutoML_20190422_164836_model_1  0.768482  0.067156   \n",
       "12          GBM_grid_1_AutoML_20190422_164836_model_5  0.761254  0.085154   \n",
       "13                       XRT_1_AutoML_20190422_164836  0.758017  0.105057   \n",
       "14                       DRF_1_AutoML_20190422_164836  0.756645  0.107428   \n",
       "15  DeepLearning_grid_1_AutoML_20190422_164836_mod...  0.750297  0.158634   \n",
       "16              DeepLearning_1_AutoML_20190422_164836  0.739342  0.073041   \n",
       "17  DeepLearning_grid_1_AutoML_20190422_164836_mod...  0.725582  0.075688   \n",
       "18  DeepLearning_grid_1_AutoML_20190422_164836_mod...  0.721096  0.167189   \n",
       "19          GBM_grid_1_AutoML_20190422_164836_model_4  0.574352  0.754583   \n",
       "\n",
       "    mean_per_class_error      rmse       mse  \n",
       "0               0.379442  0.118575  0.014060  \n",
       "1               0.377362  0.118041  0.013934  \n",
       "2               0.368628  0.118062  0.013939  \n",
       "3               0.329364  0.121141  0.014675  \n",
       "4               0.351385  0.119320  0.014237  \n",
       "5               0.376714  0.119264  0.014224  \n",
       "6               0.382609  0.118405  0.014020  \n",
       "7               0.401715  0.119791  0.014350  \n",
       "8               0.342594  0.119613  0.014307  \n",
       "9               0.378547  0.120104  0.014425  \n",
       "10              0.400242  0.120906  0.014618  \n",
       "11              0.407805  0.118464  0.014034  \n",
       "12              0.350287  0.138693  0.019236  \n",
       "13              0.419520  0.121427  0.014745  \n",
       "14              0.403893  0.122137  0.014918  \n",
       "15              0.405232  0.120938  0.014626  \n",
       "16              0.403724  0.119553  0.014293  \n",
       "17              0.354244  0.119338  0.014241  \n",
       "18              0.396453  0.120974  0.014635  \n",
       "19              0.411726  0.189896  0.036060  "
      ]
     },
     "execution_count": 47,
     "metadata": {},
     "output_type": "execute_result"
    }
   ],
   "source": [
    "aml_leaderboard_df"
   ]
  },
  {
   "cell_type": "code",
   "execution_count": 48,
   "metadata": {},
   "outputs": [
    {
     "name": "stdout",
     "output_type": "stream",
     "text": [
      "0                          GBM_2_AutoML_20190422_164836\n",
      "1             GBM_grid_1_AutoML_20190422_164836_model_2\n",
      "2             GBM_grid_1_AutoML_20190422_164836_model_3\n",
      "3                          GBM_1_AutoML_20190422_164836\n",
      "4      StackedEnsemble_AllModels_AutoML_20190422_164836\n",
      "5                          GBM_3_AutoML_20190422_164836\n",
      "6                          GBM_5_AutoML_20190422_164836\n",
      "7     StackedEnsemble_BestOfFamily_AutoML_20190422_1...\n",
      "8             GBM_grid_1_AutoML_20190422_164836_model_1\n",
      "9                          GBM_4_AutoML_20190422_164836\n",
      "10    DeepLearning_grid_1_AutoML_20190422_164836_mod...\n",
      "11            GLM_grid_1_AutoML_20190422_164836_model_1\n",
      "12            GBM_grid_1_AutoML_20190422_164836_model_5\n",
      "13                         XRT_1_AutoML_20190422_164836\n",
      "14                         DRF_1_AutoML_20190422_164836\n",
      "15    DeepLearning_grid_1_AutoML_20190422_164836_mod...\n",
      "16                DeepLearning_1_AutoML_20190422_164836\n",
      "17    DeepLearning_grid_1_AutoML_20190422_164836_mod...\n",
      "18    DeepLearning_grid_1_AutoML_20190422_164836_mod...\n",
      "19            GBM_grid_1_AutoML_20190422_164836_model_4\n",
      "Name: model_id, dtype: object\n"
     ]
    },
    {
     "data": {
      "text/plain": [
       "pandas.core.series.Series"
      ]
     },
     "execution_count": 48,
     "metadata": {},
     "output_type": "execute_result"
    }
   ],
   "source": [
    "\n",
    "# STart best model as first model\n",
    "\n",
    "model_set=aml_leaderboard_df['model_id']\n",
    "print(model_set)\n",
    "# Get model ids for all models in the AutoML Leaderboard\n",
    "type(model_set)"
   ]
  },
  {
   "cell_type": "code",
   "execution_count": 49,
   "metadata": {},
   "outputs": [
    {
     "name": "stdout",
     "output_type": "stream",
     "text": [
      "GBM_2_AutoML_20190422_164836\n",
      "GBM_grid_1_AutoML_20190422_164836_model_2\n",
      "GBM_grid_1_AutoML_20190422_164836_model_3\n",
      "GBM_1_AutoML_20190422_164836\n",
      "StackedEnsemble_AllModels_AutoML_20190422_164836\n",
      "GBM_3_AutoML_20190422_164836\n",
      "GBM_5_AutoML_20190422_164836\n",
      "StackedEnsemble_BestOfFamily_AutoML_20190422_164836\n",
      "GBM_grid_1_AutoML_20190422_164836_model_1\n",
      "GBM_4_AutoML_20190422_164836\n",
      "DeepLearning_grid_1_AutoML_20190422_164836_model_3\n",
      "GLM_grid_1_AutoML_20190422_164836_model_1\n",
      "GBM_grid_1_AutoML_20190422_164836_model_5\n",
      "XRT_1_AutoML_20190422_164836\n",
      "DRF_1_AutoML_20190422_164836\n",
      "DeepLearning_grid_1_AutoML_20190422_164836_model_4\n",
      "DeepLearning_1_AutoML_20190422_164836\n",
      "DeepLearning_grid_1_AutoML_20190422_164836_model_1\n",
      "DeepLearning_grid_1_AutoML_20190422_164836_model_2\n",
      "GBM_grid_1_AutoML_20190422_164836_model_4\n"
     ]
    }
   ],
   "source": [
    "jsonDicts= []\n",
    "for id in model_set.iteritems():\n",
    "  id,model_name = id\n",
    "  print(model_name)\n",
    "  mod_best=h2o.get_model(model_name)\n",
    "  jsonDicts.append(mod_best.params)"
   ]
  },
  {
   "cell_type": "code",
   "execution_count": 50,
   "metadata": {},
   "outputs": [
    {
     "name": "stdout",
     "output_type": "stream",
     "text": [
      "[{'model_id': {'default': None, 'actual': {'__meta': {'schema_version': 3, 'schema_name': 'ModelKeyV3', 'schema_type': 'Key<Model>'}, 'name': 'GBM_2_AutoML_20190422_164836', 'type': 'Key<Model>', 'URL': '/3/Models/GBM_2_AutoML_20190422_164836'}}, 'training_frame': {'default': None, 'actual': {'__meta': {'schema_version': 3, 'schema_name': 'FrameKeyV3', 'schema_type': 'Key<Frame>'}, 'name': 'automl_training_train_500.hex', 'type': 'Key<Frame>', 'URL': '/3/Frames/automl_training_train_500.hex'}}, 'validation_frame': {'default': None, 'actual': None}, 'nfolds': {'default': 0, 'actual': 5}, 'keep_cross_validation_models': {'default': True, 'actual': False}, 'keep_cross_validation_predictions': {'default': False, 'actual': True}, 'keep_cross_validation_fold_assignment': {'default': False, 'actual': False}, 'score_each_iteration': {'default': False, 'actual': False}, 'score_tree_interval': {'default': 0, 'actual': 5}, 'fold_assignment': {'default': 'AUTO', 'actual': 'Modulo'}, 'fold_column': {'default': None, 'actual': None}, 'response_column': {'default': None, 'actual': {'__meta': {'schema_version': 3, 'schema_name': 'ColSpecifierV3', 'schema_type': 'VecSpecifier'}, 'column_name': 'Claim', 'is_member_of_frames': None}}, 'ignored_columns': {'default': None, 'actual': []}, 'ignore_const_cols': {'default': True, 'actual': True}, 'offset_column': {'default': None, 'actual': None}, 'weights_column': {'default': None, 'actual': None}, 'balance_classes': {'default': False, 'actual': False}, 'class_sampling_factors': {'default': None, 'actual': None}, 'max_after_balance_size': {'default': 5.0, 'actual': 5.0}, 'max_confusion_matrix_size': {'default': 20, 'actual': 20}, 'max_hit_ratio_k': {'default': 0, 'actual': 0}, 'ntrees': {'default': 50, 'actual': 33}, 'max_depth': {'default': 5, 'actual': 15}, 'min_rows': {'default': 10.0, 'actual': 100.0}, 'nbins': {'default': 20, 'actual': 20}, 'nbins_top_level': {'default': 1024, 'actual': 1024}, 'nbins_cats': {'default': 1024, 'actual': 1024}, 'r2_stopping': {'default': 1.7976931348623157e+308, 'actual': 1.7976931348623157e+308}, 'stopping_rounds': {'default': 0, 'actual': 0}, 'stopping_metric': {'default': 'AUTO', 'actual': 'logloss'}, 'stopping_tolerance': {'default': 0.001, 'actual': 0.00397382714153187}, 'max_runtime_secs': {'default': 0.0, 'actual': 0.0}, 'seed': {'default': -1, 'actual': -5563448818000051813}, 'build_tree_one_node': {'default': False, 'actual': False}, 'learn_rate': {'default': 0.1, 'actual': 0.1}, 'learn_rate_annealing': {'default': 1.0, 'actual': 1.0}, 'distribution': {'default': 'AUTO', 'actual': 'bernoulli'}, 'quantile_alpha': {'default': 0.5, 'actual': 0.5}, 'tweedie_power': {'default': 1.5, 'actual': 1.5}, 'huber_alpha': {'default': 0.9, 'actual': 0.9}, 'checkpoint': {'default': None, 'actual': None}, 'sample_rate': {'default': 1.0, 'actual': 0.8}, 'sample_rate_per_class': {'default': None, 'actual': None}, 'col_sample_rate': {'default': 1.0, 'actual': 0.8}, 'col_sample_rate_change_per_level': {'default': 1.0, 'actual': 1.0}, 'col_sample_rate_per_tree': {'default': 1.0, 'actual': 0.8}, 'min_split_improvement': {'default': 1e-05, 'actual': 1e-05}, 'histogram_type': {'default': 'AUTO', 'actual': 'AUTO'}, 'max_abs_leafnode_pred': {'default': 1.7976931348623157e+308, 'actual': 1.7976931348623157e+308}, 'pred_noise_bandwidth': {'default': 0.0, 'actual': 0.0}, 'categorical_encoding': {'default': 'AUTO', 'actual': 'AUTO'}, 'calibrate_model': {'default': False, 'actual': False}, 'calibration_frame': {'default': None, 'actual': None}, 'custom_metric_func': {'default': None, 'actual': None}, 'export_checkpoints_dir': {'default': None, 'actual': None}, 'monotone_constraints': {'default': None, 'actual': None}, 'check_constant_response': {'default': True, 'actual': True}}, {'model_id': {'default': None, 'actual': {'__meta': {'schema_version': 3, 'schema_name': 'ModelKeyV3', 'schema_type': 'Key<Model>'}, 'name': 'GBM_grid_1_AutoML_20190422_164836_model_2', 'type': 'Key<Model>', 'URL': '/3/Models/GBM_grid_1_AutoML_20190422_164836_model_2'}}, 'training_frame': {'default': None, 'actual': {'__meta': {'schema_version': 3, 'schema_name': 'FrameKeyV3', 'schema_type': 'Key<Frame>'}, 'name': 'automl_training_train_500.hex', 'type': 'Key<Frame>', 'URL': '/3/Frames/automl_training_train_500.hex'}}, 'validation_frame': {'default': None, 'actual': None}, 'nfolds': {'default': 0, 'actual': 5}, 'keep_cross_validation_models': {'default': True, 'actual': False}, 'keep_cross_validation_predictions': {'default': False, 'actual': True}, 'keep_cross_validation_fold_assignment': {'default': False, 'actual': False}, 'score_each_iteration': {'default': False, 'actual': False}, 'score_tree_interval': {'default': 0, 'actual': 5}, 'fold_assignment': {'default': 'AUTO', 'actual': 'Modulo'}, 'fold_column': {'default': None, 'actual': None}, 'response_column': {'default': None, 'actual': {'__meta': {'schema_version': 3, 'schema_name': 'ColSpecifierV3', 'schema_type': 'VecSpecifier'}, 'column_name': 'Claim', 'is_member_of_frames': None}}, 'ignored_columns': {'default': None, 'actual': []}, 'ignore_const_cols': {'default': True, 'actual': True}, 'offset_column': {'default': None, 'actual': None}, 'weights_column': {'default': None, 'actual': None}, 'balance_classes': {'default': False, 'actual': False}, 'class_sampling_factors': {'default': None, 'actual': None}, 'max_after_balance_size': {'default': 5.0, 'actual': 5.0}, 'max_confusion_matrix_size': {'default': 20, 'actual': 20}, 'max_hit_ratio_k': {'default': 0, 'actual': 0}, 'ntrees': {'default': 50, 'actual': 93}, 'max_depth': {'default': 5, 'actual': 6}, 'min_rows': {'default': 10.0, 'actual': 30.0}, 'nbins': {'default': 20, 'actual': 20}, 'nbins_top_level': {'default': 1024, 'actual': 1024}, 'nbins_cats': {'default': 1024, 'actual': 1024}, 'r2_stopping': {'default': 1.7976931348623157e+308, 'actual': 1.7976931348623157e+308}, 'stopping_rounds': {'default': 0, 'actual': 0}, 'stopping_metric': {'default': 'AUTO', 'actual': 'logloss'}, 'stopping_tolerance': {'default': 0.001, 'actual': 0.00397382714153187}, 'max_runtime_secs': {'default': 0.0, 'actual': 0.0}, 'seed': {'default': -1, 'actual': 3275098407003196059}, 'build_tree_one_node': {'default': False, 'actual': False}, 'learn_rate': {'default': 0.1, 'actual': 0.01}, 'learn_rate_annealing': {'default': 1.0, 'actual': 1.0}, 'distribution': {'default': 'AUTO', 'actual': 'bernoulli'}, 'quantile_alpha': {'default': 0.5, 'actual': 0.5}, 'tweedie_power': {'default': 1.5, 'actual': 1.5}, 'huber_alpha': {'default': 0.9, 'actual': 0.9}, 'checkpoint': {'default': None, 'actual': None}, 'sample_rate': {'default': 1.0, 'actual': 0.5}, 'sample_rate_per_class': {'default': None, 'actual': None}, 'col_sample_rate': {'default': 1.0, 'actual': 0.4}, 'col_sample_rate_change_per_level': {'default': 1.0, 'actual': 1.0}, 'col_sample_rate_per_tree': {'default': 1.0, 'actual': 0.7}, 'min_split_improvement': {'default': 1e-05, 'actual': 1e-05}, 'histogram_type': {'default': 'AUTO', 'actual': 'AUTO'}, 'max_abs_leafnode_pred': {'default': 1.7976931348623157e+308, 'actual': 1.7976931348623157e+308}, 'pred_noise_bandwidth': {'default': 0.0, 'actual': 0.0}, 'categorical_encoding': {'default': 'AUTO', 'actual': 'AUTO'}, 'calibrate_model': {'default': False, 'actual': False}, 'calibration_frame': {'default': None, 'actual': None}, 'custom_metric_func': {'default': None, 'actual': None}, 'export_checkpoints_dir': {'default': None, 'actual': None}, 'monotone_constraints': {'default': None, 'actual': None}, 'check_constant_response': {'default': True, 'actual': True}}, {'model_id': {'default': None, 'actual': {'__meta': {'schema_version': 3, 'schema_name': 'ModelKeyV3', 'schema_type': 'Key<Model>'}, 'name': 'GBM_grid_1_AutoML_20190422_164836_model_3', 'type': 'Key<Model>', 'URL': '/3/Models/GBM_grid_1_AutoML_20190422_164836_model_3'}}, 'training_frame': {'default': None, 'actual': {'__meta': {'schema_version': 3, 'schema_name': 'FrameKeyV3', 'schema_type': 'Key<Frame>'}, 'name': 'automl_training_train_500.hex', 'type': 'Key<Frame>', 'URL': '/3/Frames/automl_training_train_500.hex'}}, 'validation_frame': {'default': None, 'actual': None}, 'nfolds': {'default': 0, 'actual': 5}, 'keep_cross_validation_models': {'default': True, 'actual': False}, 'keep_cross_validation_predictions': {'default': False, 'actual': True}, 'keep_cross_validation_fold_assignment': {'default': False, 'actual': False}, 'score_each_iteration': {'default': False, 'actual': False}, 'score_tree_interval': {'default': 0, 'actual': 5}, 'fold_assignment': {'default': 'AUTO', 'actual': 'Modulo'}, 'fold_column': {'default': None, 'actual': None}, 'response_column': {'default': None, 'actual': {'__meta': {'schema_version': 3, 'schema_name': 'ColSpecifierV3', 'schema_type': 'VecSpecifier'}, 'column_name': 'Claim', 'is_member_of_frames': None}}, 'ignored_columns': {'default': None, 'actual': []}, 'ignore_const_cols': {'default': True, 'actual': True}, 'offset_column': {'default': None, 'actual': None}, 'weights_column': {'default': None, 'actual': None}, 'balance_classes': {'default': False, 'actual': False}, 'class_sampling_factors': {'default': None, 'actual': None}, 'max_after_balance_size': {'default': 5.0, 'actual': 5.0}, 'max_confusion_matrix_size': {'default': 20, 'actual': 20}, 'max_hit_ratio_k': {'default': 0, 'actual': 0}, 'ntrees': {'default': 50, 'actual': 36}, 'max_depth': {'default': 5, 'actual': 6}, 'min_rows': {'default': 10.0, 'actual': 30.0}, 'nbins': {'default': 20, 'actual': 20}, 'nbins_top_level': {'default': 1024, 'actual': 1024}, 'nbins_cats': {'default': 1024, 'actual': 1024}, 'r2_stopping': {'default': 1.7976931348623157e+308, 'actual': 1.7976931348623157e+308}, 'stopping_rounds': {'default': 0, 'actual': 0}, 'stopping_metric': {'default': 'AUTO', 'actual': 'logloss'}, 'stopping_tolerance': {'default': 0.001, 'actual': 0.00397382714153187}, 'max_runtime_secs': {'default': 0.0, 'actual': 0.0}, 'seed': {'default': -1, 'actual': 3228508973076295572}, 'build_tree_one_node': {'default': False, 'actual': False}, 'learn_rate': {'default': 0.1, 'actual': 0.05}, 'learn_rate_annealing': {'default': 1.0, 'actual': 1.0}, 'distribution': {'default': 'AUTO', 'actual': 'bernoulli'}, 'quantile_alpha': {'default': 0.5, 'actual': 0.5}, 'tweedie_power': {'default': 1.5, 'actual': 1.5}, 'huber_alpha': {'default': 0.9, 'actual': 0.9}, 'checkpoint': {'default': None, 'actual': None}, 'sample_rate': {'default': 1.0, 'actual': 0.5}, 'sample_rate_per_class': {'default': None, 'actual': None}, 'col_sample_rate': {'default': 1.0, 'actual': 1.0}, 'col_sample_rate_change_per_level': {'default': 1.0, 'actual': 1.0}, 'col_sample_rate_per_tree': {'default': 1.0, 'actual': 0.7}, 'min_split_improvement': {'default': 1e-05, 'actual': 1e-05}, 'histogram_type': {'default': 'AUTO', 'actual': 'AUTO'}, 'max_abs_leafnode_pred': {'default': 1.7976931348623157e+308, 'actual': 1.7976931348623157e+308}, 'pred_noise_bandwidth': {'default': 0.0, 'actual': 0.0}, 'categorical_encoding': {'default': 'AUTO', 'actual': 'AUTO'}, 'calibrate_model': {'default': False, 'actual': False}, 'calibration_frame': {'default': None, 'actual': None}, 'custom_metric_func': {'default': None, 'actual': None}, 'export_checkpoints_dir': {'default': None, 'actual': None}, 'monotone_constraints': {'default': None, 'actual': None}, 'check_constant_response': {'default': True, 'actual': True}}, {'model_id': {'default': None, 'actual': {'__meta': {'schema_version': 3, 'schema_name': 'ModelKeyV3', 'schema_type': 'Key<Model>'}, 'name': 'GBM_1_AutoML_20190422_164836', 'type': 'Key<Model>', 'URL': '/3/Models/GBM_1_AutoML_20190422_164836'}}, 'training_frame': {'default': None, 'actual': {'__meta': {'schema_version': 3, 'schema_name': 'FrameKeyV3', 'schema_type': 'Key<Frame>'}, 'name': 'automl_training_train_500.hex', 'type': 'Key<Frame>', 'URL': '/3/Frames/automl_training_train_500.hex'}}, 'validation_frame': {'default': None, 'actual': None}, 'nfolds': {'default': 0, 'actual': 5}, 'keep_cross_validation_models': {'default': True, 'actual': False}, 'keep_cross_validation_predictions': {'default': False, 'actual': True}, 'keep_cross_validation_fold_assignment': {'default': False, 'actual': False}, 'score_each_iteration': {'default': False, 'actual': False}, 'score_tree_interval': {'default': 0, 'actual': 5}, 'fold_assignment': {'default': 'AUTO', 'actual': 'Modulo'}, 'fold_column': {'default': None, 'actual': None}, 'response_column': {'default': None, 'actual': {'__meta': {'schema_version': 3, 'schema_name': 'ColSpecifierV3', 'schema_type': 'VecSpecifier'}, 'column_name': 'Claim', 'is_member_of_frames': None}}, 'ignored_columns': {'default': None, 'actual': []}, 'ignore_const_cols': {'default': True, 'actual': True}, 'offset_column': {'default': None, 'actual': None}, 'weights_column': {'default': None, 'actual': None}, 'balance_classes': {'default': False, 'actual': False}, 'class_sampling_factors': {'default': None, 'actual': None}, 'max_after_balance_size': {'default': 5.0, 'actual': 5.0}, 'max_confusion_matrix_size': {'default': 20, 'actual': 20}, 'max_hit_ratio_k': {'default': 0, 'actual': 0}, 'ntrees': {'default': 50, 'actual': 33}, 'max_depth': {'default': 5, 'actual': 15}, 'min_rows': {'default': 10.0, 'actual': 100.0}, 'nbins': {'default': 20, 'actual': 20}, 'nbins_top_level': {'default': 1024, 'actual': 1024}, 'nbins_cats': {'default': 1024, 'actual': 1024}, 'r2_stopping': {'default': 1.7976931348623157e+308, 'actual': 1.7976931348623157e+308}, 'stopping_rounds': {'default': 0, 'actual': 0}, 'stopping_metric': {'default': 'AUTO', 'actual': 'logloss'}, 'stopping_tolerance': {'default': 0.001, 'actual': 0.00397382714153187}, 'max_runtime_secs': {'default': 0.0, 'actual': 0.0}, 'seed': {'default': -1, 'actual': -5563448818000051813}, 'build_tree_one_node': {'default': False, 'actual': False}, 'learn_rate': {'default': 0.1, 'actual': 0.1}, 'learn_rate_annealing': {'default': 1.0, 'actual': 1.0}, 'distribution': {'default': 'AUTO', 'actual': 'bernoulli'}, 'quantile_alpha': {'default': 0.5, 'actual': 0.5}, 'tweedie_power': {'default': 1.5, 'actual': 1.5}, 'huber_alpha': {'default': 0.9, 'actual': 0.9}, 'checkpoint': {'default': None, 'actual': None}, 'sample_rate': {'default': 1.0, 'actual': 0.8}, 'sample_rate_per_class': {'default': None, 'actual': None}, 'col_sample_rate': {'default': 1.0, 'actual': 0.8}, 'col_sample_rate_change_per_level': {'default': 1.0, 'actual': 1.0}, 'col_sample_rate_per_tree': {'default': 1.0, 'actual': 0.8}, 'min_split_improvement': {'default': 1e-05, 'actual': 1e-05}, 'histogram_type': {'default': 'AUTO', 'actual': 'AUTO'}, 'max_abs_leafnode_pred': {'default': 1.7976931348623157e+308, 'actual': 1.7976931348623157e+308}, 'pred_noise_bandwidth': {'default': 0.0, 'actual': 0.0}, 'categorical_encoding': {'default': 'AUTO', 'actual': 'AUTO'}, 'calibrate_model': {'default': False, 'actual': False}, 'calibration_frame': {'default': None, 'actual': None}, 'custom_metric_func': {'default': None, 'actual': None}, 'export_checkpoints_dir': {'default': None, 'actual': None}, 'monotone_constraints': {'default': None, 'actual': None}, 'check_constant_response': {'default': True, 'actual': True}}, {'model_id': {'default': None, 'actual': {'__meta': {'schema_version': 3, 'schema_name': 'ModelKeyV3', 'schema_type': 'Key<Model>'}, 'name': 'StackedEnsemble_AllModels_AutoML_20190422_164836', 'type': 'Key<Model>', 'URL': '/3/Models/StackedEnsemble_AllModels_AutoML_20190422_164836'}}, 'training_frame': {'default': None, 'actual': {'__meta': {'schema_version': 3, 'schema_name': 'FrameKeyV3', 'schema_type': 'Key<Frame>'}, 'name': 'automl_training_train_500.hex', 'type': 'Key<Frame>', 'URL': '/3/Frames/automl_training_train_500.hex'}}, 'response_column': {'default': None, 'actual': {'__meta': {'schema_version': 3, 'schema_name': 'ColSpecifierV3', 'schema_type': 'VecSpecifier'}, 'column_name': 'Claim', 'is_member_of_frames': None}}, 'validation_frame': {'default': None, 'actual': None}, 'blending_frame': {'default': None, 'actual': None}, 'base_models': {'default': [], 'actual': [{'__meta': {'schema_version': 3, 'schema_name': 'ModelKeyV3', 'schema_type': 'Key<Model>'}, 'name': 'GBM_2_AutoML_20190422_164836', 'type': 'Key<Model>', 'URL': '/3/Models/GBM_2_AutoML_20190422_164836'}, {'__meta': {'schema_version': 3, 'schema_name': 'ModelKeyV3', 'schema_type': 'Key<Model>'}, 'name': 'GBM_grid_1_AutoML_20190422_164836_model_2', 'type': 'Key<Model>', 'URL': '/3/Models/GBM_grid_1_AutoML_20190422_164836_model_2'}, {'__meta': {'schema_version': 3, 'schema_name': 'ModelKeyV3', 'schema_type': 'Key<Model>'}, 'name': 'GBM_grid_1_AutoML_20190422_164836_model_3', 'type': 'Key<Model>', 'URL': '/3/Models/GBM_grid_1_AutoML_20190422_164836_model_3'}, {'__meta': {'schema_version': 3, 'schema_name': 'ModelKeyV3', 'schema_type': 'Key<Model>'}, 'name': 'GBM_1_AutoML_20190422_164836', 'type': 'Key<Model>', 'URL': '/3/Models/GBM_1_AutoML_20190422_164836'}, {'__meta': {'schema_version': 3, 'schema_name': 'ModelKeyV3', 'schema_type': 'Key<Model>'}, 'name': 'GBM_3_AutoML_20190422_164836', 'type': 'Key<Model>', 'URL': '/3/Models/GBM_3_AutoML_20190422_164836'}, {'__meta': {'schema_version': 3, 'schema_name': 'ModelKeyV3', 'schema_type': 'Key<Model>'}, 'name': 'GBM_5_AutoML_20190422_164836', 'type': 'Key<Model>', 'URL': '/3/Models/GBM_5_AutoML_20190422_164836'}, {'__meta': {'schema_version': 3, 'schema_name': 'ModelKeyV3', 'schema_type': 'Key<Model>'}, 'name': 'GBM_grid_1_AutoML_20190422_164836_model_1', 'type': 'Key<Model>', 'URL': '/3/Models/GBM_grid_1_AutoML_20190422_164836_model_1'}, {'__meta': {'schema_version': 3, 'schema_name': 'ModelKeyV3', 'schema_type': 'Key<Model>'}, 'name': 'GBM_4_AutoML_20190422_164836', 'type': 'Key<Model>', 'URL': '/3/Models/GBM_4_AutoML_20190422_164836'}, {'__meta': {'schema_version': 3, 'schema_name': 'ModelKeyV3', 'schema_type': 'Key<Model>'}, 'name': 'DeepLearning_grid_1_AutoML_20190422_164836_model_3', 'type': 'Key<Model>', 'URL': '/3/Models/DeepLearning_grid_1_AutoML_20190422_164836_model_3'}, {'__meta': {'schema_version': 3, 'schema_name': 'ModelKeyV3', 'schema_type': 'Key<Model>'}, 'name': 'GLM_grid_1_AutoML_20190422_164836_model_1', 'type': 'Key<Model>', 'URL': '/3/Models/GLM_grid_1_AutoML_20190422_164836_model_1'}, {'__meta': {'schema_version': 3, 'schema_name': 'ModelKeyV3', 'schema_type': 'Key<Model>'}, 'name': 'GBM_grid_1_AutoML_20190422_164836_model_5', 'type': 'Key<Model>', 'URL': '/3/Models/GBM_grid_1_AutoML_20190422_164836_model_5'}, {'__meta': {'schema_version': 3, 'schema_name': 'ModelKeyV3', 'schema_type': 'Key<Model>'}, 'name': 'XRT_1_AutoML_20190422_164836', 'type': 'Key<Model>', 'URL': '/3/Models/XRT_1_AutoML_20190422_164836'}, {'__meta': {'schema_version': 3, 'schema_name': 'ModelKeyV3', 'schema_type': 'Key<Model>'}, 'name': 'DRF_1_AutoML_20190422_164836', 'type': 'Key<Model>', 'URL': '/3/Models/DRF_1_AutoML_20190422_164836'}, {'__meta': {'schema_version': 3, 'schema_name': 'ModelKeyV3', 'schema_type': 'Key<Model>'}, 'name': 'DeepLearning_grid_1_AutoML_20190422_164836_model_4', 'type': 'Key<Model>', 'URL': '/3/Models/DeepLearning_grid_1_AutoML_20190422_164836_model_4'}, {'__meta': {'schema_version': 3, 'schema_name': 'ModelKeyV3', 'schema_type': 'Key<Model>'}, 'name': 'DeepLearning_1_AutoML_20190422_164836', 'type': 'Key<Model>', 'URL': '/3/Models/DeepLearning_1_AutoML_20190422_164836'}, {'__meta': {'schema_version': 3, 'schema_name': 'ModelKeyV3', 'schema_type': 'Key<Model>'}, 'name': 'DeepLearning_grid_1_AutoML_20190422_164836_model_1', 'type': 'Key<Model>', 'URL': '/3/Models/DeepLearning_grid_1_AutoML_20190422_164836_model_1'}, {'__meta': {'schema_version': 3, 'schema_name': 'ModelKeyV3', 'schema_type': 'Key<Model>'}, 'name': 'DeepLearning_grid_1_AutoML_20190422_164836_model_2', 'type': 'Key<Model>', 'URL': '/3/Models/DeepLearning_grid_1_AutoML_20190422_164836_model_2'}, {'__meta': {'schema_version': 3, 'schema_name': 'ModelKeyV3', 'schema_type': 'Key<Model>'}, 'name': 'GBM_grid_1_AutoML_20190422_164836_model_4', 'type': 'Key<Model>', 'URL': '/3/Models/GBM_grid_1_AutoML_20190422_164836_model_4'}]}, 'metalearner_algorithm': {'default': 'AUTO', 'actual': 'AUTO'}, 'metalearner_nfolds': {'default': 0, 'actual': 5}, 'metalearner_fold_assignment': {'default': None, 'actual': None}, 'metalearner_fold_column': {'default': None, 'actual': None}, 'metalearner_params': {'default': '', 'actual': ''}, 'seed': {'default': -1, 'actual': 1509716538155939294}, 'keep_levelone_frame': {'default': False, 'actual': True}, 'export_checkpoints_dir': {'default': None, 'actual': None}}, {'model_id': {'default': None, 'actual': {'__meta': {'schema_version': 3, 'schema_name': 'ModelKeyV3', 'schema_type': 'Key<Model>'}, 'name': 'GBM_3_AutoML_20190422_164836', 'type': 'Key<Model>', 'URL': '/3/Models/GBM_3_AutoML_20190422_164836'}}, 'training_frame': {'default': None, 'actual': {'__meta': {'schema_version': 3, 'schema_name': 'FrameKeyV3', 'schema_type': 'Key<Frame>'}, 'name': 'automl_training_train_500.hex', 'type': 'Key<Frame>', 'URL': '/3/Frames/automl_training_train_500.hex'}}, 'validation_frame': {'default': None, 'actual': None}, 'nfolds': {'default': 0, 'actual': 5}, 'keep_cross_validation_models': {'default': True, 'actual': False}, 'keep_cross_validation_predictions': {'default': False, 'actual': True}, 'keep_cross_validation_fold_assignment': {'default': False, 'actual': False}, 'score_each_iteration': {'default': False, 'actual': False}, 'score_tree_interval': {'default': 0, 'actual': 5}, 'fold_assignment': {'default': 'AUTO', 'actual': 'Modulo'}, 'fold_column': {'default': None, 'actual': None}, 'response_column': {'default': None, 'actual': {'__meta': {'schema_version': 3, 'schema_name': 'ColSpecifierV3', 'schema_type': 'VecSpecifier'}, 'column_name': 'Claim', 'is_member_of_frames': None}}, 'ignored_columns': {'default': None, 'actual': []}, 'ignore_const_cols': {'default': True, 'actual': True}, 'offset_column': {'default': None, 'actual': None}, 'weights_column': {'default': None, 'actual': None}, 'balance_classes': {'default': False, 'actual': False}, 'class_sampling_factors': {'default': None, 'actual': None}, 'max_after_balance_size': {'default': 5.0, 'actual': 5.0}, 'max_confusion_matrix_size': {'default': 20, 'actual': 20}, 'max_hit_ratio_k': {'default': 0, 'actual': 0}, 'ntrees': {'default': 50, 'actual': 33}, 'max_depth': {'default': 5, 'actual': 15}, 'min_rows': {'default': 10.0, 'actual': 100.0}, 'nbins': {'default': 20, 'actual': 20}, 'nbins_top_level': {'default': 1024, 'actual': 1024}, 'nbins_cats': {'default': 1024, 'actual': 1024}, 'r2_stopping': {'default': 1.7976931348623157e+308, 'actual': 1.7976931348623157e+308}, 'stopping_rounds': {'default': 0, 'actual': 0}, 'stopping_metric': {'default': 'AUTO', 'actual': 'logloss'}, 'stopping_tolerance': {'default': 0.001, 'actual': 0.00397382714153187}, 'max_runtime_secs': {'default': 0.0, 'actual': 0.0}, 'seed': {'default': -1, 'actual': -5563448818000051813}, 'build_tree_one_node': {'default': False, 'actual': False}, 'learn_rate': {'default': 0.1, 'actual': 0.1}, 'learn_rate_annealing': {'default': 1.0, 'actual': 1.0}, 'distribution': {'default': 'AUTO', 'actual': 'bernoulli'}, 'quantile_alpha': {'default': 0.5, 'actual': 0.5}, 'tweedie_power': {'default': 1.5, 'actual': 1.5}, 'huber_alpha': {'default': 0.9, 'actual': 0.9}, 'checkpoint': {'default': None, 'actual': None}, 'sample_rate': {'default': 1.0, 'actual': 0.8}, 'sample_rate_per_class': {'default': None, 'actual': None}, 'col_sample_rate': {'default': 1.0, 'actual': 0.8}, 'col_sample_rate_change_per_level': {'default': 1.0, 'actual': 1.0}, 'col_sample_rate_per_tree': {'default': 1.0, 'actual': 0.8}, 'min_split_improvement': {'default': 1e-05, 'actual': 1e-05}, 'histogram_type': {'default': 'AUTO', 'actual': 'AUTO'}, 'max_abs_leafnode_pred': {'default': 1.7976931348623157e+308, 'actual': 1.7976931348623157e+308}, 'pred_noise_bandwidth': {'default': 0.0, 'actual': 0.0}, 'categorical_encoding': {'default': 'AUTO', 'actual': 'AUTO'}, 'calibrate_model': {'default': False, 'actual': False}, 'calibration_frame': {'default': None, 'actual': None}, 'custom_metric_func': {'default': None, 'actual': None}, 'export_checkpoints_dir': {'default': None, 'actual': None}, 'monotone_constraints': {'default': None, 'actual': None}, 'check_constant_response': {'default': True, 'actual': True}}, {'model_id': {'default': None, 'actual': {'__meta': {'schema_version': 3, 'schema_name': 'ModelKeyV3', 'schema_type': 'Key<Model>'}, 'name': 'GBM_5_AutoML_20190422_164836', 'type': 'Key<Model>', 'URL': '/3/Models/GBM_5_AutoML_20190422_164836'}}, 'training_frame': {'default': None, 'actual': {'__meta': {'schema_version': 3, 'schema_name': 'FrameKeyV3', 'schema_type': 'Key<Frame>'}, 'name': 'automl_training_train_500.hex', 'type': 'Key<Frame>', 'URL': '/3/Frames/automl_training_train_500.hex'}}, 'validation_frame': {'default': None, 'actual': None}, 'nfolds': {'default': 0, 'actual': 5}, 'keep_cross_validation_models': {'default': True, 'actual': False}, 'keep_cross_validation_predictions': {'default': False, 'actual': True}, 'keep_cross_validation_fold_assignment': {'default': False, 'actual': False}, 'score_each_iteration': {'default': False, 'actual': False}, 'score_tree_interval': {'default': 0, 'actual': 5}, 'fold_assignment': {'default': 'AUTO', 'actual': 'Modulo'}, 'fold_column': {'default': None, 'actual': None}, 'response_column': {'default': None, 'actual': {'__meta': {'schema_version': 3, 'schema_name': 'ColSpecifierV3', 'schema_type': 'VecSpecifier'}, 'column_name': 'Claim', 'is_member_of_frames': None}}, 'ignored_columns': {'default': None, 'actual': []}, 'ignore_const_cols': {'default': True, 'actual': True}, 'offset_column': {'default': None, 'actual': None}, 'weights_column': {'default': None, 'actual': None}, 'balance_classes': {'default': False, 'actual': False}, 'class_sampling_factors': {'default': None, 'actual': None}, 'max_after_balance_size': {'default': 5.0, 'actual': 5.0}, 'max_confusion_matrix_size': {'default': 20, 'actual': 20}, 'max_hit_ratio_k': {'default': 0, 'actual': 0}, 'ntrees': {'default': 50, 'actual': 33}, 'max_depth': {'default': 5, 'actual': 15}, 'min_rows': {'default': 10.0, 'actual': 100.0}, 'nbins': {'default': 20, 'actual': 20}, 'nbins_top_level': {'default': 1024, 'actual': 1024}, 'nbins_cats': {'default': 1024, 'actual': 1024}, 'r2_stopping': {'default': 1.7976931348623157e+308, 'actual': 1.7976931348623157e+308}, 'stopping_rounds': {'default': 0, 'actual': 0}, 'stopping_metric': {'default': 'AUTO', 'actual': 'logloss'}, 'stopping_tolerance': {'default': 0.001, 'actual': 0.00397382714153187}, 'max_runtime_secs': {'default': 0.0, 'actual': 0.0}, 'seed': {'default': -1, 'actual': -5563448818000051813}, 'build_tree_one_node': {'default': False, 'actual': False}, 'learn_rate': {'default': 0.1, 'actual': 0.1}, 'learn_rate_annealing': {'default': 1.0, 'actual': 1.0}, 'distribution': {'default': 'AUTO', 'actual': 'bernoulli'}, 'quantile_alpha': {'default': 0.5, 'actual': 0.5}, 'tweedie_power': {'default': 1.5, 'actual': 1.5}, 'huber_alpha': {'default': 0.9, 'actual': 0.9}, 'checkpoint': {'default': None, 'actual': None}, 'sample_rate': {'default': 1.0, 'actual': 0.8}, 'sample_rate_per_class': {'default': None, 'actual': None}, 'col_sample_rate': {'default': 1.0, 'actual': 0.8}, 'col_sample_rate_change_per_level': {'default': 1.0, 'actual': 1.0}, 'col_sample_rate_per_tree': {'default': 1.0, 'actual': 0.8}, 'min_split_improvement': {'default': 1e-05, 'actual': 1e-05}, 'histogram_type': {'default': 'AUTO', 'actual': 'AUTO'}, 'max_abs_leafnode_pred': {'default': 1.7976931348623157e+308, 'actual': 1.7976931348623157e+308}, 'pred_noise_bandwidth': {'default': 0.0, 'actual': 0.0}, 'categorical_encoding': {'default': 'AUTO', 'actual': 'AUTO'}, 'calibrate_model': {'default': False, 'actual': False}, 'calibration_frame': {'default': None, 'actual': None}, 'custom_metric_func': {'default': None, 'actual': None}, 'export_checkpoints_dir': {'default': None, 'actual': None}, 'monotone_constraints': {'default': None, 'actual': None}, 'check_constant_response': {'default': True, 'actual': True}}, {'model_id': {'default': None, 'actual': {'__meta': {'schema_version': 3, 'schema_name': 'ModelKeyV3', 'schema_type': 'Key<Model>'}, 'name': 'StackedEnsemble_BestOfFamily_AutoML_20190422_164836', 'type': 'Key<Model>', 'URL': '/3/Models/StackedEnsemble_BestOfFamily_AutoML_20190422_164836'}}, 'training_frame': {'default': None, 'actual': {'__meta': {'schema_version': 3, 'schema_name': 'FrameKeyV3', 'schema_type': 'Key<Frame>'}, 'name': 'automl_training_train_500.hex', 'type': 'Key<Frame>', 'URL': '/3/Frames/automl_training_train_500.hex'}}, 'response_column': {'default': None, 'actual': {'__meta': {'schema_version': 3, 'schema_name': 'ColSpecifierV3', 'schema_type': 'VecSpecifier'}, 'column_name': 'Claim', 'is_member_of_frames': None}}, 'validation_frame': {'default': None, 'actual': None}, 'blending_frame': {'default': None, 'actual': None}, 'base_models': {'default': [], 'actual': [{'__meta': {'schema_version': 3, 'schema_name': 'ModelKeyV3', 'schema_type': 'Key<Model>'}, 'name': 'GBM_2_AutoML_20190422_164836', 'type': 'Key<Model>', 'URL': '/3/Models/GBM_2_AutoML_20190422_164836'}, {'__meta': {'schema_version': 3, 'schema_name': 'ModelKeyV3', 'schema_type': 'Key<Model>'}, 'name': 'DeepLearning_grid_1_AutoML_20190422_164836_model_3', 'type': 'Key<Model>', 'URL': '/3/Models/DeepLearning_grid_1_AutoML_20190422_164836_model_3'}, {'__meta': {'schema_version': 3, 'schema_name': 'ModelKeyV3', 'schema_type': 'Key<Model>'}, 'name': 'GLM_grid_1_AutoML_20190422_164836_model_1', 'type': 'Key<Model>', 'URL': '/3/Models/GLM_grid_1_AutoML_20190422_164836_model_1'}, {'__meta': {'schema_version': 3, 'schema_name': 'ModelKeyV3', 'schema_type': 'Key<Model>'}, 'name': 'XRT_1_AutoML_20190422_164836', 'type': 'Key<Model>', 'URL': '/3/Models/XRT_1_AutoML_20190422_164836'}, {'__meta': {'schema_version': 3, 'schema_name': 'ModelKeyV3', 'schema_type': 'Key<Model>'}, 'name': 'DRF_1_AutoML_20190422_164836', 'type': 'Key<Model>', 'URL': '/3/Models/DRF_1_AutoML_20190422_164836'}]}, 'metalearner_algorithm': {'default': 'AUTO', 'actual': 'AUTO'}, 'metalearner_nfolds': {'default': 0, 'actual': 5}, 'metalearner_fold_assignment': {'default': None, 'actual': None}, 'metalearner_fold_column': {'default': None, 'actual': None}, 'metalearner_params': {'default': '', 'actual': ''}, 'seed': {'default': -1, 'actual': 9038099963511687440}, 'keep_levelone_frame': {'default': False, 'actual': True}, 'export_checkpoints_dir': {'default': None, 'actual': None}}, {'model_id': {'default': None, 'actual': {'__meta': {'schema_version': 3, 'schema_name': 'ModelKeyV3', 'schema_type': 'Key<Model>'}, 'name': 'GBM_grid_1_AutoML_20190422_164836_model_1', 'type': 'Key<Model>', 'URL': '/3/Models/GBM_grid_1_AutoML_20190422_164836_model_1'}}, 'training_frame': {'default': None, 'actual': {'__meta': {'schema_version': 3, 'schema_name': 'FrameKeyV3', 'schema_type': 'Key<Frame>'}, 'name': 'automl_training_train_500.hex', 'type': 'Key<Frame>', 'URL': '/3/Frames/automl_training_train_500.hex'}}, 'validation_frame': {'default': None, 'actual': None}, 'nfolds': {'default': 0, 'actual': 5}, 'keep_cross_validation_models': {'default': True, 'actual': False}, 'keep_cross_validation_predictions': {'default': False, 'actual': True}, 'keep_cross_validation_fold_assignment': {'default': False, 'actual': False}, 'score_each_iteration': {'default': False, 'actual': False}, 'score_tree_interval': {'default': 0, 'actual': 5}, 'fold_assignment': {'default': 'AUTO', 'actual': 'Modulo'}, 'fold_column': {'default': None, 'actual': None}, 'response_column': {'default': None, 'actual': {'__meta': {'schema_version': 3, 'schema_name': 'ColSpecifierV3', 'schema_type': 'VecSpecifier'}, 'column_name': 'Claim', 'is_member_of_frames': None}}, 'ignored_columns': {'default': None, 'actual': []}, 'ignore_const_cols': {'default': True, 'actual': True}, 'offset_column': {'default': None, 'actual': None}, 'weights_column': {'default': None, 'actual': None}, 'balance_classes': {'default': False, 'actual': False}, 'class_sampling_factors': {'default': None, 'actual': None}, 'max_after_balance_size': {'default': 5.0, 'actual': 5.0}, 'max_confusion_matrix_size': {'default': 20, 'actual': 20}, 'max_hit_ratio_k': {'default': 0, 'actual': 0}, 'ntrees': {'default': 50, 'actual': 101}, 'max_depth': {'default': 5, 'actual': 13}, 'min_rows': {'default': 10.0, 'actual': 30.0}, 'nbins': {'default': 20, 'actual': 20}, 'nbins_top_level': {'default': 1024, 'actual': 1024}, 'nbins_cats': {'default': 1024, 'actual': 1024}, 'r2_stopping': {'default': 1.7976931348623157e+308, 'actual': 1.7976931348623157e+308}, 'stopping_rounds': {'default': 0, 'actual': 0}, 'stopping_metric': {'default': 'AUTO', 'actual': 'logloss'}, 'stopping_tolerance': {'default': 0.001, 'actual': 0.00397382714153187}, 'max_runtime_secs': {'default': 0.0, 'actual': 0.0}, 'seed': {'default': -1, 'actual': -1072689719121197479}, 'build_tree_one_node': {'default': False, 'actual': False}, 'learn_rate': {'default': 0.1, 'actual': 0.001}, 'learn_rate_annealing': {'default': 1.0, 'actual': 1.0}, 'distribution': {'default': 'AUTO', 'actual': 'bernoulli'}, 'quantile_alpha': {'default': 0.5, 'actual': 0.5}, 'tweedie_power': {'default': 1.5, 'actual': 1.5}, 'huber_alpha': {'default': 0.9, 'actual': 0.9}, 'checkpoint': {'default': None, 'actual': None}, 'sample_rate': {'default': 1.0, 'actual': 0.8}, 'sample_rate_per_class': {'default': None, 'actual': None}, 'col_sample_rate': {'default': 1.0, 'actual': 0.7}, 'col_sample_rate_change_per_level': {'default': 1.0, 'actual': 1.0}, 'col_sample_rate_per_tree': {'default': 1.0, 'actual': 1.0}, 'min_split_improvement': {'default': 1e-05, 'actual': 1e-05}, 'histogram_type': {'default': 'AUTO', 'actual': 'AUTO'}, 'max_abs_leafnode_pred': {'default': 1.7976931348623157e+308, 'actual': 1.7976931348623157e+308}, 'pred_noise_bandwidth': {'default': 0.0, 'actual': 0.0}, 'categorical_encoding': {'default': 'AUTO', 'actual': 'AUTO'}, 'calibrate_model': {'default': False, 'actual': False}, 'calibration_frame': {'default': None, 'actual': None}, 'custom_metric_func': {'default': None, 'actual': None}, 'export_checkpoints_dir': {'default': None, 'actual': None}, 'monotone_constraints': {'default': None, 'actual': None}, 'check_constant_response': {'default': True, 'actual': True}}, {'model_id': {'default': None, 'actual': {'__meta': {'schema_version': 3, 'schema_name': 'ModelKeyV3', 'schema_type': 'Key<Model>'}, 'name': 'GBM_4_AutoML_20190422_164836', 'type': 'Key<Model>', 'URL': '/3/Models/GBM_4_AutoML_20190422_164836'}}, 'training_frame': {'default': None, 'actual': {'__meta': {'schema_version': 3, 'schema_name': 'FrameKeyV3', 'schema_type': 'Key<Frame>'}, 'name': 'automl_training_train_500.hex', 'type': 'Key<Frame>', 'URL': '/3/Frames/automl_training_train_500.hex'}}, 'validation_frame': {'default': None, 'actual': None}, 'nfolds': {'default': 0, 'actual': 5}, 'keep_cross_validation_models': {'default': True, 'actual': False}, 'keep_cross_validation_predictions': {'default': False, 'actual': True}, 'keep_cross_validation_fold_assignment': {'default': False, 'actual': False}, 'score_each_iteration': {'default': False, 'actual': False}, 'score_tree_interval': {'default': 0, 'actual': 5}, 'fold_assignment': {'default': 'AUTO', 'actual': 'Modulo'}, 'fold_column': {'default': None, 'actual': None}, 'response_column': {'default': None, 'actual': {'__meta': {'schema_version': 3, 'schema_name': 'ColSpecifierV3', 'schema_type': 'VecSpecifier'}, 'column_name': 'Claim', 'is_member_of_frames': None}}, 'ignored_columns': {'default': None, 'actual': []}, 'ignore_const_cols': {'default': True, 'actual': True}, 'offset_column': {'default': None, 'actual': None}, 'weights_column': {'default': None, 'actual': None}, 'balance_classes': {'default': False, 'actual': False}, 'class_sampling_factors': {'default': None, 'actual': None}, 'max_after_balance_size': {'default': 5.0, 'actual': 5.0}, 'max_confusion_matrix_size': {'default': 20, 'actual': 20}, 'max_hit_ratio_k': {'default': 0, 'actual': 0}, 'ntrees': {'default': 50, 'actual': 33}, 'max_depth': {'default': 5, 'actual': 15}, 'min_rows': {'default': 10.0, 'actual': 100.0}, 'nbins': {'default': 20, 'actual': 20}, 'nbins_top_level': {'default': 1024, 'actual': 1024}, 'nbins_cats': {'default': 1024, 'actual': 1024}, 'r2_stopping': {'default': 1.7976931348623157e+308, 'actual': 1.7976931348623157e+308}, 'stopping_rounds': {'default': 0, 'actual': 0}, 'stopping_metric': {'default': 'AUTO', 'actual': 'logloss'}, 'stopping_tolerance': {'default': 0.001, 'actual': 0.00397382714153187}, 'max_runtime_secs': {'default': 0.0, 'actual': 0.0}, 'seed': {'default': -1, 'actual': -5563448818000051813}, 'build_tree_one_node': {'default': False, 'actual': False}, 'learn_rate': {'default': 0.1, 'actual': 0.1}, 'learn_rate_annealing': {'default': 1.0, 'actual': 1.0}, 'distribution': {'default': 'AUTO', 'actual': 'bernoulli'}, 'quantile_alpha': {'default': 0.5, 'actual': 0.5}, 'tweedie_power': {'default': 1.5, 'actual': 1.5}, 'huber_alpha': {'default': 0.9, 'actual': 0.9}, 'checkpoint': {'default': None, 'actual': None}, 'sample_rate': {'default': 1.0, 'actual': 0.8}, 'sample_rate_per_class': {'default': None, 'actual': None}, 'col_sample_rate': {'default': 1.0, 'actual': 0.8}, 'col_sample_rate_change_per_level': {'default': 1.0, 'actual': 1.0}, 'col_sample_rate_per_tree': {'default': 1.0, 'actual': 0.8}, 'min_split_improvement': {'default': 1e-05, 'actual': 1e-05}, 'histogram_type': {'default': 'AUTO', 'actual': 'AUTO'}, 'max_abs_leafnode_pred': {'default': 1.7976931348623157e+308, 'actual': 1.7976931348623157e+308}, 'pred_noise_bandwidth': {'default': 0.0, 'actual': 0.0}, 'categorical_encoding': {'default': 'AUTO', 'actual': 'AUTO'}, 'calibrate_model': {'default': False, 'actual': False}, 'calibration_frame': {'default': None, 'actual': None}, 'custom_metric_func': {'default': None, 'actual': None}, 'export_checkpoints_dir': {'default': None, 'actual': None}, 'monotone_constraints': {'default': None, 'actual': None}, 'check_constant_response': {'default': True, 'actual': True}}, {'model_id': {'default': None, 'actual': {'__meta': {'schema_version': 3, 'schema_name': 'ModelKeyV3', 'schema_type': 'Key<Model>'}, 'name': 'DeepLearning_grid_1_AutoML_20190422_164836_model_3', 'type': 'Key<Model>', 'URL': '/3/Models/DeepLearning_grid_1_AutoML_20190422_164836_model_3'}}, 'training_frame': {'default': None, 'actual': {'__meta': {'schema_version': 3, 'schema_name': 'FrameKeyV3', 'schema_type': 'Key<Frame>'}, 'name': 'automl_training_train_500.hex', 'type': 'Key<Frame>', 'URL': '/3/Frames/automl_training_train_500.hex'}}, 'validation_frame': {'default': None, 'actual': None}, 'nfolds': {'default': 0, 'actual': 5}, 'keep_cross_validation_models': {'default': True, 'actual': False}, 'keep_cross_validation_predictions': {'default': False, 'actual': True}, 'keep_cross_validation_fold_assignment': {'default': False, 'actual': False}, 'fold_assignment': {'default': 'AUTO', 'actual': 'Modulo'}, 'fold_column': {'default': None, 'actual': None}, 'response_column': {'default': None, 'actual': {'__meta': {'schema_version': 3, 'schema_name': 'ColSpecifierV3', 'schema_type': 'VecSpecifier'}, 'column_name': 'Claim', 'is_member_of_frames': None}}, 'ignored_columns': {'default': None, 'actual': []}, 'ignore_const_cols': {'default': True, 'actual': True}, 'score_each_iteration': {'default': False, 'actual': False}, 'weights_column': {'default': None, 'actual': None}, 'offset_column': {'default': None, 'actual': None}, 'balance_classes': {'default': False, 'actual': False}, 'class_sampling_factors': {'default': None, 'actual': None}, 'max_after_balance_size': {'default': 5.0, 'actual': 5.0}, 'max_confusion_matrix_size': {'default': 20, 'actual': 20}, 'max_hit_ratio_k': {'default': 0, 'actual': 0}, 'checkpoint': {'default': None, 'actual': None}, 'pretrained_autoencoder': {'default': None, 'actual': None}, 'overwrite_with_best_model': {'default': True, 'actual': False}, 'use_all_factor_levels': {'default': True, 'actual': True}, 'standardize': {'default': True, 'actual': True}, 'activation': {'default': 'Rectifier', 'actual': 'RectifierWithDropout'}, 'hidden': {'default': [200, 200], 'actual': [200, 200]}, 'epochs': {'default': 10.0, 'actual': 0.6645327736919191}, 'train_samples_per_iteration': {'default': -2, 'actual': -2}, 'target_ratio_comm_to_comp': {'default': 0.05, 'actual': 0.05}, 'seed': {'default': -1, 'actual': -8418683517436330788}, 'adaptive_rate': {'default': True, 'actual': True}, 'rho': {'default': 0.99, 'actual': 0.9}, 'epsilon': {'default': 1e-08, 'actual': 1e-08}, 'rate': {'default': 0.005, 'actual': 0.005}, 'rate_annealing': {'default': 1e-06, 'actual': 1e-06}, 'rate_decay': {'default': 1.0, 'actual': 1.0}, 'momentum_start': {'default': 0.0, 'actual': 0.0}, 'momentum_ramp': {'default': 1000000.0, 'actual': 1000000.0}, 'momentum_stable': {'default': 0.0, 'actual': 0.0}, 'nesterov_accelerated_gradient': {'default': True, 'actual': True}, 'input_dropout_ratio': {'default': 0.0, 'actual': 0.1}, 'hidden_dropout_ratios': {'default': None, 'actual': [0.3, 0.3]}, 'l1': {'default': 0.0, 'actual': 0.0}, 'l2': {'default': 0.0, 'actual': 0.0}, 'max_w2': {'default': 3.4028235e+38, 'actual': 3.4028235e+38}, 'initial_weight_distribution': {'default': 'UniformAdaptive', 'actual': 'UniformAdaptive'}, 'initial_weight_scale': {'default': 1.0, 'actual': 1.0}, 'initial_weights': {'default': None, 'actual': None}, 'initial_biases': {'default': None, 'actual': None}, 'loss': {'default': 'Automatic', 'actual': 'Automatic'}, 'distribution': {'default': 'AUTO', 'actual': 'AUTO'}, 'quantile_alpha': {'default': 0.5, 'actual': 0.5}, 'tweedie_power': {'default': 1.5, 'actual': 1.5}, 'huber_alpha': {'default': 0.9, 'actual': 0.9}, 'score_interval': {'default': 5.0, 'actual': 5.0}, 'score_training_samples': {'default': 10000, 'actual': 10000}, 'score_validation_samples': {'default': 0, 'actual': 0}, 'score_duty_cycle': {'default': 0.1, 'actual': 0.1}, 'classification_stop': {'default': 0.0, 'actual': 0.0}, 'regression_stop': {'default': 1e-06, 'actual': 1e-06}, 'stopping_rounds': {'default': 5, 'actual': 0}, 'stopping_metric': {'default': 'AUTO', 'actual': 'logloss'}, 'stopping_tolerance': {'default': 0.0, 'actual': 0.00397382714153187}, 'max_runtime_secs': {'default': 0.0, 'actual': 0.0}, 'score_validation_sampling': {'default': 'Uniform', 'actual': 'Uniform'}, 'diagnostics': {'default': True, 'actual': True}, 'fast_mode': {'default': True, 'actual': True}, 'force_load_balance': {'default': True, 'actual': True}, 'variable_importances': {'default': True, 'actual': True}, 'replicate_training_data': {'default': True, 'actual': True}, 'single_node_mode': {'default': False, 'actual': False}, 'shuffle_training_data': {'default': False, 'actual': False}, 'missing_values_handling': {'default': 'MeanImputation', 'actual': 'MeanImputation'}, 'quiet_mode': {'default': False, 'actual': False}, 'autoencoder': {'default': False, 'actual': False}, 'sparse': {'default': False, 'actual': False}, 'col_major': {'default': False, 'actual': False}, 'average_activation': {'default': 0.0, 'actual': 0.0}, 'sparsity_beta': {'default': 0.0, 'actual': 0.0}, 'max_categorical_features': {'default': 2147483647, 'actual': 2147483647}, 'reproducible': {'default': False, 'actual': False}, 'export_weights_and_biases': {'default': False, 'actual': False}, 'mini_batch_size': {'default': 1, 'actual': 1}, 'categorical_encoding': {'default': 'AUTO', 'actual': 'AUTO'}, 'elastic_averaging': {'default': False, 'actual': False}, 'elastic_averaging_moving_rate': {'default': 0.9, 'actual': 0.9}, 'elastic_averaging_regularization': {'default': 0.001, 'actual': 0.001}, 'export_checkpoints_dir': {'default': None, 'actual': None}}, {'model_id': {'default': None, 'actual': {'__meta': {'schema_version': 3, 'schema_name': 'ModelKeyV3', 'schema_type': 'Key<Model>'}, 'name': 'GLM_grid_1_AutoML_20190422_164836_model_1', 'type': 'Key<Model>', 'URL': '/3/Models/GLM_grid_1_AutoML_20190422_164836_model_1'}}, 'training_frame': {'default': None, 'actual': {'__meta': {'schema_version': 3, 'schema_name': 'FrameKeyV3', 'schema_type': 'Key<Frame>'}, 'name': 'automl_training_train_500.hex', 'type': 'Key<Frame>', 'URL': '/3/Frames/automl_training_train_500.hex'}}, 'validation_frame': {'default': None, 'actual': None}, 'nfolds': {'default': 0, 'actual': 5}, 'seed': {'default': -1, 'actual': -1518838480363465470}, 'keep_cross_validation_models': {'default': True, 'actual': False}, 'keep_cross_validation_predictions': {'default': False, 'actual': True}, 'keep_cross_validation_fold_assignment': {'default': False, 'actual': False}, 'fold_assignment': {'default': 'AUTO', 'actual': 'Modulo'}, 'fold_column': {'default': None, 'actual': None}, 'response_column': {'default': None, 'actual': {'__meta': {'schema_version': 3, 'schema_name': 'ColSpecifierV3', 'schema_type': 'VecSpecifier'}, 'column_name': 'Claim', 'is_member_of_frames': None}}, 'ignored_columns': {'default': None, 'actual': []}, 'ignore_const_cols': {'default': True, 'actual': True}, 'score_each_iteration': {'default': False, 'actual': False}, 'offset_column': {'default': None, 'actual': None}, 'weights_column': {'default': None, 'actual': None}, 'family': {'default': 'gaussian', 'actual': 'binomial'}, 'tweedie_variance_power': {'default': 0.0, 'actual': 0.0}, 'tweedie_link_power': {'default': 1.0, 'actual': 1.0}, 'theta': {'default': 1e-10, 'actual': 1e-10}, 'solver': {'default': 'AUTO', 'actual': 'COORDINATE_DESCENT'}, 'alpha': {'default': None, 'actual': [0.0, 0.2, 0.4, 0.6, 0.8, 1.0]}, 'lambda': {'default': None, 'actual': [1.6085069897114428, 0.9989100917618017, 0.6203400904105332, 0.3852417058794841, 0.2392416260743656, 0.148573102997867, 0.09226641407107536, 0.05729900630571976, 0.03558365366940339, 0.022098051783101334, 0.01372326454010296, 0.008522379777463647, 0.005292542227038961, 0.0032867583886676903, 0.0020411326432668454, 0.001267577952116616, 0.0007871873834326291, 0.0004888567015549515, 0.0003035882938228517, 0.00018853347382394422, 0.00011708248135833861, 7.271020452223121e-05, 4.515426885670601e-05, 2.8041565958740943e-05]}, 'lambda_search': {'default': False, 'actual': True}, 'early_stopping': {'default': True, 'actual': True}, 'nlambdas': {'default': -1, 'actual': 30}, 'standardize': {'default': True, 'actual': True}, 'missing_values_handling': {'default': 'MeanImputation', 'actual': 'MeanImputation'}, 'compute_p_values': {'default': False, 'actual': False}, 'remove_collinear_columns': {'default': False, 'actual': False}, 'intercept': {'default': True, 'actual': True}, 'non_negative': {'default': False, 'actual': False}, 'max_iterations': {'default': -1, 'actual': 300}, 'objective_epsilon': {'default': -1.0, 'actual': 0.0001}, 'beta_epsilon': {'default': 0.0001, 'actual': 0.0001}, 'gradient_epsilon': {'default': -1.0, 'actual': 1.0000000000000002e-06}, 'link': {'default': 'family_default', 'actual': 'logit'}, 'prior': {'default': -1.0, 'actual': -1.0}, 'lambda_min_ratio': {'default': -1.0, 'actual': 1.0000000000000002e-06}, 'beta_constraints': {'default': None, 'actual': None}, 'max_active_predictors': {'default': -1, 'actual': 5000}, 'interactions': {'default': None, 'actual': None}, 'interaction_pairs': {'default': None, 'actual': None}, 'obj_reg': {'default': -1.0, 'actual': 1.5791302150775352e-05}, 'export_checkpoints_dir': {'default': None, 'actual': None}, 'balance_classes': {'default': False, 'actual': False}, 'class_sampling_factors': {'default': None, 'actual': None}, 'max_after_balance_size': {'default': 5.0, 'actual': 5.0}, 'max_confusion_matrix_size': {'default': 20, 'actual': 20}, 'max_hit_ratio_k': {'default': 0, 'actual': 0}, 'max_runtime_secs': {'default': 0.0, 'actual': 0.0}, 'custom_metric_func': {'default': None, 'actual': None}}, {'model_id': {'default': None, 'actual': {'__meta': {'schema_version': 3, 'schema_name': 'ModelKeyV3', 'schema_type': 'Key<Model>'}, 'name': 'GBM_grid_1_AutoML_20190422_164836_model_5', 'type': 'Key<Model>', 'URL': '/3/Models/GBM_grid_1_AutoML_20190422_164836_model_5'}}, 'training_frame': {'default': None, 'actual': {'__meta': {'schema_version': 3, 'schema_name': 'FrameKeyV3', 'schema_type': 'Key<Frame>'}, 'name': 'automl_training_train_500.hex', 'type': 'Key<Frame>', 'URL': '/3/Frames/automl_training_train_500.hex'}}, 'validation_frame': {'default': None, 'actual': None}, 'nfolds': {'default': 0, 'actual': 5}, 'keep_cross_validation_models': {'default': True, 'actual': False}, 'keep_cross_validation_predictions': {'default': False, 'actual': True}, 'keep_cross_validation_fold_assignment': {'default': False, 'actual': False}, 'score_each_iteration': {'default': False, 'actual': False}, 'score_tree_interval': {'default': 0, 'actual': 5}, 'fold_assignment': {'default': 'AUTO', 'actual': 'Modulo'}, 'fold_column': {'default': None, 'actual': None}, 'response_column': {'default': None, 'actual': {'__meta': {'schema_version': 3, 'schema_name': 'ColSpecifierV3', 'schema_type': 'VecSpecifier'}, 'column_name': 'Claim', 'is_member_of_frames': None}}, 'ignored_columns': {'default': None, 'actual': []}, 'ignore_const_cols': {'default': True, 'actual': True}, 'offset_column': {'default': None, 'actual': None}, 'weights_column': {'default': None, 'actual': None}, 'balance_classes': {'default': False, 'actual': False}, 'class_sampling_factors': {'default': None, 'actual': None}, 'max_after_balance_size': {'default': 5.0, 'actual': 5.0}, 'max_confusion_matrix_size': {'default': 20, 'actual': 20}, 'max_hit_ratio_k': {'default': 0, 'actual': 0}, 'ntrees': {'default': 50, 'actual': 1}, 'max_depth': {'default': 5, 'actual': 9}, 'min_rows': {'default': 10.0, 'actual': 10.0}, 'nbins': {'default': 20, 'actual': 20}, 'nbins_top_level': {'default': 1024, 'actual': 1024}, 'nbins_cats': {'default': 1024, 'actual': 1024}, 'r2_stopping': {'default': 1.7976931348623157e+308, 'actual': 1.7976931348623157e+308}, 'stopping_rounds': {'default': 0, 'actual': 0}, 'stopping_metric': {'default': 'AUTO', 'actual': 'logloss'}, 'stopping_tolerance': {'default': 0.001, 'actual': 0.00397382714153187}, 'max_runtime_secs': {'default': 0.0, 'actual': 0.0}, 'seed': {'default': -1, 'actual': -8195374438659964884}, 'build_tree_one_node': {'default': False, 'actual': False}, 'learn_rate': {'default': 0.1, 'actual': 0.5}, 'learn_rate_annealing': {'default': 1.0, 'actual': 1.0}, 'distribution': {'default': 'AUTO', 'actual': 'bernoulli'}, 'quantile_alpha': {'default': 0.5, 'actual': 0.5}, 'tweedie_power': {'default': 1.5, 'actual': 1.5}, 'huber_alpha': {'default': 0.9, 'actual': 0.9}, 'checkpoint': {'default': None, 'actual': None}, 'sample_rate': {'default': 1.0, 'actual': 1.0}, 'sample_rate_per_class': {'default': None, 'actual': None}, 'col_sample_rate': {'default': 1.0, 'actual': 0.4}, 'col_sample_rate_change_per_level': {'default': 1.0, 'actual': 1.0}, 'col_sample_rate_per_tree': {'default': 1.0, 'actual': 0.7}, 'min_split_improvement': {'default': 1e-05, 'actual': 0.0001}, 'histogram_type': {'default': 'AUTO', 'actual': 'AUTO'}, 'max_abs_leafnode_pred': {'default': 1.7976931348623157e+308, 'actual': 1.7976931348623157e+308}, 'pred_noise_bandwidth': {'default': 0.0, 'actual': 0.0}, 'categorical_encoding': {'default': 'AUTO', 'actual': 'AUTO'}, 'calibrate_model': {'default': False, 'actual': False}, 'calibration_frame': {'default': None, 'actual': None}, 'custom_metric_func': {'default': None, 'actual': None}, 'export_checkpoints_dir': {'default': None, 'actual': None}, 'monotone_constraints': {'default': None, 'actual': None}, 'check_constant_response': {'default': True, 'actual': True}}, {'model_id': {'default': None, 'actual': {'__meta': {'schema_version': 3, 'schema_name': 'ModelKeyV3', 'schema_type': 'Key<Model>'}, 'name': 'XRT_1_AutoML_20190422_164836', 'type': 'Key<Model>', 'URL': '/3/Models/XRT_1_AutoML_20190422_164836'}}, 'training_frame': {'default': None, 'actual': {'__meta': {'schema_version': 3, 'schema_name': 'FrameKeyV3', 'schema_type': 'Key<Frame>'}, 'name': 'automl_training_train_500.hex', 'type': 'Key<Frame>', 'URL': '/3/Frames/automl_training_train_500.hex'}}, 'validation_frame': {'default': None, 'actual': None}, 'nfolds': {'default': 0, 'actual': 5}, 'keep_cross_validation_models': {'default': True, 'actual': False}, 'keep_cross_validation_predictions': {'default': False, 'actual': True}, 'keep_cross_validation_fold_assignment': {'default': False, 'actual': False}, 'score_each_iteration': {'default': False, 'actual': False}, 'score_tree_interval': {'default': 0, 'actual': 0}, 'fold_assignment': {'default': 'AUTO', 'actual': 'Modulo'}, 'fold_column': {'default': None, 'actual': None}, 'response_column': {'default': None, 'actual': {'__meta': {'schema_version': 3, 'schema_name': 'ColSpecifierV3', 'schema_type': 'VecSpecifier'}, 'column_name': 'Claim', 'is_member_of_frames': None}}, 'ignored_columns': {'default': None, 'actual': []}, 'ignore_const_cols': {'default': True, 'actual': True}, 'offset_column': {'default': None, 'actual': None}, 'weights_column': {'default': None, 'actual': None}, 'balance_classes': {'default': False, 'actual': False}, 'class_sampling_factors': {'default': None, 'actual': None}, 'max_after_balance_size': {'default': 5.0, 'actual': 5.0}, 'max_confusion_matrix_size': {'default': 20, 'actual': 20}, 'max_hit_ratio_k': {'default': 0, 'actual': 0}, 'ntrees': {'default': 50, 'actual': 50}, 'max_depth': {'default': 20, 'actual': 20}, 'min_rows': {'default': 1.0, 'actual': 1.0}, 'nbins': {'default': 20, 'actual': 20}, 'nbins_top_level': {'default': 1024, 'actual': 1024}, 'nbins_cats': {'default': 1024, 'actual': 1024}, 'r2_stopping': {'default': 1.7976931348623157e+308, 'actual': 1.7976931348623157e+308}, 'stopping_rounds': {'default': 0, 'actual': 0}, 'stopping_metric': {'default': 'AUTO', 'actual': 'logloss'}, 'stopping_tolerance': {'default': 0.001, 'actual': 0.00397382714153187}, 'max_runtime_secs': {'default': 0.0, 'actual': 0.0}, 'seed': {'default': -1, 'actual': -3783487300184742928}, 'build_tree_one_node': {'default': False, 'actual': False}, 'mtries': {'default': -1, 'actual': -1}, 'sample_rate': {'default': 0.6320000290870667, 'actual': 0.6320000290870667}, 'sample_rate_per_class': {'default': None, 'actual': None}, 'binomial_double_trees': {'default': False, 'actual': False}, 'checkpoint': {'default': None, 'actual': None}, 'col_sample_rate_change_per_level': {'default': 1.0, 'actual': 1.0}, 'col_sample_rate_per_tree': {'default': 1.0, 'actual': 1.0}, 'min_split_improvement': {'default': 1e-05, 'actual': 1e-05}, 'histogram_type': {'default': 'AUTO', 'actual': 'Random'}, 'categorical_encoding': {'default': 'AUTO', 'actual': 'AUTO'}, 'calibrate_model': {'default': False, 'actual': False}, 'calibration_frame': {'default': None, 'actual': None}, 'distribution': {'default': 'AUTO', 'actual': 'multinomial'}, 'custom_metric_func': {'default': None, 'actual': None}, 'export_checkpoints_dir': {'default': None, 'actual': None}, 'check_constant_response': {'default': True, 'actual': True}}, {'model_id': {'default': None, 'actual': {'__meta': {'schema_version': 3, 'schema_name': 'ModelKeyV3', 'schema_type': 'Key<Model>'}, 'name': 'DRF_1_AutoML_20190422_164836', 'type': 'Key<Model>', 'URL': '/3/Models/DRF_1_AutoML_20190422_164836'}}, 'training_frame': {'default': None, 'actual': {'__meta': {'schema_version': 3, 'schema_name': 'FrameKeyV3', 'schema_type': 'Key<Frame>'}, 'name': 'automl_training_train_500.hex', 'type': 'Key<Frame>', 'URL': '/3/Frames/automl_training_train_500.hex'}}, 'validation_frame': {'default': None, 'actual': None}, 'nfolds': {'default': 0, 'actual': 5}, 'keep_cross_validation_models': {'default': True, 'actual': False}, 'keep_cross_validation_predictions': {'default': False, 'actual': True}, 'keep_cross_validation_fold_assignment': {'default': False, 'actual': False}, 'score_each_iteration': {'default': False, 'actual': False}, 'score_tree_interval': {'default': 0, 'actual': 0}, 'fold_assignment': {'default': 'AUTO', 'actual': 'Modulo'}, 'fold_column': {'default': None, 'actual': None}, 'response_column': {'default': None, 'actual': {'__meta': {'schema_version': 3, 'schema_name': 'ColSpecifierV3', 'schema_type': 'VecSpecifier'}, 'column_name': 'Claim', 'is_member_of_frames': None}}, 'ignored_columns': {'default': None, 'actual': []}, 'ignore_const_cols': {'default': True, 'actual': True}, 'offset_column': {'default': None, 'actual': None}, 'weights_column': {'default': None, 'actual': None}, 'balance_classes': {'default': False, 'actual': False}, 'class_sampling_factors': {'default': None, 'actual': None}, 'max_after_balance_size': {'default': 5.0, 'actual': 5.0}, 'max_confusion_matrix_size': {'default': 20, 'actual': 20}, 'max_hit_ratio_k': {'default': 0, 'actual': 0}, 'ntrees': {'default': 50, 'actual': 50}, 'max_depth': {'default': 20, 'actual': 20}, 'min_rows': {'default': 1.0, 'actual': 1.0}, 'nbins': {'default': 20, 'actual': 20}, 'nbins_top_level': {'default': 1024, 'actual': 1024}, 'nbins_cats': {'default': 1024, 'actual': 1024}, 'r2_stopping': {'default': 1.7976931348623157e+308, 'actual': 1.7976931348623157e+308}, 'stopping_rounds': {'default': 0, 'actual': 0}, 'stopping_metric': {'default': 'AUTO', 'actual': 'logloss'}, 'stopping_tolerance': {'default': 0.001, 'actual': 0.00397382714153187}, 'max_runtime_secs': {'default': 0.0, 'actual': 0.0}, 'seed': {'default': -1, 'actual': 6482416888144015750}, 'build_tree_one_node': {'default': False, 'actual': False}, 'mtries': {'default': -1, 'actual': -1}, 'sample_rate': {'default': 0.6320000290870667, 'actual': 0.6320000290870667}, 'sample_rate_per_class': {'default': None, 'actual': None}, 'binomial_double_trees': {'default': False, 'actual': False}, 'checkpoint': {'default': None, 'actual': None}, 'col_sample_rate_change_per_level': {'default': 1.0, 'actual': 1.0}, 'col_sample_rate_per_tree': {'default': 1.0, 'actual': 1.0}, 'min_split_improvement': {'default': 1e-05, 'actual': 1e-05}, 'histogram_type': {'default': 'AUTO', 'actual': 'AUTO'}, 'categorical_encoding': {'default': 'AUTO', 'actual': 'AUTO'}, 'calibrate_model': {'default': False, 'actual': False}, 'calibration_frame': {'default': None, 'actual': None}, 'distribution': {'default': 'AUTO', 'actual': 'multinomial'}, 'custom_metric_func': {'default': None, 'actual': None}, 'export_checkpoints_dir': {'default': None, 'actual': None}, 'check_constant_response': {'default': True, 'actual': True}}, {'model_id': {'default': None, 'actual': {'__meta': {'schema_version': 3, 'schema_name': 'ModelKeyV3', 'schema_type': 'Key<Model>'}, 'name': 'DeepLearning_grid_1_AutoML_20190422_164836_model_4', 'type': 'Key<Model>', 'URL': '/3/Models/DeepLearning_grid_1_AutoML_20190422_164836_model_4'}}, 'training_frame': {'default': None, 'actual': {'__meta': {'schema_version': 3, 'schema_name': 'FrameKeyV3', 'schema_type': 'Key<Frame>'}, 'name': 'automl_training_train_500.hex', 'type': 'Key<Frame>', 'URL': '/3/Frames/automl_training_train_500.hex'}}, 'validation_frame': {'default': None, 'actual': None}, 'nfolds': {'default': 0, 'actual': 5}, 'keep_cross_validation_models': {'default': True, 'actual': False}, 'keep_cross_validation_predictions': {'default': False, 'actual': True}, 'keep_cross_validation_fold_assignment': {'default': False, 'actual': False}, 'fold_assignment': {'default': 'AUTO', 'actual': 'Modulo'}, 'fold_column': {'default': None, 'actual': None}, 'response_column': {'default': None, 'actual': {'__meta': {'schema_version': 3, 'schema_name': 'ColSpecifierV3', 'schema_type': 'VecSpecifier'}, 'column_name': 'Claim', 'is_member_of_frames': None}}, 'ignored_columns': {'default': None, 'actual': []}, 'ignore_const_cols': {'default': True, 'actual': True}, 'score_each_iteration': {'default': False, 'actual': False}, 'weights_column': {'default': None, 'actual': None}, 'offset_column': {'default': None, 'actual': None}, 'balance_classes': {'default': False, 'actual': False}, 'class_sampling_factors': {'default': None, 'actual': None}, 'max_after_balance_size': {'default': 5.0, 'actual': 5.0}, 'max_confusion_matrix_size': {'default': 20, 'actual': 20}, 'max_hit_ratio_k': {'default': 0, 'actual': 0}, 'checkpoint': {'default': None, 'actual': None}, 'pretrained_autoencoder': {'default': None, 'actual': None}, 'overwrite_with_best_model': {'default': True, 'actual': False}, 'use_all_factor_levels': {'default': True, 'actual': True}, 'standardize': {'default': True, 'actual': True}, 'activation': {'default': 'Rectifier', 'actual': 'RectifierWithDropout'}, 'hidden': {'default': [200, 200], 'actual': [50, 50, 50]}, 'epochs': {'default': 10.0, 'actual': 2.2097257309298826}, 'train_samples_per_iteration': {'default': -2, 'actual': -2}, 'target_ratio_comm_to_comp': {'default': 0.05, 'actual': 0.05}, 'seed': {'default': -1, 'actual': 2148237977877491171}, 'adaptive_rate': {'default': True, 'actual': True}, 'rho': {'default': 0.99, 'actual': 0.9}, 'epsilon': {'default': 1e-08, 'actual': 1e-07}, 'rate': {'default': 0.005, 'actual': 0.005}, 'rate_annealing': {'default': 1e-06, 'actual': 1e-06}, 'rate_decay': {'default': 1.0, 'actual': 1.0}, 'momentum_start': {'default': 0.0, 'actual': 0.0}, 'momentum_ramp': {'default': 1000000.0, 'actual': 1000000.0}, 'momentum_stable': {'default': 0.0, 'actual': 0.0}, 'nesterov_accelerated_gradient': {'default': True, 'actual': True}, 'input_dropout_ratio': {'default': 0.0, 'actual': 0.05}, 'hidden_dropout_ratios': {'default': None, 'actual': [0.4, 0.4, 0.4]}, 'l1': {'default': 0.0, 'actual': 0.0}, 'l2': {'default': 0.0, 'actual': 0.0}, 'max_w2': {'default': 3.4028235e+38, 'actual': 3.4028235e+38}, 'initial_weight_distribution': {'default': 'UniformAdaptive', 'actual': 'UniformAdaptive'}, 'initial_weight_scale': {'default': 1.0, 'actual': 1.0}, 'initial_weights': {'default': None, 'actual': None}, 'initial_biases': {'default': None, 'actual': None}, 'loss': {'default': 'Automatic', 'actual': 'Automatic'}, 'distribution': {'default': 'AUTO', 'actual': 'AUTO'}, 'quantile_alpha': {'default': 0.5, 'actual': 0.5}, 'tweedie_power': {'default': 1.5, 'actual': 1.5}, 'huber_alpha': {'default': 0.9, 'actual': 0.9}, 'score_interval': {'default': 5.0, 'actual': 5.0}, 'score_training_samples': {'default': 10000, 'actual': 10000}, 'score_validation_samples': {'default': 0, 'actual': 0}, 'score_duty_cycle': {'default': 0.1, 'actual': 0.1}, 'classification_stop': {'default': 0.0, 'actual': 0.0}, 'regression_stop': {'default': 1e-06, 'actual': 1e-06}, 'stopping_rounds': {'default': 5, 'actual': 0}, 'stopping_metric': {'default': 'AUTO', 'actual': 'logloss'}, 'stopping_tolerance': {'default': 0.0, 'actual': 0.00397382714153187}, 'max_runtime_secs': {'default': 0.0, 'actual': 0.0}, 'score_validation_sampling': {'default': 'Uniform', 'actual': 'Uniform'}, 'diagnostics': {'default': True, 'actual': True}, 'fast_mode': {'default': True, 'actual': True}, 'force_load_balance': {'default': True, 'actual': True}, 'variable_importances': {'default': True, 'actual': True}, 'replicate_training_data': {'default': True, 'actual': True}, 'single_node_mode': {'default': False, 'actual': False}, 'shuffle_training_data': {'default': False, 'actual': False}, 'missing_values_handling': {'default': 'MeanImputation', 'actual': 'MeanImputation'}, 'quiet_mode': {'default': False, 'actual': False}, 'autoencoder': {'default': False, 'actual': False}, 'sparse': {'default': False, 'actual': False}, 'col_major': {'default': False, 'actual': False}, 'average_activation': {'default': 0.0, 'actual': 0.0}, 'sparsity_beta': {'default': 0.0, 'actual': 0.0}, 'max_categorical_features': {'default': 2147483647, 'actual': 2147483647}, 'reproducible': {'default': False, 'actual': False}, 'export_weights_and_biases': {'default': False, 'actual': False}, 'mini_batch_size': {'default': 1, 'actual': 1}, 'categorical_encoding': {'default': 'AUTO', 'actual': 'AUTO'}, 'elastic_averaging': {'default': False, 'actual': False}, 'elastic_averaging_moving_rate': {'default': 0.9, 'actual': 0.9}, 'elastic_averaging_regularization': {'default': 0.001, 'actual': 0.001}, 'export_checkpoints_dir': {'default': None, 'actual': None}}, {'model_id': {'default': None, 'actual': {'__meta': {'schema_version': 3, 'schema_name': 'ModelKeyV3', 'schema_type': 'Key<Model>'}, 'name': 'DeepLearning_1_AutoML_20190422_164836', 'type': 'Key<Model>', 'URL': '/3/Models/DeepLearning_1_AutoML_20190422_164836'}}, 'training_frame': {'default': None, 'actual': {'__meta': {'schema_version': 3, 'schema_name': 'FrameKeyV3', 'schema_type': 'Key<Frame>'}, 'name': 'automl_training_train_500.hex', 'type': 'Key<Frame>', 'URL': '/3/Frames/automl_training_train_500.hex'}}, 'validation_frame': {'default': None, 'actual': None}, 'nfolds': {'default': 0, 'actual': 5}, 'keep_cross_validation_models': {'default': True, 'actual': False}, 'keep_cross_validation_predictions': {'default': False, 'actual': True}, 'keep_cross_validation_fold_assignment': {'default': False, 'actual': False}, 'fold_assignment': {'default': 'AUTO', 'actual': 'Modulo'}, 'fold_column': {'default': None, 'actual': None}, 'response_column': {'default': None, 'actual': {'__meta': {'schema_version': 3, 'schema_name': 'ColSpecifierV3', 'schema_type': 'VecSpecifier'}, 'column_name': 'Claim', 'is_member_of_frames': None}}, 'ignored_columns': {'default': None, 'actual': []}, 'ignore_const_cols': {'default': True, 'actual': True}, 'score_each_iteration': {'default': False, 'actual': False}, 'weights_column': {'default': None, 'actual': None}, 'offset_column': {'default': None, 'actual': None}, 'balance_classes': {'default': False, 'actual': False}, 'class_sampling_factors': {'default': None, 'actual': None}, 'max_after_balance_size': {'default': 5.0, 'actual': 5.0}, 'max_confusion_matrix_size': {'default': 20, 'actual': 20}, 'max_hit_ratio_k': {'default': 0, 'actual': 0}, 'checkpoint': {'default': None, 'actual': None}, 'pretrained_autoencoder': {'default': None, 'actual': None}, 'overwrite_with_best_model': {'default': True, 'actual': False}, 'use_all_factor_levels': {'default': True, 'actual': True}, 'standardize': {'default': True, 'actual': True}, 'activation': {'default': 'Rectifier', 'actual': 'Rectifier'}, 'hidden': {'default': [200, 200], 'actual': [10, 10, 10]}, 'epochs': {'default': 10.0, 'actual': 10.398090840275918}, 'train_samples_per_iteration': {'default': -2, 'actual': -2}, 'target_ratio_comm_to_comp': {'default': 0.05, 'actual': 0.05}, 'seed': {'default': -1, 'actual': 433657709306250975}, 'adaptive_rate': {'default': True, 'actual': True}, 'rho': {'default': 0.99, 'actual': 0.99}, 'epsilon': {'default': 1e-08, 'actual': 1e-08}, 'rate': {'default': 0.005, 'actual': 0.005}, 'rate_annealing': {'default': 1e-06, 'actual': 1e-06}, 'rate_decay': {'default': 1.0, 'actual': 1.0}, 'momentum_start': {'default': 0.0, 'actual': 0.0}, 'momentum_ramp': {'default': 1000000.0, 'actual': 1000000.0}, 'momentum_stable': {'default': 0.0, 'actual': 0.0}, 'nesterov_accelerated_gradient': {'default': True, 'actual': True}, 'input_dropout_ratio': {'default': 0.0, 'actual': 0.0}, 'hidden_dropout_ratios': {'default': None, 'actual': None}, 'l1': {'default': 0.0, 'actual': 0.0}, 'l2': {'default': 0.0, 'actual': 0.0}, 'max_w2': {'default': 3.4028235e+38, 'actual': 3.4028235e+38}, 'initial_weight_distribution': {'default': 'UniformAdaptive', 'actual': 'UniformAdaptive'}, 'initial_weight_scale': {'default': 1.0, 'actual': 1.0}, 'initial_weights': {'default': None, 'actual': None}, 'initial_biases': {'default': None, 'actual': None}, 'loss': {'default': 'Automatic', 'actual': 'Automatic'}, 'distribution': {'default': 'AUTO', 'actual': 'AUTO'}, 'quantile_alpha': {'default': 0.5, 'actual': 0.5}, 'tweedie_power': {'default': 1.5, 'actual': 1.5}, 'huber_alpha': {'default': 0.9, 'actual': 0.9}, 'score_interval': {'default': 5.0, 'actual': 5.0}, 'score_training_samples': {'default': 10000, 'actual': 10000}, 'score_validation_samples': {'default': 0, 'actual': 0}, 'score_duty_cycle': {'default': 0.1, 'actual': 0.1}, 'classification_stop': {'default': 0.0, 'actual': 0.0}, 'regression_stop': {'default': 1e-06, 'actual': 1e-06}, 'stopping_rounds': {'default': 5, 'actual': 0}, 'stopping_metric': {'default': 'AUTO', 'actual': 'logloss'}, 'stopping_tolerance': {'default': 0.0, 'actual': 0.00397382714153187}, 'max_runtime_secs': {'default': 0.0, 'actual': 0.0}, 'score_validation_sampling': {'default': 'Uniform', 'actual': 'Uniform'}, 'diagnostics': {'default': True, 'actual': True}, 'fast_mode': {'default': True, 'actual': True}, 'force_load_balance': {'default': True, 'actual': True}, 'variable_importances': {'default': True, 'actual': True}, 'replicate_training_data': {'default': True, 'actual': True}, 'single_node_mode': {'default': False, 'actual': False}, 'shuffle_training_data': {'default': False, 'actual': False}, 'missing_values_handling': {'default': 'MeanImputation', 'actual': 'MeanImputation'}, 'quiet_mode': {'default': False, 'actual': False}, 'autoencoder': {'default': False, 'actual': False}, 'sparse': {'default': False, 'actual': False}, 'col_major': {'default': False, 'actual': False}, 'average_activation': {'default': 0.0, 'actual': 0.0}, 'sparsity_beta': {'default': 0.0, 'actual': 0.0}, 'max_categorical_features': {'default': 2147483647, 'actual': 2147483647}, 'reproducible': {'default': False, 'actual': False}, 'export_weights_and_biases': {'default': False, 'actual': False}, 'mini_batch_size': {'default': 1, 'actual': 1}, 'categorical_encoding': {'default': 'AUTO', 'actual': 'AUTO'}, 'elastic_averaging': {'default': False, 'actual': False}, 'elastic_averaging_moving_rate': {'default': 0.9, 'actual': 0.9}, 'elastic_averaging_regularization': {'default': 0.001, 'actual': 0.001}, 'export_checkpoints_dir': {'default': None, 'actual': None}}, {'model_id': {'default': None, 'actual': {'__meta': {'schema_version': 3, 'schema_name': 'ModelKeyV3', 'schema_type': 'Key<Model>'}, 'name': 'DeepLearning_grid_1_AutoML_20190422_164836_model_1', 'type': 'Key<Model>', 'URL': '/3/Models/DeepLearning_grid_1_AutoML_20190422_164836_model_1'}}, 'training_frame': {'default': None, 'actual': {'__meta': {'schema_version': 3, 'schema_name': 'FrameKeyV3', 'schema_type': 'Key<Frame>'}, 'name': 'automl_training_train_500.hex', 'type': 'Key<Frame>', 'URL': '/3/Frames/automl_training_train_500.hex'}}, 'validation_frame': {'default': None, 'actual': None}, 'nfolds': {'default': 0, 'actual': 5}, 'keep_cross_validation_models': {'default': True, 'actual': False}, 'keep_cross_validation_predictions': {'default': False, 'actual': True}, 'keep_cross_validation_fold_assignment': {'default': False, 'actual': False}, 'fold_assignment': {'default': 'AUTO', 'actual': 'Modulo'}, 'fold_column': {'default': None, 'actual': None}, 'response_column': {'default': None, 'actual': {'__meta': {'schema_version': 3, 'schema_name': 'ColSpecifierV3', 'schema_type': 'VecSpecifier'}, 'column_name': 'Claim', 'is_member_of_frames': None}}, 'ignored_columns': {'default': None, 'actual': []}, 'ignore_const_cols': {'default': True, 'actual': True}, 'score_each_iteration': {'default': False, 'actual': False}, 'weights_column': {'default': None, 'actual': None}, 'offset_column': {'default': None, 'actual': None}, 'balance_classes': {'default': False, 'actual': False}, 'class_sampling_factors': {'default': None, 'actual': None}, 'max_after_balance_size': {'default': 5.0, 'actual': 5.0}, 'max_confusion_matrix_size': {'default': 20, 'actual': 20}, 'max_hit_ratio_k': {'default': 0, 'actual': 0}, 'checkpoint': {'default': None, 'actual': None}, 'pretrained_autoencoder': {'default': None, 'actual': None}, 'overwrite_with_best_model': {'default': True, 'actual': False}, 'use_all_factor_levels': {'default': True, 'actual': True}, 'standardize': {'default': True, 'actual': True}, 'activation': {'default': 'Rectifier', 'actual': 'RectifierWithDropout'}, 'hidden': {'default': [200, 200], 'actual': [200]}, 'epochs': {'default': 10.0, 'actual': 2.8427057422080257}, 'train_samples_per_iteration': {'default': -2, 'actual': -2}, 'target_ratio_comm_to_comp': {'default': 0.05, 'actual': 0.05}, 'seed': {'default': -1, 'actual': 1654804521608308089}, 'adaptive_rate': {'default': True, 'actual': True}, 'rho': {'default': 0.99, 'actual': 0.99}, 'epsilon': {'default': 1e-08, 'actual': 1e-09}, 'rate': {'default': 0.005, 'actual': 0.005}, 'rate_annealing': {'default': 1e-06, 'actual': 1e-06}, 'rate_decay': {'default': 1.0, 'actual': 1.0}, 'momentum_start': {'default': 0.0, 'actual': 0.0}, 'momentum_ramp': {'default': 1000000.0, 'actual': 1000000.0}, 'momentum_stable': {'default': 0.0, 'actual': 0.0}, 'nesterov_accelerated_gradient': {'default': True, 'actual': True}, 'input_dropout_ratio': {'default': 0.0, 'actual': 0.2}, 'hidden_dropout_ratios': {'default': None, 'actual': [0.1]}, 'l1': {'default': 0.0, 'actual': 0.0}, 'l2': {'default': 0.0, 'actual': 0.0}, 'max_w2': {'default': 3.4028235e+38, 'actual': 3.4028235e+38}, 'initial_weight_distribution': {'default': 'UniformAdaptive', 'actual': 'UniformAdaptive'}, 'initial_weight_scale': {'default': 1.0, 'actual': 1.0}, 'initial_weights': {'default': None, 'actual': None}, 'initial_biases': {'default': None, 'actual': None}, 'loss': {'default': 'Automatic', 'actual': 'Automatic'}, 'distribution': {'default': 'AUTO', 'actual': 'AUTO'}, 'quantile_alpha': {'default': 0.5, 'actual': 0.5}, 'tweedie_power': {'default': 1.5, 'actual': 1.5}, 'huber_alpha': {'default': 0.9, 'actual': 0.9}, 'score_interval': {'default': 5.0, 'actual': 5.0}, 'score_training_samples': {'default': 10000, 'actual': 10000}, 'score_validation_samples': {'default': 0, 'actual': 0}, 'score_duty_cycle': {'default': 0.1, 'actual': 0.1}, 'classification_stop': {'default': 0.0, 'actual': 0.0}, 'regression_stop': {'default': 1e-06, 'actual': 1e-06}, 'stopping_rounds': {'default': 5, 'actual': 0}, 'stopping_metric': {'default': 'AUTO', 'actual': 'logloss'}, 'stopping_tolerance': {'default': 0.0, 'actual': 0.00397382714153187}, 'max_runtime_secs': {'default': 0.0, 'actual': 0.0}, 'score_validation_sampling': {'default': 'Uniform', 'actual': 'Uniform'}, 'diagnostics': {'default': True, 'actual': True}, 'fast_mode': {'default': True, 'actual': True}, 'force_load_balance': {'default': True, 'actual': True}, 'variable_importances': {'default': True, 'actual': True}, 'replicate_training_data': {'default': True, 'actual': True}, 'single_node_mode': {'default': False, 'actual': False}, 'shuffle_training_data': {'default': False, 'actual': False}, 'missing_values_handling': {'default': 'MeanImputation', 'actual': 'MeanImputation'}, 'quiet_mode': {'default': False, 'actual': False}, 'autoencoder': {'default': False, 'actual': False}, 'sparse': {'default': False, 'actual': False}, 'col_major': {'default': False, 'actual': False}, 'average_activation': {'default': 0.0, 'actual': 0.0}, 'sparsity_beta': {'default': 0.0, 'actual': 0.0}, 'max_categorical_features': {'default': 2147483647, 'actual': 2147483647}, 'reproducible': {'default': False, 'actual': False}, 'export_weights_and_biases': {'default': False, 'actual': False}, 'mini_batch_size': {'default': 1, 'actual': 1}, 'categorical_encoding': {'default': 'AUTO', 'actual': 'AUTO'}, 'elastic_averaging': {'default': False, 'actual': False}, 'elastic_averaging_moving_rate': {'default': 0.9, 'actual': 0.9}, 'elastic_averaging_regularization': {'default': 0.001, 'actual': 0.001}, 'export_checkpoints_dir': {'default': None, 'actual': None}}, {'model_id': {'default': None, 'actual': {'__meta': {'schema_version': 3, 'schema_name': 'ModelKeyV3', 'schema_type': 'Key<Model>'}, 'name': 'DeepLearning_grid_1_AutoML_20190422_164836_model_2', 'type': 'Key<Model>', 'URL': '/3/Models/DeepLearning_grid_1_AutoML_20190422_164836_model_2'}}, 'training_frame': {'default': None, 'actual': {'__meta': {'schema_version': 3, 'schema_name': 'FrameKeyV3', 'schema_type': 'Key<Frame>'}, 'name': 'automl_training_train_500.hex', 'type': 'Key<Frame>', 'URL': '/3/Frames/automl_training_train_500.hex'}}, 'validation_frame': {'default': None, 'actual': None}, 'nfolds': {'default': 0, 'actual': 5}, 'keep_cross_validation_models': {'default': True, 'actual': False}, 'keep_cross_validation_predictions': {'default': False, 'actual': True}, 'keep_cross_validation_fold_assignment': {'default': False, 'actual': False}, 'fold_assignment': {'default': 'AUTO', 'actual': 'Modulo'}, 'fold_column': {'default': None, 'actual': None}, 'response_column': {'default': None, 'actual': {'__meta': {'schema_version': 3, 'schema_name': 'ColSpecifierV3', 'schema_type': 'VecSpecifier'}, 'column_name': 'Claim', 'is_member_of_frames': None}}, 'ignored_columns': {'default': None, 'actual': []}, 'ignore_const_cols': {'default': True, 'actual': True}, 'score_each_iteration': {'default': False, 'actual': False}, 'weights_column': {'default': None, 'actual': None}, 'offset_column': {'default': None, 'actual': None}, 'balance_classes': {'default': False, 'actual': False}, 'class_sampling_factors': {'default': None, 'actual': None}, 'max_after_balance_size': {'default': 5.0, 'actual': 5.0}, 'max_confusion_matrix_size': {'default': 20, 'actual': 20}, 'max_hit_ratio_k': {'default': 0, 'actual': 0}, 'checkpoint': {'default': None, 'actual': None}, 'pretrained_autoencoder': {'default': None, 'actual': None}, 'overwrite_with_best_model': {'default': True, 'actual': False}, 'use_all_factor_levels': {'default': True, 'actual': True}, 'standardize': {'default': True, 'actual': True}, 'activation': {'default': 'Rectifier', 'actual': 'RectifierWithDropout'}, 'hidden': {'default': [200, 200], 'actual': [50]}, 'epochs': {'default': 10.0, 'actual': 1.579746075009184}, 'train_samples_per_iteration': {'default': -2, 'actual': -2}, 'target_ratio_comm_to_comp': {'default': 0.05, 'actual': 0.05}, 'seed': {'default': -1, 'actual': -4304895365526617478}, 'adaptive_rate': {'default': True, 'actual': True}, 'rho': {'default': 0.99, 'actual': 0.9}, 'epsilon': {'default': 1e-08, 'actual': 1e-07}, 'rate': {'default': 0.005, 'actual': 0.005}, 'rate_annealing': {'default': 1e-06, 'actual': 1e-06}, 'rate_decay': {'default': 1.0, 'actual': 1.0}, 'momentum_start': {'default': 0.0, 'actual': 0.0}, 'momentum_ramp': {'default': 1000000.0, 'actual': 1000000.0}, 'momentum_stable': {'default': 0.0, 'actual': 0.0}, 'nesterov_accelerated_gradient': {'default': True, 'actual': True}, 'input_dropout_ratio': {'default': 0.0, 'actual': 0.0}, 'hidden_dropout_ratios': {'default': None, 'actual': [0.4]}, 'l1': {'default': 0.0, 'actual': 0.0}, 'l2': {'default': 0.0, 'actual': 0.0}, 'max_w2': {'default': 3.4028235e+38, 'actual': 3.4028235e+38}, 'initial_weight_distribution': {'default': 'UniformAdaptive', 'actual': 'UniformAdaptive'}, 'initial_weight_scale': {'default': 1.0, 'actual': 1.0}, 'initial_weights': {'default': None, 'actual': None}, 'initial_biases': {'default': None, 'actual': None}, 'loss': {'default': 'Automatic', 'actual': 'Automatic'}, 'distribution': {'default': 'AUTO', 'actual': 'AUTO'}, 'quantile_alpha': {'default': 0.5, 'actual': 0.5}, 'tweedie_power': {'default': 1.5, 'actual': 1.5}, 'huber_alpha': {'default': 0.9, 'actual': 0.9}, 'score_interval': {'default': 5.0, 'actual': 5.0}, 'score_training_samples': {'default': 10000, 'actual': 10000}, 'score_validation_samples': {'default': 0, 'actual': 0}, 'score_duty_cycle': {'default': 0.1, 'actual': 0.1}, 'classification_stop': {'default': 0.0, 'actual': 0.0}, 'regression_stop': {'default': 1e-06, 'actual': 1e-06}, 'stopping_rounds': {'default': 5, 'actual': 0}, 'stopping_metric': {'default': 'AUTO', 'actual': 'logloss'}, 'stopping_tolerance': {'default': 0.0, 'actual': 0.00397382714153187}, 'max_runtime_secs': {'default': 0.0, 'actual': 0.0}, 'score_validation_sampling': {'default': 'Uniform', 'actual': 'Uniform'}, 'diagnostics': {'default': True, 'actual': True}, 'fast_mode': {'default': True, 'actual': True}, 'force_load_balance': {'default': True, 'actual': True}, 'variable_importances': {'default': True, 'actual': True}, 'replicate_training_data': {'default': True, 'actual': True}, 'single_node_mode': {'default': False, 'actual': False}, 'shuffle_training_data': {'default': False, 'actual': False}, 'missing_values_handling': {'default': 'MeanImputation', 'actual': 'MeanImputation'}, 'quiet_mode': {'default': False, 'actual': False}, 'autoencoder': {'default': False, 'actual': False}, 'sparse': {'default': False, 'actual': False}, 'col_major': {'default': False, 'actual': False}, 'average_activation': {'default': 0.0, 'actual': 0.0}, 'sparsity_beta': {'default': 0.0, 'actual': 0.0}, 'max_categorical_features': {'default': 2147483647, 'actual': 2147483647}, 'reproducible': {'default': False, 'actual': False}, 'export_weights_and_biases': {'default': False, 'actual': False}, 'mini_batch_size': {'default': 1, 'actual': 1}, 'categorical_encoding': {'default': 'AUTO', 'actual': 'AUTO'}, 'elastic_averaging': {'default': False, 'actual': False}, 'elastic_averaging_moving_rate': {'default': 0.9, 'actual': 0.9}, 'elastic_averaging_regularization': {'default': 0.001, 'actual': 0.001}, 'export_checkpoints_dir': {'default': None, 'actual': None}}, {'model_id': {'default': None, 'actual': {'__meta': {'schema_version': 3, 'schema_name': 'ModelKeyV3', 'schema_type': 'Key<Model>'}, 'name': 'GBM_grid_1_AutoML_20190422_164836_model_4', 'type': 'Key<Model>', 'URL': '/3/Models/GBM_grid_1_AutoML_20190422_164836_model_4'}}, 'training_frame': {'default': None, 'actual': {'__meta': {'schema_version': 3, 'schema_name': 'FrameKeyV3', 'schema_type': 'Key<Frame>'}, 'name': 'automl_training_train_500.hex', 'type': 'Key<Frame>', 'URL': '/3/Frames/automl_training_train_500.hex'}}, 'validation_frame': {'default': None, 'actual': None}, 'nfolds': {'default': 0, 'actual': 5}, 'keep_cross_validation_models': {'default': True, 'actual': False}, 'keep_cross_validation_predictions': {'default': False, 'actual': True}, 'keep_cross_validation_fold_assignment': {'default': False, 'actual': False}, 'score_each_iteration': {'default': False, 'actual': False}, 'score_tree_interval': {'default': 0, 'actual': 5}, 'fold_assignment': {'default': 'AUTO', 'actual': 'Modulo'}, 'fold_column': {'default': None, 'actual': None}, 'response_column': {'default': None, 'actual': {'__meta': {'schema_version': 3, 'schema_name': 'ColSpecifierV3', 'schema_type': 'VecSpecifier'}, 'column_name': 'Claim', 'is_member_of_frames': None}}, 'ignored_columns': {'default': None, 'actual': []}, 'ignore_const_cols': {'default': True, 'actual': True}, 'offset_column': {'default': None, 'actual': None}, 'weights_column': {'default': None, 'actual': None}, 'balance_classes': {'default': False, 'actual': False}, 'class_sampling_factors': {'default': None, 'actual': None}, 'max_after_balance_size': {'default': 5.0, 'actual': 5.0}, 'max_confusion_matrix_size': {'default': 20, 'actual': 20}, 'max_hit_ratio_k': {'default': 0, 'actual': 0}, 'ntrees': {'default': 50, 'actual': 14}, 'max_depth': {'default': 5, 'actual': 10}, 'min_rows': {'default': 10.0, 'actual': 5.0}, 'nbins': {'default': 20, 'actual': 20}, 'nbins_top_level': {'default': 1024, 'actual': 1024}, 'nbins_cats': {'default': 1024, 'actual': 1024}, 'r2_stopping': {'default': 1.7976931348623157e+308, 'actual': 1.7976931348623157e+308}, 'stopping_rounds': {'default': 0, 'actual': 0}, 'stopping_metric': {'default': 'AUTO', 'actual': 'logloss'}, 'stopping_tolerance': {'default': 0.001, 'actual': 0.00397382714153187}, 'max_runtime_secs': {'default': 0.0, 'actual': 0.0}, 'seed': {'default': -1, 'actual': -2335008321283685336}, 'build_tree_one_node': {'default': False, 'actual': False}, 'learn_rate': {'default': 0.1, 'actual': 0.8}, 'learn_rate_annealing': {'default': 1.0, 'actual': 1.0}, 'distribution': {'default': 'AUTO', 'actual': 'bernoulli'}, 'quantile_alpha': {'default': 0.5, 'actual': 0.5}, 'tweedie_power': {'default': 1.5, 'actual': 1.5}, 'huber_alpha': {'default': 0.9, 'actual': 0.9}, 'checkpoint': {'default': None, 'actual': None}, 'sample_rate': {'default': 1.0, 'actual': 1.0}, 'sample_rate_per_class': {'default': None, 'actual': None}, 'col_sample_rate': {'default': 1.0, 'actual': 0.7}, 'col_sample_rate_change_per_level': {'default': 1.0, 'actual': 1.0}, 'col_sample_rate_per_tree': {'default': 1.0, 'actual': 0.4}, 'min_split_improvement': {'default': 1e-05, 'actual': 0.0001}, 'histogram_type': {'default': 'AUTO', 'actual': 'AUTO'}, 'max_abs_leafnode_pred': {'default': 1.7976931348623157e+308, 'actual': 1.7976931348623157e+308}, 'pred_noise_bandwidth': {'default': 0.0, 'actual': 0.0}, 'categorical_encoding': {'default': 'AUTO', 'actual': 'AUTO'}, 'calibrate_model': {'default': False, 'actual': False}, 'calibration_frame': {'default': None, 'actual': None}, 'custom_metric_func': {'default': None, 'actual': None}, 'export_checkpoints_dir': {'default': None, 'actual': None}, 'monotone_constraints': {'default': None, 'actual': None}, 'check_constant_response': {'default': True, 'actual': True}}]"
     ]
    },
    {
     "name": "stdout",
     "output_type": "stream",
     "text": [
      "\n"
     ]
    }
   ],
   "source": [
    "print(jsonDicts)"
   ]
  },
  {
   "cell_type": "code",
   "execution_count": 51,
   "metadata": {},
   "outputs": [],
   "source": [
    "def hyperparameter_json(jsonDicts,name):\n",
    "    i = json.dumps(jsonDicts, indent=4)\n",
    "    f = open(name, 'w')\n",
    "    print(i, file=f)\n",
    "    f.close()\n",
    "# hyperparameters = mod_best.params\n",
    "name='Claim_hyperparameters.json'\n",
    "hyperparameter_json(jsonDicts,'hyperparameters_500.json') \n",
    "hyperparameter_json(metadata,'meta_data_500.json') \n",
    "#hyperparameter_json(show_leader_board,'lb_500.json')"
   ]
  },
  {
   "cell_type": "code",
   "execution_count": 52,
   "metadata": {},
   "outputs": [],
   "source": [
    "for index, row in aml_leaderboard_df.head().iterrows():\n",
    "     #print(index, row)\n",
    "     aml_leaderboard_df.to_csv('models_metrics_500.csv')"
   ]
  },
  {
   "cell_type": "code",
   "execution_count": 53,
   "metadata": {},
   "outputs": [],
   "source": [
    "pd.read_json(json.dumps(jsonDicts)).to_csv('hyperparameters_500.csv')"
   ]
  },
  {
   "cell_type": "code",
   "execution_count": 54,
   "metadata": {},
   "outputs": [],
   "source": [
    "#mod_best=h2o.get_model(model_set[0])\n",
    "#print(mod_best)"
   ]
  },
  {
   "cell_type": "code",
   "execution_count": 55,
   "metadata": {},
   "outputs": [],
   "source": [
    "\n",
    "#mod_best._id"
   ]
  },
  {
   "cell_type": "code",
   "execution_count": 56,
   "metadata": {},
   "outputs": [],
   "source": [
    "#for index, row in aml_leaderboard_df.head().iterrows():\n",
    "     #print(index, row)\n",
    "     #mod_best.params\n",
    "     #print(mod_best.params)\n",
    "     "
   ]
  },
  {
   "cell_type": "code",
   "execution_count": 57,
   "metadata": {},
   "outputs": [],
   "source": [
    "# h2o.get_model(mod_best)\n",
    "#mod_best.params"
   ]
  },
  {
   "cell_type": "code",
   "execution_count": 58,
   "metadata": {},
   "outputs": [],
   "source": [
    "#def dict_to_json(dct,n):\n",
    " # j = json.dumps(dct, indent=4)\n",
    "  #f = open(n, 'w')\n",
    "  #print(j, file=f)\n",
    "  #f.close()"
   ]
  },
  {
   "cell_type": "code",
   "execution_count": 59,
   "metadata": {},
   "outputs": [],
   "source": [
    "#hy_parameter = mod_best.params\n",
    "#n='hyperparameter.json'"
   ]
  },
  {
   "cell_type": "code",
   "execution_count": 60,
   "metadata": {},
   "outputs": [],
   "source": [
    "#dict_to_json(hy_parameter,n)"
   ]
  },
  {
   "cell_type": "code",
   "execution_count": 61,
   "metadata": {},
   "outputs": [],
   "source": [
    "#for index, row in aml_leaderboard_df.head().iterrows():\n",
    "     #print(index, row)\n",
    "    # dict_to_json(hy_parameter,n)\n",
    "     #aml_leaderboard_df.to_csv('models_501.csv')"
   ]
  },
  {
   "cell_type": "markdown",
   "metadata": {},
   "source": [
    "### H20 Part 2"
   ]
  },
  {
   "cell_type": "code",
   "execution_count": 62,
   "metadata": {},
   "outputs": [
    {
     "name": "stdout",
     "output_type": "stream",
     "text": [
      "t98Izz7MB\n"
     ]
    }
   ],
   "source": [
    "data_path=None\n",
    "all_variables=None\n",
    "test_path=None\n",
    "# target='search_term'\n",
    "target=None\n",
    "nthreads=1 \n",
    "min_mem_size=6 \n",
    "run_time=1000\n",
    "classification=False\n",
    "scale=False\n",
    "max_models=9    \n",
    "model_path=None\n",
    "balance_y=False \n",
    "balance_threshold=0.2\n",
    "name=None \n",
    "server_path=None  \n",
    "analysis=0\n",
    "\n",
    "def alphabet(n):\n",
    "  alpha='0123456789abcdefghijklmnopqrstuvwxyzABCDEFGHIJKLMNOPQRSTUVWXYZ'    \n",
    "  str=''\n",
    "  r=len(alpha)-1   \n",
    "  while len(str)<n:\n",
    "    i=random.randint(0,r)\n",
    "    str+=alpha[i]   \n",
    "  return str\n",
    "\n",
    "run_id=alphabet(9)\n",
    "if server_path==None:\n",
    "  server_path=os.path.abspath(os.curdir)\n",
    "os.chdir(server_path) \n",
    "run_dir = os.path.join(server_path,run_id)\n",
    "os.mkdir(run_dir)\n",
    "os.chdir(run_dir)    \n",
    "\n",
    "# run_id to std out\n",
    "print (run_id)"
   ]
  },
  {
   "cell_type": "code",
   "execution_count": 63,
   "metadata": {},
   "outputs": [
    {
     "name": "stdout",
     "output_type": "stream",
     "text": [
      "3\n"
     ]
    }
   ],
   "source": [
    "pct_memory=0.5\n",
    "virtual_memory=psutil.virtual_memory()\n",
    "min_mem_size=int(round(int(pct_memory*virtual_memory.available)/1073741824,0))\n",
    "print(min_mem_size)"
   ]
  },
  {
   "cell_type": "code",
   "execution_count": 64,
   "metadata": {},
   "outputs": [
    {
     "name": "stdout",
     "output_type": "stream",
     "text": [
      "C:\\Users\\Ashmita\\Desktop\\Data Science Assignments\\Final Project\\hyperparameter-db-project-ds14\\Python scripts\\Yurs3VOV1\\t98Izz7MB\\logs   t98Izz7MB_autoh2o_log.zip\n"
     ]
    }
   ],
   "source": [
    "logfile=run_id+'_autoh2o_log.zip'\n",
    "logs_path=os.path.join(run_dir,'logs')\n",
    "print(logs_path,' ',logfile)"
   ]
  },
  {
   "cell_type": "code",
   "execution_count": 68,
   "metadata": {},
   "outputs": [],
   "source": [
    "def set_meta_data(analysis,run_id,server,data,test,model_path,target,run_time,classification,scale,model,balance,balance_threshold,name,path,nthreads,min_mem_size):\n",
    "  meta_data={}\n",
    "  meta_data['start_time'] = time.time()\n",
    "  meta_data['target']=target\n",
    "  meta_data['server_path']=server\n",
    "  meta_data['data_path']=data \n",
    "  meta_data['test_path']=test\n",
    "  meta_data['max_models']=model\n",
    "  meta_data['run_time']=run_time\n",
    "  meta_data['run_id'] =run_id\n",
    "  meta_data['scale']=scale\n",
    "  meta_data['classification']=classification\n",
    "  meta_data['scale']=False\n",
    "  meta_data['model_path']=model_path\n",
    "  meta_data['balance']=balance\n",
    "  meta_data['balance_threshold']=balance_threshold\n",
    "  meta_data['project'] =name\n",
    "  meta_data['end_time'] = time.time()\n",
    "  meta_data['execution_time'] = 0.0\n",
    "  meta_data['run_path'] =path\n",
    "  meta_data['nthreads'] = nthreads\n",
    "  meta_data['min_mem_size'] = min_mem_size\n",
    "  meta_data['analysis'] = analysis\n",
    "  return meta_data"
   ]
  },
  {
   "cell_type": "code",
   "execution_count": 70,
   "metadata": {},
   "outputs": [
    {
     "name": "stdout",
     "output_type": "stream",
     "text": [
      "{'start_time': 1555966922.3204875, 'target': None, 'server_path': 'C:\\\\Users\\\\Ashmita\\\\Desktop\\\\Data Science Assignments\\\\Final Project\\\\hyperparameter-db-project-ds14\\\\Python scripts\\\\Yurs3VOV1', 'data_path': None, 'test_path': None, 'max_models': 9, 'run_time': 1000, 'run_id': 't98Izz7MB', 'scale': False, 'classification': False, 'model_path': None, 'balance': False, 'balance_threshold': 0.2, 'project': None, 'end_time': 1555966922.3204875, 'execution_time': 0.0, 'run_path': 'C:\\\\Users\\\\Ashmita\\\\Desktop\\\\Data Science Assignments\\\\Final Project\\\\hyperparameter-db-project-ds14\\\\Python scripts\\\\Yurs3VOV1\\\\t98Izz7MB', 'nthreads': 1, 'min_mem_size': 3, 'analysis': 0}\n"
     ]
    }
   ],
   "source": [
    "metadata_1000 = set_meta_data(analysis, run_id,server_path,data_path,test_path,model_path,target,run_time,classification,scale,max_models,balance_y,balance_threshold,name,run_dir,nthreads,min_mem_size)\n",
    "print(metadata_1000)"
   ]
  },
  {
   "cell_type": "code",
   "execution_count": 71,
   "metadata": {},
   "outputs": [
    {
     "data": {
      "text/html": [
       "<div>\n",
       "<style scoped>\n",
       "    .dataframe tbody tr th:only-of-type {\n",
       "        vertical-align: middle;\n",
       "    }\n",
       "\n",
       "    .dataframe tbody tr th {\n",
       "        vertical-align: top;\n",
       "    }\n",
       "\n",
       "    .dataframe thead th {\n",
       "        text-align: right;\n",
       "    }\n",
       "</style>\n",
       "<table border=\"1\" class=\"dataframe\">\n",
       "  <thead>\n",
       "    <tr style=\"text-align: right;\">\n",
       "      <th></th>\n",
       "      <th>0</th>\n",
       "    </tr>\n",
       "  </thead>\n",
       "  <tbody>\n",
       "    <tr>\n",
       "      <th>start_time</th>\n",
       "      <td>1.55597e+09</td>\n",
       "    </tr>\n",
       "    <tr>\n",
       "      <th>target</th>\n",
       "      <td>None</td>\n",
       "    </tr>\n",
       "    <tr>\n",
       "      <th>server_path</th>\n",
       "      <td>C:\\Users\\Ashmita\\Desktop\\Data Science Assignme...</td>\n",
       "    </tr>\n",
       "    <tr>\n",
       "      <th>data_path</th>\n",
       "      <td>None</td>\n",
       "    </tr>\n",
       "    <tr>\n",
       "      <th>test_path</th>\n",
       "      <td>None</td>\n",
       "    </tr>\n",
       "    <tr>\n",
       "      <th>max_models</th>\n",
       "      <td>9</td>\n",
       "    </tr>\n",
       "    <tr>\n",
       "      <th>run_time</th>\n",
       "      <td>1000</td>\n",
       "    </tr>\n",
       "    <tr>\n",
       "      <th>run_id</th>\n",
       "      <td>t98Izz7MB</td>\n",
       "    </tr>\n",
       "    <tr>\n",
       "      <th>scale</th>\n",
       "      <td>False</td>\n",
       "    </tr>\n",
       "    <tr>\n",
       "      <th>classification</th>\n",
       "      <td>False</td>\n",
       "    </tr>\n",
       "    <tr>\n",
       "      <th>model_path</th>\n",
       "      <td>None</td>\n",
       "    </tr>\n",
       "    <tr>\n",
       "      <th>balance</th>\n",
       "      <td>False</td>\n",
       "    </tr>\n",
       "    <tr>\n",
       "      <th>balance_threshold</th>\n",
       "      <td>0.2</td>\n",
       "    </tr>\n",
       "    <tr>\n",
       "      <th>project</th>\n",
       "      <td>None</td>\n",
       "    </tr>\n",
       "    <tr>\n",
       "      <th>end_time</th>\n",
       "      <td>1.55597e+09</td>\n",
       "    </tr>\n",
       "    <tr>\n",
       "      <th>execution_time</th>\n",
       "      <td>0</td>\n",
       "    </tr>\n",
       "    <tr>\n",
       "      <th>run_path</th>\n",
       "      <td>C:\\Users\\Ashmita\\Desktop\\Data Science Assignme...</td>\n",
       "    </tr>\n",
       "    <tr>\n",
       "      <th>nthreads</th>\n",
       "      <td>1</td>\n",
       "    </tr>\n",
       "    <tr>\n",
       "      <th>min_mem_size</th>\n",
       "      <td>3</td>\n",
       "    </tr>\n",
       "    <tr>\n",
       "      <th>analysis</th>\n",
       "      <td>0</td>\n",
       "    </tr>\n",
       "  </tbody>\n",
       "</table>\n",
       "</div>"
      ],
      "text/plain": [
       "                                                                   0\n",
       "start_time                                               1.55597e+09\n",
       "target                                                          None\n",
       "server_path        C:\\Users\\Ashmita\\Desktop\\Data Science Assignme...\n",
       "data_path                                                       None\n",
       "test_path                                                       None\n",
       "max_models                                                         9\n",
       "run_time                                                        1000\n",
       "run_id                                                     t98Izz7MB\n",
       "scale                                                          False\n",
       "classification                                                 False\n",
       "model_path                                                      None\n",
       "balance                                                        False\n",
       "balance_threshold                                                0.2\n",
       "project                                                         None\n",
       "end_time                                                 1.55597e+09\n",
       "execution_time                                                     0\n",
       "run_path           C:\\Users\\Ashmita\\Desktop\\Data Science Assignme...\n",
       "nthreads                                                           1\n",
       "min_mem_size                                                       3\n",
       "analysis                                                           0"
      ]
     },
     "execution_count": 71,
     "metadata": {},
     "output_type": "execute_result"
    }
   ],
   "source": [
    "generate_md = pd.DataFrame.from_dict(metadata_1000 , orient='index')\n",
    "generate_md"
   ]
  },
  {
   "cell_type": "code",
   "execution_count": 72,
   "metadata": {},
   "outputs": [],
   "source": [
    "generate_md.to_csv('metadata_100.csv')"
   ]
  },
  {
   "cell_type": "code",
   "execution_count": 73,
   "metadata": {},
   "outputs": [
    {
     "name": "stdout",
     "output_type": "stream",
     "text": [
      "Checking whether there is an H2O instance running at http://localhost:40893 ..... not found.\n",
      "Attempting to start a local H2O server...\n",
      "; Java HotSpot(TM) 64-Bit Server VM (build 24.80-b11, mixed mode)\n",
      "  Starting server from C:\\Users\\Ashmita\\Anaconda3\\lib\\site-packages\\h2o\\backend\\bin\\h2o.jar\n",
      "  Ice root: C:\\Users\\Ashmita\\AppData\\Local\\Temp\\tmpju3sw73q\n",
      "  JVM stdout: C:\\Users\\Ashmita\\AppData\\Local\\Temp\\tmpju3sw73q\\h2o_Ashmita_started_from_python.out\n",
      "  JVM stderr: C:\\Users\\Ashmita\\AppData\\Local\\Temp\\tmpju3sw73q\\h2o_Ashmita_started_from_python.err\n",
      "  Server is running at http://127.0.0.1:40893\n",
      "Connecting to H2O server at http://127.0.0.1:40893 ... successful.\n"
     ]
    },
    {
     "data": {
      "text/html": [
       "<div style=\"overflow:auto\"><table style=\"width:50%\"><tr><td>H2O cluster uptime:</td>\n",
       "<td>03 secs</td></tr>\n",
       "<tr><td>H2O cluster timezone:</td>\n",
       "<td>America/New_York</td></tr>\n",
       "<tr><td>H2O data parsing timezone:</td>\n",
       "<td>UTC</td></tr>\n",
       "<tr><td>H2O cluster version:</td>\n",
       "<td>3.24.0.1</td></tr>\n",
       "<tr><td>H2O cluster version age:</td>\n",
       "<td>21 days, 17 hours and 22 minutes </td></tr>\n",
       "<tr><td>H2O cluster name:</td>\n",
       "<td>H2O_from_python_Ashmita_grfu1u</td></tr>\n",
       "<tr><td>H2O cluster total nodes:</td>\n",
       "<td>1</td></tr>\n",
       "<tr><td>H2O cluster free memory:</td>\n",
       "<td>3.522 Gb</td></tr>\n",
       "<tr><td>H2O cluster total cores:</td>\n",
       "<td>4</td></tr>\n",
       "<tr><td>H2O cluster allowed cores:</td>\n",
       "<td>4</td></tr>\n",
       "<tr><td>H2O cluster status:</td>\n",
       "<td>accepting new members, healthy</td></tr>\n",
       "<tr><td>H2O connection url:</td>\n",
       "<td>http://127.0.0.1:40893</td></tr>\n",
       "<tr><td>H2O connection proxy:</td>\n",
       "<td>None</td></tr>\n",
       "<tr><td>H2O internal security:</td>\n",
       "<td>False</td></tr>\n",
       "<tr><td>H2O API Extensions:</td>\n",
       "<td>AutoML, Amazon S3, Algos, Core V3, Core V4</td></tr>\n",
       "<tr><td>Python version:</td>\n",
       "<td>3.7.1 final</td></tr></table></div>"
      ],
      "text/plain": [
       "--------------------------  ------------------------------------------\n",
       "H2O cluster uptime:         03 secs\n",
       "H2O cluster timezone:       America/New_York\n",
       "H2O data parsing timezone:  UTC\n",
       "H2O cluster version:        3.24.0.1\n",
       "H2O cluster version age:    21 days, 17 hours and 22 minutes\n",
       "H2O cluster name:           H2O_from_python_Ashmita_grfu1u\n",
       "H2O cluster total nodes:    1\n",
       "H2O cluster free memory:    3.522 Gb\n",
       "H2O cluster total cores:    4\n",
       "H2O cluster allowed cores:  4\n",
       "H2O cluster status:         accepting new members, healthy\n",
       "H2O connection url:         http://127.0.0.1:40893\n",
       "H2O connection proxy:\n",
       "H2O internal security:      False\n",
       "H2O API Extensions:         AutoML, Amazon S3, Algos, Core V3, Core V4\n",
       "Python version:             3.7.1 final\n",
       "--------------------------  ------------------------------------------"
      ]
     },
     "metadata": {},
     "output_type": "display_data"
    }
   ],
   "source": [
    "# 65535 Highest port no\n",
    "port_no=random.randint(5555,55555)\n",
    "h2o.init(strict_version_check=False,min_mem_size_GB=min_mem_size,port=port_no)"
   ]
  },
  {
   "cell_type": "code",
   "execution_count": 74,
   "metadata": {},
   "outputs": [],
   "source": [
    "df.to_csv('train_1000.csv')"
   ]
  },
  {
   "cell_type": "code",
   "execution_count": 75,
   "metadata": {},
   "outputs": [],
   "source": [
    "data_path='train_1000.csv'\n"
   ]
  },
  {
   "cell_type": "code",
   "execution_count": 76,
   "metadata": {},
   "outputs": [
    {
     "name": "stdout",
     "output_type": "stream",
     "text": [
      "Parse progress: |█████████████████████████████████████████████████████████| 100%\n"
     ]
    }
   ],
   "source": [
    "# Load data into H2O\n",
    "train_data = h2o.import_file(data_path)"
   ]
  },
  {
   "cell_type": "code",
   "execution_count": 77,
   "metadata": {},
   "outputs": [
    {
     "data": {
      "text/html": [
       "<table>\n",
       "<thead>\n",
       "<tr><th style=\"text-align: right;\">  C1</th><th style=\"text-align: right;\">  Agency</th><th style=\"text-align: right;\">  Agency Type</th><th>Distribution Channel  </th><th style=\"text-align: right;\">  Product Name</th><th>Claim  </th><th style=\"text-align: right;\">  Duration</th><th style=\"text-align: right;\">  Destination</th><th style=\"text-align: right;\">  Net Sales</th><th style=\"text-align: right;\">  Commision (in value)</th><th style=\"text-align: right;\">  Age</th></tr>\n",
       "</thead>\n",
       "<tbody>\n",
       "<tr><td style=\"text-align: right;\">   0</td><td style=\"text-align: right;\">       3</td><td style=\"text-align: right;\">            1</td><td>Offline               </td><td style=\"text-align: right;\">            12</td><td>No     </td><td style=\"text-align: right;\">       186</td><td style=\"text-align: right;\">           79</td><td style=\"text-align: right;\">      -29  </td><td style=\"text-align: right;\">                  9.57</td><td style=\"text-align: right;\">   81</td></tr>\n",
       "<tr><td style=\"text-align: right;\">   1</td><td style=\"text-align: right;\">       3</td><td style=\"text-align: right;\">            1</td><td>Offline               </td><td style=\"text-align: right;\">            12</td><td>No     </td><td style=\"text-align: right;\">       186</td><td style=\"text-align: right;\">           79</td><td style=\"text-align: right;\">      -29  </td><td style=\"text-align: right;\">                  9.57</td><td style=\"text-align: right;\">   71</td></tr>\n",
       "<tr><td style=\"text-align: right;\">   2</td><td style=\"text-align: right;\">       6</td><td style=\"text-align: right;\">            1</td><td>Online                </td><td style=\"text-align: right;\">            16</td><td>No     </td><td style=\"text-align: right;\">        65</td><td style=\"text-align: right;\">            4</td><td style=\"text-align: right;\">      -49.5</td><td style=\"text-align: right;\">                 29.7 </td><td style=\"text-align: right;\">   32</td></tr>\n",
       "<tr><td style=\"text-align: right;\">   3</td><td style=\"text-align: right;\">       6</td><td style=\"text-align: right;\">            1</td><td>Online                </td><td style=\"text-align: right;\">            16</td><td>No     </td><td style=\"text-align: right;\">        60</td><td style=\"text-align: right;\">            4</td><td style=\"text-align: right;\">      -39.6</td><td style=\"text-align: right;\">                 23.76</td><td style=\"text-align: right;\">   32</td></tr>\n",
       "<tr><td style=\"text-align: right;\">   4</td><td style=\"text-align: right;\">       6</td><td style=\"text-align: right;\">            1</td><td>Online                </td><td style=\"text-align: right;\">            16</td><td>No     </td><td style=\"text-align: right;\">        79</td><td style=\"text-align: right;\">           61</td><td style=\"text-align: right;\">      -19.8</td><td style=\"text-align: right;\">                 11.88</td><td style=\"text-align: right;\">   41</td></tr>\n",
       "<tr><td style=\"text-align: right;\">   5</td><td style=\"text-align: right;\">       9</td><td style=\"text-align: right;\">            2</td><td>Online                </td><td style=\"text-align: right;\">            25</td><td>No     </td><td style=\"text-align: right;\">        66</td><td style=\"text-align: right;\">          140</td><td style=\"text-align: right;\">     -121  </td><td style=\"text-align: right;\">                 42.35</td><td style=\"text-align: right;\">   44</td></tr>\n",
       "<tr><td style=\"text-align: right;\">   6</td><td style=\"text-align: right;\">       6</td><td style=\"text-align: right;\">            1</td><td>Online                </td><td style=\"text-align: right;\">            16</td><td>No     </td><td style=\"text-align: right;\">        47</td><td style=\"text-align: right;\">          140</td><td style=\"text-align: right;\">      -39.6</td><td style=\"text-align: right;\">                 23.76</td><td style=\"text-align: right;\">   32</td></tr>\n",
       "<tr><td style=\"text-align: right;\">   7</td><td style=\"text-align: right;\">       6</td><td style=\"text-align: right;\">            1</td><td>Online                </td><td style=\"text-align: right;\">            16</td><td>No     </td><td style=\"text-align: right;\">        63</td><td style=\"text-align: right;\">            4</td><td style=\"text-align: right;\">     -108.9</td><td style=\"text-align: right;\">                 65.34</td><td style=\"text-align: right;\">   29</td></tr>\n",
       "<tr><td style=\"text-align: right;\">   8</td><td style=\"text-align: right;\">       6</td><td style=\"text-align: right;\">            1</td><td>Online                </td><td style=\"text-align: right;\">            16</td><td>No     </td><td style=\"text-align: right;\">        57</td><td style=\"text-align: right;\">          129</td><td style=\"text-align: right;\">      -19.8</td><td style=\"text-align: right;\">                 11.88</td><td style=\"text-align: right;\">   44</td></tr>\n",
       "<tr><td style=\"text-align: right;\">   9</td><td style=\"text-align: right;\">       6</td><td style=\"text-align: right;\">            1</td><td>Online                </td><td style=\"text-align: right;\">            16</td><td>No     </td><td style=\"text-align: right;\">       186</td><td style=\"text-align: right;\">            4</td><td style=\"text-align: right;\">      -99  </td><td style=\"text-align: right;\">                 59.4 </td><td style=\"text-align: right;\">   37</td></tr>\n",
       "</tbody>\n",
       "</table>"
      ]
     },
     "metadata": {},
     "output_type": "display_data"
    },
    {
     "data": {
      "text/plain": []
     },
     "execution_count": 77,
     "metadata": {},
     "output_type": "execute_result"
    }
   ],
   "source": [
    "train_data.head()"
   ]
  },
  {
   "cell_type": "code",
   "execution_count": 78,
   "metadata": {},
   "outputs": [],
   "source": [
    "target = 'Claim'"
   ]
  },
  {
   "cell_type": "code",
   "execution_count": 79,
   "metadata": {},
   "outputs": [],
   "source": [
    "# dependent variable\n",
    "# assign target and inputs for classification or regression\n",
    "if target==None:\n",
    "  target=train_data.columns[18]   \n",
    "y = target"
   ]
  },
  {
   "cell_type": "code",
   "execution_count": 80,
   "metadata": {},
   "outputs": [
    {
     "name": "stdout",
     "output_type": "stream",
     "text": [
      "['C1', 'Agency', 'Agency Type', 'Product Name', 'Duration', 'Destination', 'Age', 'Distribution Channel', 'Net Sales', 'Commision (in value)']\n",
      "Claim\n"
     ]
    }
   ],
   "source": [
    "def get_independent_variables(train_data, targ):\n",
    "    C = [name for name in train_data.columns if name != targ]\n",
    "    # determine column types\n",
    "    ints, reals, enums = [], [], []\n",
    "    for key, val in train_data.types.items():\n",
    "        if key in C:\n",
    "            if val == 'enum':\n",
    "                enums.append(key)\n",
    "            elif val == 'int':\n",
    "                ints.append(key)            \n",
    "            else: \n",
    "                reals.append(key)    \n",
    "    x = ints + enums + reals\n",
    "    return x\n",
    "\n",
    "X = get_independent_variables(train_data, target) \n",
    "print(X)\n",
    "y = target\n",
    "print(y)"
   ]
  },
  {
   "cell_type": "code",
   "execution_count": 81,
   "metadata": {},
   "outputs": [],
   "source": [
    "# setup autoML\n",
    "run_time=1000\n",
    "aml = H2OAutoML(max_runtime_secs=run_time)"
   ]
  },
  {
   "cell_type": "code",
   "execution_count": 82,
   "metadata": {},
   "outputs": [],
   "source": [
    "logs_path = os.getcwd()\n",
    "logfile = 'logs_1000.txt'"
   ]
  },
  {
   "cell_type": "code",
   "execution_count": 83,
   "metadata": {},
   "outputs": [
    {
     "name": "stdout",
     "output_type": "stream",
     "text": [
      "AutoML progress: |████████████████████████████████████████████████████████| 100%\n"
     ]
    }
   ],
   "source": [
    "model_start_time = time.time()\n",
    "aml.train(x=X,y=y,training_frame=train_data)  # Change training_frame=train"
   ]
  },
  {
   "cell_type": "code",
   "execution_count": 84,
   "metadata": {},
   "outputs": [
    {
     "data": {
      "text/html": [
       "<table>\n",
       "<thead>\n",
       "<tr><th>model_id                                           </th><th style=\"text-align: right;\">     auc</th><th style=\"text-align: right;\">  logloss</th><th style=\"text-align: right;\">  mean_per_class_error</th><th style=\"text-align: right;\">    rmse</th><th style=\"text-align: right;\">      mse</th></tr>\n",
       "</thead>\n",
       "<tbody>\n",
       "<tr><td>GBM_grid_1_AutoML_20190422_170306_model_4          </td><td style=\"text-align: right;\">0.831869</td><td style=\"text-align: right;\">0.0655853</td><td style=\"text-align: right;\">              0.385927</td><td style=\"text-align: right;\">0.117848</td><td style=\"text-align: right;\">0.0138881</td></tr>\n",
       "<tr><td>GBM_grid_1_AutoML_20190422_170306_model_5          </td><td style=\"text-align: right;\">0.831216</td><td style=\"text-align: right;\">0.065604 </td><td style=\"text-align: right;\">              0.385091</td><td style=\"text-align: right;\">0.117854</td><td style=\"text-align: right;\">0.0138895</td></tr>\n",
       "<tr><td>GBM_1_AutoML_20190422_170306                       </td><td style=\"text-align: right;\">0.828573</td><td style=\"text-align: right;\">0.0666276</td><td style=\"text-align: right;\">              0.398484</td><td style=\"text-align: right;\">0.119931</td><td style=\"text-align: right;\">0.0143834</td></tr>\n",
       "<tr><td>GBM_2_AutoML_20190422_170306                       </td><td style=\"text-align: right;\">0.824037</td><td style=\"text-align: right;\">0.0656928</td><td style=\"text-align: right;\">              0.370204</td><td style=\"text-align: right;\">0.118705</td><td style=\"text-align: right;\">0.014091 </td></tr>\n",
       "<tr><td>GBM_grid_1_AutoML_20190422_170306_model_2          </td><td style=\"text-align: right;\">0.823946</td><td style=\"text-align: right;\">0.0716672</td><td style=\"text-align: right;\">              0.3319  </td><td style=\"text-align: right;\">0.119322</td><td style=\"text-align: right;\">0.0142378</td></tr>\n",
       "<tr><td>GBM_grid_1_AutoML_20190422_170306_model_8          </td><td style=\"text-align: right;\">0.819341</td><td style=\"text-align: right;\">0.0654187</td><td style=\"text-align: right;\">              0.351725</td><td style=\"text-align: right;\">0.118229</td><td style=\"text-align: right;\">0.013978 </td></tr>\n",
       "<tr><td>StackedEnsemble_AllModels_AutoML_20190422_170306   </td><td style=\"text-align: right;\">0.819259</td><td style=\"text-align: right;\">0.0676212</td><td style=\"text-align: right;\">              0.388327</td><td style=\"text-align: right;\">0.11892 </td><td style=\"text-align: right;\">0.0141419</td></tr>\n",
       "<tr><td>GBM_3_AutoML_20190422_170306                       </td><td style=\"text-align: right;\">0.817349</td><td style=\"text-align: right;\">0.0668775</td><td style=\"text-align: right;\">              0.374797</td><td style=\"text-align: right;\">0.119403</td><td style=\"text-align: right;\">0.0142571</td></tr>\n",
       "<tr><td>StackedEnsemble_BestOfFamily_AutoML_20190422_170306</td><td style=\"text-align: right;\">0.81642 </td><td style=\"text-align: right;\">0.0675888</td><td style=\"text-align: right;\">              0.373162</td><td style=\"text-align: right;\">0.118851</td><td style=\"text-align: right;\">0.0141256</td></tr>\n",
       "<tr><td>GBM_5_AutoML_20190422_170306                       </td><td style=\"text-align: right;\">0.816042</td><td style=\"text-align: right;\">0.0660985</td><td style=\"text-align: right;\">              0.377229</td><td style=\"text-align: right;\">0.118465</td><td style=\"text-align: right;\">0.0140339</td></tr>\n",
       "</tbody>\n",
       "</table>"
      ]
     },
     "metadata": {},
     "output_type": "display_data"
    },
    {
     "data": {
      "text/plain": []
     },
     "execution_count": 84,
     "metadata": {},
     "output_type": "execute_result"
    }
   ],
   "source": [
    "# view leaderboard\n",
    "lb = aml.leaderboard\n",
    "lb"
   ]
  },
  {
   "cell_type": "code",
   "execution_count": 85,
   "metadata": {},
   "outputs": [],
   "source": [
    "\n",
    "# get leaderboard\n",
    "aml_leaderboard_df=aml.leaderboard.as_data_frame()"
   ]
  },
  {
   "cell_type": "code",
   "execution_count": 86,
   "metadata": {
    "scrolled": true
   },
   "outputs": [
    {
     "data": {
      "text/html": [
       "<div>\n",
       "<style scoped>\n",
       "    .dataframe tbody tr th:only-of-type {\n",
       "        vertical-align: middle;\n",
       "    }\n",
       "\n",
       "    .dataframe tbody tr th {\n",
       "        vertical-align: top;\n",
       "    }\n",
       "\n",
       "    .dataframe thead th {\n",
       "        text-align: right;\n",
       "    }\n",
       "</style>\n",
       "<table border=\"1\" class=\"dataframe\">\n",
       "  <thead>\n",
       "    <tr style=\"text-align: right;\">\n",
       "      <th></th>\n",
       "      <th>model_id</th>\n",
       "      <th>auc</th>\n",
       "      <th>logloss</th>\n",
       "      <th>mean_per_class_error</th>\n",
       "      <th>rmse</th>\n",
       "      <th>mse</th>\n",
       "    </tr>\n",
       "  </thead>\n",
       "  <tbody>\n",
       "    <tr>\n",
       "      <th>0</th>\n",
       "      <td>GBM_grid_1_AutoML_20190422_170306_model_4</td>\n",
       "      <td>0.831869</td>\n",
       "      <td>0.065585</td>\n",
       "      <td>0.385927</td>\n",
       "      <td>0.117848</td>\n",
       "      <td>0.013888</td>\n",
       "    </tr>\n",
       "    <tr>\n",
       "      <th>1</th>\n",
       "      <td>GBM_grid_1_AutoML_20190422_170306_model_5</td>\n",
       "      <td>0.831216</td>\n",
       "      <td>0.065604</td>\n",
       "      <td>0.385091</td>\n",
       "      <td>0.117854</td>\n",
       "      <td>0.013889</td>\n",
       "    </tr>\n",
       "    <tr>\n",
       "      <th>2</th>\n",
       "      <td>GBM_1_AutoML_20190422_170306</td>\n",
       "      <td>0.828573</td>\n",
       "      <td>0.066628</td>\n",
       "      <td>0.398484</td>\n",
       "      <td>0.119931</td>\n",
       "      <td>0.014383</td>\n",
       "    </tr>\n",
       "    <tr>\n",
       "      <th>3</th>\n",
       "      <td>GBM_2_AutoML_20190422_170306</td>\n",
       "      <td>0.824037</td>\n",
       "      <td>0.065693</td>\n",
       "      <td>0.370204</td>\n",
       "      <td>0.118705</td>\n",
       "      <td>0.014091</td>\n",
       "    </tr>\n",
       "    <tr>\n",
       "      <th>4</th>\n",
       "      <td>GBM_grid_1_AutoML_20190422_170306_model_2</td>\n",
       "      <td>0.823946</td>\n",
       "      <td>0.071667</td>\n",
       "      <td>0.331900</td>\n",
       "      <td>0.119322</td>\n",
       "      <td>0.014238</td>\n",
       "    </tr>\n",
       "    <tr>\n",
       "      <th>5</th>\n",
       "      <td>GBM_grid_1_AutoML_20190422_170306_model_8</td>\n",
       "      <td>0.819341</td>\n",
       "      <td>0.065419</td>\n",
       "      <td>0.351725</td>\n",
       "      <td>0.118229</td>\n",
       "      <td>0.013978</td>\n",
       "    </tr>\n",
       "    <tr>\n",
       "      <th>6</th>\n",
       "      <td>StackedEnsemble_AllModels_AutoML_20190422_170306</td>\n",
       "      <td>0.819259</td>\n",
       "      <td>0.067621</td>\n",
       "      <td>0.388327</td>\n",
       "      <td>0.118920</td>\n",
       "      <td>0.014142</td>\n",
       "    </tr>\n",
       "    <tr>\n",
       "      <th>7</th>\n",
       "      <td>GBM_3_AutoML_20190422_170306</td>\n",
       "      <td>0.817349</td>\n",
       "      <td>0.066877</td>\n",
       "      <td>0.374797</td>\n",
       "      <td>0.119403</td>\n",
       "      <td>0.014257</td>\n",
       "    </tr>\n",
       "    <tr>\n",
       "      <th>8</th>\n",
       "      <td>StackedEnsemble_BestOfFamily_AutoML_20190422_1...</td>\n",
       "      <td>0.816420</td>\n",
       "      <td>0.067589</td>\n",
       "      <td>0.373162</td>\n",
       "      <td>0.118851</td>\n",
       "      <td>0.014126</td>\n",
       "    </tr>\n",
       "    <tr>\n",
       "      <th>9</th>\n",
       "      <td>GBM_5_AutoML_20190422_170306</td>\n",
       "      <td>0.816042</td>\n",
       "      <td>0.066098</td>\n",
       "      <td>0.377229</td>\n",
       "      <td>0.118465</td>\n",
       "      <td>0.014034</td>\n",
       "    </tr>\n",
       "    <tr>\n",
       "      <th>10</th>\n",
       "      <td>GBM_grid_1_AutoML_20190422_170306_model_7</td>\n",
       "      <td>0.815689</td>\n",
       "      <td>0.071863</td>\n",
       "      <td>0.328657</td>\n",
       "      <td>0.124732</td>\n",
       "      <td>0.015558</td>\n",
       "    </tr>\n",
       "    <tr>\n",
       "      <th>11</th>\n",
       "      <td>GBM_grid_1_AutoML_20190422_170306_model_6</td>\n",
       "      <td>0.814883</td>\n",
       "      <td>0.067284</td>\n",
       "      <td>0.354603</td>\n",
       "      <td>0.118224</td>\n",
       "      <td>0.013977</td>\n",
       "    </tr>\n",
       "    <tr>\n",
       "      <th>12</th>\n",
       "      <td>GBM_4_AutoML_20190422_170306</td>\n",
       "      <td>0.807264</td>\n",
       "      <td>0.068506</td>\n",
       "      <td>0.378535</td>\n",
       "      <td>0.120412</td>\n",
       "      <td>0.014499</td>\n",
       "    </tr>\n",
       "    <tr>\n",
       "      <th>13</th>\n",
       "      <td>GBM_grid_1_AutoML_20190422_170306_model_3</td>\n",
       "      <td>0.806778</td>\n",
       "      <td>0.067007</td>\n",
       "      <td>0.394936</td>\n",
       "      <td>0.118687</td>\n",
       "      <td>0.014087</td>\n",
       "    </tr>\n",
       "    <tr>\n",
       "      <th>14</th>\n",
       "      <td>GBM_grid_1_AutoML_20190422_170306_model_1</td>\n",
       "      <td>0.805643</td>\n",
       "      <td>0.075126</td>\n",
       "      <td>0.401646</td>\n",
       "      <td>0.127147</td>\n",
       "      <td>0.016166</td>\n",
       "    </tr>\n",
       "    <tr>\n",
       "      <th>15</th>\n",
       "      <td>GBM_grid_1_AutoML_20190422_170306_model_10</td>\n",
       "      <td>0.802727</td>\n",
       "      <td>0.074404</td>\n",
       "      <td>0.358686</td>\n",
       "      <td>0.119819</td>\n",
       "      <td>0.014357</td>\n",
       "    </tr>\n",
       "    <tr>\n",
       "      <th>16</th>\n",
       "      <td>GLM_grid_1_AutoML_20190422_170306_model_1</td>\n",
       "      <td>0.768482</td>\n",
       "      <td>0.067156</td>\n",
       "      <td>0.407805</td>\n",
       "      <td>0.118464</td>\n",
       "      <td>0.014034</td>\n",
       "    </tr>\n",
       "    <tr>\n",
       "      <th>17</th>\n",
       "      <td>XRT_1_AutoML_20190422_170306</td>\n",
       "      <td>0.766842</td>\n",
       "      <td>0.099181</td>\n",
       "      <td>0.445578</td>\n",
       "      <td>0.121266</td>\n",
       "      <td>0.014705</td>\n",
       "    </tr>\n",
       "    <tr>\n",
       "      <th>18</th>\n",
       "      <td>DeepLearning_grid_1_AutoML_20190422_170306_mod...</td>\n",
       "      <td>0.764219</td>\n",
       "      <td>0.070877</td>\n",
       "      <td>0.351984</td>\n",
       "      <td>0.119565</td>\n",
       "      <td>0.014296</td>\n",
       "    </tr>\n",
       "    <tr>\n",
       "      <th>19</th>\n",
       "      <td>DRF_1_AutoML_20190422_170306</td>\n",
       "      <td>0.761293</td>\n",
       "      <td>0.112851</td>\n",
       "      <td>0.427426</td>\n",
       "      <td>0.121926</td>\n",
       "      <td>0.014866</td>\n",
       "    </tr>\n",
       "    <tr>\n",
       "      <th>20</th>\n",
       "      <td>DeepLearning_grid_1_AutoML_20190422_170306_mod...</td>\n",
       "      <td>0.758210</td>\n",
       "      <td>0.072495</td>\n",
       "      <td>0.392631</td>\n",
       "      <td>0.120959</td>\n",
       "      <td>0.014631</td>\n",
       "    </tr>\n",
       "    <tr>\n",
       "      <th>21</th>\n",
       "      <td>DeepLearning_1_AutoML_20190422_170306</td>\n",
       "      <td>0.752528</td>\n",
       "      <td>0.071820</td>\n",
       "      <td>0.417766</td>\n",
       "      <td>0.119958</td>\n",
       "      <td>0.014390</td>\n",
       "    </tr>\n",
       "    <tr>\n",
       "      <th>22</th>\n",
       "      <td>DeepLearning_grid_1_AutoML_20190422_170306_mod...</td>\n",
       "      <td>0.751813</td>\n",
       "      <td>0.180201</td>\n",
       "      <td>0.412294</td>\n",
       "      <td>0.120982</td>\n",
       "      <td>0.014637</td>\n",
       "    </tr>\n",
       "    <tr>\n",
       "      <th>23</th>\n",
       "      <td>DeepLearning_grid_1_AutoML_20190422_170306_mod...</td>\n",
       "      <td>0.719629</td>\n",
       "      <td>0.083575</td>\n",
       "      <td>0.411383</td>\n",
       "      <td>0.119959</td>\n",
       "      <td>0.014390</td>\n",
       "    </tr>\n",
       "    <tr>\n",
       "      <th>24</th>\n",
       "      <td>DeepLearning_grid_1_AutoML_20190422_170306_mod...</td>\n",
       "      <td>0.716692</td>\n",
       "      <td>0.157927</td>\n",
       "      <td>0.428687</td>\n",
       "      <td>0.120973</td>\n",
       "      <td>0.014635</td>\n",
       "    </tr>\n",
       "    <tr>\n",
       "      <th>25</th>\n",
       "      <td>DeepLearning_grid_1_AutoML_20190422_170306_mod...</td>\n",
       "      <td>0.667873</td>\n",
       "      <td>0.115332</td>\n",
       "      <td>0.435696</td>\n",
       "      <td>0.120612</td>\n",
       "      <td>0.014547</td>\n",
       "    </tr>\n",
       "    <tr>\n",
       "      <th>26</th>\n",
       "      <td>GBM_grid_1_AutoML_20190422_170306_model_9</td>\n",
       "      <td>0.538338</td>\n",
       "      <td>2.438159</td>\n",
       "      <td>0.462653</td>\n",
       "      <td>0.265986</td>\n",
       "      <td>0.070749</td>\n",
       "    </tr>\n",
       "  </tbody>\n",
       "</table>\n",
       "</div>"
      ],
      "text/plain": [
       "                                             model_id       auc   logloss  \\\n",
       "0           GBM_grid_1_AutoML_20190422_170306_model_4  0.831869  0.065585   \n",
       "1           GBM_grid_1_AutoML_20190422_170306_model_5  0.831216  0.065604   \n",
       "2                        GBM_1_AutoML_20190422_170306  0.828573  0.066628   \n",
       "3                        GBM_2_AutoML_20190422_170306  0.824037  0.065693   \n",
       "4           GBM_grid_1_AutoML_20190422_170306_model_2  0.823946  0.071667   \n",
       "5           GBM_grid_1_AutoML_20190422_170306_model_8  0.819341  0.065419   \n",
       "6    StackedEnsemble_AllModels_AutoML_20190422_170306  0.819259  0.067621   \n",
       "7                        GBM_3_AutoML_20190422_170306  0.817349  0.066877   \n",
       "8   StackedEnsemble_BestOfFamily_AutoML_20190422_1...  0.816420  0.067589   \n",
       "9                        GBM_5_AutoML_20190422_170306  0.816042  0.066098   \n",
       "10          GBM_grid_1_AutoML_20190422_170306_model_7  0.815689  0.071863   \n",
       "11          GBM_grid_1_AutoML_20190422_170306_model_6  0.814883  0.067284   \n",
       "12                       GBM_4_AutoML_20190422_170306  0.807264  0.068506   \n",
       "13          GBM_grid_1_AutoML_20190422_170306_model_3  0.806778  0.067007   \n",
       "14          GBM_grid_1_AutoML_20190422_170306_model_1  0.805643  0.075126   \n",
       "15         GBM_grid_1_AutoML_20190422_170306_model_10  0.802727  0.074404   \n",
       "16          GLM_grid_1_AutoML_20190422_170306_model_1  0.768482  0.067156   \n",
       "17                       XRT_1_AutoML_20190422_170306  0.766842  0.099181   \n",
       "18  DeepLearning_grid_1_AutoML_20190422_170306_mod...  0.764219  0.070877   \n",
       "19                       DRF_1_AutoML_20190422_170306  0.761293  0.112851   \n",
       "20  DeepLearning_grid_1_AutoML_20190422_170306_mod...  0.758210  0.072495   \n",
       "21              DeepLearning_1_AutoML_20190422_170306  0.752528  0.071820   \n",
       "22  DeepLearning_grid_1_AutoML_20190422_170306_mod...  0.751813  0.180201   \n",
       "23  DeepLearning_grid_1_AutoML_20190422_170306_mod...  0.719629  0.083575   \n",
       "24  DeepLearning_grid_1_AutoML_20190422_170306_mod...  0.716692  0.157927   \n",
       "25  DeepLearning_grid_1_AutoML_20190422_170306_mod...  0.667873  0.115332   \n",
       "26          GBM_grid_1_AutoML_20190422_170306_model_9  0.538338  2.438159   \n",
       "\n",
       "    mean_per_class_error      rmse       mse  \n",
       "0               0.385927  0.117848  0.013888  \n",
       "1               0.385091  0.117854  0.013889  \n",
       "2               0.398484  0.119931  0.014383  \n",
       "3               0.370204  0.118705  0.014091  \n",
       "4               0.331900  0.119322  0.014238  \n",
       "5               0.351725  0.118229  0.013978  \n",
       "6               0.388327  0.118920  0.014142  \n",
       "7               0.374797  0.119403  0.014257  \n",
       "8               0.373162  0.118851  0.014126  \n",
       "9               0.377229  0.118465  0.014034  \n",
       "10              0.328657  0.124732  0.015558  \n",
       "11              0.354603  0.118224  0.013977  \n",
       "12              0.378535  0.120412  0.014499  \n",
       "13              0.394936  0.118687  0.014087  \n",
       "14              0.401646  0.127147  0.016166  \n",
       "15              0.358686  0.119819  0.014357  \n",
       "16              0.407805  0.118464  0.014034  \n",
       "17              0.445578  0.121266  0.014705  \n",
       "18              0.351984  0.119565  0.014296  \n",
       "19              0.427426  0.121926  0.014866  \n",
       "20              0.392631  0.120959  0.014631  \n",
       "21              0.417766  0.119958  0.014390  \n",
       "22              0.412294  0.120982  0.014637  \n",
       "23              0.411383  0.119959  0.014390  \n",
       "24              0.428687  0.120973  0.014635  \n",
       "25              0.435696  0.120612  0.014547  \n",
       "26              0.462653  0.265986  0.070749  "
      ]
     },
     "execution_count": 86,
     "metadata": {},
     "output_type": "execute_result"
    }
   ],
   "source": [
    "aml_leaderboard_df"
   ]
  },
  {
   "cell_type": "code",
   "execution_count": 87,
   "metadata": {},
   "outputs": [],
   "source": [
    "aml_leaderboard_df.to_csv('model_metrics_1000.csv' , sep=',')"
   ]
  },
  {
   "cell_type": "code",
   "execution_count": 89,
   "metadata": {},
   "outputs": [],
   "source": [
    "\n",
    "# STart best model as first model\n",
    "\n",
    "model_set=aml_leaderboard_df['model_id']\n",
    "mod_best=h2o.get_model(model_set[0])"
   ]
  },
  {
   "cell_type": "code",
   "execution_count": 90,
   "metadata": {},
   "outputs": [
    {
     "data": {
      "text/plain": [
       "'GBM_grid_1_AutoML_20190422_170306_model_4'"
      ]
     },
     "execution_count": 90,
     "metadata": {},
     "output_type": "execute_result"
    }
   ],
   "source": [
    "\n",
    "mod_best._id"
   ]
  },
  {
   "cell_type": "code",
   "execution_count": 91,
   "metadata": {},
   "outputs": [
    {
     "data": {
      "text/plain": [
       "{'model_id': {'default': None,\n",
       "  'actual': {'__meta': {'schema_version': 3,\n",
       "    'schema_name': 'ModelKeyV3',\n",
       "    'schema_type': 'Key<Model>'},\n",
       "   'name': 'GBM_grid_1_AutoML_20190422_170306_model_4',\n",
       "   'type': 'Key<Model>',\n",
       "   'URL': '/3/Models/GBM_grid_1_AutoML_20190422_170306_model_4'}},\n",
       " 'training_frame': {'default': None,\n",
       "  'actual': {'__meta': {'schema_version': 3,\n",
       "    'schema_name': 'FrameKeyV3',\n",
       "    'schema_type': 'Key<Frame>'},\n",
       "   'name': 'automl_training_train_1000.hex',\n",
       "   'type': 'Key<Frame>',\n",
       "   'URL': '/3/Frames/automl_training_train_1000.hex'}},\n",
       " 'validation_frame': {'default': None, 'actual': None},\n",
       " 'nfolds': {'default': 0, 'actual': 5},\n",
       " 'keep_cross_validation_models': {'default': True, 'actual': False},\n",
       " 'keep_cross_validation_predictions': {'default': False, 'actual': True},\n",
       " 'keep_cross_validation_fold_assignment': {'default': False, 'actual': False},\n",
       " 'score_each_iteration': {'default': False, 'actual': False},\n",
       " 'score_tree_interval': {'default': 0, 'actual': 5},\n",
       " 'fold_assignment': {'default': 'AUTO', 'actual': 'Modulo'},\n",
       " 'fold_column': {'default': None, 'actual': None},\n",
       " 'response_column': {'default': None,\n",
       "  'actual': {'__meta': {'schema_version': 3,\n",
       "    'schema_name': 'ColSpecifierV3',\n",
       "    'schema_type': 'VecSpecifier'},\n",
       "   'column_name': 'Claim',\n",
       "   'is_member_of_frames': None}},\n",
       " 'ignored_columns': {'default': None, 'actual': []},\n",
       " 'ignore_const_cols': {'default': True, 'actual': True},\n",
       " 'offset_column': {'default': None, 'actual': None},\n",
       " 'weights_column': {'default': None, 'actual': None},\n",
       " 'balance_classes': {'default': False, 'actual': False},\n",
       " 'class_sampling_factors': {'default': None, 'actual': None},\n",
       " 'max_after_balance_size': {'default': 5.0, 'actual': 5.0},\n",
       " 'max_confusion_matrix_size': {'default': 20, 'actual': 20},\n",
       " 'max_hit_ratio_k': {'default': 0, 'actual': 0},\n",
       " 'ntrees': {'default': 50, 'actual': 157},\n",
       " 'max_depth': {'default': 5, 'actual': 7},\n",
       " 'min_rows': {'default': 10.0, 'actual': 5.0},\n",
       " 'nbins': {'default': 20, 'actual': 20},\n",
       " 'nbins_top_level': {'default': 1024, 'actual': 1024},\n",
       " 'nbins_cats': {'default': 1024, 'actual': 1024},\n",
       " 'r2_stopping': {'default': 1.7976931348623157e+308,\n",
       "  'actual': 1.7976931348623157e+308},\n",
       " 'stopping_rounds': {'default': 0, 'actual': 0},\n",
       " 'stopping_metric': {'default': 'AUTO', 'actual': 'logloss'},\n",
       " 'stopping_tolerance': {'default': 0.001, 'actual': 0.00397382714153187},\n",
       " 'max_runtime_secs': {'default': 0.0, 'actual': 0.0},\n",
       " 'seed': {'default': -1, 'actual': -1709719078804724970},\n",
       " 'build_tree_one_node': {'default': False, 'actual': False},\n",
       " 'learn_rate': {'default': 0.1, 'actual': 0.008},\n",
       " 'learn_rate_annealing': {'default': 1.0, 'actual': 1.0},\n",
       " 'distribution': {'default': 'AUTO', 'actual': 'bernoulli'},\n",
       " 'quantile_alpha': {'default': 0.5, 'actual': 0.5},\n",
       " 'tweedie_power': {'default': 1.5, 'actual': 1.5},\n",
       " 'huber_alpha': {'default': 0.9, 'actual': 0.9},\n",
       " 'checkpoint': {'default': None, 'actual': None},\n",
       " 'sample_rate': {'default': 1.0, 'actual': 1.0},\n",
       " 'sample_rate_per_class': {'default': None, 'actual': None},\n",
       " 'col_sample_rate': {'default': 1.0, 'actual': 0.7},\n",
       " 'col_sample_rate_change_per_level': {'default': 1.0, 'actual': 1.0},\n",
       " 'col_sample_rate_per_tree': {'default': 1.0, 'actual': 0.4},\n",
       " 'min_split_improvement': {'default': 1e-05, 'actual': 0.0001},\n",
       " 'histogram_type': {'default': 'AUTO', 'actual': 'AUTO'},\n",
       " 'max_abs_leafnode_pred': {'default': 1.7976931348623157e+308,\n",
       "  'actual': 1.7976931348623157e+308},\n",
       " 'pred_noise_bandwidth': {'default': 0.0, 'actual': 0.0},\n",
       " 'categorical_encoding': {'default': 'AUTO', 'actual': 'AUTO'},\n",
       " 'calibrate_model': {'default': False, 'actual': False},\n",
       " 'calibration_frame': {'default': None, 'actual': None},\n",
       " 'custom_metric_func': {'default': None, 'actual': None},\n",
       " 'export_checkpoints_dir': {'default': None, 'actual': None},\n",
       " 'monotone_constraints': {'default': None, 'actual': None},\n",
       " 'check_constant_response': {'default': True, 'actual': True}}"
      ]
     },
     "execution_count": 91,
     "metadata": {},
     "output_type": "execute_result"
    }
   ],
   "source": [
    "# h2o.get_model(mod_best)\n",
    "mod_best.params"
   ]
  },
  {
   "cell_type": "code",
   "execution_count": 92,
   "metadata": {},
   "outputs": [
    {
     "name": "stdout",
     "output_type": "stream",
     "text": [
      "{'model_id': {'default': None, 'actual': {'__meta': {'schema_version': 3, 'schema_name': 'ModelKeyV3', 'schema_type': 'Key<Model>'}, 'name': 'GBM_grid_1_AutoML_20190422_170306_model_4', 'type': 'Key<Model>', 'URL': '/3/Models/GBM_grid_1_AutoML_20190422_170306_model_4'}}, 'training_frame': {'default': None, 'actual': {'__meta': {'schema_version': 3, 'schema_name': 'FrameKeyV3', 'schema_type': 'Key<Frame>'}, 'name': 'automl_training_train_1000.hex', 'type': 'Key<Frame>', 'URL': '/3/Frames/automl_training_train_1000.hex'}}, 'validation_frame': {'default': None, 'actual': None}, 'nfolds': {'default': 0, 'actual': 5}, 'keep_cross_validation_models': {'default': True, 'actual': False}, 'keep_cross_validation_predictions': {'default': False, 'actual': True}, 'keep_cross_validation_fold_assignment': {'default': False, 'actual': False}, 'score_each_iteration': {'default': False, 'actual': False}, 'score_tree_interval': {'default': 0, 'actual': 5}, 'fold_assignment': {'default': 'AUTO', 'actual': 'Modulo'}, 'fold_column': {'default': None, 'actual': None}, 'response_column': {'default': None, 'actual': {'__meta': {'schema_version': 3, 'schema_name': 'ColSpecifierV3', 'schema_type': 'VecSpecifier'}, 'column_name': 'Claim', 'is_member_of_frames': None}}, 'ignored_columns': {'default': None, 'actual': []}, 'ignore_const_cols': {'default': True, 'actual': True}, 'offset_column': {'default': None, 'actual': None}, 'weights_column': {'default': None, 'actual': None}, 'balance_classes': {'default': False, 'actual': False}, 'class_sampling_factors': {'default': None, 'actual': None}, 'max_after_balance_size': {'default': 5.0, 'actual': 5.0}, 'max_confusion_matrix_size': {'default': 20, 'actual': 20}, 'max_hit_ratio_k': {'default': 0, 'actual': 0}, 'ntrees': {'default': 50, 'actual': 157}, 'max_depth': {'default': 5, 'actual': 7}, 'min_rows': {'default': 10.0, 'actual': 5.0}, 'nbins': {'default': 20, 'actual': 20}, 'nbins_top_level': {'default': 1024, 'actual': 1024}, 'nbins_cats': {'default': 1024, 'actual': 1024}, 'r2_stopping': {'default': 1.7976931348623157e+308, 'actual': 1.7976931348623157e+308}, 'stopping_rounds': {'default': 0, 'actual': 0}, 'stopping_metric': {'default': 'AUTO', 'actual': 'logloss'}, 'stopping_tolerance': {'default': 0.001, 'actual': 0.00397382714153187}, 'max_runtime_secs': {'default': 0.0, 'actual': 0.0}, 'seed': {'default': -1, 'actual': -1709719078804724970}, 'build_tree_one_node': {'default': False, 'actual': False}, 'learn_rate': {'default': 0.1, 'actual': 0.008}, 'learn_rate_annealing': {'default': 1.0, 'actual': 1.0}, 'distribution': {'default': 'AUTO', 'actual': 'bernoulli'}, 'quantile_alpha': {'default': 0.5, 'actual': 0.5}, 'tweedie_power': {'default': 1.5, 'actual': 1.5}, 'huber_alpha': {'default': 0.9, 'actual': 0.9}, 'checkpoint': {'default': None, 'actual': None}, 'sample_rate': {'default': 1.0, 'actual': 1.0}, 'sample_rate_per_class': {'default': None, 'actual': None}, 'col_sample_rate': {'default': 1.0, 'actual': 0.7}, 'col_sample_rate_change_per_level': {'default': 1.0, 'actual': 1.0}, 'col_sample_rate_per_tree': {'default': 1.0, 'actual': 0.4}, 'min_split_improvement': {'default': 1e-05, 'actual': 0.0001}, 'histogram_type': {'default': 'AUTO', 'actual': 'AUTO'}, 'max_abs_leafnode_pred': {'default': 1.7976931348623157e+308, 'actual': 1.7976931348623157e+308}, 'pred_noise_bandwidth': {'default': 0.0, 'actual': 0.0}, 'categorical_encoding': {'default': 'AUTO', 'actual': 'AUTO'}, 'calibrate_model': {'default': False, 'actual': False}, 'calibration_frame': {'default': None, 'actual': None}, 'custom_metric_func': {'default': None, 'actual': None}, 'export_checkpoints_dir': {'default': None, 'actual': None}, 'monotone_constraints': {'default': None, 'actual': None}, 'check_constant_response': {'default': True, 'actual': True}}\n",
      "{'model_id': {'default': None, 'actual': {'__meta': {'schema_version': 3, 'schema_name': 'ModelKeyV3', 'schema_type': 'Key<Model>'}, 'name': 'GBM_grid_1_AutoML_20190422_170306_model_4', 'type': 'Key<Model>', 'URL': '/3/Models/GBM_grid_1_AutoML_20190422_170306_model_4'}}, 'training_frame': {'default': None, 'actual': {'__meta': {'schema_version': 3, 'schema_name': 'FrameKeyV3', 'schema_type': 'Key<Frame>'}, 'name': 'automl_training_train_1000.hex', 'type': 'Key<Frame>', 'URL': '/3/Frames/automl_training_train_1000.hex'}}, 'validation_frame': {'default': None, 'actual': None}, 'nfolds': {'default': 0, 'actual': 5}, 'keep_cross_validation_models': {'default': True, 'actual': False}, 'keep_cross_validation_predictions': {'default': False, 'actual': True}, 'keep_cross_validation_fold_assignment': {'default': False, 'actual': False}, 'score_each_iteration': {'default': False, 'actual': False}, 'score_tree_interval': {'default': 0, 'actual': 5}, 'fold_assignment': {'default': 'AUTO', 'actual': 'Modulo'}, 'fold_column': {'default': None, 'actual': None}, 'response_column': {'default': None, 'actual': {'__meta': {'schema_version': 3, 'schema_name': 'ColSpecifierV3', 'schema_type': 'VecSpecifier'}, 'column_name': 'Claim', 'is_member_of_frames': None}}, 'ignored_columns': {'default': None, 'actual': []}, 'ignore_const_cols': {'default': True, 'actual': True}, 'offset_column': {'default': None, 'actual': None}, 'weights_column': {'default': None, 'actual': None}, 'balance_classes': {'default': False, 'actual': False}, 'class_sampling_factors': {'default': None, 'actual': None}, 'max_after_balance_size': {'default': 5.0, 'actual': 5.0}, 'max_confusion_matrix_size': {'default': 20, 'actual': 20}, 'max_hit_ratio_k': {'default': 0, 'actual': 0}, 'ntrees': {'default': 50, 'actual': 157}, 'max_depth': {'default': 5, 'actual': 7}, 'min_rows': {'default': 10.0, 'actual': 5.0}, 'nbins': {'default': 20, 'actual': 20}, 'nbins_top_level': {'default': 1024, 'actual': 1024}, 'nbins_cats': {'default': 1024, 'actual': 1024}, 'r2_stopping': {'default': 1.7976931348623157e+308, 'actual': 1.7976931348623157e+308}, 'stopping_rounds': {'default': 0, 'actual': 0}, 'stopping_metric': {'default': 'AUTO', 'actual': 'logloss'}, 'stopping_tolerance': {'default': 0.001, 'actual': 0.00397382714153187}, 'max_runtime_secs': {'default': 0.0, 'actual': 0.0}, 'seed': {'default': -1, 'actual': -1709719078804724970}, 'build_tree_one_node': {'default': False, 'actual': False}, 'learn_rate': {'default': 0.1, 'actual': 0.008}, 'learn_rate_annealing': {'default': 1.0, 'actual': 1.0}, 'distribution': {'default': 'AUTO', 'actual': 'bernoulli'}, 'quantile_alpha': {'default': 0.5, 'actual': 0.5}, 'tweedie_power': {'default': 1.5, 'actual': 1.5}, 'huber_alpha': {'default': 0.9, 'actual': 0.9}, 'checkpoint': {'default': None, 'actual': None}, 'sample_rate': {'default': 1.0, 'actual': 1.0}, 'sample_rate_per_class': {'default': None, 'actual': None}, 'col_sample_rate': {'default': 1.0, 'actual': 0.7}, 'col_sample_rate_change_per_level': {'default': 1.0, 'actual': 1.0}, 'col_sample_rate_per_tree': {'default': 1.0, 'actual': 0.4}, 'min_split_improvement': {'default': 1e-05, 'actual': 0.0001}, 'histogram_type': {'default': 'AUTO', 'actual': 'AUTO'}, 'max_abs_leafnode_pred': {'default': 1.7976931348623157e+308, 'actual': 1.7976931348623157e+308}, 'pred_noise_bandwidth': {'default': 0.0, 'actual': 0.0}, 'categorical_encoding': {'default': 'AUTO', 'actual': 'AUTO'}, 'calibrate_model': {'default': False, 'actual': False}, 'calibration_frame': {'default': None, 'actual': None}, 'custom_metric_func': {'default': None, 'actual': None}, 'export_checkpoints_dir': {'default': None, 'actual': None}, 'monotone_constraints': {'default': None, 'actual': None}, 'check_constant_response': {'default': True, 'actual': True}}\n"
     ]
    },
    {
     "name": "stdout",
     "output_type": "stream",
     "text": [
      "{'model_id': {'default': None, 'actual': {'__meta': {'schema_version': 3, 'schema_name': 'ModelKeyV3', 'schema_type': 'Key<Model>'}, 'name': 'GBM_grid_1_AutoML_20190422_170306_model_4', 'type': 'Key<Model>', 'URL': '/3/Models/GBM_grid_1_AutoML_20190422_170306_model_4'}}, 'training_frame': {'default': None, 'actual': {'__meta': {'schema_version': 3, 'schema_name': 'FrameKeyV3', 'schema_type': 'Key<Frame>'}, 'name': 'automl_training_train_1000.hex', 'type': 'Key<Frame>', 'URL': '/3/Frames/automl_training_train_1000.hex'}}, 'validation_frame': {'default': None, 'actual': None}, 'nfolds': {'default': 0, 'actual': 5}, 'keep_cross_validation_models': {'default': True, 'actual': False}, 'keep_cross_validation_predictions': {'default': False, 'actual': True}, 'keep_cross_validation_fold_assignment': {'default': False, 'actual': False}, 'score_each_iteration': {'default': False, 'actual': False}, 'score_tree_interval': {'default': 0, 'actual': 5}, 'fold_assignment': {'default': 'AUTO', 'actual': 'Modulo'}, 'fold_column': {'default': None, 'actual': None}, 'response_column': {'default': None, 'actual': {'__meta': {'schema_version': 3, 'schema_name': 'ColSpecifierV3', 'schema_type': 'VecSpecifier'}, 'column_name': 'Claim', 'is_member_of_frames': None}}, 'ignored_columns': {'default': None, 'actual': []}, 'ignore_const_cols': {'default': True, 'actual': True}, 'offset_column': {'default': None, 'actual': None}, 'weights_column': {'default': None, 'actual': None}, 'balance_classes': {'default': False, 'actual': False}, 'class_sampling_factors': {'default': None, 'actual': None}, 'max_after_balance_size': {'default': 5.0, 'actual': 5.0}, 'max_confusion_matrix_size': {'default': 20, 'actual': 20}, 'max_hit_ratio_k': {'default': 0, 'actual': 0}, 'ntrees': {'default': 50, 'actual': 157}, 'max_depth': {'default': 5, 'actual': 7}, 'min_rows': {'default': 10.0, 'actual': 5.0}, 'nbins': {'default': 20, 'actual': 20}, 'nbins_top_level': {'default': 1024, 'actual': 1024}, 'nbins_cats': {'default': 1024, 'actual': 1024}, 'r2_stopping': {'default': 1.7976931348623157e+308, 'actual': 1.7976931348623157e+308}, 'stopping_rounds': {'default': 0, 'actual': 0}, 'stopping_metric': {'default': 'AUTO', 'actual': 'logloss'}, 'stopping_tolerance': {'default': 0.001, 'actual': 0.00397382714153187}, 'max_runtime_secs': {'default': 0.0, 'actual': 0.0}, 'seed': {'default': -1, 'actual': -1709719078804724970}, 'build_tree_one_node': {'default': False, 'actual': False}, 'learn_rate': {'default': 0.1, 'actual': 0.008}, 'learn_rate_annealing': {'default': 1.0, 'actual': 1.0}, 'distribution': {'default': 'AUTO', 'actual': 'bernoulli'}, 'quantile_alpha': {'default': 0.5, 'actual': 0.5}, 'tweedie_power': {'default': 1.5, 'actual': 1.5}, 'huber_alpha': {'default': 0.9, 'actual': 0.9}, 'checkpoint': {'default': None, 'actual': None}, 'sample_rate': {'default': 1.0, 'actual': 1.0}, 'sample_rate_per_class': {'default': None, 'actual': None}, 'col_sample_rate': {'default': 1.0, 'actual': 0.7}, 'col_sample_rate_change_per_level': {'default': 1.0, 'actual': 1.0}, 'col_sample_rate_per_tree': {'default': 1.0, 'actual': 0.4}, 'min_split_improvement': {'default': 1e-05, 'actual': 0.0001}, 'histogram_type': {'default': 'AUTO', 'actual': 'AUTO'}, 'max_abs_leafnode_pred': {'default': 1.7976931348623157e+308, 'actual': 1.7976931348623157e+308}, 'pred_noise_bandwidth': {'default': 0.0, 'actual': 0.0}, 'categorical_encoding': {'default': 'AUTO', 'actual': 'AUTO'}, 'calibrate_model': {'default': False, 'actual': False}, 'calibration_frame': {'default': None, 'actual': None}, 'custom_metric_func': {'default': None, 'actual': None}, 'export_checkpoints_dir': {'default': None, 'actual': None}, 'monotone_constraints': {'default': None, 'actual': None}, 'check_constant_response': {'default': True, 'actual': True}}\n",
      "{'model_id': {'default': None, 'actual': {'__meta': {'schema_version': 3, 'schema_name': 'ModelKeyV3', 'schema_type': 'Key<Model>'}, 'name': 'GBM_grid_1_AutoML_20190422_170306_model_4', 'type': 'Key<Model>', 'URL': '/3/Models/GBM_grid_1_AutoML_20190422_170306_model_4'}}, 'training_frame': {'default': None, 'actual': {'__meta': {'schema_version': 3, 'schema_name': 'FrameKeyV3', 'schema_type': 'Key<Frame>'}, 'name': 'automl_training_train_1000.hex', 'type': 'Key<Frame>', 'URL': '/3/Frames/automl_training_train_1000.hex'}}, 'validation_frame': {'default': None, 'actual': None}, 'nfolds': {'default': 0, 'actual': 5}, 'keep_cross_validation_models': {'default': True, 'actual': False}, 'keep_cross_validation_predictions': {'default': False, 'actual': True}, 'keep_cross_validation_fold_assignment': {'default': False, 'actual': False}, 'score_each_iteration': {'default': False, 'actual': False}, 'score_tree_interval': {'default': 0, 'actual': 5}, 'fold_assignment': {'default': 'AUTO', 'actual': 'Modulo'}, 'fold_column': {'default': None, 'actual': None}, 'response_column': {'default': None, 'actual': {'__meta': {'schema_version': 3, 'schema_name': 'ColSpecifierV3', 'schema_type': 'VecSpecifier'}, 'column_name': 'Claim', 'is_member_of_frames': None}}, 'ignored_columns': {'default': None, 'actual': []}, 'ignore_const_cols': {'default': True, 'actual': True}, 'offset_column': {'default': None, 'actual': None}, 'weights_column': {'default': None, 'actual': None}, 'balance_classes': {'default': False, 'actual': False}, 'class_sampling_factors': {'default': None, 'actual': None}, 'max_after_balance_size': {'default': 5.0, 'actual': 5.0}, 'max_confusion_matrix_size': {'default': 20, 'actual': 20}, 'max_hit_ratio_k': {'default': 0, 'actual': 0}, 'ntrees': {'default': 50, 'actual': 157}, 'max_depth': {'default': 5, 'actual': 7}, 'min_rows': {'default': 10.0, 'actual': 5.0}, 'nbins': {'default': 20, 'actual': 20}, 'nbins_top_level': {'default': 1024, 'actual': 1024}, 'nbins_cats': {'default': 1024, 'actual': 1024}, 'r2_stopping': {'default': 1.7976931348623157e+308, 'actual': 1.7976931348623157e+308}, 'stopping_rounds': {'default': 0, 'actual': 0}, 'stopping_metric': {'default': 'AUTO', 'actual': 'logloss'}, 'stopping_tolerance': {'default': 0.001, 'actual': 0.00397382714153187}, 'max_runtime_secs': {'default': 0.0, 'actual': 0.0}, 'seed': {'default': -1, 'actual': -1709719078804724970}, 'build_tree_one_node': {'default': False, 'actual': False}, 'learn_rate': {'default': 0.1, 'actual': 0.008}, 'learn_rate_annealing': {'default': 1.0, 'actual': 1.0}, 'distribution': {'default': 'AUTO', 'actual': 'bernoulli'}, 'quantile_alpha': {'default': 0.5, 'actual': 0.5}, 'tweedie_power': {'default': 1.5, 'actual': 1.5}, 'huber_alpha': {'default': 0.9, 'actual': 0.9}, 'checkpoint': {'default': None, 'actual': None}, 'sample_rate': {'default': 1.0, 'actual': 1.0}, 'sample_rate_per_class': {'default': None, 'actual': None}, 'col_sample_rate': {'default': 1.0, 'actual': 0.7}, 'col_sample_rate_change_per_level': {'default': 1.0, 'actual': 1.0}, 'col_sample_rate_per_tree': {'default': 1.0, 'actual': 0.4}, 'min_split_improvement': {'default': 1e-05, 'actual': 0.0001}, 'histogram_type': {'default': 'AUTO', 'actual': 'AUTO'}, 'max_abs_leafnode_pred': {'default': 1.7976931348623157e+308, 'actual': 1.7976931348623157e+308}, 'pred_noise_bandwidth': {'default': 0.0, 'actual': 0.0}, 'categorical_encoding': {'default': 'AUTO', 'actual': 'AUTO'}, 'calibrate_model': {'default': False, 'actual': False}, 'calibration_frame': {'default': None, 'actual': None}, 'custom_metric_func': {'default': None, 'actual': None}, 'export_checkpoints_dir': {'default': None, 'actual': None}, 'monotone_constraints': {'default': None, 'actual': None}, 'check_constant_response': {'default': True, 'actual': True}}\n"
     ]
    },
    {
     "name": "stdout",
     "output_type": "stream",
     "text": [
      "{'model_id': {'default': None, 'actual': {'__meta': {'schema_version': 3, 'schema_name': 'ModelKeyV3', 'schema_type': 'Key<Model>'}, 'name': 'GBM_grid_1_AutoML_20190422_170306_model_4', 'type': 'Key<Model>', 'URL': '/3/Models/GBM_grid_1_AutoML_20190422_170306_model_4'}}, 'training_frame': {'default': None, 'actual': {'__meta': {'schema_version': 3, 'schema_name': 'FrameKeyV3', 'schema_type': 'Key<Frame>'}, 'name': 'automl_training_train_1000.hex', 'type': 'Key<Frame>', 'URL': '/3/Frames/automl_training_train_1000.hex'}}, 'validation_frame': {'default': None, 'actual': None}, 'nfolds': {'default': 0, 'actual': 5}, 'keep_cross_validation_models': {'default': True, 'actual': False}, 'keep_cross_validation_predictions': {'default': False, 'actual': True}, 'keep_cross_validation_fold_assignment': {'default': False, 'actual': False}, 'score_each_iteration': {'default': False, 'actual': False}, 'score_tree_interval': {'default': 0, 'actual': 5}, 'fold_assignment': {'default': 'AUTO', 'actual': 'Modulo'}, 'fold_column': {'default': None, 'actual': None}, 'response_column': {'default': None, 'actual': {'__meta': {'schema_version': 3, 'schema_name': 'ColSpecifierV3', 'schema_type': 'VecSpecifier'}, 'column_name': 'Claim', 'is_member_of_frames': None}}, 'ignored_columns': {'default': None, 'actual': []}, 'ignore_const_cols': {'default': True, 'actual': True}, 'offset_column': {'default': None, 'actual': None}, 'weights_column': {'default': None, 'actual': None}, 'balance_classes': {'default': False, 'actual': False}, 'class_sampling_factors': {'default': None, 'actual': None}, 'max_after_balance_size': {'default': 5.0, 'actual': 5.0}, 'max_confusion_matrix_size': {'default': 20, 'actual': 20}, 'max_hit_ratio_k': {'default': 0, 'actual': 0}, 'ntrees': {'default': 50, 'actual': 157}, 'max_depth': {'default': 5, 'actual': 7}, 'min_rows': {'default': 10.0, 'actual': 5.0}, 'nbins': {'default': 20, 'actual': 20}, 'nbins_top_level': {'default': 1024, 'actual': 1024}, 'nbins_cats': {'default': 1024, 'actual': 1024}, 'r2_stopping': {'default': 1.7976931348623157e+308, 'actual': 1.7976931348623157e+308}, 'stopping_rounds': {'default': 0, 'actual': 0}, 'stopping_metric': {'default': 'AUTO', 'actual': 'logloss'}, 'stopping_tolerance': {'default': 0.001, 'actual': 0.00397382714153187}, 'max_runtime_secs': {'default': 0.0, 'actual': 0.0}, 'seed': {'default': -1, 'actual': -1709719078804724970}, 'build_tree_one_node': {'default': False, 'actual': False}, 'learn_rate': {'default': 0.1, 'actual': 0.008}, 'learn_rate_annealing': {'default': 1.0, 'actual': 1.0}, 'distribution': {'default': 'AUTO', 'actual': 'bernoulli'}, 'quantile_alpha': {'default': 0.5, 'actual': 0.5}, 'tweedie_power': {'default': 1.5, 'actual': 1.5}, 'huber_alpha': {'default': 0.9, 'actual': 0.9}, 'checkpoint': {'default': None, 'actual': None}, 'sample_rate': {'default': 1.0, 'actual': 1.0}, 'sample_rate_per_class': {'default': None, 'actual': None}, 'col_sample_rate': {'default': 1.0, 'actual': 0.7}, 'col_sample_rate_change_per_level': {'default': 1.0, 'actual': 1.0}, 'col_sample_rate_per_tree': {'default': 1.0, 'actual': 0.4}, 'min_split_improvement': {'default': 1e-05, 'actual': 0.0001}, 'histogram_type': {'default': 'AUTO', 'actual': 'AUTO'}, 'max_abs_leafnode_pred': {'default': 1.7976931348623157e+308, 'actual': 1.7976931348623157e+308}, 'pred_noise_bandwidth': {'default': 0.0, 'actual': 0.0}, 'categorical_encoding': {'default': 'AUTO', 'actual': 'AUTO'}, 'calibrate_model': {'default': False, 'actual': False}, 'calibration_frame': {'default': None, 'actual': None}, 'custom_metric_func': {'default': None, 'actual': None}, 'export_checkpoints_dir': {'default': None, 'actual': None}, 'monotone_constraints': {'default': None, 'actual': None}, 'check_constant_response': {'default': True, 'actual': True}}\n"
     ]
    }
   ],
   "source": [
    "for index, row in aml_leaderboard_df.head().iterrows():\n",
    "     #print(index, row)\n",
    "     mod_best.params\n",
    "     print(mod_best.params)\n",
    "     "
   ]
  },
  {
   "cell_type": "code",
   "execution_count": 93,
   "metadata": {},
   "outputs": [
    {
     "name": "stdout",
     "output_type": "stream",
     "text": [
      "GBM_grid_1_AutoML_20190422_170306_model_4\n",
      "GBM_grid_1_AutoML_20190422_170306_model_5\n",
      "GBM_1_AutoML_20190422_170306\n",
      "GBM_2_AutoML_20190422_170306\n",
      "GBM_grid_1_AutoML_20190422_170306_model_2\n",
      "GBM_grid_1_AutoML_20190422_170306_model_8\n",
      "StackedEnsemble_AllModels_AutoML_20190422_170306\n",
      "GBM_3_AutoML_20190422_170306\n",
      "StackedEnsemble_BestOfFamily_AutoML_20190422_170306\n",
      "GBM_5_AutoML_20190422_170306\n",
      "GBM_grid_1_AutoML_20190422_170306_model_7\n",
      "GBM_grid_1_AutoML_20190422_170306_model_6\n",
      "GBM_4_AutoML_20190422_170306\n",
      "GBM_grid_1_AutoML_20190422_170306_model_3\n",
      "GBM_grid_1_AutoML_20190422_170306_model_1\n",
      "GBM_grid_1_AutoML_20190422_170306_model_10\n",
      "GLM_grid_1_AutoML_20190422_170306_model_1\n",
      "XRT_1_AutoML_20190422_170306\n",
      "DeepLearning_grid_1_AutoML_20190422_170306_model_3\n",
      "DRF_1_AutoML_20190422_170306\n",
      "DeepLearning_grid_1_AutoML_20190422_170306_model_5\n",
      "DeepLearning_1_AutoML_20190422_170306\n",
      "DeepLearning_grid_1_AutoML_20190422_170306_model_6\n",
      "DeepLearning_grid_1_AutoML_20190422_170306_model_2\n",
      "DeepLearning_grid_1_AutoML_20190422_170306_model_1\n",
      "DeepLearning_grid_1_AutoML_20190422_170306_model_4\n",
      "GBM_grid_1_AutoML_20190422_170306_model_9\n"
     ]
    }
   ],
   "source": [
    "jsonDicts= []\n",
    "for id in model_set.iteritems():\n",
    "  id,model_name = id\n",
    "  print(model_name)\n",
    "  mod_best=h2o.get_model(model_name)\n",
    "  jsonDicts.append(mod_best.params)"
   ]
  },
  {
   "cell_type": "code",
   "execution_count": 94,
   "metadata": {},
   "outputs": [
    {
     "name": "stdout",
     "output_type": "stream",
     "text": [
      "[{'model_id': {'default': None, 'actual': {'__meta': {'schema_version': 3, 'schema_name': 'ModelKeyV3', 'schema_type': 'Key<Model>'}, 'name': 'GBM_grid_1_AutoML_20190422_170306_model_4', 'type': 'Key<Model>', 'URL': '/3/Models/GBM_grid_1_AutoML_20190422_170306_model_4'}}, 'training_frame': {'default': None, 'actual': {'__meta': {'schema_version': 3, 'schema_name': 'FrameKeyV3', 'schema_type': 'Key<Frame>'}, 'name': 'automl_training_train_1000.hex', 'type': 'Key<Frame>', 'URL': '/3/Frames/automl_training_train_1000.hex'}}, 'validation_frame': {'default': None, 'actual': None}, 'nfolds': {'default': 0, 'actual': 5}, 'keep_cross_validation_models': {'default': True, 'actual': False}, 'keep_cross_validation_predictions': {'default': False, 'actual': True}, 'keep_cross_validation_fold_assignment': {'default': False, 'actual': False}, 'score_each_iteration': {'default': False, 'actual': False}, 'score_tree_interval': {'default': 0, 'actual': 5}, 'fold_assignment': {'default': 'AUTO', 'actual': 'Modulo'}, 'fold_column': {'default': None, 'actual': None}, 'response_column': {'default': None, 'actual': {'__meta': {'schema_version': 3, 'schema_name': 'ColSpecifierV3', 'schema_type': 'VecSpecifier'}, 'column_name': 'Claim', 'is_member_of_frames': None}}, 'ignored_columns': {'default': None, 'actual': []}, 'ignore_const_cols': {'default': True, 'actual': True}, 'offset_column': {'default': None, 'actual': None}, 'weights_column': {'default': None, 'actual': None}, 'balance_classes': {'default': False, 'actual': False}, 'class_sampling_factors': {'default': None, 'actual': None}, 'max_after_balance_size': {'default': 5.0, 'actual': 5.0}, 'max_confusion_matrix_size': {'default': 20, 'actual': 20}, 'max_hit_ratio_k': {'default': 0, 'actual': 0}, 'ntrees': {'default': 50, 'actual': 157}, 'max_depth': {'default': 5, 'actual': 7}, 'min_rows': {'default': 10.0, 'actual': 5.0}, 'nbins': {'default': 20, 'actual': 20}, 'nbins_top_level': {'default': 1024, 'actual': 1024}, 'nbins_cats': {'default': 1024, 'actual': 1024}, 'r2_stopping': {'default': 1.7976931348623157e+308, 'actual': 1.7976931348623157e+308}, 'stopping_rounds': {'default': 0, 'actual': 0}, 'stopping_metric': {'default': 'AUTO', 'actual': 'logloss'}, 'stopping_tolerance': {'default': 0.001, 'actual': 0.00397382714153187}, 'max_runtime_secs': {'default': 0.0, 'actual': 0.0}, 'seed': {'default': -1, 'actual': -1709719078804724970}, 'build_tree_one_node': {'default': False, 'actual': False}, 'learn_rate': {'default': 0.1, 'actual': 0.008}, 'learn_rate_annealing': {'default': 1.0, 'actual': 1.0}, 'distribution': {'default': 'AUTO', 'actual': 'bernoulli'}, 'quantile_alpha': {'default': 0.5, 'actual': 0.5}, 'tweedie_power': {'default': 1.5, 'actual': 1.5}, 'huber_alpha': {'default': 0.9, 'actual': 0.9}, 'checkpoint': {'default': None, 'actual': None}, 'sample_rate': {'default': 1.0, 'actual': 1.0}, 'sample_rate_per_class': {'default': None, 'actual': None}, 'col_sample_rate': {'default': 1.0, 'actual': 0.7}, 'col_sample_rate_change_per_level': {'default': 1.0, 'actual': 1.0}, 'col_sample_rate_per_tree': {'default': 1.0, 'actual': 0.4}, 'min_split_improvement': {'default': 1e-05, 'actual': 0.0001}, 'histogram_type': {'default': 'AUTO', 'actual': 'AUTO'}, 'max_abs_leafnode_pred': {'default': 1.7976931348623157e+308, 'actual': 1.7976931348623157e+308}, 'pred_noise_bandwidth': {'default': 0.0, 'actual': 0.0}, 'categorical_encoding': {'default': 'AUTO', 'actual': 'AUTO'}, 'calibrate_model': {'default': False, 'actual': False}, 'calibration_frame': {'default': None, 'actual': None}, 'custom_metric_func': {'default': None, 'actual': None}, 'export_checkpoints_dir': {'default': None, 'actual': None}, 'monotone_constraints': {'default': None, 'actual': None}, 'check_constant_response': {'default': True, 'actual': True}}, {'model_id': {'default': None, 'actual': {'__meta': {'schema_version': 3, 'schema_name': 'ModelKeyV3', 'schema_type': 'Key<Model>'}, 'name': 'GBM_grid_1_AutoML_20190422_170306_model_5', 'type': 'Key<Model>', 'URL': '/3/Models/GBM_grid_1_AutoML_20190422_170306_model_5'}}, 'training_frame': {'default': None, 'actual': {'__meta': {'schema_version': 3, 'schema_name': 'FrameKeyV3', 'schema_type': 'Key<Frame>'}, 'name': 'automl_training_train_1000.hex', 'type': 'Key<Frame>', 'URL': '/3/Frames/automl_training_train_1000.hex'}}, 'validation_frame': {'default': None, 'actual': None}, 'nfolds': {'default': 0, 'actual': 5}, 'keep_cross_validation_models': {'default': True, 'actual': False}, 'keep_cross_validation_predictions': {'default': False, 'actual': True}, 'keep_cross_validation_fold_assignment': {'default': False, 'actual': False}, 'score_each_iteration': {'default': False, 'actual': False}, 'score_tree_interval': {'default': 0, 'actual': 5}, 'fold_assignment': {'default': 'AUTO', 'actual': 'Modulo'}, 'fold_column': {'default': None, 'actual': None}, 'response_column': {'default': None, 'actual': {'__meta': {'schema_version': 3, 'schema_name': 'ColSpecifierV3', 'schema_type': 'VecSpecifier'}, 'column_name': 'Claim', 'is_member_of_frames': None}}, 'ignored_columns': {'default': None, 'actual': []}, 'ignore_const_cols': {'default': True, 'actual': True}, 'offset_column': {'default': None, 'actual': None}, 'weights_column': {'default': None, 'actual': None}, 'balance_classes': {'default': False, 'actual': False}, 'class_sampling_factors': {'default': None, 'actual': None}, 'max_after_balance_size': {'default': 5.0, 'actual': 5.0}, 'max_confusion_matrix_size': {'default': 20, 'actual': 20}, 'max_hit_ratio_k': {'default': 0, 'actual': 0}, 'ntrees': {'default': 50, 'actual': 168}, 'max_depth': {'default': 5, 'actual': 8}, 'min_rows': {'default': 10.0, 'actual': 5.0}, 'nbins': {'default': 20, 'actual': 20}, 'nbins_top_level': {'default': 1024, 'actual': 1024}, 'nbins_cats': {'default': 1024, 'actual': 1024}, 'r2_stopping': {'default': 1.7976931348623157e+308, 'actual': 1.7976931348623157e+308}, 'stopping_rounds': {'default': 0, 'actual': 0}, 'stopping_metric': {'default': 'AUTO', 'actual': 'logloss'}, 'stopping_tolerance': {'default': 0.001, 'actual': 0.00397382714153187}, 'max_runtime_secs': {'default': 0.0, 'actual': 0.0}, 'seed': {'default': -1, 'actual': -6878106890618080594}, 'build_tree_one_node': {'default': False, 'actual': False}, 'learn_rate': {'default': 0.1, 'actual': 0.01}, 'learn_rate_annealing': {'default': 1.0, 'actual': 1.0}, 'distribution': {'default': 'AUTO', 'actual': 'bernoulli'}, 'quantile_alpha': {'default': 0.5, 'actual': 0.5}, 'tweedie_power': {'default': 1.5, 'actual': 1.5}, 'huber_alpha': {'default': 0.9, 'actual': 0.9}, 'checkpoint': {'default': None, 'actual': None}, 'sample_rate': {'default': 1.0, 'actual': 0.8}, 'sample_rate_per_class': {'default': None, 'actual': None}, 'col_sample_rate': {'default': 1.0, 'actual': 0.4}, 'col_sample_rate_change_per_level': {'default': 1.0, 'actual': 1.0}, 'col_sample_rate_per_tree': {'default': 1.0, 'actual': 0.4}, 'min_split_improvement': {'default': 1e-05, 'actual': 0.0001}, 'histogram_type': {'default': 'AUTO', 'actual': 'AUTO'}, 'max_abs_leafnode_pred': {'default': 1.7976931348623157e+308, 'actual': 1.7976931348623157e+308}, 'pred_noise_bandwidth': {'default': 0.0, 'actual': 0.0}, 'categorical_encoding': {'default': 'AUTO', 'actual': 'AUTO'}, 'calibrate_model': {'default': False, 'actual': False}, 'calibration_frame': {'default': None, 'actual': None}, 'custom_metric_func': {'default': None, 'actual': None}, 'export_checkpoints_dir': {'default': None, 'actual': None}, 'monotone_constraints': {'default': None, 'actual': None}, 'check_constant_response': {'default': True, 'actual': True}}, {'model_id': {'default': None, 'actual': {'__meta': {'schema_version': 3, 'schema_name': 'ModelKeyV3', 'schema_type': 'Key<Model>'}, 'name': 'GBM_1_AutoML_20190422_170306', 'type': 'Key<Model>', 'URL': '/3/Models/GBM_1_AutoML_20190422_170306'}}, 'training_frame': {'default': None, 'actual': {'__meta': {'schema_version': 3, 'schema_name': 'FrameKeyV3', 'schema_type': 'Key<Frame>'}, 'name': 'automl_training_train_1000.hex', 'type': 'Key<Frame>', 'URL': '/3/Frames/automl_training_train_1000.hex'}}, 'validation_frame': {'default': None, 'actual': None}, 'nfolds': {'default': 0, 'actual': 5}, 'keep_cross_validation_models': {'default': True, 'actual': False}, 'keep_cross_validation_predictions': {'default': False, 'actual': True}, 'keep_cross_validation_fold_assignment': {'default': False, 'actual': False}, 'score_each_iteration': {'default': False, 'actual': False}, 'score_tree_interval': {'default': 0, 'actual': 5}, 'fold_assignment': {'default': 'AUTO', 'actual': 'Modulo'}, 'fold_column': {'default': None, 'actual': None}, 'response_column': {'default': None, 'actual': {'__meta': {'schema_version': 3, 'schema_name': 'ColSpecifierV3', 'schema_type': 'VecSpecifier'}, 'column_name': 'Claim', 'is_member_of_frames': None}}, 'ignored_columns': {'default': None, 'actual': []}, 'ignore_const_cols': {'default': True, 'actual': True}, 'offset_column': {'default': None, 'actual': None}, 'weights_column': {'default': None, 'actual': None}, 'balance_classes': {'default': False, 'actual': False}, 'class_sampling_factors': {'default': None, 'actual': None}, 'max_after_balance_size': {'default': 5.0, 'actual': 5.0}, 'max_confusion_matrix_size': {'default': 20, 'actual': 20}, 'max_hit_ratio_k': {'default': 0, 'actual': 0}, 'ntrees': {'default': 50, 'actual': 34}, 'max_depth': {'default': 5, 'actual': 15}, 'min_rows': {'default': 10.0, 'actual': 100.0}, 'nbins': {'default': 20, 'actual': 20}, 'nbins_top_level': {'default': 1024, 'actual': 1024}, 'nbins_cats': {'default': 1024, 'actual': 1024}, 'r2_stopping': {'default': 1.7976931348623157e+308, 'actual': 1.7976931348623157e+308}, 'stopping_rounds': {'default': 0, 'actual': 0}, 'stopping_metric': {'default': 'AUTO', 'actual': 'logloss'}, 'stopping_tolerance': {'default': 0.001, 'actual': 0.00397382714153187}, 'max_runtime_secs': {'default': 0.0, 'actual': 0.0}, 'seed': {'default': -1, 'actual': 6642769832677605149}, 'build_tree_one_node': {'default': False, 'actual': False}, 'learn_rate': {'default': 0.1, 'actual': 0.1}, 'learn_rate_annealing': {'default': 1.0, 'actual': 1.0}, 'distribution': {'default': 'AUTO', 'actual': 'bernoulli'}, 'quantile_alpha': {'default': 0.5, 'actual': 0.5}, 'tweedie_power': {'default': 1.5, 'actual': 1.5}, 'huber_alpha': {'default': 0.9, 'actual': 0.9}, 'checkpoint': {'default': None, 'actual': None}, 'sample_rate': {'default': 1.0, 'actual': 0.8}, 'sample_rate_per_class': {'default': None, 'actual': None}, 'col_sample_rate': {'default': 1.0, 'actual': 0.8}, 'col_sample_rate_change_per_level': {'default': 1.0, 'actual': 1.0}, 'col_sample_rate_per_tree': {'default': 1.0, 'actual': 0.8}, 'min_split_improvement': {'default': 1e-05, 'actual': 1e-05}, 'histogram_type': {'default': 'AUTO', 'actual': 'AUTO'}, 'max_abs_leafnode_pred': {'default': 1.7976931348623157e+308, 'actual': 1.7976931348623157e+308}, 'pred_noise_bandwidth': {'default': 0.0, 'actual': 0.0}, 'categorical_encoding': {'default': 'AUTO', 'actual': 'AUTO'}, 'calibrate_model': {'default': False, 'actual': False}, 'calibration_frame': {'default': None, 'actual': None}, 'custom_metric_func': {'default': None, 'actual': None}, 'export_checkpoints_dir': {'default': None, 'actual': None}, 'monotone_constraints': {'default': None, 'actual': None}, 'check_constant_response': {'default': True, 'actual': True}}, {'model_id': {'default': None, 'actual': {'__meta': {'schema_version': 3, 'schema_name': 'ModelKeyV3', 'schema_type': 'Key<Model>'}, 'name': 'GBM_2_AutoML_20190422_170306', 'type': 'Key<Model>', 'URL': '/3/Models/GBM_2_AutoML_20190422_170306'}}, 'training_frame': {'default': None, 'actual': {'__meta': {'schema_version': 3, 'schema_name': 'FrameKeyV3', 'schema_type': 'Key<Frame>'}, 'name': 'automl_training_train_1000.hex', 'type': 'Key<Frame>', 'URL': '/3/Frames/automl_training_train_1000.hex'}}, 'validation_frame': {'default': None, 'actual': None}, 'nfolds': {'default': 0, 'actual': 5}, 'keep_cross_validation_models': {'default': True, 'actual': False}, 'keep_cross_validation_predictions': {'default': False, 'actual': True}, 'keep_cross_validation_fold_assignment': {'default': False, 'actual': False}, 'score_each_iteration': {'default': False, 'actual': False}, 'score_tree_interval': {'default': 0, 'actual': 5}, 'fold_assignment': {'default': 'AUTO', 'actual': 'Modulo'}, 'fold_column': {'default': None, 'actual': None}, 'response_column': {'default': None, 'actual': {'__meta': {'schema_version': 3, 'schema_name': 'ColSpecifierV3', 'schema_type': 'VecSpecifier'}, 'column_name': 'Claim', 'is_member_of_frames': None}}, 'ignored_columns': {'default': None, 'actual': []}, 'ignore_const_cols': {'default': True, 'actual': True}, 'offset_column': {'default': None, 'actual': None}, 'weights_column': {'default': None, 'actual': None}, 'balance_classes': {'default': False, 'actual': False}, 'class_sampling_factors': {'default': None, 'actual': None}, 'max_after_balance_size': {'default': 5.0, 'actual': 5.0}, 'max_confusion_matrix_size': {'default': 20, 'actual': 20}, 'max_hit_ratio_k': {'default': 0, 'actual': 0}, 'ntrees': {'default': 50, 'actual': 34}, 'max_depth': {'default': 5, 'actual': 15}, 'min_rows': {'default': 10.0, 'actual': 100.0}, 'nbins': {'default': 20, 'actual': 20}, 'nbins_top_level': {'default': 1024, 'actual': 1024}, 'nbins_cats': {'default': 1024, 'actual': 1024}, 'r2_stopping': {'default': 1.7976931348623157e+308, 'actual': 1.7976931348623157e+308}, 'stopping_rounds': {'default': 0, 'actual': 0}, 'stopping_metric': {'default': 'AUTO', 'actual': 'logloss'}, 'stopping_tolerance': {'default': 0.001, 'actual': 0.00397382714153187}, 'max_runtime_secs': {'default': 0.0, 'actual': 0.0}, 'seed': {'default': -1, 'actual': 6642769832677605149}, 'build_tree_one_node': {'default': False, 'actual': False}, 'learn_rate': {'default': 0.1, 'actual': 0.1}, 'learn_rate_annealing': {'default': 1.0, 'actual': 1.0}, 'distribution': {'default': 'AUTO', 'actual': 'bernoulli'}, 'quantile_alpha': {'default': 0.5, 'actual': 0.5}, 'tweedie_power': {'default': 1.5, 'actual': 1.5}, 'huber_alpha': {'default': 0.9, 'actual': 0.9}, 'checkpoint': {'default': None, 'actual': None}, 'sample_rate': {'default': 1.0, 'actual': 0.8}, 'sample_rate_per_class': {'default': None, 'actual': None}, 'col_sample_rate': {'default': 1.0, 'actual': 0.8}, 'col_sample_rate_change_per_level': {'default': 1.0, 'actual': 1.0}, 'col_sample_rate_per_tree': {'default': 1.0, 'actual': 0.8}, 'min_split_improvement': {'default': 1e-05, 'actual': 1e-05}, 'histogram_type': {'default': 'AUTO', 'actual': 'AUTO'}, 'max_abs_leafnode_pred': {'default': 1.7976931348623157e+308, 'actual': 1.7976931348623157e+308}, 'pred_noise_bandwidth': {'default': 0.0, 'actual': 0.0}, 'categorical_encoding': {'default': 'AUTO', 'actual': 'AUTO'}, 'calibrate_model': {'default': False, 'actual': False}, 'calibration_frame': {'default': None, 'actual': None}, 'custom_metric_func': {'default': None, 'actual': None}, 'export_checkpoints_dir': {'default': None, 'actual': None}, 'monotone_constraints': {'default': None, 'actual': None}, 'check_constant_response': {'default': True, 'actual': True}}, {'model_id': {'default': None, 'actual': {'__meta': {'schema_version': 3, 'schema_name': 'ModelKeyV3', 'schema_type': 'Key<Model>'}, 'name': 'GBM_grid_1_AutoML_20190422_170306_model_2', 'type': 'Key<Model>', 'URL': '/3/Models/GBM_grid_1_AutoML_20190422_170306_model_2'}}, 'training_frame': {'default': None, 'actual': {'__meta': {'schema_version': 3, 'schema_name': 'FrameKeyV3', 'schema_type': 'Key<Frame>'}, 'name': 'automl_training_train_1000.hex', 'type': 'Key<Frame>', 'URL': '/3/Frames/automl_training_train_1000.hex'}}, 'validation_frame': {'default': None, 'actual': None}, 'nfolds': {'default': 0, 'actual': 5}, 'keep_cross_validation_models': {'default': True, 'actual': False}, 'keep_cross_validation_predictions': {'default': False, 'actual': True}, 'keep_cross_validation_fold_assignment': {'default': False, 'actual': False}, 'score_each_iteration': {'default': False, 'actual': False}, 'score_tree_interval': {'default': 0, 'actual': 5}, 'fold_assignment': {'default': 'AUTO', 'actual': 'Modulo'}, 'fold_column': {'default': None, 'actual': None}, 'response_column': {'default': None, 'actual': {'__meta': {'schema_version': 3, 'schema_name': 'ColSpecifierV3', 'schema_type': 'VecSpecifier'}, 'column_name': 'Claim', 'is_member_of_frames': None}}, 'ignored_columns': {'default': None, 'actual': []}, 'ignore_const_cols': {'default': True, 'actual': True}, 'offset_column': {'default': None, 'actual': None}, 'weights_column': {'default': None, 'actual': None}, 'balance_classes': {'default': False, 'actual': False}, 'class_sampling_factors': {'default': None, 'actual': None}, 'max_after_balance_size': {'default': 5.0, 'actual': 5.0}, 'max_confusion_matrix_size': {'default': 20, 'actual': 20}, 'max_hit_ratio_k': {'default': 0, 'actual': 0}, 'ntrees': {'default': 50, 'actual': 168}, 'max_depth': {'default': 5, 'actual': 11}, 'min_rows': {'default': 10.0, 'actual': 15.0}, 'nbins': {'default': 20, 'actual': 20}, 'nbins_top_level': {'default': 1024, 'actual': 1024}, 'nbins_cats': {'default': 1024, 'actual': 1024}, 'r2_stopping': {'default': 1.7976931348623157e+308, 'actual': 1.7976931348623157e+308}, 'stopping_rounds': {'default': 0, 'actual': 0}, 'stopping_metric': {'default': 'AUTO', 'actual': 'logloss'}, 'stopping_tolerance': {'default': 0.001, 'actual': 0.00397382714153187}, 'max_runtime_secs': {'default': 0.0, 'actual': 0.0}, 'seed': {'default': -1, 'actual': 7971761281289993056}, 'build_tree_one_node': {'default': False, 'actual': False}, 'learn_rate': {'default': 0.1, 'actual': 0.001}, 'learn_rate_annealing': {'default': 1.0, 'actual': 1.0}, 'distribution': {'default': 'AUTO', 'actual': 'bernoulli'}, 'quantile_alpha': {'default': 0.5, 'actual': 0.5}, 'tweedie_power': {'default': 1.5, 'actual': 1.5}, 'huber_alpha': {'default': 0.9, 'actual': 0.9}, 'checkpoint': {'default': None, 'actual': None}, 'sample_rate': {'default': 1.0, 'actual': 0.7}, 'sample_rate_per_class': {'default': None, 'actual': None}, 'col_sample_rate': {'default': 1.0, 'actual': 0.4}, 'col_sample_rate_change_per_level': {'default': 1.0, 'actual': 1.0}, 'col_sample_rate_per_tree': {'default': 1.0, 'actual': 1.0}, 'min_split_improvement': {'default': 1e-05, 'actual': 0.0001}, 'histogram_type': {'default': 'AUTO', 'actual': 'AUTO'}, 'max_abs_leafnode_pred': {'default': 1.7976931348623157e+308, 'actual': 1.7976931348623157e+308}, 'pred_noise_bandwidth': {'default': 0.0, 'actual': 0.0}, 'categorical_encoding': {'default': 'AUTO', 'actual': 'AUTO'}, 'calibrate_model': {'default': False, 'actual': False}, 'calibration_frame': {'default': None, 'actual': None}, 'custom_metric_func': {'default': None, 'actual': None}, 'export_checkpoints_dir': {'default': None, 'actual': None}, 'monotone_constraints': {'default': None, 'actual': None}, 'check_constant_response': {'default': True, 'actual': True}}, {'model_id': {'default': None, 'actual': {'__meta': {'schema_version': 3, 'schema_name': 'ModelKeyV3', 'schema_type': 'Key<Model>'}, 'name': 'GBM_grid_1_AutoML_20190422_170306_model_8', 'type': 'Key<Model>', 'URL': '/3/Models/GBM_grid_1_AutoML_20190422_170306_model_8'}}, 'training_frame': {'default': None, 'actual': {'__meta': {'schema_version': 3, 'schema_name': 'FrameKeyV3', 'schema_type': 'Key<Frame>'}, 'name': 'automl_training_train_1000.hex', 'type': 'Key<Frame>', 'URL': '/3/Frames/automl_training_train_1000.hex'}}, 'validation_frame': {'default': None, 'actual': None}, 'nfolds': {'default': 0, 'actual': 5}, 'keep_cross_validation_models': {'default': True, 'actual': False}, 'keep_cross_validation_predictions': {'default': False, 'actual': True}, 'keep_cross_validation_fold_assignment': {'default': False, 'actual': False}, 'score_each_iteration': {'default': False, 'actual': False}, 'score_tree_interval': {'default': 0, 'actual': 5}, 'fold_assignment': {'default': 'AUTO', 'actual': 'Modulo'}, 'fold_column': {'default': None, 'actual': None}, 'response_column': {'default': None, 'actual': {'__meta': {'schema_version': 3, 'schema_name': 'ColSpecifierV3', 'schema_type': 'VecSpecifier'}, 'column_name': 'Claim', 'is_member_of_frames': None}}, 'ignored_columns': {'default': None, 'actual': []}, 'ignore_const_cols': {'default': True, 'actual': True}, 'offset_column': {'default': None, 'actual': None}, 'weights_column': {'default': None, 'actual': None}, 'balance_classes': {'default': False, 'actual': False}, 'class_sampling_factors': {'default': None, 'actual': None}, 'max_after_balance_size': {'default': 5.0, 'actual': 5.0}, 'max_confusion_matrix_size': {'default': 20, 'actual': 20}, 'max_hit_ratio_k': {'default': 0, 'actual': 0}, 'ntrees': {'default': 50, 'actual': 39}, 'max_depth': {'default': 5, 'actual': 3}, 'min_rows': {'default': 10.0, 'actual': 100.0}, 'nbins': {'default': 20, 'actual': 20}, 'nbins_top_level': {'default': 1024, 'actual': 1024}, 'nbins_cats': {'default': 1024, 'actual': 1024}, 'r2_stopping': {'default': 1.7976931348623157e+308, 'actual': 1.7976931348623157e+308}, 'stopping_rounds': {'default': 0, 'actual': 0}, 'stopping_metric': {'default': 'AUTO', 'actual': 'logloss'}, 'stopping_tolerance': {'default': 0.001, 'actual': 0.00397382714153187}, 'max_runtime_secs': {'default': 0.0, 'actual': 0.0}, 'seed': {'default': -1, 'actual': -4199275115638789651}, 'build_tree_one_node': {'default': False, 'actual': False}, 'learn_rate': {'default': 0.1, 'actual': 0.5}, 'learn_rate_annealing': {'default': 1.0, 'actual': 1.0}, 'distribution': {'default': 'AUTO', 'actual': 'bernoulli'}, 'quantile_alpha': {'default': 0.5, 'actual': 0.5}, 'tweedie_power': {'default': 1.5, 'actual': 1.5}, 'huber_alpha': {'default': 0.9, 'actual': 0.9}, 'checkpoint': {'default': None, 'actual': None}, 'sample_rate': {'default': 1.0, 'actual': 0.7}, 'sample_rate_per_class': {'default': None, 'actual': None}, 'col_sample_rate': {'default': 1.0, 'actual': 1.0}, 'col_sample_rate_change_per_level': {'default': 1.0, 'actual': 1.0}, 'col_sample_rate_per_tree': {'default': 1.0, 'actual': 1.0}, 'min_split_improvement': {'default': 1e-05, 'actual': 1e-05}, 'histogram_type': {'default': 'AUTO', 'actual': 'AUTO'}, 'max_abs_leafnode_pred': {'default': 1.7976931348623157e+308, 'actual': 1.7976931348623157e+308}, 'pred_noise_bandwidth': {'default': 0.0, 'actual': 0.0}, 'categorical_encoding': {'default': 'AUTO', 'actual': 'AUTO'}, 'calibrate_model': {'default': False, 'actual': False}, 'calibration_frame': {'default': None, 'actual': None}, 'custom_metric_func': {'default': None, 'actual': None}, 'export_checkpoints_dir': {'default': None, 'actual': None}, 'monotone_constraints': {'default': None, 'actual': None}, 'check_constant_response': {'default': True, 'actual': True}}, {'model_id': {'default': None, 'actual': {'__meta': {'schema_version': 3, 'schema_name': 'ModelKeyV3', 'schema_type': 'Key<Model>'}, 'name': 'StackedEnsemble_AllModels_AutoML_20190422_170306', 'type': 'Key<Model>', 'URL': '/3/Models/StackedEnsemble_AllModels_AutoML_20190422_170306'}}, 'training_frame': {'default': None, 'actual': {'__meta': {'schema_version': 3, 'schema_name': 'FrameKeyV3', 'schema_type': 'Key<Frame>'}, 'name': 'automl_training_train_1000.hex', 'type': 'Key<Frame>', 'URL': '/3/Frames/automl_training_train_1000.hex'}}, 'response_column': {'default': None, 'actual': {'__meta': {'schema_version': 3, 'schema_name': 'ColSpecifierV3', 'schema_type': 'VecSpecifier'}, 'column_name': 'Claim', 'is_member_of_frames': None}}, 'validation_frame': {'default': None, 'actual': None}, 'blending_frame': {'default': None, 'actual': None}, 'base_models': {'default': [], 'actual': [{'__meta': {'schema_version': 3, 'schema_name': 'ModelKeyV3', 'schema_type': 'Key<Model>'}, 'name': 'GBM_grid_1_AutoML_20190422_170306_model_4', 'type': 'Key<Model>', 'URL': '/3/Models/GBM_grid_1_AutoML_20190422_170306_model_4'}, {'__meta': {'schema_version': 3, 'schema_name': 'ModelKeyV3', 'schema_type': 'Key<Model>'}, 'name': 'GBM_grid_1_AutoML_20190422_170306_model_5', 'type': 'Key<Model>', 'URL': '/3/Models/GBM_grid_1_AutoML_20190422_170306_model_5'}, {'__meta': {'schema_version': 3, 'schema_name': 'ModelKeyV3', 'schema_type': 'Key<Model>'}, 'name': 'GBM_1_AutoML_20190422_170306', 'type': 'Key<Model>', 'URL': '/3/Models/GBM_1_AutoML_20190422_170306'}, {'__meta': {'schema_version': 3, 'schema_name': 'ModelKeyV3', 'schema_type': 'Key<Model>'}, 'name': 'GBM_2_AutoML_20190422_170306', 'type': 'Key<Model>', 'URL': '/3/Models/GBM_2_AutoML_20190422_170306'}, {'__meta': {'schema_version': 3, 'schema_name': 'ModelKeyV3', 'schema_type': 'Key<Model>'}, 'name': 'GBM_grid_1_AutoML_20190422_170306_model_2', 'type': 'Key<Model>', 'URL': '/3/Models/GBM_grid_1_AutoML_20190422_170306_model_2'}, {'__meta': {'schema_version': 3, 'schema_name': 'ModelKeyV3', 'schema_type': 'Key<Model>'}, 'name': 'GBM_grid_1_AutoML_20190422_170306_model_8', 'type': 'Key<Model>', 'URL': '/3/Models/GBM_grid_1_AutoML_20190422_170306_model_8'}, {'__meta': {'schema_version': 3, 'schema_name': 'ModelKeyV3', 'schema_type': 'Key<Model>'}, 'name': 'GBM_3_AutoML_20190422_170306', 'type': 'Key<Model>', 'URL': '/3/Models/GBM_3_AutoML_20190422_170306'}, {'__meta': {'schema_version': 3, 'schema_name': 'ModelKeyV3', 'schema_type': 'Key<Model>'}, 'name': 'GBM_5_AutoML_20190422_170306', 'type': 'Key<Model>', 'URL': '/3/Models/GBM_5_AutoML_20190422_170306'}, {'__meta': {'schema_version': 3, 'schema_name': 'ModelKeyV3', 'schema_type': 'Key<Model>'}, 'name': 'GBM_grid_1_AutoML_20190422_170306_model_7', 'type': 'Key<Model>', 'URL': '/3/Models/GBM_grid_1_AutoML_20190422_170306_model_7'}, {'__meta': {'schema_version': 3, 'schema_name': 'ModelKeyV3', 'schema_type': 'Key<Model>'}, 'name': 'GBM_grid_1_AutoML_20190422_170306_model_6', 'type': 'Key<Model>', 'URL': '/3/Models/GBM_grid_1_AutoML_20190422_170306_model_6'}, {'__meta': {'schema_version': 3, 'schema_name': 'ModelKeyV3', 'schema_type': 'Key<Model>'}, 'name': 'GBM_4_AutoML_20190422_170306', 'type': 'Key<Model>', 'URL': '/3/Models/GBM_4_AutoML_20190422_170306'}, {'__meta': {'schema_version': 3, 'schema_name': 'ModelKeyV3', 'schema_type': 'Key<Model>'}, 'name': 'GBM_grid_1_AutoML_20190422_170306_model_3', 'type': 'Key<Model>', 'URL': '/3/Models/GBM_grid_1_AutoML_20190422_170306_model_3'}, {'__meta': {'schema_version': 3, 'schema_name': 'ModelKeyV3', 'schema_type': 'Key<Model>'}, 'name': 'GBM_grid_1_AutoML_20190422_170306_model_1', 'type': 'Key<Model>', 'URL': '/3/Models/GBM_grid_1_AutoML_20190422_170306_model_1'}, {'__meta': {'schema_version': 3, 'schema_name': 'ModelKeyV3', 'schema_type': 'Key<Model>'}, 'name': 'GBM_grid_1_AutoML_20190422_170306_model_10', 'type': 'Key<Model>', 'URL': '/3/Models/GBM_grid_1_AutoML_20190422_170306_model_10'}, {'__meta': {'schema_version': 3, 'schema_name': 'ModelKeyV3', 'schema_type': 'Key<Model>'}, 'name': 'GLM_grid_1_AutoML_20190422_170306_model_1', 'type': 'Key<Model>', 'URL': '/3/Models/GLM_grid_1_AutoML_20190422_170306_model_1'}, {'__meta': {'schema_version': 3, 'schema_name': 'ModelKeyV3', 'schema_type': 'Key<Model>'}, 'name': 'XRT_1_AutoML_20190422_170306', 'type': 'Key<Model>', 'URL': '/3/Models/XRT_1_AutoML_20190422_170306'}, {'__meta': {'schema_version': 3, 'schema_name': 'ModelKeyV3', 'schema_type': 'Key<Model>'}, 'name': 'DeepLearning_grid_1_AutoML_20190422_170306_model_3', 'type': 'Key<Model>', 'URL': '/3/Models/DeepLearning_grid_1_AutoML_20190422_170306_model_3'}, {'__meta': {'schema_version': 3, 'schema_name': 'ModelKeyV3', 'schema_type': 'Key<Model>'}, 'name': 'DRF_1_AutoML_20190422_170306', 'type': 'Key<Model>', 'URL': '/3/Models/DRF_1_AutoML_20190422_170306'}, {'__meta': {'schema_version': 3, 'schema_name': 'ModelKeyV3', 'schema_type': 'Key<Model>'}, 'name': 'DeepLearning_grid_1_AutoML_20190422_170306_model_5', 'type': 'Key<Model>', 'URL': '/3/Models/DeepLearning_grid_1_AutoML_20190422_170306_model_5'}, {'__meta': {'schema_version': 3, 'schema_name': 'ModelKeyV3', 'schema_type': 'Key<Model>'}, 'name': 'DeepLearning_1_AutoML_20190422_170306', 'type': 'Key<Model>', 'URL': '/3/Models/DeepLearning_1_AutoML_20190422_170306'}, {'__meta': {'schema_version': 3, 'schema_name': 'ModelKeyV3', 'schema_type': 'Key<Model>'}, 'name': 'DeepLearning_grid_1_AutoML_20190422_170306_model_6', 'type': 'Key<Model>', 'URL': '/3/Models/DeepLearning_grid_1_AutoML_20190422_170306_model_6'}, {'__meta': {'schema_version': 3, 'schema_name': 'ModelKeyV3', 'schema_type': 'Key<Model>'}, 'name': 'DeepLearning_grid_1_AutoML_20190422_170306_model_2', 'type': 'Key<Model>', 'URL': '/3/Models/DeepLearning_grid_1_AutoML_20190422_170306_model_2'}, {'__meta': {'schema_version': 3, 'schema_name': 'ModelKeyV3', 'schema_type': 'Key<Model>'}, 'name': 'DeepLearning_grid_1_AutoML_20190422_170306_model_1', 'type': 'Key<Model>', 'URL': '/3/Models/DeepLearning_grid_1_AutoML_20190422_170306_model_1'}, {'__meta': {'schema_version': 3, 'schema_name': 'ModelKeyV3', 'schema_type': 'Key<Model>'}, 'name': 'DeepLearning_grid_1_AutoML_20190422_170306_model_4', 'type': 'Key<Model>', 'URL': '/3/Models/DeepLearning_grid_1_AutoML_20190422_170306_model_4'}, {'__meta': {'schema_version': 3, 'schema_name': 'ModelKeyV3', 'schema_type': 'Key<Model>'}, 'name': 'GBM_grid_1_AutoML_20190422_170306_model_9', 'type': 'Key<Model>', 'URL': '/3/Models/GBM_grid_1_AutoML_20190422_170306_model_9'}]}, 'metalearner_algorithm': {'default': 'AUTO', 'actual': 'AUTO'}, 'metalearner_nfolds': {'default': 0, 'actual': 5}, 'metalearner_fold_assignment': {'default': None, 'actual': None}, 'metalearner_fold_column': {'default': None, 'actual': None}, 'metalearner_params': {'default': '', 'actual': ''}, 'seed': {'default': -1, 'actual': -1516474048876419265}, 'keep_levelone_frame': {'default': False, 'actual': True}, 'export_checkpoints_dir': {'default': None, 'actual': None}}, {'model_id': {'default': None, 'actual': {'__meta': {'schema_version': 3, 'schema_name': 'ModelKeyV3', 'schema_type': 'Key<Model>'}, 'name': 'GBM_3_AutoML_20190422_170306', 'type': 'Key<Model>', 'URL': '/3/Models/GBM_3_AutoML_20190422_170306'}}, 'training_frame': {'default': None, 'actual': {'__meta': {'schema_version': 3, 'schema_name': 'FrameKeyV3', 'schema_type': 'Key<Frame>'}, 'name': 'automl_training_train_1000.hex', 'type': 'Key<Frame>', 'URL': '/3/Frames/automl_training_train_1000.hex'}}, 'validation_frame': {'default': None, 'actual': None}, 'nfolds': {'default': 0, 'actual': 5}, 'keep_cross_validation_models': {'default': True, 'actual': False}, 'keep_cross_validation_predictions': {'default': False, 'actual': True}, 'keep_cross_validation_fold_assignment': {'default': False, 'actual': False}, 'score_each_iteration': {'default': False, 'actual': False}, 'score_tree_interval': {'default': 0, 'actual': 5}, 'fold_assignment': {'default': 'AUTO', 'actual': 'Modulo'}, 'fold_column': {'default': None, 'actual': None}, 'response_column': {'default': None, 'actual': {'__meta': {'schema_version': 3, 'schema_name': 'ColSpecifierV3', 'schema_type': 'VecSpecifier'}, 'column_name': 'Claim', 'is_member_of_frames': None}}, 'ignored_columns': {'default': None, 'actual': []}, 'ignore_const_cols': {'default': True, 'actual': True}, 'offset_column': {'default': None, 'actual': None}, 'weights_column': {'default': None, 'actual': None}, 'balance_classes': {'default': False, 'actual': False}, 'class_sampling_factors': {'default': None, 'actual': None}, 'max_after_balance_size': {'default': 5.0, 'actual': 5.0}, 'max_confusion_matrix_size': {'default': 20, 'actual': 20}, 'max_hit_ratio_k': {'default': 0, 'actual': 0}, 'ntrees': {'default': 50, 'actual': 34}, 'max_depth': {'default': 5, 'actual': 15}, 'min_rows': {'default': 10.0, 'actual': 100.0}, 'nbins': {'default': 20, 'actual': 20}, 'nbins_top_level': {'default': 1024, 'actual': 1024}, 'nbins_cats': {'default': 1024, 'actual': 1024}, 'r2_stopping': {'default': 1.7976931348623157e+308, 'actual': 1.7976931348623157e+308}, 'stopping_rounds': {'default': 0, 'actual': 0}, 'stopping_metric': {'default': 'AUTO', 'actual': 'logloss'}, 'stopping_tolerance': {'default': 0.001, 'actual': 0.00397382714153187}, 'max_runtime_secs': {'default': 0.0, 'actual': 0.0}, 'seed': {'default': -1, 'actual': 6642769832677605149}, 'build_tree_one_node': {'default': False, 'actual': False}, 'learn_rate': {'default': 0.1, 'actual': 0.1}, 'learn_rate_annealing': {'default': 1.0, 'actual': 1.0}, 'distribution': {'default': 'AUTO', 'actual': 'bernoulli'}, 'quantile_alpha': {'default': 0.5, 'actual': 0.5}, 'tweedie_power': {'default': 1.5, 'actual': 1.5}, 'huber_alpha': {'default': 0.9, 'actual': 0.9}, 'checkpoint': {'default': None, 'actual': None}, 'sample_rate': {'default': 1.0, 'actual': 0.8}, 'sample_rate_per_class': {'default': None, 'actual': None}, 'col_sample_rate': {'default': 1.0, 'actual': 0.8}, 'col_sample_rate_change_per_level': {'default': 1.0, 'actual': 1.0}, 'col_sample_rate_per_tree': {'default': 1.0, 'actual': 0.8}, 'min_split_improvement': {'default': 1e-05, 'actual': 1e-05}, 'histogram_type': {'default': 'AUTO', 'actual': 'AUTO'}, 'max_abs_leafnode_pred': {'default': 1.7976931348623157e+308, 'actual': 1.7976931348623157e+308}, 'pred_noise_bandwidth': {'default': 0.0, 'actual': 0.0}, 'categorical_encoding': {'default': 'AUTO', 'actual': 'AUTO'}, 'calibrate_model': {'default': False, 'actual': False}, 'calibration_frame': {'default': None, 'actual': None}, 'custom_metric_func': {'default': None, 'actual': None}, 'export_checkpoints_dir': {'default': None, 'actual': None}, 'monotone_constraints': {'default': None, 'actual': None}, 'check_constant_response': {'default': True, 'actual': True}}, {'model_id': {'default': None, 'actual': {'__meta': {'schema_version': 3, 'schema_name': 'ModelKeyV3', 'schema_type': 'Key<Model>'}, 'name': 'StackedEnsemble_BestOfFamily_AutoML_20190422_170306', 'type': 'Key<Model>', 'URL': '/3/Models/StackedEnsemble_BestOfFamily_AutoML_20190422_170306'}}, 'training_frame': {'default': None, 'actual': {'__meta': {'schema_version': 3, 'schema_name': 'FrameKeyV3', 'schema_type': 'Key<Frame>'}, 'name': 'automl_training_train_1000.hex', 'type': 'Key<Frame>', 'URL': '/3/Frames/automl_training_train_1000.hex'}}, 'response_column': {'default': None, 'actual': {'__meta': {'schema_version': 3, 'schema_name': 'ColSpecifierV3', 'schema_type': 'VecSpecifier'}, 'column_name': 'Claim', 'is_member_of_frames': None}}, 'validation_frame': {'default': None, 'actual': None}, 'blending_frame': {'default': None, 'actual': None}, 'base_models': {'default': [], 'actual': [{'__meta': {'schema_version': 3, 'schema_name': 'ModelKeyV3', 'schema_type': 'Key<Model>'}, 'name': 'GBM_grid_1_AutoML_20190422_170306_model_4', 'type': 'Key<Model>', 'URL': '/3/Models/GBM_grid_1_AutoML_20190422_170306_model_4'}, {'__meta': {'schema_version': 3, 'schema_name': 'ModelKeyV3', 'schema_type': 'Key<Model>'}, 'name': 'GLM_grid_1_AutoML_20190422_170306_model_1', 'type': 'Key<Model>', 'URL': '/3/Models/GLM_grid_1_AutoML_20190422_170306_model_1'}, {'__meta': {'schema_version': 3, 'schema_name': 'ModelKeyV3', 'schema_type': 'Key<Model>'}, 'name': 'XRT_1_AutoML_20190422_170306', 'type': 'Key<Model>', 'URL': '/3/Models/XRT_1_AutoML_20190422_170306'}, {'__meta': {'schema_version': 3, 'schema_name': 'ModelKeyV3', 'schema_type': 'Key<Model>'}, 'name': 'DeepLearning_grid_1_AutoML_20190422_170306_model_3', 'type': 'Key<Model>', 'URL': '/3/Models/DeepLearning_grid_1_AutoML_20190422_170306_model_3'}, {'__meta': {'schema_version': 3, 'schema_name': 'ModelKeyV3', 'schema_type': 'Key<Model>'}, 'name': 'DRF_1_AutoML_20190422_170306', 'type': 'Key<Model>', 'URL': '/3/Models/DRF_1_AutoML_20190422_170306'}]}, 'metalearner_algorithm': {'default': 'AUTO', 'actual': 'AUTO'}, 'metalearner_nfolds': {'default': 0, 'actual': 5}, 'metalearner_fold_assignment': {'default': None, 'actual': None}, 'metalearner_fold_column': {'default': None, 'actual': None}, 'metalearner_params': {'default': '', 'actual': ''}, 'seed': {'default': -1, 'actual': -5964260049630254935}, 'keep_levelone_frame': {'default': False, 'actual': True}, 'export_checkpoints_dir': {'default': None, 'actual': None}}, {'model_id': {'default': None, 'actual': {'__meta': {'schema_version': 3, 'schema_name': 'ModelKeyV3', 'schema_type': 'Key<Model>'}, 'name': 'GBM_5_AutoML_20190422_170306', 'type': 'Key<Model>', 'URL': '/3/Models/GBM_5_AutoML_20190422_170306'}}, 'training_frame': {'default': None, 'actual': {'__meta': {'schema_version': 3, 'schema_name': 'FrameKeyV3', 'schema_type': 'Key<Frame>'}, 'name': 'automl_training_train_1000.hex', 'type': 'Key<Frame>', 'URL': '/3/Frames/automl_training_train_1000.hex'}}, 'validation_frame': {'default': None, 'actual': None}, 'nfolds': {'default': 0, 'actual': 5}, 'keep_cross_validation_models': {'default': True, 'actual': False}, 'keep_cross_validation_predictions': {'default': False, 'actual': True}, 'keep_cross_validation_fold_assignment': {'default': False, 'actual': False}, 'score_each_iteration': {'default': False, 'actual': False}, 'score_tree_interval': {'default': 0, 'actual': 5}, 'fold_assignment': {'default': 'AUTO', 'actual': 'Modulo'}, 'fold_column': {'default': None, 'actual': None}, 'response_column': {'default': None, 'actual': {'__meta': {'schema_version': 3, 'schema_name': 'ColSpecifierV3', 'schema_type': 'VecSpecifier'}, 'column_name': 'Claim', 'is_member_of_frames': None}}, 'ignored_columns': {'default': None, 'actual': []}, 'ignore_const_cols': {'default': True, 'actual': True}, 'offset_column': {'default': None, 'actual': None}, 'weights_column': {'default': None, 'actual': None}, 'balance_classes': {'default': False, 'actual': False}, 'class_sampling_factors': {'default': None, 'actual': None}, 'max_after_balance_size': {'default': 5.0, 'actual': 5.0}, 'max_confusion_matrix_size': {'default': 20, 'actual': 20}, 'max_hit_ratio_k': {'default': 0, 'actual': 0}, 'ntrees': {'default': 50, 'actual': 34}, 'max_depth': {'default': 5, 'actual': 15}, 'min_rows': {'default': 10.0, 'actual': 100.0}, 'nbins': {'default': 20, 'actual': 20}, 'nbins_top_level': {'default': 1024, 'actual': 1024}, 'nbins_cats': {'default': 1024, 'actual': 1024}, 'r2_stopping': {'default': 1.7976931348623157e+308, 'actual': 1.7976931348623157e+308}, 'stopping_rounds': {'default': 0, 'actual': 0}, 'stopping_metric': {'default': 'AUTO', 'actual': 'logloss'}, 'stopping_tolerance': {'default': 0.001, 'actual': 0.00397382714153187}, 'max_runtime_secs': {'default': 0.0, 'actual': 0.0}, 'seed': {'default': -1, 'actual': 6642769832677605149}, 'build_tree_one_node': {'default': False, 'actual': False}, 'learn_rate': {'default': 0.1, 'actual': 0.1}, 'learn_rate_annealing': {'default': 1.0, 'actual': 1.0}, 'distribution': {'default': 'AUTO', 'actual': 'bernoulli'}, 'quantile_alpha': {'default': 0.5, 'actual': 0.5}, 'tweedie_power': {'default': 1.5, 'actual': 1.5}, 'huber_alpha': {'default': 0.9, 'actual': 0.9}, 'checkpoint': {'default': None, 'actual': None}, 'sample_rate': {'default': 1.0, 'actual': 0.8}, 'sample_rate_per_class': {'default': None, 'actual': None}, 'col_sample_rate': {'default': 1.0, 'actual': 0.8}, 'col_sample_rate_change_per_level': {'default': 1.0, 'actual': 1.0}, 'col_sample_rate_per_tree': {'default': 1.0, 'actual': 0.8}, 'min_split_improvement': {'default': 1e-05, 'actual': 1e-05}, 'histogram_type': {'default': 'AUTO', 'actual': 'AUTO'}, 'max_abs_leafnode_pred': {'default': 1.7976931348623157e+308, 'actual': 1.7976931348623157e+308}, 'pred_noise_bandwidth': {'default': 0.0, 'actual': 0.0}, 'categorical_encoding': {'default': 'AUTO', 'actual': 'AUTO'}, 'calibrate_model': {'default': False, 'actual': False}, 'calibration_frame': {'default': None, 'actual': None}, 'custom_metric_func': {'default': None, 'actual': None}, 'export_checkpoints_dir': {'default': None, 'actual': None}, 'monotone_constraints': {'default': None, 'actual': None}, 'check_constant_response': {'default': True, 'actual': True}}, {'model_id': {'default': None, 'actual': {'__meta': {'schema_version': 3, 'schema_name': 'ModelKeyV3', 'schema_type': 'Key<Model>'}, 'name': 'GBM_grid_1_AutoML_20190422_170306_model_7', 'type': 'Key<Model>', 'URL': '/3/Models/GBM_grid_1_AutoML_20190422_170306_model_7'}}, 'training_frame': {'default': None, 'actual': {'__meta': {'schema_version': 3, 'schema_name': 'FrameKeyV3', 'schema_type': 'Key<Frame>'}, 'name': 'automl_training_train_1000.hex', 'type': 'Key<Frame>', 'URL': '/3/Frames/automl_training_train_1000.hex'}}, 'validation_frame': {'default': None, 'actual': None}, 'nfolds': {'default': 0, 'actual': 5}, 'keep_cross_validation_models': {'default': True, 'actual': False}, 'keep_cross_validation_predictions': {'default': False, 'actual': True}, 'keep_cross_validation_fold_assignment': {'default': False, 'actual': False}, 'score_each_iteration': {'default': False, 'actual': False}, 'score_tree_interval': {'default': 0, 'actual': 5}, 'fold_assignment': {'default': 'AUTO', 'actual': 'Modulo'}, 'fold_column': {'default': None, 'actual': None}, 'response_column': {'default': None, 'actual': {'__meta': {'schema_version': 3, 'schema_name': 'ColSpecifierV3', 'schema_type': 'VecSpecifier'}, 'column_name': 'Claim', 'is_member_of_frames': None}}, 'ignored_columns': {'default': None, 'actual': []}, 'ignore_const_cols': {'default': True, 'actual': True}, 'offset_column': {'default': None, 'actual': None}, 'weights_column': {'default': None, 'actual': None}, 'balance_classes': {'default': False, 'actual': False}, 'class_sampling_factors': {'default': None, 'actual': None}, 'max_after_balance_size': {'default': 5.0, 'actual': 5.0}, 'max_confusion_matrix_size': {'default': 20, 'actual': 20}, 'max_hit_ratio_k': {'default': 0, 'actual': 0}, 'ntrees': {'default': 50, 'actual': 35}, 'max_depth': {'default': 5, 'actual': 7}, 'min_rows': {'default': 10.0, 'actual': 1.0}, 'nbins': {'default': 20, 'actual': 20}, 'nbins_top_level': {'default': 1024, 'actual': 1024}, 'nbins_cats': {'default': 1024, 'actual': 1024}, 'r2_stopping': {'default': 1.7976931348623157e+308, 'actual': 1.7976931348623157e+308}, 'stopping_rounds': {'default': 0, 'actual': 0}, 'stopping_metric': {'default': 'AUTO', 'actual': 'logloss'}, 'stopping_tolerance': {'default': 0.001, 'actual': 0.00397382714153187}, 'max_runtime_secs': {'default': 0.0, 'actual': 0.0}, 'seed': {'default': -1, 'actual': 6254057956421522839}, 'build_tree_one_node': {'default': False, 'actual': False}, 'learn_rate': {'default': 0.1, 'actual': 0.08}, 'learn_rate_annealing': {'default': 1.0, 'actual': 1.0}, 'distribution': {'default': 'AUTO', 'actual': 'bernoulli'}, 'quantile_alpha': {'default': 0.5, 'actual': 0.5}, 'tweedie_power': {'default': 1.5, 'actual': 1.5}, 'huber_alpha': {'default': 0.9, 'actual': 0.9}, 'checkpoint': {'default': None, 'actual': None}, 'sample_rate': {'default': 1.0, 'actual': 0.6}, 'sample_rate_per_class': {'default': None, 'actual': None}, 'col_sample_rate': {'default': 1.0, 'actual': 1.0}, 'col_sample_rate_change_per_level': {'default': 1.0, 'actual': 1.0}, 'col_sample_rate_per_tree': {'default': 1.0, 'actual': 0.7}, 'min_split_improvement': {'default': 1e-05, 'actual': 1e-05}, 'histogram_type': {'default': 'AUTO', 'actual': 'AUTO'}, 'max_abs_leafnode_pred': {'default': 1.7976931348623157e+308, 'actual': 1.7976931348623157e+308}, 'pred_noise_bandwidth': {'default': 0.0, 'actual': 0.0}, 'categorical_encoding': {'default': 'AUTO', 'actual': 'AUTO'}, 'calibrate_model': {'default': False, 'actual': False}, 'calibration_frame': {'default': None, 'actual': None}, 'custom_metric_func': {'default': None, 'actual': None}, 'export_checkpoints_dir': {'default': None, 'actual': None}, 'monotone_constraints': {'default': None, 'actual': None}, 'check_constant_response': {'default': True, 'actual': True}}, {'model_id': {'default': None, 'actual': {'__meta': {'schema_version': 3, 'schema_name': 'ModelKeyV3', 'schema_type': 'Key<Model>'}, 'name': 'GBM_grid_1_AutoML_20190422_170306_model_6', 'type': 'Key<Model>', 'URL': '/3/Models/GBM_grid_1_AutoML_20190422_170306_model_6'}}, 'training_frame': {'default': None, 'actual': {'__meta': {'schema_version': 3, 'schema_name': 'FrameKeyV3', 'schema_type': 'Key<Frame>'}, 'name': 'automl_training_train_1000.hex', 'type': 'Key<Frame>', 'URL': '/3/Frames/automl_training_train_1000.hex'}}, 'validation_frame': {'default': None, 'actual': None}, 'nfolds': {'default': 0, 'actual': 5}, 'keep_cross_validation_models': {'default': True, 'actual': False}, 'keep_cross_validation_predictions': {'default': False, 'actual': True}, 'keep_cross_validation_fold_assignment': {'default': False, 'actual': False}, 'score_each_iteration': {'default': False, 'actual': False}, 'score_tree_interval': {'default': 0, 'actual': 5}, 'fold_assignment': {'default': 'AUTO', 'actual': 'Modulo'}, 'fold_column': {'default': None, 'actual': None}, 'response_column': {'default': None, 'actual': {'__meta': {'schema_version': 3, 'schema_name': 'ColSpecifierV3', 'schema_type': 'VecSpecifier'}, 'column_name': 'Claim', 'is_member_of_frames': None}}, 'ignored_columns': {'default': None, 'actual': []}, 'ignore_const_cols': {'default': True, 'actual': True}, 'offset_column': {'default': None, 'actual': None}, 'weights_column': {'default': None, 'actual': None}, 'balance_classes': {'default': False, 'actual': False}, 'class_sampling_factors': {'default': None, 'actual': None}, 'max_after_balance_size': {'default': 5.0, 'actual': 5.0}, 'max_confusion_matrix_size': {'default': 20, 'actual': 20}, 'max_hit_ratio_k': {'default': 0, 'actual': 0}, 'ntrees': {'default': 50, 'actual': 188}, 'max_depth': {'default': 5, 'actual': 3}, 'min_rows': {'default': 10.0, 'actual': 10.0}, 'nbins': {'default': 20, 'actual': 20}, 'nbins_top_level': {'default': 1024, 'actual': 1024}, 'nbins_cats': {'default': 1024, 'actual': 1024}, 'r2_stopping': {'default': 1.7976931348623157e+308, 'actual': 1.7976931348623157e+308}, 'stopping_rounds': {'default': 0, 'actual': 0}, 'stopping_metric': {'default': 'AUTO', 'actual': 'logloss'}, 'stopping_tolerance': {'default': 0.001, 'actual': 0.00397382714153187}, 'max_runtime_secs': {'default': 0.0, 'actual': 0.0}, 'seed': {'default': -1, 'actual': -1206242880154703019}, 'build_tree_one_node': {'default': False, 'actual': False}, 'learn_rate': {'default': 0.1, 'actual': 0.005}, 'learn_rate_annealing': {'default': 1.0, 'actual': 1.0}, 'distribution': {'default': 'AUTO', 'actual': 'bernoulli'}, 'quantile_alpha': {'default': 0.5, 'actual': 0.5}, 'tweedie_power': {'default': 1.5, 'actual': 1.5}, 'huber_alpha': {'default': 0.9, 'actual': 0.9}, 'checkpoint': {'default': None, 'actual': None}, 'sample_rate': {'default': 1.0, 'actual': 0.7}, 'sample_rate_per_class': {'default': None, 'actual': None}, 'col_sample_rate': {'default': 1.0, 'actual': 1.0}, 'col_sample_rate_change_per_level': {'default': 1.0, 'actual': 1.0}, 'col_sample_rate_per_tree': {'default': 1.0, 'actual': 0.4}, 'min_split_improvement': {'default': 1e-05, 'actual': 1e-05}, 'histogram_type': {'default': 'AUTO', 'actual': 'AUTO'}, 'max_abs_leafnode_pred': {'default': 1.7976931348623157e+308, 'actual': 1.7976931348623157e+308}, 'pred_noise_bandwidth': {'default': 0.0, 'actual': 0.0}, 'categorical_encoding': {'default': 'AUTO', 'actual': 'AUTO'}, 'calibrate_model': {'default': False, 'actual': False}, 'calibration_frame': {'default': None, 'actual': None}, 'custom_metric_func': {'default': None, 'actual': None}, 'export_checkpoints_dir': {'default': None, 'actual': None}, 'monotone_constraints': {'default': None, 'actual': None}, 'check_constant_response': {'default': True, 'actual': True}}, {'model_id': {'default': None, 'actual': {'__meta': {'schema_version': 3, 'schema_name': 'ModelKeyV3', 'schema_type': 'Key<Model>'}, 'name': 'GBM_4_AutoML_20190422_170306', 'type': 'Key<Model>', 'URL': '/3/Models/GBM_4_AutoML_20190422_170306'}}, 'training_frame': {'default': None, 'actual': {'__meta': {'schema_version': 3, 'schema_name': 'FrameKeyV3', 'schema_type': 'Key<Frame>'}, 'name': 'automl_training_train_1000.hex', 'type': 'Key<Frame>', 'URL': '/3/Frames/automl_training_train_1000.hex'}}, 'validation_frame': {'default': None, 'actual': None}, 'nfolds': {'default': 0, 'actual': 5}, 'keep_cross_validation_models': {'default': True, 'actual': False}, 'keep_cross_validation_predictions': {'default': False, 'actual': True}, 'keep_cross_validation_fold_assignment': {'default': False, 'actual': False}, 'score_each_iteration': {'default': False, 'actual': False}, 'score_tree_interval': {'default': 0, 'actual': 5}, 'fold_assignment': {'default': 'AUTO', 'actual': 'Modulo'}, 'fold_column': {'default': None, 'actual': None}, 'response_column': {'default': None, 'actual': {'__meta': {'schema_version': 3, 'schema_name': 'ColSpecifierV3', 'schema_type': 'VecSpecifier'}, 'column_name': 'Claim', 'is_member_of_frames': None}}, 'ignored_columns': {'default': None, 'actual': []}, 'ignore_const_cols': {'default': True, 'actual': True}, 'offset_column': {'default': None, 'actual': None}, 'weights_column': {'default': None, 'actual': None}, 'balance_classes': {'default': False, 'actual': False}, 'class_sampling_factors': {'default': None, 'actual': None}, 'max_after_balance_size': {'default': 5.0, 'actual': 5.0}, 'max_confusion_matrix_size': {'default': 20, 'actual': 20}, 'max_hit_ratio_k': {'default': 0, 'actual': 0}, 'ntrees': {'default': 50, 'actual': 34}, 'max_depth': {'default': 5, 'actual': 15}, 'min_rows': {'default': 10.0, 'actual': 100.0}, 'nbins': {'default': 20, 'actual': 20}, 'nbins_top_level': {'default': 1024, 'actual': 1024}, 'nbins_cats': {'default': 1024, 'actual': 1024}, 'r2_stopping': {'default': 1.7976931348623157e+308, 'actual': 1.7976931348623157e+308}, 'stopping_rounds': {'default': 0, 'actual': 0}, 'stopping_metric': {'default': 'AUTO', 'actual': 'logloss'}, 'stopping_tolerance': {'default': 0.001, 'actual': 0.00397382714153187}, 'max_runtime_secs': {'default': 0.0, 'actual': 0.0}, 'seed': {'default': -1, 'actual': 6642769832677605149}, 'build_tree_one_node': {'default': False, 'actual': False}, 'learn_rate': {'default': 0.1, 'actual': 0.1}, 'learn_rate_annealing': {'default': 1.0, 'actual': 1.0}, 'distribution': {'default': 'AUTO', 'actual': 'bernoulli'}, 'quantile_alpha': {'default': 0.5, 'actual': 0.5}, 'tweedie_power': {'default': 1.5, 'actual': 1.5}, 'huber_alpha': {'default': 0.9, 'actual': 0.9}, 'checkpoint': {'default': None, 'actual': None}, 'sample_rate': {'default': 1.0, 'actual': 0.8}, 'sample_rate_per_class': {'default': None, 'actual': None}, 'col_sample_rate': {'default': 1.0, 'actual': 0.8}, 'col_sample_rate_change_per_level': {'default': 1.0, 'actual': 1.0}, 'col_sample_rate_per_tree': {'default': 1.0, 'actual': 0.8}, 'min_split_improvement': {'default': 1e-05, 'actual': 1e-05}, 'histogram_type': {'default': 'AUTO', 'actual': 'AUTO'}, 'max_abs_leafnode_pred': {'default': 1.7976931348623157e+308, 'actual': 1.7976931348623157e+308}, 'pred_noise_bandwidth': {'default': 0.0, 'actual': 0.0}, 'categorical_encoding': {'default': 'AUTO', 'actual': 'AUTO'}, 'calibrate_model': {'default': False, 'actual': False}, 'calibration_frame': {'default': None, 'actual': None}, 'custom_metric_func': {'default': None, 'actual': None}, 'export_checkpoints_dir': {'default': None, 'actual': None}, 'monotone_constraints': {'default': None, 'actual': None}, 'check_constant_response': {'default': True, 'actual': True}}, {'model_id': {'default': None, 'actual': {'__meta': {'schema_version': 3, 'schema_name': 'ModelKeyV3', 'schema_type': 'Key<Model>'}, 'name': 'GBM_grid_1_AutoML_20190422_170306_model_3', 'type': 'Key<Model>', 'URL': '/3/Models/GBM_grid_1_AutoML_20190422_170306_model_3'}}, 'training_frame': {'default': None, 'actual': {'__meta': {'schema_version': 3, 'schema_name': 'FrameKeyV3', 'schema_type': 'Key<Frame>'}, 'name': 'automl_training_train_1000.hex', 'type': 'Key<Frame>', 'URL': '/3/Frames/automl_training_train_1000.hex'}}, 'validation_frame': {'default': None, 'actual': None}, 'nfolds': {'default': 0, 'actual': 5}, 'keep_cross_validation_models': {'default': True, 'actual': False}, 'keep_cross_validation_predictions': {'default': False, 'actual': True}, 'keep_cross_validation_fold_assignment': {'default': False, 'actual': False}, 'score_each_iteration': {'default': False, 'actual': False}, 'score_tree_interval': {'default': 0, 'actual': 5}, 'fold_assignment': {'default': 'AUTO', 'actual': 'Modulo'}, 'fold_column': {'default': None, 'actual': None}, 'response_column': {'default': None, 'actual': {'__meta': {'schema_version': 3, 'schema_name': 'ColSpecifierV3', 'schema_type': 'VecSpecifier'}, 'column_name': 'Claim', 'is_member_of_frames': None}}, 'ignored_columns': {'default': None, 'actual': []}, 'ignore_const_cols': {'default': True, 'actual': True}, 'offset_column': {'default': None, 'actual': None}, 'weights_column': {'default': None, 'actual': None}, 'balance_classes': {'default': False, 'actual': False}, 'class_sampling_factors': {'default': None, 'actual': None}, 'max_after_balance_size': {'default': 5.0, 'actual': 5.0}, 'max_confusion_matrix_size': {'default': 20, 'actual': 20}, 'max_hit_ratio_k': {'default': 0, 'actual': 0}, 'ntrees': {'default': 50, 'actual': 44}, 'max_depth': {'default': 5, 'actual': 14}, 'min_rows': {'default': 10.0, 'actual': 30.0}, 'nbins': {'default': 20, 'actual': 20}, 'nbins_top_level': {'default': 1024, 'actual': 1024}, 'nbins_cats': {'default': 1024, 'actual': 1024}, 'r2_stopping': {'default': 1.7976931348623157e+308, 'actual': 1.7976931348623157e+308}, 'stopping_rounds': {'default': 0, 'actual': 0}, 'stopping_metric': {'default': 'AUTO', 'actual': 'logloss'}, 'stopping_tolerance': {'default': 0.001, 'actual': 0.00397382714153187}, 'max_runtime_secs': {'default': 0.0, 'actual': 0.0}, 'seed': {'default': -1, 'actual': -2298058752602278342}, 'build_tree_one_node': {'default': False, 'actual': False}, 'learn_rate': {'default': 0.1, 'actual': 0.05}, 'learn_rate_annealing': {'default': 1.0, 'actual': 1.0}, 'distribution': {'default': 'AUTO', 'actual': 'bernoulli'}, 'quantile_alpha': {'default': 0.5, 'actual': 0.5}, 'tweedie_power': {'default': 1.5, 'actual': 1.5}, 'huber_alpha': {'default': 0.9, 'actual': 0.9}, 'checkpoint': {'default': None, 'actual': None}, 'sample_rate': {'default': 1.0, 'actual': 1.0}, 'sample_rate_per_class': {'default': None, 'actual': None}, 'col_sample_rate': {'default': 1.0, 'actual': 1.0}, 'col_sample_rate_change_per_level': {'default': 1.0, 'actual': 1.0}, 'col_sample_rate_per_tree': {'default': 1.0, 'actual': 0.7}, 'min_split_improvement': {'default': 1e-05, 'actual': 0.0001}, 'histogram_type': {'default': 'AUTO', 'actual': 'AUTO'}, 'max_abs_leafnode_pred': {'default': 1.7976931348623157e+308, 'actual': 1.7976931348623157e+308}, 'pred_noise_bandwidth': {'default': 0.0, 'actual': 0.0}, 'categorical_encoding': {'default': 'AUTO', 'actual': 'AUTO'}, 'calibrate_model': {'default': False, 'actual': False}, 'calibration_frame': {'default': None, 'actual': None}, 'custom_metric_func': {'default': None, 'actual': None}, 'export_checkpoints_dir': {'default': None, 'actual': None}, 'monotone_constraints': {'default': None, 'actual': None}, 'check_constant_response': {'default': True, 'actual': True}}, {'model_id': {'default': None, 'actual': {'__meta': {'schema_version': 3, 'schema_name': 'ModelKeyV3', 'schema_type': 'Key<Model>'}, 'name': 'GBM_grid_1_AutoML_20190422_170306_model_1', 'type': 'Key<Model>', 'URL': '/3/Models/GBM_grid_1_AutoML_20190422_170306_model_1'}}, 'training_frame': {'default': None, 'actual': {'__meta': {'schema_version': 3, 'schema_name': 'FrameKeyV3', 'schema_type': 'Key<Frame>'}, 'name': 'automl_training_train_1000.hex', 'type': 'Key<Frame>', 'URL': '/3/Frames/automl_training_train_1000.hex'}}, 'validation_frame': {'default': None, 'actual': None}, 'nfolds': {'default': 0, 'actual': 5}, 'keep_cross_validation_models': {'default': True, 'actual': False}, 'keep_cross_validation_predictions': {'default': False, 'actual': True}, 'keep_cross_validation_fold_assignment': {'default': False, 'actual': False}, 'score_each_iteration': {'default': False, 'actual': False}, 'score_tree_interval': {'default': 0, 'actual': 5}, 'fold_assignment': {'default': 'AUTO', 'actual': 'Modulo'}, 'fold_column': {'default': None, 'actual': None}, 'response_column': {'default': None, 'actual': {'__meta': {'schema_version': 3, 'schema_name': 'ColSpecifierV3', 'schema_type': 'VecSpecifier'}, 'column_name': 'Claim', 'is_member_of_frames': None}}, 'ignored_columns': {'default': None, 'actual': []}, 'ignore_const_cols': {'default': True, 'actual': True}, 'offset_column': {'default': None, 'actual': None}, 'weights_column': {'default': None, 'actual': None}, 'balance_classes': {'default': False, 'actual': False}, 'class_sampling_factors': {'default': None, 'actual': None}, 'max_after_balance_size': {'default': 5.0, 'actual': 5.0}, 'max_confusion_matrix_size': {'default': 20, 'actual': 20}, 'max_hit_ratio_k': {'default': 0, 'actual': 0}, 'ntrees': {'default': 50, 'actual': 36}, 'max_depth': {'default': 5, 'actual': 8}, 'min_rows': {'default': 10.0, 'actual': 1.0}, 'nbins': {'default': 20, 'actual': 20}, 'nbins_top_level': {'default': 1024, 'actual': 1024}, 'nbins_cats': {'default': 1024, 'actual': 1024}, 'r2_stopping': {'default': 1.7976931348623157e+308, 'actual': 1.7976931348623157e+308}, 'stopping_rounds': {'default': 0, 'actual': 0}, 'stopping_metric': {'default': 'AUTO', 'actual': 'logloss'}, 'stopping_tolerance': {'default': 0.001, 'actual': 0.00397382714153187}, 'max_runtime_secs': {'default': 0.0, 'actual': 0.0}, 'seed': {'default': -1, 'actual': -897929751143987547}, 'build_tree_one_node': {'default': False, 'actual': False}, 'learn_rate': {'default': 0.1, 'actual': 0.08}, 'learn_rate_annealing': {'default': 1.0, 'actual': 1.0}, 'distribution': {'default': 'AUTO', 'actual': 'bernoulli'}, 'quantile_alpha': {'default': 0.5, 'actual': 0.5}, 'tweedie_power': {'default': 1.5, 'actual': 1.5}, 'huber_alpha': {'default': 0.9, 'actual': 0.9}, 'checkpoint': {'default': None, 'actual': None}, 'sample_rate': {'default': 1.0, 'actual': 0.5}, 'sample_rate_per_class': {'default': None, 'actual': None}, 'col_sample_rate': {'default': 1.0, 'actual': 0.7}, 'col_sample_rate_change_per_level': {'default': 1.0, 'actual': 1.0}, 'col_sample_rate_per_tree': {'default': 1.0, 'actual': 1.0}, 'min_split_improvement': {'default': 1e-05, 'actual': 1e-05}, 'histogram_type': {'default': 'AUTO', 'actual': 'AUTO'}, 'max_abs_leafnode_pred': {'default': 1.7976931348623157e+308, 'actual': 1.7976931348623157e+308}, 'pred_noise_bandwidth': {'default': 0.0, 'actual': 0.0}, 'categorical_encoding': {'default': 'AUTO', 'actual': 'AUTO'}, 'calibrate_model': {'default': False, 'actual': False}, 'calibration_frame': {'default': None, 'actual': None}, 'custom_metric_func': {'default': None, 'actual': None}, 'export_checkpoints_dir': {'default': None, 'actual': None}, 'monotone_constraints': {'default': None, 'actual': None}, 'check_constant_response': {'default': True, 'actual': True}}, {'model_id': {'default': None, 'actual': {'__meta': {'schema_version': 3, 'schema_name': 'ModelKeyV3', 'schema_type': 'Key<Model>'}, 'name': 'GBM_grid_1_AutoML_20190422_170306_model_10', 'type': 'Key<Model>', 'URL': '/3/Models/GBM_grid_1_AutoML_20190422_170306_model_10'}}, 'training_frame': {'default': None, 'actual': {'__meta': {'schema_version': 3, 'schema_name': 'FrameKeyV3', 'schema_type': 'Key<Frame>'}, 'name': 'automl_training_train_1000.hex', 'type': 'Key<Frame>', 'URL': '/3/Frames/automl_training_train_1000.hex'}}, 'validation_frame': {'default': None, 'actual': None}, 'nfolds': {'default': 0, 'actual': 5}, 'keep_cross_validation_models': {'default': True, 'actual': False}, 'keep_cross_validation_predictions': {'default': False, 'actual': True}, 'keep_cross_validation_fold_assignment': {'default': False, 'actual': False}, 'score_each_iteration': {'default': False, 'actual': False}, 'score_tree_interval': {'default': 0, 'actual': 5}, 'fold_assignment': {'default': 'AUTO', 'actual': 'Modulo'}, 'fold_column': {'default': None, 'actual': None}, 'response_column': {'default': None, 'actual': {'__meta': {'schema_version': 3, 'schema_name': 'ColSpecifierV3', 'schema_type': 'VecSpecifier'}, 'column_name': 'Claim', 'is_member_of_frames': None}}, 'ignored_columns': {'default': None, 'actual': []}, 'ignore_const_cols': {'default': True, 'actual': True}, 'offset_column': {'default': None, 'actual': None}, 'weights_column': {'default': None, 'actual': None}, 'balance_classes': {'default': False, 'actual': False}, 'class_sampling_factors': {'default': None, 'actual': None}, 'max_after_balance_size': {'default': 5.0, 'actual': 5.0}, 'max_confusion_matrix_size': {'default': 20, 'actual': 20}, 'max_hit_ratio_k': {'default': 0, 'actual': 0}, 'ntrees': {'default': 50, 'actual': 11}, 'max_depth': {'default': 5, 'actual': 10}, 'min_rows': {'default': 10.0, 'actual': 15.0}, 'nbins': {'default': 20, 'actual': 20}, 'nbins_top_level': {'default': 1024, 'actual': 1024}, 'nbins_cats': {'default': 1024, 'actual': 1024}, 'r2_stopping': {'default': 1.7976931348623157e+308, 'actual': 1.7976931348623157e+308}, 'stopping_rounds': {'default': 0, 'actual': 0}, 'stopping_metric': {'default': 'AUTO', 'actual': 'logloss'}, 'stopping_tolerance': {'default': 0.001, 'actual': 0.00397382714153187}, 'max_runtime_secs': {'default': 0.0, 'actual': 0.0}, 'seed': {'default': -1, 'actual': -8022860901150332545}, 'build_tree_one_node': {'default': False, 'actual': False}, 'learn_rate': {'default': 0.1, 'actual': 0.005}, 'learn_rate_annealing': {'default': 1.0, 'actual': 1.0}, 'distribution': {'default': 'AUTO', 'actual': 'bernoulli'}, 'quantile_alpha': {'default': 0.5, 'actual': 0.5}, 'tweedie_power': {'default': 1.5, 'actual': 1.5}, 'huber_alpha': {'default': 0.9, 'actual': 0.9}, 'checkpoint': {'default': None, 'actual': None}, 'sample_rate': {'default': 1.0, 'actual': 0.9}, 'sample_rate_per_class': {'default': None, 'actual': None}, 'col_sample_rate': {'default': 1.0, 'actual': 1.0}, 'col_sample_rate_change_per_level': {'default': 1.0, 'actual': 1.0}, 'col_sample_rate_per_tree': {'default': 1.0, 'actual': 0.7}, 'min_split_improvement': {'default': 1e-05, 'actual': 0.0001}, 'histogram_type': {'default': 'AUTO', 'actual': 'AUTO'}, 'max_abs_leafnode_pred': {'default': 1.7976931348623157e+308, 'actual': 1.7976931348623157e+308}, 'pred_noise_bandwidth': {'default': 0.0, 'actual': 0.0}, 'categorical_encoding': {'default': 'AUTO', 'actual': 'AUTO'}, 'calibrate_model': {'default': False, 'actual': False}, 'calibration_frame': {'default': None, 'actual': None}, 'custom_metric_func': {'default': None, 'actual': None}, 'export_checkpoints_dir': {'default': None, 'actual': None}, 'monotone_constraints': {'default': None, 'actual': None}, 'check_constant_response': {'default': True, 'actual': True}}, {'model_id': {'default': None, 'actual': {'__meta': {'schema_version': 3, 'schema_name': 'ModelKeyV3', 'schema_type': 'Key<Model>'}, 'name': 'GLM_grid_1_AutoML_20190422_170306_model_1', 'type': 'Key<Model>', 'URL': '/3/Models/GLM_grid_1_AutoML_20190422_170306_model_1'}}, 'training_frame': {'default': None, 'actual': {'__meta': {'schema_version': 3, 'schema_name': 'FrameKeyV3', 'schema_type': 'Key<Frame>'}, 'name': 'automl_training_train_1000.hex', 'type': 'Key<Frame>', 'URL': '/3/Frames/automl_training_train_1000.hex'}}, 'validation_frame': {'default': None, 'actual': None}, 'nfolds': {'default': 0, 'actual': 5}, 'seed': {'default': -1, 'actual': 1616083571344419730}, 'keep_cross_validation_models': {'default': True, 'actual': False}, 'keep_cross_validation_predictions': {'default': False, 'actual': True}, 'keep_cross_validation_fold_assignment': {'default': False, 'actual': False}, 'fold_assignment': {'default': 'AUTO', 'actual': 'Modulo'}, 'fold_column': {'default': None, 'actual': None}, 'response_column': {'default': None, 'actual': {'__meta': {'schema_version': 3, 'schema_name': 'ColSpecifierV3', 'schema_type': 'VecSpecifier'}, 'column_name': 'Claim', 'is_member_of_frames': None}}, 'ignored_columns': {'default': None, 'actual': []}, 'ignore_const_cols': {'default': True, 'actual': True}, 'score_each_iteration': {'default': False, 'actual': False}, 'offset_column': {'default': None, 'actual': None}, 'weights_column': {'default': None, 'actual': None}, 'family': {'default': 'gaussian', 'actual': 'binomial'}, 'tweedie_variance_power': {'default': 0.0, 'actual': 0.0}, 'tweedie_link_power': {'default': 1.0, 'actual': 1.0}, 'theta': {'default': 1e-10, 'actual': 1e-10}, 'solver': {'default': 'AUTO', 'actual': 'COORDINATE_DESCENT'}, 'alpha': {'default': None, 'actual': [0.0, 0.2, 0.4, 0.6, 0.8, 1.0]}, 'lambda': {'default': None, 'actual': [1.6085069897114428, 0.9989100917618017, 0.6203400904105332, 0.3852417058794841, 0.2392416260743656, 0.148573102997867, 0.09226641407107536, 0.05729900630571976, 0.03558365366940339, 0.022098051783101334, 0.01372326454010296, 0.008522379777463647, 0.005292542227038961, 0.0032867583886676903, 0.0020411326432668454, 0.001267577952116616, 0.0007871873834326291, 0.0004888567015549515, 0.0003035882938228517, 0.00018853347382394422, 0.00011708248135833861, 7.271020452223121e-05, 4.515426885670601e-05, 2.8041565958740943e-05]}, 'lambda_search': {'default': False, 'actual': True}, 'early_stopping': {'default': True, 'actual': True}, 'nlambdas': {'default': -1, 'actual': 30}, 'standardize': {'default': True, 'actual': True}, 'missing_values_handling': {'default': 'MeanImputation', 'actual': 'MeanImputation'}, 'compute_p_values': {'default': False, 'actual': False}, 'remove_collinear_columns': {'default': False, 'actual': False}, 'intercept': {'default': True, 'actual': True}, 'non_negative': {'default': False, 'actual': False}, 'max_iterations': {'default': -1, 'actual': 300}, 'objective_epsilon': {'default': -1.0, 'actual': 0.0001}, 'beta_epsilon': {'default': 0.0001, 'actual': 0.0001}, 'gradient_epsilon': {'default': -1.0, 'actual': 1.0000000000000002e-06}, 'link': {'default': 'family_default', 'actual': 'logit'}, 'prior': {'default': -1.0, 'actual': -1.0}, 'lambda_min_ratio': {'default': -1.0, 'actual': 1.0000000000000002e-06}, 'beta_constraints': {'default': None, 'actual': None}, 'max_active_predictors': {'default': -1, 'actual': 5000}, 'interactions': {'default': None, 'actual': None}, 'interaction_pairs': {'default': None, 'actual': None}, 'obj_reg': {'default': -1.0, 'actual': 1.5791302150775352e-05}, 'export_checkpoints_dir': {'default': None, 'actual': None}, 'balance_classes': {'default': False, 'actual': False}, 'class_sampling_factors': {'default': None, 'actual': None}, 'max_after_balance_size': {'default': 5.0, 'actual': 5.0}, 'max_confusion_matrix_size': {'default': 20, 'actual': 20}, 'max_hit_ratio_k': {'default': 0, 'actual': 0}, 'max_runtime_secs': {'default': 0.0, 'actual': 0.0}, 'custom_metric_func': {'default': None, 'actual': None}}, {'model_id': {'default': None, 'actual': {'__meta': {'schema_version': 3, 'schema_name': 'ModelKeyV3', 'schema_type': 'Key<Model>'}, 'name': 'XRT_1_AutoML_20190422_170306', 'type': 'Key<Model>', 'URL': '/3/Models/XRT_1_AutoML_20190422_170306'}}, 'training_frame': {'default': None, 'actual': {'__meta': {'schema_version': 3, 'schema_name': 'FrameKeyV3', 'schema_type': 'Key<Frame>'}, 'name': 'automl_training_train_1000.hex', 'type': 'Key<Frame>', 'URL': '/3/Frames/automl_training_train_1000.hex'}}, 'validation_frame': {'default': None, 'actual': None}, 'nfolds': {'default': 0, 'actual': 5}, 'keep_cross_validation_models': {'default': True, 'actual': False}, 'keep_cross_validation_predictions': {'default': False, 'actual': True}, 'keep_cross_validation_fold_assignment': {'default': False, 'actual': False}, 'score_each_iteration': {'default': False, 'actual': False}, 'score_tree_interval': {'default': 0, 'actual': 0}, 'fold_assignment': {'default': 'AUTO', 'actual': 'Modulo'}, 'fold_column': {'default': None, 'actual': None}, 'response_column': {'default': None, 'actual': {'__meta': {'schema_version': 3, 'schema_name': 'ColSpecifierV3', 'schema_type': 'VecSpecifier'}, 'column_name': 'Claim', 'is_member_of_frames': None}}, 'ignored_columns': {'default': None, 'actual': []}, 'ignore_const_cols': {'default': True, 'actual': True}, 'offset_column': {'default': None, 'actual': None}, 'weights_column': {'default': None, 'actual': None}, 'balance_classes': {'default': False, 'actual': False}, 'class_sampling_factors': {'default': None, 'actual': None}, 'max_after_balance_size': {'default': 5.0, 'actual': 5.0}, 'max_confusion_matrix_size': {'default': 20, 'actual': 20}, 'max_hit_ratio_k': {'default': 0, 'actual': 0}, 'ntrees': {'default': 50, 'actual': 50}, 'max_depth': {'default': 20, 'actual': 20}, 'min_rows': {'default': 1.0, 'actual': 1.0}, 'nbins': {'default': 20, 'actual': 20}, 'nbins_top_level': {'default': 1024, 'actual': 1024}, 'nbins_cats': {'default': 1024, 'actual': 1024}, 'r2_stopping': {'default': 1.7976931348623157e+308, 'actual': 1.7976931348623157e+308}, 'stopping_rounds': {'default': 0, 'actual': 0}, 'stopping_metric': {'default': 'AUTO', 'actual': 'logloss'}, 'stopping_tolerance': {'default': 0.001, 'actual': 0.00397382714153187}, 'max_runtime_secs': {'default': 0.0, 'actual': 0.0}, 'seed': {'default': -1, 'actual': -9218997787806784641}, 'build_tree_one_node': {'default': False, 'actual': False}, 'mtries': {'default': -1, 'actual': -1}, 'sample_rate': {'default': 0.6320000290870667, 'actual': 0.6320000290870667}, 'sample_rate_per_class': {'default': None, 'actual': None}, 'binomial_double_trees': {'default': False, 'actual': False}, 'checkpoint': {'default': None, 'actual': None}, 'col_sample_rate_change_per_level': {'default': 1.0, 'actual': 1.0}, 'col_sample_rate_per_tree': {'default': 1.0, 'actual': 1.0}, 'min_split_improvement': {'default': 1e-05, 'actual': 1e-05}, 'histogram_type': {'default': 'AUTO', 'actual': 'Random'}, 'categorical_encoding': {'default': 'AUTO', 'actual': 'AUTO'}, 'calibrate_model': {'default': False, 'actual': False}, 'calibration_frame': {'default': None, 'actual': None}, 'distribution': {'default': 'AUTO', 'actual': 'multinomial'}, 'custom_metric_func': {'default': None, 'actual': None}, 'export_checkpoints_dir': {'default': None, 'actual': None}, 'check_constant_response': {'default': True, 'actual': True}}, {'model_id': {'default': None, 'actual': {'__meta': {'schema_version': 3, 'schema_name': 'ModelKeyV3', 'schema_type': 'Key<Model>'}, 'name': 'DeepLearning_grid_1_AutoML_20190422_170306_model_3', 'type': 'Key<Model>', 'URL': '/3/Models/DeepLearning_grid_1_AutoML_20190422_170306_model_3'}}, 'training_frame': {'default': None, 'actual': {'__meta': {'schema_version': 3, 'schema_name': 'FrameKeyV3', 'schema_type': 'Key<Frame>'}, 'name': 'automl_training_train_1000.hex', 'type': 'Key<Frame>', 'URL': '/3/Frames/automl_training_train_1000.hex'}}, 'validation_frame': {'default': None, 'actual': None}, 'nfolds': {'default': 0, 'actual': 5}, 'keep_cross_validation_models': {'default': True, 'actual': False}, 'keep_cross_validation_predictions': {'default': False, 'actual': True}, 'keep_cross_validation_fold_assignment': {'default': False, 'actual': False}, 'fold_assignment': {'default': 'AUTO', 'actual': 'Modulo'}, 'fold_column': {'default': None, 'actual': None}, 'response_column': {'default': None, 'actual': {'__meta': {'schema_version': 3, 'schema_name': 'ColSpecifierV3', 'schema_type': 'VecSpecifier'}, 'column_name': 'Claim', 'is_member_of_frames': None}}, 'ignored_columns': {'default': None, 'actual': []}, 'ignore_const_cols': {'default': True, 'actual': True}, 'score_each_iteration': {'default': False, 'actual': False}, 'weights_column': {'default': None, 'actual': None}, 'offset_column': {'default': None, 'actual': None}, 'balance_classes': {'default': False, 'actual': False}, 'class_sampling_factors': {'default': None, 'actual': None}, 'max_after_balance_size': {'default': 5.0, 'actual': 5.0}, 'max_confusion_matrix_size': {'default': 20, 'actual': 20}, 'max_hit_ratio_k': {'default': 0, 'actual': 0}, 'checkpoint': {'default': None, 'actual': None}, 'pretrained_autoencoder': {'default': None, 'actual': None}, 'overwrite_with_best_model': {'default': True, 'actual': False}, 'use_all_factor_levels': {'default': True, 'actual': True}, 'standardize': {'default': True, 'actual': True}, 'activation': {'default': 'Rectifier', 'actual': 'RectifierWithDropout'}, 'hidden': {'default': [200, 200], 'actual': [50, 50]}, 'epochs': {'default': 10.0, 'actual': 11.993270166425905}, 'train_samples_per_iteration': {'default': -2, 'actual': -2}, 'target_ratio_comm_to_comp': {'default': 0.05, 'actual': 0.05}, 'seed': {'default': -1, 'actual': -1203745975168226464}, 'adaptive_rate': {'default': True, 'actual': True}, 'rho': {'default': 0.99, 'actual': 0.99}, 'epsilon': {'default': 1e-08, 'actual': 1e-08}, 'rate': {'default': 0.005, 'actual': 0.005}, 'rate_annealing': {'default': 1e-06, 'actual': 1e-06}, 'rate_decay': {'default': 1.0, 'actual': 1.0}, 'momentum_start': {'default': 0.0, 'actual': 0.0}, 'momentum_ramp': {'default': 1000000.0, 'actual': 1000000.0}, 'momentum_stable': {'default': 0.0, 'actual': 0.0}, 'nesterov_accelerated_gradient': {'default': True, 'actual': True}, 'input_dropout_ratio': {'default': 0.0, 'actual': 0.15}, 'hidden_dropout_ratios': {'default': None, 'actual': [0.3, 0.3]}, 'l1': {'default': 0.0, 'actual': 0.0}, 'l2': {'default': 0.0, 'actual': 0.0}, 'max_w2': {'default': 3.4028235e+38, 'actual': 3.4028235e+38}, 'initial_weight_distribution': {'default': 'UniformAdaptive', 'actual': 'UniformAdaptive'}, 'initial_weight_scale': {'default': 1.0, 'actual': 1.0}, 'initial_weights': {'default': None, 'actual': None}, 'initial_biases': {'default': None, 'actual': None}, 'loss': {'default': 'Automatic', 'actual': 'Automatic'}, 'distribution': {'default': 'AUTO', 'actual': 'AUTO'}, 'quantile_alpha': {'default': 0.5, 'actual': 0.5}, 'tweedie_power': {'default': 1.5, 'actual': 1.5}, 'huber_alpha': {'default': 0.9, 'actual': 0.9}, 'score_interval': {'default': 5.0, 'actual': 5.0}, 'score_training_samples': {'default': 10000, 'actual': 10000}, 'score_validation_samples': {'default': 0, 'actual': 0}, 'score_duty_cycle': {'default': 0.1, 'actual': 0.1}, 'classification_stop': {'default': 0.0, 'actual': 0.0}, 'regression_stop': {'default': 1e-06, 'actual': 1e-06}, 'stopping_rounds': {'default': 5, 'actual': 0}, 'stopping_metric': {'default': 'AUTO', 'actual': 'logloss'}, 'stopping_tolerance': {'default': 0.0, 'actual': 0.00397382714153187}, 'max_runtime_secs': {'default': 0.0, 'actual': 0.0}, 'score_validation_sampling': {'default': 'Uniform', 'actual': 'Uniform'}, 'diagnostics': {'default': True, 'actual': True}, 'fast_mode': {'default': True, 'actual': True}, 'force_load_balance': {'default': True, 'actual': True}, 'variable_importances': {'default': True, 'actual': True}, 'replicate_training_data': {'default': True, 'actual': True}, 'single_node_mode': {'default': False, 'actual': False}, 'shuffle_training_data': {'default': False, 'actual': False}, 'missing_values_handling': {'default': 'MeanImputation', 'actual': 'MeanImputation'}, 'quiet_mode': {'default': False, 'actual': False}, 'autoencoder': {'default': False, 'actual': False}, 'sparse': {'default': False, 'actual': False}, 'col_major': {'default': False, 'actual': False}, 'average_activation': {'default': 0.0, 'actual': 0.0}, 'sparsity_beta': {'default': 0.0, 'actual': 0.0}, 'max_categorical_features': {'default': 2147483647, 'actual': 2147483647}, 'reproducible': {'default': False, 'actual': False}, 'export_weights_and_biases': {'default': False, 'actual': False}, 'mini_batch_size': {'default': 1, 'actual': 1}, 'categorical_encoding': {'default': 'AUTO', 'actual': 'AUTO'}, 'elastic_averaging': {'default': False, 'actual': False}, 'elastic_averaging_moving_rate': {'default': 0.9, 'actual': 0.9}, 'elastic_averaging_regularization': {'default': 0.001, 'actual': 0.001}, 'export_checkpoints_dir': {'default': None, 'actual': None}}, {'model_id': {'default': None, 'actual': {'__meta': {'schema_version': 3, 'schema_name': 'ModelKeyV3', 'schema_type': 'Key<Model>'}, 'name': 'DRF_1_AutoML_20190422_170306', 'type': 'Key<Model>', 'URL': '/3/Models/DRF_1_AutoML_20190422_170306'}}, 'training_frame': {'default': None, 'actual': {'__meta': {'schema_version': 3, 'schema_name': 'FrameKeyV3', 'schema_type': 'Key<Frame>'}, 'name': 'automl_training_train_1000.hex', 'type': 'Key<Frame>', 'URL': '/3/Frames/automl_training_train_1000.hex'}}, 'validation_frame': {'default': None, 'actual': None}, 'nfolds': {'default': 0, 'actual': 5}, 'keep_cross_validation_models': {'default': True, 'actual': False}, 'keep_cross_validation_predictions': {'default': False, 'actual': True}, 'keep_cross_validation_fold_assignment': {'default': False, 'actual': False}, 'score_each_iteration': {'default': False, 'actual': False}, 'score_tree_interval': {'default': 0, 'actual': 0}, 'fold_assignment': {'default': 'AUTO', 'actual': 'Modulo'}, 'fold_column': {'default': None, 'actual': None}, 'response_column': {'default': None, 'actual': {'__meta': {'schema_version': 3, 'schema_name': 'ColSpecifierV3', 'schema_type': 'VecSpecifier'}, 'column_name': 'Claim', 'is_member_of_frames': None}}, 'ignored_columns': {'default': None, 'actual': []}, 'ignore_const_cols': {'default': True, 'actual': True}, 'offset_column': {'default': None, 'actual': None}, 'weights_column': {'default': None, 'actual': None}, 'balance_classes': {'default': False, 'actual': False}, 'class_sampling_factors': {'default': None, 'actual': None}, 'max_after_balance_size': {'default': 5.0, 'actual': 5.0}, 'max_confusion_matrix_size': {'default': 20, 'actual': 20}, 'max_hit_ratio_k': {'default': 0, 'actual': 0}, 'ntrees': {'default': 50, 'actual': 50}, 'max_depth': {'default': 20, 'actual': 20}, 'min_rows': {'default': 1.0, 'actual': 1.0}, 'nbins': {'default': 20, 'actual': 20}, 'nbins_top_level': {'default': 1024, 'actual': 1024}, 'nbins_cats': {'default': 1024, 'actual': 1024}, 'r2_stopping': {'default': 1.7976931348623157e+308, 'actual': 1.7976931348623157e+308}, 'stopping_rounds': {'default': 0, 'actual': 0}, 'stopping_metric': {'default': 'AUTO', 'actual': 'logloss'}, 'stopping_tolerance': {'default': 0.001, 'actual': 0.00397382714153187}, 'max_runtime_secs': {'default': 0.0, 'actual': 0.0}, 'seed': {'default': -1, 'actual': 7498551824334046263}, 'build_tree_one_node': {'default': False, 'actual': False}, 'mtries': {'default': -1, 'actual': -1}, 'sample_rate': {'default': 0.6320000290870667, 'actual': 0.6320000290870667}, 'sample_rate_per_class': {'default': None, 'actual': None}, 'binomial_double_trees': {'default': False, 'actual': False}, 'checkpoint': {'default': None, 'actual': None}, 'col_sample_rate_change_per_level': {'default': 1.0, 'actual': 1.0}, 'col_sample_rate_per_tree': {'default': 1.0, 'actual': 1.0}, 'min_split_improvement': {'default': 1e-05, 'actual': 1e-05}, 'histogram_type': {'default': 'AUTO', 'actual': 'AUTO'}, 'categorical_encoding': {'default': 'AUTO', 'actual': 'AUTO'}, 'calibrate_model': {'default': False, 'actual': False}, 'calibration_frame': {'default': None, 'actual': None}, 'distribution': {'default': 'AUTO', 'actual': 'multinomial'}, 'custom_metric_func': {'default': None, 'actual': None}, 'export_checkpoints_dir': {'default': None, 'actual': None}, 'check_constant_response': {'default': True, 'actual': True}}, {'model_id': {'default': None, 'actual': {'__meta': {'schema_version': 3, 'schema_name': 'ModelKeyV3', 'schema_type': 'Key<Model>'}, 'name': 'DeepLearning_grid_1_AutoML_20190422_170306_model_5', 'type': 'Key<Model>', 'URL': '/3/Models/DeepLearning_grid_1_AutoML_20190422_170306_model_5'}}, 'training_frame': {'default': None, 'actual': {'__meta': {'schema_version': 3, 'schema_name': 'FrameKeyV3', 'schema_type': 'Key<Frame>'}, 'name': 'automl_training_train_1000.hex', 'type': 'Key<Frame>', 'URL': '/3/Frames/automl_training_train_1000.hex'}}, 'validation_frame': {'default': None, 'actual': None}, 'nfolds': {'default': 0, 'actual': 5}, 'keep_cross_validation_models': {'default': True, 'actual': False}, 'keep_cross_validation_predictions': {'default': False, 'actual': True}, 'keep_cross_validation_fold_assignment': {'default': False, 'actual': False}, 'fold_assignment': {'default': 'AUTO', 'actual': 'Modulo'}, 'fold_column': {'default': None, 'actual': None}, 'response_column': {'default': None, 'actual': {'__meta': {'schema_version': 3, 'schema_name': 'ColSpecifierV3', 'schema_type': 'VecSpecifier'}, 'column_name': 'Claim', 'is_member_of_frames': None}}, 'ignored_columns': {'default': None, 'actual': []}, 'ignore_const_cols': {'default': True, 'actual': True}, 'score_each_iteration': {'default': False, 'actual': False}, 'weights_column': {'default': None, 'actual': None}, 'offset_column': {'default': None, 'actual': None}, 'balance_classes': {'default': False, 'actual': False}, 'class_sampling_factors': {'default': None, 'actual': None}, 'max_after_balance_size': {'default': 5.0, 'actual': 5.0}, 'max_confusion_matrix_size': {'default': 20, 'actual': 20}, 'max_hit_ratio_k': {'default': 0, 'actual': 0}, 'checkpoint': {'default': None, 'actual': None}, 'pretrained_autoencoder': {'default': None, 'actual': None}, 'overwrite_with_best_model': {'default': True, 'actual': False}, 'use_all_factor_levels': {'default': True, 'actual': True}, 'standardize': {'default': True, 'actual': True}, 'activation': {'default': 'Rectifier', 'actual': 'RectifierWithDropout'}, 'hidden': {'default': [200, 200], 'actual': [50, 50, 50]}, 'epochs': {'default': 10.0, 'actual': 3.4756620650679033}, 'train_samples_per_iteration': {'default': -2, 'actual': -2}, 'target_ratio_comm_to_comp': {'default': 0.05, 'actual': 0.05}, 'seed': {'default': -1, 'actual': 4205965887611322227}, 'adaptive_rate': {'default': True, 'actual': True}, 'rho': {'default': 0.99, 'actual': 0.99}, 'epsilon': {'default': 1e-08, 'actual': 1e-09}, 'rate': {'default': 0.005, 'actual': 0.005}, 'rate_annealing': {'default': 1e-06, 'actual': 1e-06}, 'rate_decay': {'default': 1.0, 'actual': 1.0}, 'momentum_start': {'default': 0.0, 'actual': 0.0}, 'momentum_ramp': {'default': 1000000.0, 'actual': 1000000.0}, 'momentum_stable': {'default': 0.0, 'actual': 0.0}, 'nesterov_accelerated_gradient': {'default': True, 'actual': True}, 'input_dropout_ratio': {'default': 0.0, 'actual': 0.1}, 'hidden_dropout_ratios': {'default': None, 'actual': [0.0, 0.0, 0.0]}, 'l1': {'default': 0.0, 'actual': 0.0}, 'l2': {'default': 0.0, 'actual': 0.0}, 'max_w2': {'default': 3.4028235e+38, 'actual': 3.4028235e+38}, 'initial_weight_distribution': {'default': 'UniformAdaptive', 'actual': 'UniformAdaptive'}, 'initial_weight_scale': {'default': 1.0, 'actual': 1.0}, 'initial_weights': {'default': None, 'actual': None}, 'initial_biases': {'default': None, 'actual': None}, 'loss': {'default': 'Automatic', 'actual': 'Automatic'}, 'distribution': {'default': 'AUTO', 'actual': 'AUTO'}, 'quantile_alpha': {'default': 0.5, 'actual': 0.5}, 'tweedie_power': {'default': 1.5, 'actual': 1.5}, 'huber_alpha': {'default': 0.9, 'actual': 0.9}, 'score_interval': {'default': 5.0, 'actual': 5.0}, 'score_training_samples': {'default': 10000, 'actual': 10000}, 'score_validation_samples': {'default': 0, 'actual': 0}, 'score_duty_cycle': {'default': 0.1, 'actual': 0.1}, 'classification_stop': {'default': 0.0, 'actual': 0.0}, 'regression_stop': {'default': 1e-06, 'actual': 1e-06}, 'stopping_rounds': {'default': 5, 'actual': 0}, 'stopping_metric': {'default': 'AUTO', 'actual': 'logloss'}, 'stopping_tolerance': {'default': 0.0, 'actual': 0.00397382714153187}, 'max_runtime_secs': {'default': 0.0, 'actual': 0.0}, 'score_validation_sampling': {'default': 'Uniform', 'actual': 'Uniform'}, 'diagnostics': {'default': True, 'actual': True}, 'fast_mode': {'default': True, 'actual': True}, 'force_load_balance': {'default': True, 'actual': True}, 'variable_importances': {'default': True, 'actual': True}, 'replicate_training_data': {'default': True, 'actual': True}, 'single_node_mode': {'default': False, 'actual': False}, 'shuffle_training_data': {'default': False, 'actual': False}, 'missing_values_handling': {'default': 'MeanImputation', 'actual': 'MeanImputation'}, 'quiet_mode': {'default': False, 'actual': False}, 'autoencoder': {'default': False, 'actual': False}, 'sparse': {'default': False, 'actual': False}, 'col_major': {'default': False, 'actual': False}, 'average_activation': {'default': 0.0, 'actual': 0.0}, 'sparsity_beta': {'default': 0.0, 'actual': 0.0}, 'max_categorical_features': {'default': 2147483647, 'actual': 2147483647}, 'reproducible': {'default': False, 'actual': False}, 'export_weights_and_biases': {'default': False, 'actual': False}, 'mini_batch_size': {'default': 1, 'actual': 1}, 'categorical_encoding': {'default': 'AUTO', 'actual': 'AUTO'}, 'elastic_averaging': {'default': False, 'actual': False}, 'elastic_averaging_moving_rate': {'default': 0.9, 'actual': 0.9}, 'elastic_averaging_regularization': {'default': 0.001, 'actual': 0.001}, 'export_checkpoints_dir': {'default': None, 'actual': None}}, {'model_id': {'default': None, 'actual': {'__meta': {'schema_version': 3, 'schema_name': 'ModelKeyV3', 'schema_type': 'Key<Model>'}, 'name': 'DeepLearning_1_AutoML_20190422_170306', 'type': 'Key<Model>', 'URL': '/3/Models/DeepLearning_1_AutoML_20190422_170306'}}, 'training_frame': {'default': None, 'actual': {'__meta': {'schema_version': 3, 'schema_name': 'FrameKeyV3', 'schema_type': 'Key<Frame>'}, 'name': 'automl_training_train_1000.hex', 'type': 'Key<Frame>', 'URL': '/3/Frames/automl_training_train_1000.hex'}}, 'validation_frame': {'default': None, 'actual': None}, 'nfolds': {'default': 0, 'actual': 5}, 'keep_cross_validation_models': {'default': True, 'actual': False}, 'keep_cross_validation_predictions': {'default': False, 'actual': True}, 'keep_cross_validation_fold_assignment': {'default': False, 'actual': False}, 'fold_assignment': {'default': 'AUTO', 'actual': 'Modulo'}, 'fold_column': {'default': None, 'actual': None}, 'response_column': {'default': None, 'actual': {'__meta': {'schema_version': 3, 'schema_name': 'ColSpecifierV3', 'schema_type': 'VecSpecifier'}, 'column_name': 'Claim', 'is_member_of_frames': None}}, 'ignored_columns': {'default': None, 'actual': []}, 'ignore_const_cols': {'default': True, 'actual': True}, 'score_each_iteration': {'default': False, 'actual': False}, 'weights_column': {'default': None, 'actual': None}, 'offset_column': {'default': None, 'actual': None}, 'balance_classes': {'default': False, 'actual': False}, 'class_sampling_factors': {'default': None, 'actual': None}, 'max_after_balance_size': {'default': 5.0, 'actual': 5.0}, 'max_confusion_matrix_size': {'default': 20, 'actual': 20}, 'max_hit_ratio_k': {'default': 0, 'actual': 0}, 'checkpoint': {'default': None, 'actual': None}, 'pretrained_autoencoder': {'default': None, 'actual': None}, 'overwrite_with_best_model': {'default': True, 'actual': False}, 'use_all_factor_levels': {'default': True, 'actual': True}, 'standardize': {'default': True, 'actual': True}, 'activation': {'default': 'Rectifier', 'actual': 'Rectifier'}, 'hidden': {'default': [200, 200], 'actual': [10, 10, 10]}, 'epochs': {'default': 10.0, 'actual': 10.39556425351757}, 'train_samples_per_iteration': {'default': -2, 'actual': -2}, 'target_ratio_comm_to_comp': {'default': 0.05, 'actual': 0.05}, 'seed': {'default': -1, 'actual': 8531781364363418431}, 'adaptive_rate': {'default': True, 'actual': True}, 'rho': {'default': 0.99, 'actual': 0.99}, 'epsilon': {'default': 1e-08, 'actual': 1e-08}, 'rate': {'default': 0.005, 'actual': 0.005}, 'rate_annealing': {'default': 1e-06, 'actual': 1e-06}, 'rate_decay': {'default': 1.0, 'actual': 1.0}, 'momentum_start': {'default': 0.0, 'actual': 0.0}, 'momentum_ramp': {'default': 1000000.0, 'actual': 1000000.0}, 'momentum_stable': {'default': 0.0, 'actual': 0.0}, 'nesterov_accelerated_gradient': {'default': True, 'actual': True}, 'input_dropout_ratio': {'default': 0.0, 'actual': 0.0}, 'hidden_dropout_ratios': {'default': None, 'actual': None}, 'l1': {'default': 0.0, 'actual': 0.0}, 'l2': {'default': 0.0, 'actual': 0.0}, 'max_w2': {'default': 3.4028235e+38, 'actual': 3.4028235e+38}, 'initial_weight_distribution': {'default': 'UniformAdaptive', 'actual': 'UniformAdaptive'}, 'initial_weight_scale': {'default': 1.0, 'actual': 1.0}, 'initial_weights': {'default': None, 'actual': None}, 'initial_biases': {'default': None, 'actual': None}, 'loss': {'default': 'Automatic', 'actual': 'Automatic'}, 'distribution': {'default': 'AUTO', 'actual': 'AUTO'}, 'quantile_alpha': {'default': 0.5, 'actual': 0.5}, 'tweedie_power': {'default': 1.5, 'actual': 1.5}, 'huber_alpha': {'default': 0.9, 'actual': 0.9}, 'score_interval': {'default': 5.0, 'actual': 5.0}, 'score_training_samples': {'default': 10000, 'actual': 10000}, 'score_validation_samples': {'default': 0, 'actual': 0}, 'score_duty_cycle': {'default': 0.1, 'actual': 0.1}, 'classification_stop': {'default': 0.0, 'actual': 0.0}, 'regression_stop': {'default': 1e-06, 'actual': 1e-06}, 'stopping_rounds': {'default': 5, 'actual': 0}, 'stopping_metric': {'default': 'AUTO', 'actual': 'logloss'}, 'stopping_tolerance': {'default': 0.0, 'actual': 0.00397382714153187}, 'max_runtime_secs': {'default': 0.0, 'actual': 0.0}, 'score_validation_sampling': {'default': 'Uniform', 'actual': 'Uniform'}, 'diagnostics': {'default': True, 'actual': True}, 'fast_mode': {'default': True, 'actual': True}, 'force_load_balance': {'default': True, 'actual': True}, 'variable_importances': {'default': True, 'actual': True}, 'replicate_training_data': {'default': True, 'actual': True}, 'single_node_mode': {'default': False, 'actual': False}, 'shuffle_training_data': {'default': False, 'actual': False}, 'missing_values_handling': {'default': 'MeanImputation', 'actual': 'MeanImputation'}, 'quiet_mode': {'default': False, 'actual': False}, 'autoencoder': {'default': False, 'actual': False}, 'sparse': {'default': False, 'actual': False}, 'col_major': {'default': False, 'actual': False}, 'average_activation': {'default': 0.0, 'actual': 0.0}, 'sparsity_beta': {'default': 0.0, 'actual': 0.0}, 'max_categorical_features': {'default': 2147483647, 'actual': 2147483647}, 'reproducible': {'default': False, 'actual': False}, 'export_weights_and_biases': {'default': False, 'actual': False}, 'mini_batch_size': {'default': 1, 'actual': 1}, 'categorical_encoding': {'default': 'AUTO', 'actual': 'AUTO'}, 'elastic_averaging': {'default': False, 'actual': False}, 'elastic_averaging_moving_rate': {'default': 0.9, 'actual': 0.9}, 'elastic_averaging_regularization': {'default': 0.001, 'actual': 0.001}, 'export_checkpoints_dir': {'default': None, 'actual': None}}, {'model_id': {'default': None, 'actual': {'__meta': {'schema_version': 3, 'schema_name': 'ModelKeyV3', 'schema_type': 'Key<Model>'}, 'name': 'DeepLearning_grid_1_AutoML_20190422_170306_model_6', 'type': 'Key<Model>', 'URL': '/3/Models/DeepLearning_grid_1_AutoML_20190422_170306_model_6'}}, 'training_frame': {'default': None, 'actual': {'__meta': {'schema_version': 3, 'schema_name': 'FrameKeyV3', 'schema_type': 'Key<Frame>'}, 'name': 'automl_training_train_1000.hex', 'type': 'Key<Frame>', 'URL': '/3/Frames/automl_training_train_1000.hex'}}, 'validation_frame': {'default': None, 'actual': None}, 'nfolds': {'default': 0, 'actual': 5}, 'keep_cross_validation_models': {'default': True, 'actual': False}, 'keep_cross_validation_predictions': {'default': False, 'actual': True}, 'keep_cross_validation_fold_assignment': {'default': False, 'actual': False}, 'fold_assignment': {'default': 'AUTO', 'actual': 'Modulo'}, 'fold_column': {'default': None, 'actual': None}, 'response_column': {'default': None, 'actual': {'__meta': {'schema_version': 3, 'schema_name': 'ColSpecifierV3', 'schema_type': 'VecSpecifier'}, 'column_name': 'Claim', 'is_member_of_frames': None}}, 'ignored_columns': {'default': None, 'actual': []}, 'ignore_const_cols': {'default': True, 'actual': True}, 'score_each_iteration': {'default': False, 'actual': False}, 'weights_column': {'default': None, 'actual': None}, 'offset_column': {'default': None, 'actual': None}, 'balance_classes': {'default': False, 'actual': False}, 'class_sampling_factors': {'default': None, 'actual': None}, 'max_after_balance_size': {'default': 5.0, 'actual': 5.0}, 'max_confusion_matrix_size': {'default': 20, 'actual': 20}, 'max_hit_ratio_k': {'default': 0, 'actual': 0}, 'checkpoint': {'default': None, 'actual': None}, 'pretrained_autoencoder': {'default': None, 'actual': None}, 'overwrite_with_best_model': {'default': True, 'actual': False}, 'use_all_factor_levels': {'default': True, 'actual': True}, 'standardize': {'default': True, 'actual': True}, 'activation': {'default': 'Rectifier', 'actual': 'RectifierWithDropout'}, 'hidden': {'default': [200, 200], 'actual': [200, 200, 200]}, 'epochs': {'default': 10.0, 'actual': 0.2471022958837114}, 'train_samples_per_iteration': {'default': -2, 'actual': -2}, 'target_ratio_comm_to_comp': {'default': 0.05, 'actual': 0.05}, 'seed': {'default': -1, 'actual': 962763418326053041}, 'adaptive_rate': {'default': True, 'actual': True}, 'rho': {'default': 0.99, 'actual': 0.95}, 'epsilon': {'default': 1e-08, 'actual': 1e-07}, 'rate': {'default': 0.005, 'actual': 0.005}, 'rate_annealing': {'default': 1e-06, 'actual': 1e-06}, 'rate_decay': {'default': 1.0, 'actual': 1.0}, 'momentum_start': {'default': 0.0, 'actual': 0.0}, 'momentum_ramp': {'default': 1000000.0, 'actual': 1000000.0}, 'momentum_stable': {'default': 0.0, 'actual': 0.0}, 'nesterov_accelerated_gradient': {'default': True, 'actual': True}, 'input_dropout_ratio': {'default': 0.0, 'actual': 0.15}, 'hidden_dropout_ratios': {'default': None, 'actual': [0.5, 0.5, 0.5]}, 'l1': {'default': 0.0, 'actual': 0.0}, 'l2': {'default': 0.0, 'actual': 0.0}, 'max_w2': {'default': 3.4028235e+38, 'actual': 3.4028235e+38}, 'initial_weight_distribution': {'default': 'UniformAdaptive', 'actual': 'UniformAdaptive'}, 'initial_weight_scale': {'default': 1.0, 'actual': 1.0}, 'initial_weights': {'default': None, 'actual': None}, 'initial_biases': {'default': None, 'actual': None}, 'loss': {'default': 'Automatic', 'actual': 'Automatic'}, 'distribution': {'default': 'AUTO', 'actual': 'AUTO'}, 'quantile_alpha': {'default': 0.5, 'actual': 0.5}, 'tweedie_power': {'default': 1.5, 'actual': 1.5}, 'huber_alpha': {'default': 0.9, 'actual': 0.9}, 'score_interval': {'default': 5.0, 'actual': 5.0}, 'score_training_samples': {'default': 10000, 'actual': 10000}, 'score_validation_samples': {'default': 0, 'actual': 0}, 'score_duty_cycle': {'default': 0.1, 'actual': 0.1}, 'classification_stop': {'default': 0.0, 'actual': 0.0}, 'regression_stop': {'default': 1e-06, 'actual': 1e-06}, 'stopping_rounds': {'default': 5, 'actual': 0}, 'stopping_metric': {'default': 'AUTO', 'actual': 'logloss'}, 'stopping_tolerance': {'default': 0.0, 'actual': 0.00397382714153187}, 'max_runtime_secs': {'default': 0.0, 'actual': 0.0}, 'score_validation_sampling': {'default': 'Uniform', 'actual': 'Uniform'}, 'diagnostics': {'default': True, 'actual': True}, 'fast_mode': {'default': True, 'actual': True}, 'force_load_balance': {'default': True, 'actual': True}, 'variable_importances': {'default': True, 'actual': True}, 'replicate_training_data': {'default': True, 'actual': True}, 'single_node_mode': {'default': False, 'actual': False}, 'shuffle_training_data': {'default': False, 'actual': False}, 'missing_values_handling': {'default': 'MeanImputation', 'actual': 'MeanImputation'}, 'quiet_mode': {'default': False, 'actual': False}, 'autoencoder': {'default': False, 'actual': False}, 'sparse': {'default': False, 'actual': False}, 'col_major': {'default': False, 'actual': False}, 'average_activation': {'default': 0.0, 'actual': 0.0}, 'sparsity_beta': {'default': 0.0, 'actual': 0.0}, 'max_categorical_features': {'default': 2147483647, 'actual': 2147483647}, 'reproducible': {'default': False, 'actual': False}, 'export_weights_and_biases': {'default': False, 'actual': False}, 'mini_batch_size': {'default': 1, 'actual': 1}, 'categorical_encoding': {'default': 'AUTO', 'actual': 'AUTO'}, 'elastic_averaging': {'default': False, 'actual': False}, 'elastic_averaging_moving_rate': {'default': 0.9, 'actual': 0.9}, 'elastic_averaging_regularization': {'default': 0.001, 'actual': 0.001}, 'export_checkpoints_dir': {'default': None, 'actual': None}}, {'model_id': {'default': None, 'actual': {'__meta': {'schema_version': 3, 'schema_name': 'ModelKeyV3', 'schema_type': 'Key<Model>'}, 'name': 'DeepLearning_grid_1_AutoML_20190422_170306_model_2', 'type': 'Key<Model>', 'URL': '/3/Models/DeepLearning_grid_1_AutoML_20190422_170306_model_2'}}, 'training_frame': {'default': None, 'actual': {'__meta': {'schema_version': 3, 'schema_name': 'FrameKeyV3', 'schema_type': 'Key<Frame>'}, 'name': 'automl_training_train_1000.hex', 'type': 'Key<Frame>', 'URL': '/3/Frames/automl_training_train_1000.hex'}}, 'validation_frame': {'default': None, 'actual': None}, 'nfolds': {'default': 0, 'actual': 5}, 'keep_cross_validation_models': {'default': True, 'actual': False}, 'keep_cross_validation_predictions': {'default': False, 'actual': True}, 'keep_cross_validation_fold_assignment': {'default': False, 'actual': False}, 'fold_assignment': {'default': 'AUTO', 'actual': 'Modulo'}, 'fold_column': {'default': None, 'actual': None}, 'response_column': {'default': None, 'actual': {'__meta': {'schema_version': 3, 'schema_name': 'ColSpecifierV3', 'schema_type': 'VecSpecifier'}, 'column_name': 'Claim', 'is_member_of_frames': None}}, 'ignored_columns': {'default': None, 'actual': []}, 'ignore_const_cols': {'default': True, 'actual': True}, 'score_each_iteration': {'default': False, 'actual': False}, 'weights_column': {'default': None, 'actual': None}, 'offset_column': {'default': None, 'actual': None}, 'balance_classes': {'default': False, 'actual': False}, 'class_sampling_factors': {'default': None, 'actual': None}, 'max_after_balance_size': {'default': 5.0, 'actual': 5.0}, 'max_confusion_matrix_size': {'default': 20, 'actual': 20}, 'max_hit_ratio_k': {'default': 0, 'actual': 0}, 'checkpoint': {'default': None, 'actual': None}, 'pretrained_autoencoder': {'default': None, 'actual': None}, 'overwrite_with_best_model': {'default': True, 'actual': False}, 'use_all_factor_levels': {'default': True, 'actual': True}, 'standardize': {'default': True, 'actual': True}, 'activation': {'default': 'Rectifier', 'actual': 'RectifierWithDropout'}, 'hidden': {'default': [200, 200], 'actual': [200]}, 'epochs': {'default': 10.0, 'actual': 1.5784038170537489}, 'train_samples_per_iteration': {'default': -2, 'actual': -2}, 'target_ratio_comm_to_comp': {'default': 0.05, 'actual': 0.05}, 'seed': {'default': -1, 'actual': 4750121041557339526}, 'adaptive_rate': {'default': True, 'actual': True}, 'rho': {'default': 0.99, 'actual': 0.99}, 'epsilon': {'default': 1e-08, 'actual': 1e-09}, 'rate': {'default': 0.005, 'actual': 0.005}, 'rate_annealing': {'default': 1e-06, 'actual': 1e-06}, 'rate_decay': {'default': 1.0, 'actual': 1.0}, 'momentum_start': {'default': 0.0, 'actual': 0.0}, 'momentum_ramp': {'default': 1000000.0, 'actual': 1000000.0}, 'momentum_stable': {'default': 0.0, 'actual': 0.0}, 'nesterov_accelerated_gradient': {'default': True, 'actual': True}, 'input_dropout_ratio': {'default': 0.0, 'actual': 0.0}, 'hidden_dropout_ratios': {'default': None, 'actual': [0.2]}, 'l1': {'default': 0.0, 'actual': 0.0}, 'l2': {'default': 0.0, 'actual': 0.0}, 'max_w2': {'default': 3.4028235e+38, 'actual': 3.4028235e+38}, 'initial_weight_distribution': {'default': 'UniformAdaptive', 'actual': 'UniformAdaptive'}, 'initial_weight_scale': {'default': 1.0, 'actual': 1.0}, 'initial_weights': {'default': None, 'actual': None}, 'initial_biases': {'default': None, 'actual': None}, 'loss': {'default': 'Automatic', 'actual': 'Automatic'}, 'distribution': {'default': 'AUTO', 'actual': 'AUTO'}, 'quantile_alpha': {'default': 0.5, 'actual': 0.5}, 'tweedie_power': {'default': 1.5, 'actual': 1.5}, 'huber_alpha': {'default': 0.9, 'actual': 0.9}, 'score_interval': {'default': 5.0, 'actual': 5.0}, 'score_training_samples': {'default': 10000, 'actual': 10000}, 'score_validation_samples': {'default': 0, 'actual': 0}, 'score_duty_cycle': {'default': 0.1, 'actual': 0.1}, 'classification_stop': {'default': 0.0, 'actual': 0.0}, 'regression_stop': {'default': 1e-06, 'actual': 1e-06}, 'stopping_rounds': {'default': 5, 'actual': 0}, 'stopping_metric': {'default': 'AUTO', 'actual': 'logloss'}, 'stopping_tolerance': {'default': 0.0, 'actual': 0.00397382714153187}, 'max_runtime_secs': {'default': 0.0, 'actual': 0.0}, 'score_validation_sampling': {'default': 'Uniform', 'actual': 'Uniform'}, 'diagnostics': {'default': True, 'actual': True}, 'fast_mode': {'default': True, 'actual': True}, 'force_load_balance': {'default': True, 'actual': True}, 'variable_importances': {'default': True, 'actual': True}, 'replicate_training_data': {'default': True, 'actual': True}, 'single_node_mode': {'default': False, 'actual': False}, 'shuffle_training_data': {'default': False, 'actual': False}, 'missing_values_handling': {'default': 'MeanImputation', 'actual': 'MeanImputation'}, 'quiet_mode': {'default': False, 'actual': False}, 'autoencoder': {'default': False, 'actual': False}, 'sparse': {'default': False, 'actual': False}, 'col_major': {'default': False, 'actual': False}, 'average_activation': {'default': 0.0, 'actual': 0.0}, 'sparsity_beta': {'default': 0.0, 'actual': 0.0}, 'max_categorical_features': {'default': 2147483647, 'actual': 2147483647}, 'reproducible': {'default': False, 'actual': False}, 'export_weights_and_biases': {'default': False, 'actual': False}, 'mini_batch_size': {'default': 1, 'actual': 1}, 'categorical_encoding': {'default': 'AUTO', 'actual': 'AUTO'}, 'elastic_averaging': {'default': False, 'actual': False}, 'elastic_averaging_moving_rate': {'default': 0.9, 'actual': 0.9}, 'elastic_averaging_regularization': {'default': 0.001, 'actual': 0.001}, 'export_checkpoints_dir': {'default': None, 'actual': None}}, {'model_id': {'default': None, 'actual': {'__meta': {'schema_version': 3, 'schema_name': 'ModelKeyV3', 'schema_type': 'Key<Model>'}, 'name': 'DeepLearning_grid_1_AutoML_20190422_170306_model_1', 'type': 'Key<Model>', 'URL': '/3/Models/DeepLearning_grid_1_AutoML_20190422_170306_model_1'}}, 'training_frame': {'default': None, 'actual': {'__meta': {'schema_version': 3, 'schema_name': 'FrameKeyV3', 'schema_type': 'Key<Frame>'}, 'name': 'automl_training_train_1000.hex', 'type': 'Key<Frame>', 'URL': '/3/Frames/automl_training_train_1000.hex'}}, 'validation_frame': {'default': None, 'actual': None}, 'nfolds': {'default': 0, 'actual': 5}, 'keep_cross_validation_models': {'default': True, 'actual': False}, 'keep_cross_validation_predictions': {'default': False, 'actual': True}, 'keep_cross_validation_fold_assignment': {'default': False, 'actual': False}, 'fold_assignment': {'default': 'AUTO', 'actual': 'Modulo'}, 'fold_column': {'default': None, 'actual': None}, 'response_column': {'default': None, 'actual': {'__meta': {'schema_version': 3, 'schema_name': 'ColSpecifierV3', 'schema_type': 'VecSpecifier'}, 'column_name': 'Claim', 'is_member_of_frames': None}}, 'ignored_columns': {'default': None, 'actual': []}, 'ignore_const_cols': {'default': True, 'actual': True}, 'score_each_iteration': {'default': False, 'actual': False}, 'weights_column': {'default': None, 'actual': None}, 'offset_column': {'default': None, 'actual': None}, 'balance_classes': {'default': False, 'actual': False}, 'class_sampling_factors': {'default': None, 'actual': None}, 'max_after_balance_size': {'default': 5.0, 'actual': 5.0}, 'max_confusion_matrix_size': {'default': 20, 'actual': 20}, 'max_hit_ratio_k': {'default': 0, 'actual': 0}, 'checkpoint': {'default': None, 'actual': None}, 'pretrained_autoencoder': {'default': None, 'actual': None}, 'overwrite_with_best_model': {'default': True, 'actual': False}, 'use_all_factor_levels': {'default': True, 'actual': True}, 'standardize': {'default': True, 'actual': True}, 'activation': {'default': 'Rectifier', 'actual': 'RectifierWithDropout'}, 'hidden': {'default': [200, 200], 'actual': [500]}, 'epochs': {'default': 10.0, 'actual': 3.155620991791322}, 'train_samples_per_iteration': {'default': -2, 'actual': -2}, 'target_ratio_comm_to_comp': {'default': 0.05, 'actual': 0.05}, 'seed': {'default': -1, 'actual': -8336640209931563385}, 'adaptive_rate': {'default': True, 'actual': True}, 'rho': {'default': 0.99, 'actual': 0.9}, 'epsilon': {'default': 1e-08, 'actual': 1e-09}, 'rate': {'default': 0.005, 'actual': 0.005}, 'rate_annealing': {'default': 1e-06, 'actual': 1e-06}, 'rate_decay': {'default': 1.0, 'actual': 1.0}, 'momentum_start': {'default': 0.0, 'actual': 0.0}, 'momentum_ramp': {'default': 1000000.0, 'actual': 1000000.0}, 'momentum_stable': {'default': 0.0, 'actual': 0.0}, 'nesterov_accelerated_gradient': {'default': True, 'actual': True}, 'input_dropout_ratio': {'default': 0.0, 'actual': 0.05}, 'hidden_dropout_ratios': {'default': None, 'actual': [0.3]}, 'l1': {'default': 0.0, 'actual': 0.0}, 'l2': {'default': 0.0, 'actual': 0.0}, 'max_w2': {'default': 3.4028235e+38, 'actual': 3.4028235e+38}, 'initial_weight_distribution': {'default': 'UniformAdaptive', 'actual': 'UniformAdaptive'}, 'initial_weight_scale': {'default': 1.0, 'actual': 1.0}, 'initial_weights': {'default': None, 'actual': None}, 'initial_biases': {'default': None, 'actual': None}, 'loss': {'default': 'Automatic', 'actual': 'Automatic'}, 'distribution': {'default': 'AUTO', 'actual': 'AUTO'}, 'quantile_alpha': {'default': 0.5, 'actual': 0.5}, 'tweedie_power': {'default': 1.5, 'actual': 1.5}, 'huber_alpha': {'default': 0.9, 'actual': 0.9}, 'score_interval': {'default': 5.0, 'actual': 5.0}, 'score_training_samples': {'default': 10000, 'actual': 10000}, 'score_validation_samples': {'default': 0, 'actual': 0}, 'score_duty_cycle': {'default': 0.1, 'actual': 0.1}, 'classification_stop': {'default': 0.0, 'actual': 0.0}, 'regression_stop': {'default': 1e-06, 'actual': 1e-06}, 'stopping_rounds': {'default': 5, 'actual': 0}, 'stopping_metric': {'default': 'AUTO', 'actual': 'logloss'}, 'stopping_tolerance': {'default': 0.0, 'actual': 0.00397382714153187}, 'max_runtime_secs': {'default': 0.0, 'actual': 0.0}, 'score_validation_sampling': {'default': 'Uniform', 'actual': 'Uniform'}, 'diagnostics': {'default': True, 'actual': True}, 'fast_mode': {'default': True, 'actual': True}, 'force_load_balance': {'default': True, 'actual': True}, 'variable_importances': {'default': True, 'actual': True}, 'replicate_training_data': {'default': True, 'actual': True}, 'single_node_mode': {'default': False, 'actual': False}, 'shuffle_training_data': {'default': False, 'actual': False}, 'missing_values_handling': {'default': 'MeanImputation', 'actual': 'MeanImputation'}, 'quiet_mode': {'default': False, 'actual': False}, 'autoencoder': {'default': False, 'actual': False}, 'sparse': {'default': False, 'actual': False}, 'col_major': {'default': False, 'actual': False}, 'average_activation': {'default': 0.0, 'actual': 0.0}, 'sparsity_beta': {'default': 0.0, 'actual': 0.0}, 'max_categorical_features': {'default': 2147483647, 'actual': 2147483647}, 'reproducible': {'default': False, 'actual': False}, 'export_weights_and_biases': {'default': False, 'actual': False}, 'mini_batch_size': {'default': 1, 'actual': 1}, 'categorical_encoding': {'default': 'AUTO', 'actual': 'AUTO'}, 'elastic_averaging': {'default': False, 'actual': False}, 'elastic_averaging_moving_rate': {'default': 0.9, 'actual': 0.9}, 'elastic_averaging_regularization': {'default': 0.001, 'actual': 0.001}, 'export_checkpoints_dir': {'default': None, 'actual': None}}, {'model_id': {'default': None, 'actual': {'__meta': {'schema_version': 3, 'schema_name': 'ModelKeyV3', 'schema_type': 'Key<Model>'}, 'name': 'DeepLearning_grid_1_AutoML_20190422_170306_model_4', 'type': 'Key<Model>', 'URL': '/3/Models/DeepLearning_grid_1_AutoML_20190422_170306_model_4'}}, 'training_frame': {'default': None, 'actual': {'__meta': {'schema_version': 3, 'schema_name': 'FrameKeyV3', 'schema_type': 'Key<Frame>'}, 'name': 'automl_training_train_1000.hex', 'type': 'Key<Frame>', 'URL': '/3/Frames/automl_training_train_1000.hex'}}, 'validation_frame': {'default': None, 'actual': None}, 'nfolds': {'default': 0, 'actual': 5}, 'keep_cross_validation_models': {'default': True, 'actual': False}, 'keep_cross_validation_predictions': {'default': False, 'actual': True}, 'keep_cross_validation_fold_assignment': {'default': False, 'actual': False}, 'fold_assignment': {'default': 'AUTO', 'actual': 'Modulo'}, 'fold_column': {'default': None, 'actual': None}, 'response_column': {'default': None, 'actual': {'__meta': {'schema_version': 3, 'schema_name': 'ColSpecifierV3', 'schema_type': 'VecSpecifier'}, 'column_name': 'Claim', 'is_member_of_frames': None}}, 'ignored_columns': {'default': None, 'actual': []}, 'ignore_const_cols': {'default': True, 'actual': True}, 'score_each_iteration': {'default': False, 'actual': False}, 'weights_column': {'default': None, 'actual': None}, 'offset_column': {'default': None, 'actual': None}, 'balance_classes': {'default': False, 'actual': False}, 'class_sampling_factors': {'default': None, 'actual': None}, 'max_after_balance_size': {'default': 5.0, 'actual': 5.0}, 'max_confusion_matrix_size': {'default': 20, 'actual': 20}, 'max_hit_ratio_k': {'default': 0, 'actual': 0}, 'checkpoint': {'default': None, 'actual': None}, 'pretrained_autoencoder': {'default': None, 'actual': None}, 'overwrite_with_best_model': {'default': True, 'actual': False}, 'use_all_factor_levels': {'default': True, 'actual': True}, 'standardize': {'default': True, 'actual': True}, 'activation': {'default': 'Rectifier', 'actual': 'RectifierWithDropout'}, 'hidden': {'default': [200, 200], 'actual': [500, 500]}, 'epochs': {'default': 10.0, 'actual': 0.091936959522238}, 'train_samples_per_iteration': {'default': -2, 'actual': -2}, 'target_ratio_comm_to_comp': {'default': 0.05, 'actual': 0.05}, 'seed': {'default': -1, 'actual': 6532302379712216355}, 'adaptive_rate': {'default': True, 'actual': True}, 'rho': {'default': 0.99, 'actual': 0.99}, 'epsilon': {'default': 1e-08, 'actual': 1e-06}, 'rate': {'default': 0.005, 'actual': 0.005}, 'rate_annealing': {'default': 1e-06, 'actual': 1e-06}, 'rate_decay': {'default': 1.0, 'actual': 1.0}, 'momentum_start': {'default': 0.0, 'actual': 0.0}, 'momentum_ramp': {'default': 1000000.0, 'actual': 1000000.0}, 'momentum_stable': {'default': 0.0, 'actual': 0.0}, 'nesterov_accelerated_gradient': {'default': True, 'actual': True}, 'input_dropout_ratio': {'default': 0.0, 'actual': 0.15}, 'hidden_dropout_ratios': {'default': None, 'actual': [0.4, 0.4]}, 'l1': {'default': 0.0, 'actual': 0.0}, 'l2': {'default': 0.0, 'actual': 0.0}, 'max_w2': {'default': 3.4028235e+38, 'actual': 3.4028235e+38}, 'initial_weight_distribution': {'default': 'UniformAdaptive', 'actual': 'UniformAdaptive'}, 'initial_weight_scale': {'default': 1.0, 'actual': 1.0}, 'initial_weights': {'default': None, 'actual': None}, 'initial_biases': {'default': None, 'actual': None}, 'loss': {'default': 'Automatic', 'actual': 'Automatic'}, 'distribution': {'default': 'AUTO', 'actual': 'AUTO'}, 'quantile_alpha': {'default': 0.5, 'actual': 0.5}, 'tweedie_power': {'default': 1.5, 'actual': 1.5}, 'huber_alpha': {'default': 0.9, 'actual': 0.9}, 'score_interval': {'default': 5.0, 'actual': 5.0}, 'score_training_samples': {'default': 10000, 'actual': 10000}, 'score_validation_samples': {'default': 0, 'actual': 0}, 'score_duty_cycle': {'default': 0.1, 'actual': 0.1}, 'classification_stop': {'default': 0.0, 'actual': 0.0}, 'regression_stop': {'default': 1e-06, 'actual': 1e-06}, 'stopping_rounds': {'default': 5, 'actual': 0}, 'stopping_metric': {'default': 'AUTO', 'actual': 'logloss'}, 'stopping_tolerance': {'default': 0.0, 'actual': 0.00397382714153187}, 'max_runtime_secs': {'default': 0.0, 'actual': 0.0}, 'score_validation_sampling': {'default': 'Uniform', 'actual': 'Uniform'}, 'diagnostics': {'default': True, 'actual': True}, 'fast_mode': {'default': True, 'actual': True}, 'force_load_balance': {'default': True, 'actual': True}, 'variable_importances': {'default': True, 'actual': True}, 'replicate_training_data': {'default': True, 'actual': True}, 'single_node_mode': {'default': False, 'actual': False}, 'shuffle_training_data': {'default': False, 'actual': False}, 'missing_values_handling': {'default': 'MeanImputation', 'actual': 'MeanImputation'}, 'quiet_mode': {'default': False, 'actual': False}, 'autoencoder': {'default': False, 'actual': False}, 'sparse': {'default': False, 'actual': False}, 'col_major': {'default': False, 'actual': False}, 'average_activation': {'default': 0.0, 'actual': 0.0}, 'sparsity_beta': {'default': 0.0, 'actual': 0.0}, 'max_categorical_features': {'default': 2147483647, 'actual': 2147483647}, 'reproducible': {'default': False, 'actual': False}, 'export_weights_and_biases': {'default': False, 'actual': False}, 'mini_batch_size': {'default': 1, 'actual': 1}, 'categorical_encoding': {'default': 'AUTO', 'actual': 'AUTO'}, 'elastic_averaging': {'default': False, 'actual': False}, 'elastic_averaging_moving_rate': {'default': 0.9, 'actual': 0.9}, 'elastic_averaging_regularization': {'default': 0.001, 'actual': 0.001}, 'export_checkpoints_dir': {'default': None, 'actual': None}}, {'model_id': {'default': None, 'actual': {'__meta': {'schema_version': 3, 'schema_name': 'ModelKeyV3', 'schema_type': 'Key<Model>'}, 'name': 'GBM_grid_1_AutoML_20190422_170306_model_9', 'type': 'Key<Model>', 'URL': '/3/Models/GBM_grid_1_AutoML_20190422_170306_model_9'}}, 'training_frame': {'default': None, 'actual': {'__meta': {'schema_version': 3, 'schema_name': 'FrameKeyV3', 'schema_type': 'Key<Frame>'}, 'name': 'automl_training_train_1000.hex', 'type': 'Key<Frame>', 'URL': '/3/Frames/automl_training_train_1000.hex'}}, 'validation_frame': {'default': None, 'actual': None}, 'nfolds': {'default': 0, 'actual': 5}, 'keep_cross_validation_models': {'default': True, 'actual': False}, 'keep_cross_validation_predictions': {'default': False, 'actual': True}, 'keep_cross_validation_fold_assignment': {'default': False, 'actual': False}, 'score_each_iteration': {'default': False, 'actual': False}, 'score_tree_interval': {'default': 0, 'actual': 5}, 'fold_assignment': {'default': 'AUTO', 'actual': 'Modulo'}, 'fold_column': {'default': None, 'actual': None}, 'response_column': {'default': None, 'actual': {'__meta': {'schema_version': 3, 'schema_name': 'ColSpecifierV3', 'schema_type': 'VecSpecifier'}, 'column_name': 'Claim', 'is_member_of_frames': None}}, 'ignored_columns': {'default': None, 'actual': []}, 'ignore_const_cols': {'default': True, 'actual': True}, 'offset_column': {'default': None, 'actual': None}, 'weights_column': {'default': None, 'actual': None}, 'balance_classes': {'default': False, 'actual': False}, 'class_sampling_factors': {'default': None, 'actual': None}, 'max_after_balance_size': {'default': 5.0, 'actual': 5.0}, 'max_confusion_matrix_size': {'default': 20, 'actual': 20}, 'max_hit_ratio_k': {'default': 0, 'actual': 0}, 'ntrees': {'default': 50, 'actual': 21}, 'max_depth': {'default': 5, 'actual': 14}, 'min_rows': {'default': 10.0, 'actual': 5.0}, 'nbins': {'default': 20, 'actual': 20}, 'nbins_top_level': {'default': 1024, 'actual': 1024}, 'nbins_cats': {'default': 1024, 'actual': 1024}, 'r2_stopping': {'default': 1.7976931348623157e+308, 'actual': 1.7976931348623157e+308}, 'stopping_rounds': {'default': 0, 'actual': 0}, 'stopping_metric': {'default': 'AUTO', 'actual': 'logloss'}, 'stopping_tolerance': {'default': 0.001, 'actual': 0.00397382714153187}, 'max_runtime_secs': {'default': 0.0, 'actual': 0.0}, 'seed': {'default': -1, 'actual': 2398863329259082729}, 'build_tree_one_node': {'default': False, 'actual': False}, 'learn_rate': {'default': 0.1, 'actual': 0.8}, 'learn_rate_annealing': {'default': 1.0, 'actual': 1.0}, 'distribution': {'default': 'AUTO', 'actual': 'bernoulli'}, 'quantile_alpha': {'default': 0.5, 'actual': 0.5}, 'tweedie_power': {'default': 1.5, 'actual': 1.5}, 'huber_alpha': {'default': 0.9, 'actual': 0.9}, 'checkpoint': {'default': None, 'actual': None}, 'sample_rate': {'default': 1.0, 'actual': 1.0}, 'sample_rate_per_class': {'default': None, 'actual': None}, 'col_sample_rate': {'default': 1.0, 'actual': 1.0}, 'col_sample_rate_change_per_level': {'default': 1.0, 'actual': 1.0}, 'col_sample_rate_per_tree': {'default': 1.0, 'actual': 0.4}, 'min_split_improvement': {'default': 1e-05, 'actual': 1e-05}, 'histogram_type': {'default': 'AUTO', 'actual': 'AUTO'}, 'max_abs_leafnode_pred': {'default': 1.7976931348623157e+308, 'actual': 1.7976931348623157e+308}, 'pred_noise_bandwidth': {'default': 0.0, 'actual': 0.0}, 'categorical_encoding': {'default': 'AUTO', 'actual': 'AUTO'}, 'calibrate_model': {'default': False, 'actual': False}, 'calibration_frame': {'default': None, 'actual': None}, 'custom_metric_func': {'default': None, 'actual': None}, 'export_checkpoints_dir': {'default': None, 'actual': None}, 'monotone_constraints': {'default': None, 'actual': None}, 'check_constant_response': {'default': True, 'actual': True}}]"
     ]
    },
    {
     "name": "stdout",
     "output_type": "stream",
     "text": [
      "\n"
     ]
    }
   ],
   "source": [
    "print(jsonDicts)"
   ]
  },
  {
   "cell_type": "code",
   "execution_count": 95,
   "metadata": {},
   "outputs": [],
   "source": [
    "def hyperparameter_json(jsonDicts,name):\n",
    "    i = json.dumps(jsonDicts, indent=4)\n",
    "    f = open(name, 'w')\n",
    "    print(i, file=f)\n",
    "    f.close()\n",
    "# hyperparameters = mod_best.params\n",
    "name='Claim_hyperparameters.json'\n",
    "hyperparameter_json(jsonDicts,'hyperparameters_1000.json') \n",
    "hyperparameter_json(metadata,'meta_data_1000.json') \n",
    "#hyperparameter_json(show_leader_board,'lb_500.json')"
   ]
  },
  {
   "cell_type": "code",
   "execution_count": 96,
   "metadata": {},
   "outputs": [],
   "source": [
    "pd.read_json(json.dumps(jsonDicts)).to_csv('hyperparameters_1000.csv')"
   ]
  },
  {
   "cell_type": "markdown",
   "metadata": {},
   "source": [
    "### H20 Part 3"
   ]
  },
  {
   "cell_type": "code",
   "execution_count": 97,
   "metadata": {},
   "outputs": [
    {
     "name": "stdout",
     "output_type": "stream",
     "text": [
      "PVxu8FKke\n"
     ]
    }
   ],
   "source": [
    "data_path=None\n",
    "all_variables=None\n",
    "test_path=None\n",
    "# target='search_term'\n",
    "target=None\n",
    "nthreads=1 \n",
    "min_mem_size=6 \n",
    "run_time=1500\n",
    "classification=False\n",
    "scale=False\n",
    "max_models=9    \n",
    "model_path=None\n",
    "balance_y=False \n",
    "balance_threshold=0.2\n",
    "name=None \n",
    "server_path=None  \n",
    "analysis=0\n",
    "\n",
    "def alphabet(n):\n",
    "  alpha='0123456789abcdefghijklmnopqrstuvwxyzABCDEFGHIJKLMNOPQRSTUVWXYZ'    \n",
    "  str=''\n",
    "  r=len(alpha)-1   \n",
    "  while len(str)<n:\n",
    "    i=random.randint(0,r)\n",
    "    str+=alpha[i]   \n",
    "  return str\n",
    "\n",
    "run_id=alphabet(9)\n",
    "if server_path==None:\n",
    "  server_path=os.path.abspath(os.curdir)\n",
    "os.chdir(server_path) \n",
    "run_dir = os.path.join(server_path,run_id)\n",
    "os.mkdir(run_dir)\n",
    "os.chdir(run_dir)    \n",
    "\n",
    "# run_id to std out\n",
    "print (run_id)"
   ]
  },
  {
   "cell_type": "code",
   "execution_count": 98,
   "metadata": {},
   "outputs": [
    {
     "name": "stdout",
     "output_type": "stream",
     "text": [
      "C:\\Users\\Ashmita\\Desktop\\Data Science Assignments\\Final Project\\hyperparameter-db-project-ds14\\Python scripts\\Yurs3VOV1\\t98Izz7MB\\PVxu8FKke\\logs   PVxu8FKke_autoh2o_log.zip\n"
     ]
    }
   ],
   "source": [
    "logfile=run_id+'_autoh2o_log.zip'\n",
    "logs_path=os.path.join(run_dir,'logs')\n",
    "print(logs_path,' ',logfile)"
   ]
  },
  {
   "cell_type": "code",
   "execution_count": 99,
   "metadata": {},
   "outputs": [
    {
     "name": "stdout",
     "output_type": "stream",
     "text": [
      "3\n"
     ]
    }
   ],
   "source": [
    "pct_memory=0.5\n",
    "virtual_memory=psutil.virtual_memory()\n",
    "min_mem_size=int(round(int(pct_memory*virtual_memory.available)/1073741824,0))\n",
    "print(min_mem_size)"
   ]
  },
  {
   "cell_type": "code",
   "execution_count": 100,
   "metadata": {},
   "outputs": [],
   "source": [
    "def set_meta_data(analysis,run_id,server,data,test,model_path,target,run_time,classification,scale,model,balance,balance_threshold,name,path,nthreads,min_mem_size):\n",
    "  meta_data={}\n",
    "  meta_data['start_time'] = time.time()\n",
    "  meta_data['target']=target\n",
    "  meta_data['server_path']=server\n",
    "  meta_data['data_path']=data \n",
    "  meta_data['test_path']=test\n",
    "  meta_data['max_models']=model\n",
    "  meta_data['run_time']=run_time\n",
    "  meta_data['run_id'] =run_id\n",
    "  meta_data['scale']=scale\n",
    "  meta_data['classification']=classification\n",
    "  meta_data['scale']=False\n",
    "  meta_data['model_path']=model_path\n",
    "  meta_data['balance']=balance\n",
    "  meta_data['balance_threshold']=balance_threshold\n",
    "  meta_data['project'] =name\n",
    "  meta_data['end_time'] = time.time()\n",
    "  meta_data['execution_time'] = 0.0\n",
    "  meta_data['run_path'] =path\n",
    "  meta_data['nthreads'] = nthreads\n",
    "  meta_data['min_mem_size'] = min_mem_size\n",
    "  meta_data['analysis'] = analysis\n",
    "  return meta_data"
   ]
  },
  {
   "cell_type": "code",
   "execution_count": 101,
   "metadata": {},
   "outputs": [
    {
     "name": "stdout",
     "output_type": "stream",
     "text": [
      "{'start_time': 1555968866.3787594, 'target': None, 'server_path': 'C:\\\\Users\\\\Ashmita\\\\Desktop\\\\Data Science Assignments\\\\Final Project\\\\hyperparameter-db-project-ds14\\\\Python scripts\\\\Yurs3VOV1\\\\t98Izz7MB', 'data_path': None, 'test_path': None, 'max_models': 9, 'run_time': 1500, 'run_id': 'PVxu8FKke', 'scale': False, 'classification': False, 'model_path': None, 'balance': False, 'balance_threshold': 0.2, 'project': None, 'end_time': 1555968866.3787594, 'execution_time': 0.0, 'run_path': 'C:\\\\Users\\\\Ashmita\\\\Desktop\\\\Data Science Assignments\\\\Final Project\\\\hyperparameter-db-project-ds14\\\\Python scripts\\\\Yurs3VOV1\\\\t98Izz7MB\\\\PVxu8FKke', 'nthreads': 1, 'min_mem_size': 3, 'analysis': 0}\n"
     ]
    }
   ],
   "source": [
    "metadata_1500 = set_meta_data(analysis, run_id,server_path,data_path,test_path,model_path,target,run_time,classification,scale,max_models,balance_y,balance_threshold,name,run_dir,nthreads,min_mem_size)\n",
    "print(metadata_1500)"
   ]
  },
  {
   "cell_type": "code",
   "execution_count": 102,
   "metadata": {},
   "outputs": [
    {
     "data": {
      "text/html": [
       "<div>\n",
       "<style scoped>\n",
       "    .dataframe tbody tr th:only-of-type {\n",
       "        vertical-align: middle;\n",
       "    }\n",
       "\n",
       "    .dataframe tbody tr th {\n",
       "        vertical-align: top;\n",
       "    }\n",
       "\n",
       "    .dataframe thead th {\n",
       "        text-align: right;\n",
       "    }\n",
       "</style>\n",
       "<table border=\"1\" class=\"dataframe\">\n",
       "  <thead>\n",
       "    <tr style=\"text-align: right;\">\n",
       "      <th></th>\n",
       "      <th>0</th>\n",
       "    </tr>\n",
       "  </thead>\n",
       "  <tbody>\n",
       "    <tr>\n",
       "      <th>start_time</th>\n",
       "      <td>1.55597e+09</td>\n",
       "    </tr>\n",
       "    <tr>\n",
       "      <th>target</th>\n",
       "      <td>None</td>\n",
       "    </tr>\n",
       "    <tr>\n",
       "      <th>server_path</th>\n",
       "      <td>C:\\Users\\Ashmita\\Desktop\\Data Science Assignme...</td>\n",
       "    </tr>\n",
       "    <tr>\n",
       "      <th>data_path</th>\n",
       "      <td>None</td>\n",
       "    </tr>\n",
       "    <tr>\n",
       "      <th>test_path</th>\n",
       "      <td>None</td>\n",
       "    </tr>\n",
       "    <tr>\n",
       "      <th>max_models</th>\n",
       "      <td>9</td>\n",
       "    </tr>\n",
       "    <tr>\n",
       "      <th>run_time</th>\n",
       "      <td>1500</td>\n",
       "    </tr>\n",
       "    <tr>\n",
       "      <th>run_id</th>\n",
       "      <td>PVxu8FKke</td>\n",
       "    </tr>\n",
       "    <tr>\n",
       "      <th>scale</th>\n",
       "      <td>False</td>\n",
       "    </tr>\n",
       "    <tr>\n",
       "      <th>classification</th>\n",
       "      <td>False</td>\n",
       "    </tr>\n",
       "    <tr>\n",
       "      <th>model_path</th>\n",
       "      <td>None</td>\n",
       "    </tr>\n",
       "    <tr>\n",
       "      <th>balance</th>\n",
       "      <td>False</td>\n",
       "    </tr>\n",
       "    <tr>\n",
       "      <th>balance_threshold</th>\n",
       "      <td>0.2</td>\n",
       "    </tr>\n",
       "    <tr>\n",
       "      <th>project</th>\n",
       "      <td>None</td>\n",
       "    </tr>\n",
       "    <tr>\n",
       "      <th>end_time</th>\n",
       "      <td>1.55597e+09</td>\n",
       "    </tr>\n",
       "    <tr>\n",
       "      <th>execution_time</th>\n",
       "      <td>0</td>\n",
       "    </tr>\n",
       "    <tr>\n",
       "      <th>run_path</th>\n",
       "      <td>C:\\Users\\Ashmita\\Desktop\\Data Science Assignme...</td>\n",
       "    </tr>\n",
       "    <tr>\n",
       "      <th>nthreads</th>\n",
       "      <td>1</td>\n",
       "    </tr>\n",
       "    <tr>\n",
       "      <th>min_mem_size</th>\n",
       "      <td>3</td>\n",
       "    </tr>\n",
       "    <tr>\n",
       "      <th>analysis</th>\n",
       "      <td>0</td>\n",
       "    </tr>\n",
       "  </tbody>\n",
       "</table>\n",
       "</div>"
      ],
      "text/plain": [
       "                                                                   0\n",
       "start_time                                               1.55597e+09\n",
       "target                                                          None\n",
       "server_path        C:\\Users\\Ashmita\\Desktop\\Data Science Assignme...\n",
       "data_path                                                       None\n",
       "test_path                                                       None\n",
       "max_models                                                         9\n",
       "run_time                                                        1500\n",
       "run_id                                                     PVxu8FKke\n",
       "scale                                                          False\n",
       "classification                                                 False\n",
       "model_path                                                      None\n",
       "balance                                                        False\n",
       "balance_threshold                                                0.2\n",
       "project                                                         None\n",
       "end_time                                                 1.55597e+09\n",
       "execution_time                                                     0\n",
       "run_path           C:\\Users\\Ashmita\\Desktop\\Data Science Assignme...\n",
       "nthreads                                                           1\n",
       "min_mem_size                                                       3\n",
       "analysis                                                           0"
      ]
     },
     "execution_count": 102,
     "metadata": {},
     "output_type": "execute_result"
    }
   ],
   "source": [
    "generate_md = pd.DataFrame.from_dict(metadata_1500 , orient='index')\n",
    "generate_md"
   ]
  },
  {
   "cell_type": "code",
   "execution_count": 103,
   "metadata": {},
   "outputs": [],
   "source": [
    "generate_md.to_csv(\"metadata_1500.csv\" , sep=\",\")"
   ]
  },
  {
   "cell_type": "code",
   "execution_count": 104,
   "metadata": {},
   "outputs": [
    {
     "name": "stdout",
     "output_type": "stream",
     "text": [
      "Checking whether there is an H2O instance running at http://localhost:28619 ..... not found.\n",
      "Attempting to start a local H2O server...\n",
      "; Java HotSpot(TM) 64-Bit Server VM (build 24.80-b11, mixed mode)\n",
      "  Starting server from C:\\Users\\Ashmita\\Anaconda3\\lib\\site-packages\\h2o\\backend\\bin\\h2o.jar\n",
      "  Ice root: C:\\Users\\Ashmita\\AppData\\Local\\Temp\\tmp5hayxdwm\n",
      "  JVM stdout: C:\\Users\\Ashmita\\AppData\\Local\\Temp\\tmp5hayxdwm\\h2o_Ashmita_started_from_python.out\n",
      "  JVM stderr: C:\\Users\\Ashmita\\AppData\\Local\\Temp\\tmp5hayxdwm\\h2o_Ashmita_started_from_python.err\n",
      "  Server is running at http://127.0.0.1:28619\n",
      "Connecting to H2O server at http://127.0.0.1:28619 ... successful.\n"
     ]
    },
    {
     "data": {
      "text/html": [
       "<div style=\"overflow:auto\"><table style=\"width:50%\"><tr><td>H2O cluster uptime:</td>\n",
       "<td>03 secs</td></tr>\n",
       "<tr><td>H2O cluster timezone:</td>\n",
       "<td>America/New_York</td></tr>\n",
       "<tr><td>H2O data parsing timezone:</td>\n",
       "<td>UTC</td></tr>\n",
       "<tr><td>H2O cluster version:</td>\n",
       "<td>3.24.0.1</td></tr>\n",
       "<tr><td>H2O cluster version age:</td>\n",
       "<td>21 days, 17 hours and 56 minutes </td></tr>\n",
       "<tr><td>H2O cluster name:</td>\n",
       "<td>H2O_from_python_Ashmita_287y5n</td></tr>\n",
       "<tr><td>H2O cluster total nodes:</td>\n",
       "<td>1</td></tr>\n",
       "<tr><td>H2O cluster free memory:</td>\n",
       "<td>3.522 Gb</td></tr>\n",
       "<tr><td>H2O cluster total cores:</td>\n",
       "<td>4</td></tr>\n",
       "<tr><td>H2O cluster allowed cores:</td>\n",
       "<td>4</td></tr>\n",
       "<tr><td>H2O cluster status:</td>\n",
       "<td>accepting new members, healthy</td></tr>\n",
       "<tr><td>H2O connection url:</td>\n",
       "<td>http://127.0.0.1:28619</td></tr>\n",
       "<tr><td>H2O connection proxy:</td>\n",
       "<td>None</td></tr>\n",
       "<tr><td>H2O internal security:</td>\n",
       "<td>False</td></tr>\n",
       "<tr><td>H2O API Extensions:</td>\n",
       "<td>AutoML, Amazon S3, Algos, Core V3, Core V4</td></tr>\n",
       "<tr><td>Python version:</td>\n",
       "<td>3.7.1 final</td></tr></table></div>"
      ],
      "text/plain": [
       "--------------------------  ------------------------------------------\n",
       "H2O cluster uptime:         03 secs\n",
       "H2O cluster timezone:       America/New_York\n",
       "H2O data parsing timezone:  UTC\n",
       "H2O cluster version:        3.24.0.1\n",
       "H2O cluster version age:    21 days, 17 hours and 56 minutes\n",
       "H2O cluster name:           H2O_from_python_Ashmita_287y5n\n",
       "H2O cluster total nodes:    1\n",
       "H2O cluster free memory:    3.522 Gb\n",
       "H2O cluster total cores:    4\n",
       "H2O cluster allowed cores:  4\n",
       "H2O cluster status:         accepting new members, healthy\n",
       "H2O connection url:         http://127.0.0.1:28619\n",
       "H2O connection proxy:\n",
       "H2O internal security:      False\n",
       "H2O API Extensions:         AutoML, Amazon S3, Algos, Core V3, Core V4\n",
       "Python version:             3.7.1 final\n",
       "--------------------------  ------------------------------------------"
      ]
     },
     "metadata": {},
     "output_type": "display_data"
    }
   ],
   "source": [
    "# 65535 Highest port no\n",
    "port_no=random.randint(5555,55555)\n",
    "h2o.init(strict_version_check=False,min_mem_size_GB=min_mem_size,port=port_no)"
   ]
  },
  {
   "cell_type": "code",
   "execution_count": 105,
   "metadata": {},
   "outputs": [],
   "source": [
    "df.to_csv('train_1500.csv')"
   ]
  },
  {
   "cell_type": "code",
   "execution_count": 106,
   "metadata": {},
   "outputs": [],
   "source": [
    "data_path = 'train_1500.csv'"
   ]
  },
  {
   "cell_type": "code",
   "execution_count": 107,
   "metadata": {},
   "outputs": [
    {
     "name": "stdout",
     "output_type": "stream",
     "text": [
      "Parse progress: |█████████████████████████████████████████████████████████| 100%\n"
     ]
    }
   ],
   "source": [
    "# Load data into H2O\n",
    "train_data = h2o.import_file(data_path)"
   ]
  },
  {
   "cell_type": "code",
   "execution_count": 108,
   "metadata": {},
   "outputs": [
    {
     "data": {
      "text/html": [
       "<table>\n",
       "<thead>\n",
       "<tr><th style=\"text-align: right;\">  C1</th><th style=\"text-align: right;\">  Agency</th><th style=\"text-align: right;\">  Agency Type</th><th>Distribution Channel  </th><th style=\"text-align: right;\">  Product Name</th><th>Claim  </th><th style=\"text-align: right;\">  Duration</th><th style=\"text-align: right;\">  Destination</th><th style=\"text-align: right;\">  Net Sales</th><th style=\"text-align: right;\">  Commision (in value)</th><th style=\"text-align: right;\">  Age</th></tr>\n",
       "</thead>\n",
       "<tbody>\n",
       "<tr><td style=\"text-align: right;\">   0</td><td style=\"text-align: right;\">       3</td><td style=\"text-align: right;\">            1</td><td>Offline               </td><td style=\"text-align: right;\">            12</td><td>No     </td><td style=\"text-align: right;\">       186</td><td style=\"text-align: right;\">           79</td><td style=\"text-align: right;\">      -29  </td><td style=\"text-align: right;\">                  9.57</td><td style=\"text-align: right;\">   81</td></tr>\n",
       "<tr><td style=\"text-align: right;\">   1</td><td style=\"text-align: right;\">       3</td><td style=\"text-align: right;\">            1</td><td>Offline               </td><td style=\"text-align: right;\">            12</td><td>No     </td><td style=\"text-align: right;\">       186</td><td style=\"text-align: right;\">           79</td><td style=\"text-align: right;\">      -29  </td><td style=\"text-align: right;\">                  9.57</td><td style=\"text-align: right;\">   71</td></tr>\n",
       "<tr><td style=\"text-align: right;\">   2</td><td style=\"text-align: right;\">       6</td><td style=\"text-align: right;\">            1</td><td>Online                </td><td style=\"text-align: right;\">            16</td><td>No     </td><td style=\"text-align: right;\">        65</td><td style=\"text-align: right;\">            4</td><td style=\"text-align: right;\">      -49.5</td><td style=\"text-align: right;\">                 29.7 </td><td style=\"text-align: right;\">   32</td></tr>\n",
       "<tr><td style=\"text-align: right;\">   3</td><td style=\"text-align: right;\">       6</td><td style=\"text-align: right;\">            1</td><td>Online                </td><td style=\"text-align: right;\">            16</td><td>No     </td><td style=\"text-align: right;\">        60</td><td style=\"text-align: right;\">            4</td><td style=\"text-align: right;\">      -39.6</td><td style=\"text-align: right;\">                 23.76</td><td style=\"text-align: right;\">   32</td></tr>\n",
       "<tr><td style=\"text-align: right;\">   4</td><td style=\"text-align: right;\">       6</td><td style=\"text-align: right;\">            1</td><td>Online                </td><td style=\"text-align: right;\">            16</td><td>No     </td><td style=\"text-align: right;\">        79</td><td style=\"text-align: right;\">           61</td><td style=\"text-align: right;\">      -19.8</td><td style=\"text-align: right;\">                 11.88</td><td style=\"text-align: right;\">   41</td></tr>\n",
       "<tr><td style=\"text-align: right;\">   5</td><td style=\"text-align: right;\">       9</td><td style=\"text-align: right;\">            2</td><td>Online                </td><td style=\"text-align: right;\">            25</td><td>No     </td><td style=\"text-align: right;\">        66</td><td style=\"text-align: right;\">          140</td><td style=\"text-align: right;\">     -121  </td><td style=\"text-align: right;\">                 42.35</td><td style=\"text-align: right;\">   44</td></tr>\n",
       "<tr><td style=\"text-align: right;\">   6</td><td style=\"text-align: right;\">       6</td><td style=\"text-align: right;\">            1</td><td>Online                </td><td style=\"text-align: right;\">            16</td><td>No     </td><td style=\"text-align: right;\">        47</td><td style=\"text-align: right;\">          140</td><td style=\"text-align: right;\">      -39.6</td><td style=\"text-align: right;\">                 23.76</td><td style=\"text-align: right;\">   32</td></tr>\n",
       "<tr><td style=\"text-align: right;\">   7</td><td style=\"text-align: right;\">       6</td><td style=\"text-align: right;\">            1</td><td>Online                </td><td style=\"text-align: right;\">            16</td><td>No     </td><td style=\"text-align: right;\">        63</td><td style=\"text-align: right;\">            4</td><td style=\"text-align: right;\">     -108.9</td><td style=\"text-align: right;\">                 65.34</td><td style=\"text-align: right;\">   29</td></tr>\n",
       "<tr><td style=\"text-align: right;\">   8</td><td style=\"text-align: right;\">       6</td><td style=\"text-align: right;\">            1</td><td>Online                </td><td style=\"text-align: right;\">            16</td><td>No     </td><td style=\"text-align: right;\">        57</td><td style=\"text-align: right;\">          129</td><td style=\"text-align: right;\">      -19.8</td><td style=\"text-align: right;\">                 11.88</td><td style=\"text-align: right;\">   44</td></tr>\n",
       "<tr><td style=\"text-align: right;\">   9</td><td style=\"text-align: right;\">       6</td><td style=\"text-align: right;\">            1</td><td>Online                </td><td style=\"text-align: right;\">            16</td><td>No     </td><td style=\"text-align: right;\">       186</td><td style=\"text-align: right;\">            4</td><td style=\"text-align: right;\">      -99  </td><td style=\"text-align: right;\">                 59.4 </td><td style=\"text-align: right;\">   37</td></tr>\n",
       "</tbody>\n",
       "</table>"
      ]
     },
     "metadata": {},
     "output_type": "display_data"
    },
    {
     "data": {
      "text/plain": []
     },
     "execution_count": 108,
     "metadata": {},
     "output_type": "execute_result"
    }
   ],
   "source": [
    "train_data.head()"
   ]
  },
  {
   "cell_type": "code",
   "execution_count": 109,
   "metadata": {},
   "outputs": [],
   "source": [
    "target ='Claim'"
   ]
  },
  {
   "cell_type": "code",
   "execution_count": 110,
   "metadata": {},
   "outputs": [],
   "source": [
    "# dependent variable\n",
    "# assign target and inputs for classification or regression\n",
    "if target==None:\n",
    "  target=train_data.columns[18]   \n",
    "y = target"
   ]
  },
  {
   "cell_type": "code",
   "execution_count": 111,
   "metadata": {},
   "outputs": [
    {
     "name": "stdout",
     "output_type": "stream",
     "text": [
      "['C1', 'Agency', 'Agency Type', 'Product Name', 'Duration', 'Destination', 'Age', 'Distribution Channel', 'Net Sales', 'Commision (in value)']\n",
      "Claim\n"
     ]
    }
   ],
   "source": [
    "def get_independent_variables(train_data, targ):\n",
    "    C = [name for name in train_data.columns if name != targ]\n",
    "    # determine column types\n",
    "    ints, reals, enums = [], [], []\n",
    "    for key, val in train_data.types.items():\n",
    "        if key in C:\n",
    "            if val == 'enum':\n",
    "                enums.append(key)\n",
    "            elif val == 'int':\n",
    "                ints.append(key)            \n",
    "            else: \n",
    "                reals.append(key)    \n",
    "    x = ints + enums + reals\n",
    "    return x\n",
    "\n",
    "X = get_independent_variables(train_data, target) \n",
    "print(X)\n",
    "y = target\n",
    "print(y)"
   ]
  },
  {
   "cell_type": "code",
   "execution_count": 112,
   "metadata": {},
   "outputs": [],
   "source": [
    "# setup autoML\n",
    "run_time=1500\n",
    "aml = H2OAutoML(max_runtime_secs=run_time)"
   ]
  },
  {
   "cell_type": "code",
   "execution_count": 113,
   "metadata": {},
   "outputs": [],
   "source": [
    "#logs_path = os.getcwd()\n",
    "#logfile = 'logs3.txt'"
   ]
  },
  {
   "cell_type": "code",
   "execution_count": 114,
   "metadata": {},
   "outputs": [
    {
     "name": "stdout",
     "output_type": "stream",
     "text": [
      "AutoML progress: |████████████████████████████████████████████████████████| 100%\n"
     ]
    }
   ],
   "source": [
    "model_start_time = time.time()\n",
    "aml.train(x=X,y=y,training_frame=train_data)  # Change training_frame=train"
   ]
  },
  {
   "cell_type": "code",
   "execution_count": 115,
   "metadata": {},
   "outputs": [
    {
     "data": {
      "text/html": [
       "<table>\n",
       "<thead>\n",
       "<tr><th>model_id                                  </th><th style=\"text-align: right;\">     auc</th><th style=\"text-align: right;\">  logloss</th><th style=\"text-align: right;\">  mean_per_class_error</th><th style=\"text-align: right;\">    rmse</th><th style=\"text-align: right;\">      mse</th></tr>\n",
       "</thead>\n",
       "<tbody>\n",
       "<tr><td>GBM_grid_1_AutoML_20190422_173752_model_1 </td><td style=\"text-align: right;\">0.83174 </td><td style=\"text-align: right;\">0.065501 </td><td style=\"text-align: right;\">              0.380312</td><td style=\"text-align: right;\">0.117829</td><td style=\"text-align: right;\">0.0138836</td></tr>\n",
       "<tr><td>GBM_2_AutoML_20190422_173752              </td><td style=\"text-align: right;\">0.82725 </td><td style=\"text-align: right;\">0.0654699</td><td style=\"text-align: right;\">              0.353373</td><td style=\"text-align: right;\">0.118693</td><td style=\"text-align: right;\">0.0140881</td></tr>\n",
       "<tr><td>GBM_grid_1_AutoML_20190422_173752_model_12</td><td style=\"text-align: right;\">0.827184</td><td style=\"text-align: right;\">0.0651386</td><td style=\"text-align: right;\">              0.317124</td><td style=\"text-align: right;\">0.118211</td><td style=\"text-align: right;\">0.0139738</td></tr>\n",
       "<tr><td>GBM_1_AutoML_20190422_173752              </td><td style=\"text-align: right;\">0.826871</td><td style=\"text-align: right;\">0.0672254</td><td style=\"text-align: right;\">              0.326363</td><td style=\"text-align: right;\">0.120753</td><td style=\"text-align: right;\">0.0145812</td></tr>\n",
       "<tr><td>GBM_grid_1_AutoML_20190422_173752_model_10</td><td style=\"text-align: right;\">0.825891</td><td style=\"text-align: right;\">0.0659488</td><td style=\"text-align: right;\">              0.368158</td><td style=\"text-align: right;\">0.11913 </td><td style=\"text-align: right;\">0.0141919</td></tr>\n",
       "<tr><td>GBM_grid_1_AutoML_20190422_173752_model_13</td><td style=\"text-align: right;\">0.824715</td><td style=\"text-align: right;\">0.0726879</td><td style=\"text-align: right;\">              0.366108</td><td style=\"text-align: right;\">0.119543</td><td style=\"text-align: right;\">0.0142905</td></tr>\n",
       "<tr><td>GBM_grid_1_AutoML_20190422_173752_model_9 </td><td style=\"text-align: right;\">0.82124 </td><td style=\"text-align: right;\">0.0664397</td><td style=\"text-align: right;\">              0.363147</td><td style=\"text-align: right;\">0.118043</td><td style=\"text-align: right;\">0.0139342</td></tr>\n",
       "<tr><td>GBM_grid_1_AutoML_20190422_173752_model_2 </td><td style=\"text-align: right;\">0.818187</td><td style=\"text-align: right;\">0.0663898</td><td style=\"text-align: right;\">              0.364482</td><td style=\"text-align: right;\">0.118161</td><td style=\"text-align: right;\">0.0139621</td></tr>\n",
       "<tr><td>GBM_3_AutoML_20190422_173752              </td><td style=\"text-align: right;\">0.817725</td><td style=\"text-align: right;\">0.0665383</td><td style=\"text-align: right;\">              0.355276</td><td style=\"text-align: right;\">0.11916 </td><td style=\"text-align: right;\">0.0141992</td></tr>\n",
       "<tr><td>GBM_grid_1_AutoML_20190422_173752_model_3 </td><td style=\"text-align: right;\">0.817581</td><td style=\"text-align: right;\">0.06602  </td><td style=\"text-align: right;\">              0.397382</td><td style=\"text-align: right;\">0.118033</td><td style=\"text-align: right;\">0.0139318</td></tr>\n",
       "</tbody>\n",
       "</table>"
      ]
     },
     "metadata": {},
     "output_type": "display_data"
    },
    {
     "data": {
      "text/plain": []
     },
     "execution_count": 115,
     "metadata": {},
     "output_type": "execute_result"
    }
   ],
   "source": [
    "# view leaderboard\n",
    "lb = aml.leaderboard\n",
    "lb"
   ]
  },
  {
   "cell_type": "code",
   "execution_count": 116,
   "metadata": {},
   "outputs": [],
   "source": [
    "\n",
    "# get leaderboard\n",
    "aml_leaderboard_df=aml.leaderboard.as_data_frame()"
   ]
  },
  {
   "cell_type": "code",
   "execution_count": 117,
   "metadata": {},
   "outputs": [
    {
     "data": {
      "text/html": [
       "<div>\n",
       "<style scoped>\n",
       "    .dataframe tbody tr th:only-of-type {\n",
       "        vertical-align: middle;\n",
       "    }\n",
       "\n",
       "    .dataframe tbody tr th {\n",
       "        vertical-align: top;\n",
       "    }\n",
       "\n",
       "    .dataframe thead th {\n",
       "        text-align: right;\n",
       "    }\n",
       "</style>\n",
       "<table border=\"1\" class=\"dataframe\">\n",
       "  <thead>\n",
       "    <tr style=\"text-align: right;\">\n",
       "      <th></th>\n",
       "      <th>model_id</th>\n",
       "      <th>auc</th>\n",
       "      <th>logloss</th>\n",
       "      <th>mean_per_class_error</th>\n",
       "      <th>rmse</th>\n",
       "      <th>mse</th>\n",
       "    </tr>\n",
       "  </thead>\n",
       "  <tbody>\n",
       "    <tr>\n",
       "      <th>0</th>\n",
       "      <td>GBM_grid_1_AutoML_20190422_173752_model_1</td>\n",
       "      <td>0.831740</td>\n",
       "      <td>0.065501</td>\n",
       "      <td>0.380312</td>\n",
       "      <td>0.117829</td>\n",
       "      <td>0.013884</td>\n",
       "    </tr>\n",
       "    <tr>\n",
       "      <th>1</th>\n",
       "      <td>GBM_2_AutoML_20190422_173752</td>\n",
       "      <td>0.827250</td>\n",
       "      <td>0.065470</td>\n",
       "      <td>0.353373</td>\n",
       "      <td>0.118693</td>\n",
       "      <td>0.014088</td>\n",
       "    </tr>\n",
       "    <tr>\n",
       "      <th>2</th>\n",
       "      <td>GBM_grid_1_AutoML_20190422_173752_model_12</td>\n",
       "      <td>0.827184</td>\n",
       "      <td>0.065139</td>\n",
       "      <td>0.317124</td>\n",
       "      <td>0.118211</td>\n",
       "      <td>0.013974</td>\n",
       "    </tr>\n",
       "    <tr>\n",
       "      <th>3</th>\n",
       "      <td>GBM_1_AutoML_20190422_173752</td>\n",
       "      <td>0.826871</td>\n",
       "      <td>0.067225</td>\n",
       "      <td>0.326363</td>\n",
       "      <td>0.120753</td>\n",
       "      <td>0.014581</td>\n",
       "    </tr>\n",
       "    <tr>\n",
       "      <th>4</th>\n",
       "      <td>GBM_grid_1_AutoML_20190422_173752_model_10</td>\n",
       "      <td>0.825891</td>\n",
       "      <td>0.065949</td>\n",
       "      <td>0.368158</td>\n",
       "      <td>0.119130</td>\n",
       "      <td>0.014192</td>\n",
       "    </tr>\n",
       "    <tr>\n",
       "      <th>5</th>\n",
       "      <td>GBM_grid_1_AutoML_20190422_173752_model_13</td>\n",
       "      <td>0.824715</td>\n",
       "      <td>0.072688</td>\n",
       "      <td>0.366108</td>\n",
       "      <td>0.119543</td>\n",
       "      <td>0.014291</td>\n",
       "    </tr>\n",
       "    <tr>\n",
       "      <th>6</th>\n",
       "      <td>GBM_grid_1_AutoML_20190422_173752_model_9</td>\n",
       "      <td>0.821240</td>\n",
       "      <td>0.066440</td>\n",
       "      <td>0.363147</td>\n",
       "      <td>0.118043</td>\n",
       "      <td>0.013934</td>\n",
       "    </tr>\n",
       "    <tr>\n",
       "      <th>7</th>\n",
       "      <td>GBM_grid_1_AutoML_20190422_173752_model_2</td>\n",
       "      <td>0.818187</td>\n",
       "      <td>0.066390</td>\n",
       "      <td>0.364482</td>\n",
       "      <td>0.118161</td>\n",
       "      <td>0.013962</td>\n",
       "    </tr>\n",
       "    <tr>\n",
       "      <th>8</th>\n",
       "      <td>GBM_3_AutoML_20190422_173752</td>\n",
       "      <td>0.817725</td>\n",
       "      <td>0.066538</td>\n",
       "      <td>0.355276</td>\n",
       "      <td>0.119160</td>\n",
       "      <td>0.014199</td>\n",
       "    </tr>\n",
       "    <tr>\n",
       "      <th>9</th>\n",
       "      <td>GBM_grid_1_AutoML_20190422_173752_model_3</td>\n",
       "      <td>0.817581</td>\n",
       "      <td>0.066020</td>\n",
       "      <td>0.397382</td>\n",
       "      <td>0.118033</td>\n",
       "      <td>0.013932</td>\n",
       "    </tr>\n",
       "    <tr>\n",
       "      <th>10</th>\n",
       "      <td>StackedEnsemble_BestOfFamily_AutoML_20190422_1...</td>\n",
       "      <td>0.816480</td>\n",
       "      <td>0.067475</td>\n",
       "      <td>0.377818</td>\n",
       "      <td>0.118930</td>\n",
       "      <td>0.014144</td>\n",
       "    </tr>\n",
       "    <tr>\n",
       "      <th>11</th>\n",
       "      <td>GBM_grid_1_AutoML_20190422_173752_model_16</td>\n",
       "      <td>0.814570</td>\n",
       "      <td>0.070408</td>\n",
       "      <td>0.374035</td>\n",
       "      <td>0.119045</td>\n",
       "      <td>0.014172</td>\n",
       "    </tr>\n",
       "    <tr>\n",
       "      <th>12</th>\n",
       "      <td>StackedEnsemble_AllModels_AutoML_20190422_173752</td>\n",
       "      <td>0.814225</td>\n",
       "      <td>0.067194</td>\n",
       "      <td>0.362700</td>\n",
       "      <td>0.118717</td>\n",
       "      <td>0.014094</td>\n",
       "    </tr>\n",
       "    <tr>\n",
       "      <th>13</th>\n",
       "      <td>GBM_5_AutoML_20190422_173752</td>\n",
       "      <td>0.813500</td>\n",
       "      <td>0.066137</td>\n",
       "      <td>0.367620</td>\n",
       "      <td>0.118442</td>\n",
       "      <td>0.014029</td>\n",
       "    </tr>\n",
       "    <tr>\n",
       "      <th>14</th>\n",
       "      <td>GBM_4_AutoML_20190422_173752</td>\n",
       "      <td>0.809077</td>\n",
       "      <td>0.068301</td>\n",
       "      <td>0.365178</td>\n",
       "      <td>0.120236</td>\n",
       "      <td>0.014457</td>\n",
       "    </tr>\n",
       "    <tr>\n",
       "      <th>15</th>\n",
       "      <td>GBM_grid_1_AutoML_20190422_173752_model_7</td>\n",
       "      <td>0.805359</td>\n",
       "      <td>0.073541</td>\n",
       "      <td>0.331689</td>\n",
       "      <td>0.119687</td>\n",
       "      <td>0.014325</td>\n",
       "    </tr>\n",
       "    <tr>\n",
       "      <th>16</th>\n",
       "      <td>GBM_grid_1_AutoML_20190422_173752_model_15</td>\n",
       "      <td>0.803188</td>\n",
       "      <td>0.074133</td>\n",
       "      <td>0.408836</td>\n",
       "      <td>0.119787</td>\n",
       "      <td>0.014349</td>\n",
       "    </tr>\n",
       "    <tr>\n",
       "      <th>17</th>\n",
       "      <td>GBM_grid_1_AutoML_20190422_173752_model_14</td>\n",
       "      <td>0.800979</td>\n",
       "      <td>0.074933</td>\n",
       "      <td>0.374737</td>\n",
       "      <td>0.119907</td>\n",
       "      <td>0.014378</td>\n",
       "    </tr>\n",
       "    <tr>\n",
       "      <th>18</th>\n",
       "      <td>GBM_grid_1_AutoML_20190422_173752_model_11</td>\n",
       "      <td>0.796259</td>\n",
       "      <td>0.079723</td>\n",
       "      <td>0.387565</td>\n",
       "      <td>0.121978</td>\n",
       "      <td>0.014879</td>\n",
       "    </tr>\n",
       "    <tr>\n",
       "      <th>19</th>\n",
       "      <td>GBM_grid_1_AutoML_20190422_173752_model_4</td>\n",
       "      <td>0.795558</td>\n",
       "      <td>0.069423</td>\n",
       "      <td>0.380273</td>\n",
       "      <td>0.119862</td>\n",
       "      <td>0.014367</td>\n",
       "    </tr>\n",
       "    <tr>\n",
       "      <th>20</th>\n",
       "      <td>GBM_grid_1_AutoML_20190422_173752_model_8</td>\n",
       "      <td>0.793982</td>\n",
       "      <td>0.068551</td>\n",
       "      <td>0.406984</td>\n",
       "      <td>0.119365</td>\n",
       "      <td>0.014248</td>\n",
       "    </tr>\n",
       "    <tr>\n",
       "      <th>21</th>\n",
       "      <td>GBM_grid_1_AutoML_20190422_173752_model_17</td>\n",
       "      <td>0.781835</td>\n",
       "      <td>0.071126</td>\n",
       "      <td>0.378054</td>\n",
       "      <td>0.119168</td>\n",
       "      <td>0.014201</td>\n",
       "    </tr>\n",
       "    <tr>\n",
       "      <th>22</th>\n",
       "      <td>DeepLearning_grid_1_AutoML_20190422_173752_mod...</td>\n",
       "      <td>0.769562</td>\n",
       "      <td>0.072908</td>\n",
       "      <td>0.396908</td>\n",
       "      <td>0.118765</td>\n",
       "      <td>0.014105</td>\n",
       "    </tr>\n",
       "    <tr>\n",
       "      <th>23</th>\n",
       "      <td>GLM_grid_1_AutoML_20190422_173752_model_1</td>\n",
       "      <td>0.768482</td>\n",
       "      <td>0.067156</td>\n",
       "      <td>0.407805</td>\n",
       "      <td>0.118464</td>\n",
       "      <td>0.014034</td>\n",
       "    </tr>\n",
       "    <tr>\n",
       "      <th>24</th>\n",
       "      <td>DRF_1_AutoML_20190422_173752</td>\n",
       "      <td>0.767032</td>\n",
       "      <td>0.107853</td>\n",
       "      <td>0.443437</td>\n",
       "      <td>0.121810</td>\n",
       "      <td>0.014838</td>\n",
       "    </tr>\n",
       "    <tr>\n",
       "      <th>25</th>\n",
       "      <td>XRT_1_AutoML_20190422_173752</td>\n",
       "      <td>0.761523</td>\n",
       "      <td>0.097526</td>\n",
       "      <td>0.426705</td>\n",
       "      <td>0.121263</td>\n",
       "      <td>0.014705</td>\n",
       "    </tr>\n",
       "    <tr>\n",
       "      <th>26</th>\n",
       "      <td>DeepLearning_1_AutoML_20190422_173752</td>\n",
       "      <td>0.756581</td>\n",
       "      <td>0.070035</td>\n",
       "      <td>0.355235</td>\n",
       "      <td>0.118964</td>\n",
       "      <td>0.014152</td>\n",
       "    </tr>\n",
       "    <tr>\n",
       "      <th>27</th>\n",
       "      <td>DeepLearning_grid_1_AutoML_20190422_173752_mod...</td>\n",
       "      <td>0.745408</td>\n",
       "      <td>0.093294</td>\n",
       "      <td>0.393628</td>\n",
       "      <td>0.122145</td>\n",
       "      <td>0.014920</td>\n",
       "    </tr>\n",
       "    <tr>\n",
       "      <th>28</th>\n",
       "      <td>DeepLearning_grid_1_AutoML_20190422_173752_mod...</td>\n",
       "      <td>0.731710</td>\n",
       "      <td>0.081379</td>\n",
       "      <td>0.406769</td>\n",
       "      <td>0.119759</td>\n",
       "      <td>0.014342</td>\n",
       "    </tr>\n",
       "    <tr>\n",
       "      <th>29</th>\n",
       "      <td>DeepLearning_grid_1_AutoML_20190422_173752_mod...</td>\n",
       "      <td>0.684402</td>\n",
       "      <td>0.212977</td>\n",
       "      <td>0.418974</td>\n",
       "      <td>0.120872</td>\n",
       "      <td>0.014610</td>\n",
       "    </tr>\n",
       "    <tr>\n",
       "      <th>30</th>\n",
       "      <td>DeepLearning_grid_1_AutoML_20190422_173752_mod...</td>\n",
       "      <td>0.681639</td>\n",
       "      <td>0.147360</td>\n",
       "      <td>0.437461</td>\n",
       "      <td>0.120931</td>\n",
       "      <td>0.014624</td>\n",
       "    </tr>\n",
       "    <tr>\n",
       "      <th>31</th>\n",
       "      <td>DeepLearning_grid_1_AutoML_20190422_173752_mod...</td>\n",
       "      <td>0.607062</td>\n",
       "      <td>0.152667</td>\n",
       "      <td>0.450328</td>\n",
       "      <td>0.120798</td>\n",
       "      <td>0.014592</td>\n",
       "    </tr>\n",
       "    <tr>\n",
       "      <th>32</th>\n",
       "      <td>GBM_grid_1_AutoML_20190422_173752_model_5</td>\n",
       "      <td>0.536751</td>\n",
       "      <td>0.954699</td>\n",
       "      <td>0.454819</td>\n",
       "      <td>0.198977</td>\n",
       "      <td>0.039592</td>\n",
       "    </tr>\n",
       "    <tr>\n",
       "      <th>33</th>\n",
       "      <td>GBM_grid_1_AutoML_20190422_173752_model_6</td>\n",
       "      <td>0.535094</td>\n",
       "      <td>1.145927</td>\n",
       "      <td>0.465655</td>\n",
       "      <td>0.184268</td>\n",
       "      <td>0.033955</td>\n",
       "    </tr>\n",
       "  </tbody>\n",
       "</table>\n",
       "</div>"
      ],
      "text/plain": [
       "                                             model_id       auc   logloss  \\\n",
       "0           GBM_grid_1_AutoML_20190422_173752_model_1  0.831740  0.065501   \n",
       "1                        GBM_2_AutoML_20190422_173752  0.827250  0.065470   \n",
       "2          GBM_grid_1_AutoML_20190422_173752_model_12  0.827184  0.065139   \n",
       "3                        GBM_1_AutoML_20190422_173752  0.826871  0.067225   \n",
       "4          GBM_grid_1_AutoML_20190422_173752_model_10  0.825891  0.065949   \n",
       "5          GBM_grid_1_AutoML_20190422_173752_model_13  0.824715  0.072688   \n",
       "6           GBM_grid_1_AutoML_20190422_173752_model_9  0.821240  0.066440   \n",
       "7           GBM_grid_1_AutoML_20190422_173752_model_2  0.818187  0.066390   \n",
       "8                        GBM_3_AutoML_20190422_173752  0.817725  0.066538   \n",
       "9           GBM_grid_1_AutoML_20190422_173752_model_3  0.817581  0.066020   \n",
       "10  StackedEnsemble_BestOfFamily_AutoML_20190422_1...  0.816480  0.067475   \n",
       "11         GBM_grid_1_AutoML_20190422_173752_model_16  0.814570  0.070408   \n",
       "12   StackedEnsemble_AllModels_AutoML_20190422_173752  0.814225  0.067194   \n",
       "13                       GBM_5_AutoML_20190422_173752  0.813500  0.066137   \n",
       "14                       GBM_4_AutoML_20190422_173752  0.809077  0.068301   \n",
       "15          GBM_grid_1_AutoML_20190422_173752_model_7  0.805359  0.073541   \n",
       "16         GBM_grid_1_AutoML_20190422_173752_model_15  0.803188  0.074133   \n",
       "17         GBM_grid_1_AutoML_20190422_173752_model_14  0.800979  0.074933   \n",
       "18         GBM_grid_1_AutoML_20190422_173752_model_11  0.796259  0.079723   \n",
       "19          GBM_grid_1_AutoML_20190422_173752_model_4  0.795558  0.069423   \n",
       "20          GBM_grid_1_AutoML_20190422_173752_model_8  0.793982  0.068551   \n",
       "21         GBM_grid_1_AutoML_20190422_173752_model_17  0.781835  0.071126   \n",
       "22  DeepLearning_grid_1_AutoML_20190422_173752_mod...  0.769562  0.072908   \n",
       "23          GLM_grid_1_AutoML_20190422_173752_model_1  0.768482  0.067156   \n",
       "24                       DRF_1_AutoML_20190422_173752  0.767032  0.107853   \n",
       "25                       XRT_1_AutoML_20190422_173752  0.761523  0.097526   \n",
       "26              DeepLearning_1_AutoML_20190422_173752  0.756581  0.070035   \n",
       "27  DeepLearning_grid_1_AutoML_20190422_173752_mod...  0.745408  0.093294   \n",
       "28  DeepLearning_grid_1_AutoML_20190422_173752_mod...  0.731710  0.081379   \n",
       "29  DeepLearning_grid_1_AutoML_20190422_173752_mod...  0.684402  0.212977   \n",
       "30  DeepLearning_grid_1_AutoML_20190422_173752_mod...  0.681639  0.147360   \n",
       "31  DeepLearning_grid_1_AutoML_20190422_173752_mod...  0.607062  0.152667   \n",
       "32          GBM_grid_1_AutoML_20190422_173752_model_5  0.536751  0.954699   \n",
       "33          GBM_grid_1_AutoML_20190422_173752_model_6  0.535094  1.145927   \n",
       "\n",
       "    mean_per_class_error      rmse       mse  \n",
       "0               0.380312  0.117829  0.013884  \n",
       "1               0.353373  0.118693  0.014088  \n",
       "2               0.317124  0.118211  0.013974  \n",
       "3               0.326363  0.120753  0.014581  \n",
       "4               0.368158  0.119130  0.014192  \n",
       "5               0.366108  0.119543  0.014291  \n",
       "6               0.363147  0.118043  0.013934  \n",
       "7               0.364482  0.118161  0.013962  \n",
       "8               0.355276  0.119160  0.014199  \n",
       "9               0.397382  0.118033  0.013932  \n",
       "10              0.377818  0.118930  0.014144  \n",
       "11              0.374035  0.119045  0.014172  \n",
       "12              0.362700  0.118717  0.014094  \n",
       "13              0.367620  0.118442  0.014029  \n",
       "14              0.365178  0.120236  0.014457  \n",
       "15              0.331689  0.119687  0.014325  \n",
       "16              0.408836  0.119787  0.014349  \n",
       "17              0.374737  0.119907  0.014378  \n",
       "18              0.387565  0.121978  0.014879  \n",
       "19              0.380273  0.119862  0.014367  \n",
       "20              0.406984  0.119365  0.014248  \n",
       "21              0.378054  0.119168  0.014201  \n",
       "22              0.396908  0.118765  0.014105  \n",
       "23              0.407805  0.118464  0.014034  \n",
       "24              0.443437  0.121810  0.014838  \n",
       "25              0.426705  0.121263  0.014705  \n",
       "26              0.355235  0.118964  0.014152  \n",
       "27              0.393628  0.122145  0.014920  \n",
       "28              0.406769  0.119759  0.014342  \n",
       "29              0.418974  0.120872  0.014610  \n",
       "30              0.437461  0.120931  0.014624  \n",
       "31              0.450328  0.120798  0.014592  \n",
       "32              0.454819  0.198977  0.039592  \n",
       "33              0.465655  0.184268  0.033955  "
      ]
     },
     "execution_count": 117,
     "metadata": {},
     "output_type": "execute_result"
    }
   ],
   "source": [
    "aml_leaderboard_df"
   ]
  },
  {
   "cell_type": "code",
   "execution_count": 120,
   "metadata": {},
   "outputs": [],
   "source": [
    "aml_leaderboard_df.to_csv('model_metrics_1500.csv' , sep=',')"
   ]
  },
  {
   "cell_type": "code",
   "execution_count": 121,
   "metadata": {},
   "outputs": [],
   "source": [
    "\n",
    "# STart best model as first model\n",
    "\n",
    "model_set=aml_leaderboard_df['model_id']\n",
    "mod_best=h2o.get_model(model_set[0])"
   ]
  },
  {
   "cell_type": "code",
   "execution_count": 122,
   "metadata": {},
   "outputs": [
    {
     "data": {
      "text/plain": [
       "'GBM_grid_1_AutoML_20190422_173752_model_1'"
      ]
     },
     "execution_count": 122,
     "metadata": {},
     "output_type": "execute_result"
    }
   ],
   "source": [
    "\n",
    "mod_best._id"
   ]
  },
  {
   "cell_type": "code",
   "execution_count": 123,
   "metadata": {},
   "outputs": [
    {
     "data": {
      "text/plain": [
       "{'model_id': {'default': None,\n",
       "  'actual': {'__meta': {'schema_version': 3,\n",
       "    'schema_name': 'ModelKeyV3',\n",
       "    'schema_type': 'Key<Model>'},\n",
       "   'name': 'GBM_grid_1_AutoML_20190422_173752_model_1',\n",
       "   'type': 'Key<Model>',\n",
       "   'URL': '/3/Models/GBM_grid_1_AutoML_20190422_173752_model_1'}},\n",
       " 'training_frame': {'default': None,\n",
       "  'actual': {'__meta': {'schema_version': 3,\n",
       "    'schema_name': 'FrameKeyV3',\n",
       "    'schema_type': 'Key<Frame>'},\n",
       "   'name': 'automl_training_train_1500.hex',\n",
       "   'type': 'Key<Frame>',\n",
       "   'URL': '/3/Frames/automl_training_train_1500.hex'}},\n",
       " 'validation_frame': {'default': None, 'actual': None},\n",
       " 'nfolds': {'default': 0, 'actual': 5},\n",
       " 'keep_cross_validation_models': {'default': True, 'actual': False},\n",
       " 'keep_cross_validation_predictions': {'default': False, 'actual': True},\n",
       " 'keep_cross_validation_fold_assignment': {'default': False, 'actual': False},\n",
       " 'score_each_iteration': {'default': False, 'actual': False},\n",
       " 'score_tree_interval': {'default': 0, 'actual': 5},\n",
       " 'fold_assignment': {'default': 'AUTO', 'actual': 'Modulo'},\n",
       " 'fold_column': {'default': None, 'actual': None},\n",
       " 'response_column': {'default': None,\n",
       "  'actual': {'__meta': {'schema_version': 3,\n",
       "    'schema_name': 'ColSpecifierV3',\n",
       "    'schema_type': 'VecSpecifier'},\n",
       "   'column_name': 'Claim',\n",
       "   'is_member_of_frames': None}},\n",
       " 'ignored_columns': {'default': None, 'actual': []},\n",
       " 'ignore_const_cols': {'default': True, 'actual': True},\n",
       " 'offset_column': {'default': None, 'actual': None},\n",
       " 'weights_column': {'default': None, 'actual': None},\n",
       " 'balance_classes': {'default': False, 'actual': False},\n",
       " 'class_sampling_factors': {'default': None, 'actual': None},\n",
       " 'max_after_balance_size': {'default': 5.0, 'actual': 5.0},\n",
       " 'max_confusion_matrix_size': {'default': 20, 'actual': 20},\n",
       " 'max_hit_ratio_k': {'default': 0, 'actual': 0},\n",
       " 'ntrees': {'default': 50, 'actual': 162},\n",
       " 'max_depth': {'default': 5, 'actual': 7},\n",
       " 'min_rows': {'default': 10.0, 'actual': 5.0},\n",
       " 'nbins': {'default': 20, 'actual': 20},\n",
       " 'nbins_top_level': {'default': 1024, 'actual': 1024},\n",
       " 'nbins_cats': {'default': 1024, 'actual': 1024},\n",
       " 'r2_stopping': {'default': 1.7976931348623157e+308,\n",
       "  'actual': 1.7976931348623157e+308},\n",
       " 'stopping_rounds': {'default': 0, 'actual': 0},\n",
       " 'stopping_metric': {'default': 'AUTO', 'actual': 'logloss'},\n",
       " 'stopping_tolerance': {'default': 0.001, 'actual': 0.00397382714153187},\n",
       " 'max_runtime_secs': {'default': 0.0, 'actual': 0.0},\n",
       " 'seed': {'default': -1, 'actual': -5159721475100505871},\n",
       " 'build_tree_one_node': {'default': False, 'actual': False},\n",
       " 'learn_rate': {'default': 0.1, 'actual': 0.01},\n",
       " 'learn_rate_annealing': {'default': 1.0, 'actual': 1.0},\n",
       " 'distribution': {'default': 'AUTO', 'actual': 'bernoulli'},\n",
       " 'quantile_alpha': {'default': 0.5, 'actual': 0.5},\n",
       " 'tweedie_power': {'default': 1.5, 'actual': 1.5},\n",
       " 'huber_alpha': {'default': 0.9, 'actual': 0.9},\n",
       " 'checkpoint': {'default': None, 'actual': None},\n",
       " 'sample_rate': {'default': 1.0, 'actual': 1.0},\n",
       " 'sample_rate_per_class': {'default': None, 'actual': None},\n",
       " 'col_sample_rate': {'default': 1.0, 'actual': 0.4},\n",
       " 'col_sample_rate_change_per_level': {'default': 1.0, 'actual': 1.0},\n",
       " 'col_sample_rate_per_tree': {'default': 1.0, 'actual': 0.4},\n",
       " 'min_split_improvement': {'default': 1e-05, 'actual': 1e-05},\n",
       " 'histogram_type': {'default': 'AUTO', 'actual': 'AUTO'},\n",
       " 'max_abs_leafnode_pred': {'default': 1.7976931348623157e+308,\n",
       "  'actual': 1.7976931348623157e+308},\n",
       " 'pred_noise_bandwidth': {'default': 0.0, 'actual': 0.0},\n",
       " 'categorical_encoding': {'default': 'AUTO', 'actual': 'AUTO'},\n",
       " 'calibrate_model': {'default': False, 'actual': False},\n",
       " 'calibration_frame': {'default': None, 'actual': None},\n",
       " 'custom_metric_func': {'default': None, 'actual': None},\n",
       " 'export_checkpoints_dir': {'default': None, 'actual': None},\n",
       " 'monotone_constraints': {'default': None, 'actual': None},\n",
       " 'check_constant_response': {'default': True, 'actual': True}}"
      ]
     },
     "execution_count": 123,
     "metadata": {},
     "output_type": "execute_result"
    }
   ],
   "source": [
    "# h2o.get_model(mod_best)\n",
    "mod_best.params"
   ]
  },
  {
   "cell_type": "code",
   "execution_count": 124,
   "metadata": {},
   "outputs": [
    {
     "name": "stdout",
     "output_type": "stream",
     "text": [
      "{'model_id': {'default': None, 'actual': {'__meta': {'schema_version': 3, 'schema_name': 'ModelKeyV3', 'schema_type': 'Key<Model>'}, 'name': 'GBM_grid_1_AutoML_20190422_173752_model_1', 'type': 'Key<Model>', 'URL': '/3/Models/GBM_grid_1_AutoML_20190422_173752_model_1'}}, 'training_frame': {'default': None, 'actual': {'__meta': {'schema_version': 3, 'schema_name': 'FrameKeyV3', 'schema_type': 'Key<Frame>'}, 'name': 'automl_training_train_1500.hex', 'type': 'Key<Frame>', 'URL': '/3/Frames/automl_training_train_1500.hex'}}, 'validation_frame': {'default': None, 'actual': None}, 'nfolds': {'default': 0, 'actual': 5}, 'keep_cross_validation_models': {'default': True, 'actual': False}, 'keep_cross_validation_predictions': {'default': False, 'actual': True}, 'keep_cross_validation_fold_assignment': {'default': False, 'actual': False}, 'score_each_iteration': {'default': False, 'actual': False}, 'score_tree_interval': {'default': 0, 'actual': 5}, 'fold_assignment': {'default': 'AUTO', 'actual': 'Modulo'}, 'fold_column': {'default': None, 'actual': None}, 'response_column': {'default': None, 'actual': {'__meta': {'schema_version': 3, 'schema_name': 'ColSpecifierV3', 'schema_type': 'VecSpecifier'}, 'column_name': 'Claim', 'is_member_of_frames': None}}, 'ignored_columns': {'default': None, 'actual': []}, 'ignore_const_cols': {'default': True, 'actual': True}, 'offset_column': {'default': None, 'actual': None}, 'weights_column': {'default': None, 'actual': None}, 'balance_classes': {'default': False, 'actual': False}, 'class_sampling_factors': {'default': None, 'actual': None}, 'max_after_balance_size': {'default': 5.0, 'actual': 5.0}, 'max_confusion_matrix_size': {'default': 20, 'actual': 20}, 'max_hit_ratio_k': {'default': 0, 'actual': 0}, 'ntrees': {'default': 50, 'actual': 162}, 'max_depth': {'default': 5, 'actual': 7}, 'min_rows': {'default': 10.0, 'actual': 5.0}, 'nbins': {'default': 20, 'actual': 20}, 'nbins_top_level': {'default': 1024, 'actual': 1024}, 'nbins_cats': {'default': 1024, 'actual': 1024}, 'r2_stopping': {'default': 1.7976931348623157e+308, 'actual': 1.7976931348623157e+308}, 'stopping_rounds': {'default': 0, 'actual': 0}, 'stopping_metric': {'default': 'AUTO', 'actual': 'logloss'}, 'stopping_tolerance': {'default': 0.001, 'actual': 0.00397382714153187}, 'max_runtime_secs': {'default': 0.0, 'actual': 0.0}, 'seed': {'default': -1, 'actual': -5159721475100505871}, 'build_tree_one_node': {'default': False, 'actual': False}, 'learn_rate': {'default': 0.1, 'actual': 0.01}, 'learn_rate_annealing': {'default': 1.0, 'actual': 1.0}, 'distribution': {'default': 'AUTO', 'actual': 'bernoulli'}, 'quantile_alpha': {'default': 0.5, 'actual': 0.5}, 'tweedie_power': {'default': 1.5, 'actual': 1.5}, 'huber_alpha': {'default': 0.9, 'actual': 0.9}, 'checkpoint': {'default': None, 'actual': None}, 'sample_rate': {'default': 1.0, 'actual': 1.0}, 'sample_rate_per_class': {'default': None, 'actual': None}, 'col_sample_rate': {'default': 1.0, 'actual': 0.4}, 'col_sample_rate_change_per_level': {'default': 1.0, 'actual': 1.0}, 'col_sample_rate_per_tree': {'default': 1.0, 'actual': 0.4}, 'min_split_improvement': {'default': 1e-05, 'actual': 1e-05}, 'histogram_type': {'default': 'AUTO', 'actual': 'AUTO'}, 'max_abs_leafnode_pred': {'default': 1.7976931348623157e+308, 'actual': 1.7976931348623157e+308}, 'pred_noise_bandwidth': {'default': 0.0, 'actual': 0.0}, 'categorical_encoding': {'default': 'AUTO', 'actual': 'AUTO'}, 'calibrate_model': {'default': False, 'actual': False}, 'calibration_frame': {'default': None, 'actual': None}, 'custom_metric_func': {'default': None, 'actual': None}, 'export_checkpoints_dir': {'default': None, 'actual': None}, 'monotone_constraints': {'default': None, 'actual': None}, 'check_constant_response': {'default': True, 'actual': True}}\n",
      "{'model_id': {'default': None, 'actual': {'__meta': {'schema_version': 3, 'schema_name': 'ModelKeyV3', 'schema_type': 'Key<Model>'}, 'name': 'GBM_grid_1_AutoML_20190422_173752_model_1', 'type': 'Key<Model>', 'URL': '/3/Models/GBM_grid_1_AutoML_20190422_173752_model_1'}}, 'training_frame': {'default': None, 'actual': {'__meta': {'schema_version': 3, 'schema_name': 'FrameKeyV3', 'schema_type': 'Key<Frame>'}, 'name': 'automl_training_train_1500.hex', 'type': 'Key<Frame>', 'URL': '/3/Frames/automl_training_train_1500.hex'}}, 'validation_frame': {'default': None, 'actual': None}, 'nfolds': {'default': 0, 'actual': 5}, 'keep_cross_validation_models': {'default': True, 'actual': False}, 'keep_cross_validation_predictions': {'default': False, 'actual': True}, 'keep_cross_validation_fold_assignment': {'default': False, 'actual': False}, 'score_each_iteration': {'default': False, 'actual': False}, 'score_tree_interval': {'default': 0, 'actual': 5}, 'fold_assignment': {'default': 'AUTO', 'actual': 'Modulo'}, 'fold_column': {'default': None, 'actual': None}, 'response_column': {'default': None, 'actual': {'__meta': {'schema_version': 3, 'schema_name': 'ColSpecifierV3', 'schema_type': 'VecSpecifier'}, 'column_name': 'Claim', 'is_member_of_frames': None}}, 'ignored_columns': {'default': None, 'actual': []}, 'ignore_const_cols': {'default': True, 'actual': True}, 'offset_column': {'default': None, 'actual': None}, 'weights_column': {'default': None, 'actual': None}, 'balance_classes': {'default': False, 'actual': False}, 'class_sampling_factors': {'default': None, 'actual': None}, 'max_after_balance_size': {'default': 5.0, 'actual': 5.0}, 'max_confusion_matrix_size': {'default': 20, 'actual': 20}, 'max_hit_ratio_k': {'default': 0, 'actual': 0}, 'ntrees': {'default': 50, 'actual': 162}, 'max_depth': {'default': 5, 'actual': 7}, 'min_rows': {'default': 10.0, 'actual': 5.0}, 'nbins': {'default': 20, 'actual': 20}, 'nbins_top_level': {'default': 1024, 'actual': 1024}, 'nbins_cats': {'default': 1024, 'actual': 1024}, 'r2_stopping': {'default': 1.7976931348623157e+308, 'actual': 1.7976931348623157e+308}, 'stopping_rounds': {'default': 0, 'actual': 0}, 'stopping_metric': {'default': 'AUTO', 'actual': 'logloss'}, 'stopping_tolerance': {'default': 0.001, 'actual': 0.00397382714153187}, 'max_runtime_secs': {'default': 0.0, 'actual': 0.0}, 'seed': {'default': -1, 'actual': -5159721475100505871}, 'build_tree_one_node': {'default': False, 'actual': False}, 'learn_rate': {'default': 0.1, 'actual': 0.01}, 'learn_rate_annealing': {'default': 1.0, 'actual': 1.0}, 'distribution': {'default': 'AUTO', 'actual': 'bernoulli'}, 'quantile_alpha': {'default': 0.5, 'actual': 0.5}, 'tweedie_power': {'default': 1.5, 'actual': 1.5}, 'huber_alpha': {'default': 0.9, 'actual': 0.9}, 'checkpoint': {'default': None, 'actual': None}, 'sample_rate': {'default': 1.0, 'actual': 1.0}, 'sample_rate_per_class': {'default': None, 'actual': None}, 'col_sample_rate': {'default': 1.0, 'actual': 0.4}, 'col_sample_rate_change_per_level': {'default': 1.0, 'actual': 1.0}, 'col_sample_rate_per_tree': {'default': 1.0, 'actual': 0.4}, 'min_split_improvement': {'default': 1e-05, 'actual': 1e-05}, 'histogram_type': {'default': 'AUTO', 'actual': 'AUTO'}, 'max_abs_leafnode_pred': {'default': 1.7976931348623157e+308, 'actual': 1.7976931348623157e+308}, 'pred_noise_bandwidth': {'default': 0.0, 'actual': 0.0}, 'categorical_encoding': {'default': 'AUTO', 'actual': 'AUTO'}, 'calibrate_model': {'default': False, 'actual': False}, 'calibration_frame': {'default': None, 'actual': None}, 'custom_metric_func': {'default': None, 'actual': None}, 'export_checkpoints_dir': {'default': None, 'actual': None}, 'monotone_constraints': {'default': None, 'actual': None}, 'check_constant_response': {'default': True, 'actual': True}}\n"
     ]
    },
    {
     "name": "stdout",
     "output_type": "stream",
     "text": [
      "{'model_id': {'default': None, 'actual': {'__meta': {'schema_version': 3, 'schema_name': 'ModelKeyV3', 'schema_type': 'Key<Model>'}, 'name': 'GBM_grid_1_AutoML_20190422_173752_model_1', 'type': 'Key<Model>', 'URL': '/3/Models/GBM_grid_1_AutoML_20190422_173752_model_1'}}, 'training_frame': {'default': None, 'actual': {'__meta': {'schema_version': 3, 'schema_name': 'FrameKeyV3', 'schema_type': 'Key<Frame>'}, 'name': 'automl_training_train_1500.hex', 'type': 'Key<Frame>', 'URL': '/3/Frames/automl_training_train_1500.hex'}}, 'validation_frame': {'default': None, 'actual': None}, 'nfolds': {'default': 0, 'actual': 5}, 'keep_cross_validation_models': {'default': True, 'actual': False}, 'keep_cross_validation_predictions': {'default': False, 'actual': True}, 'keep_cross_validation_fold_assignment': {'default': False, 'actual': False}, 'score_each_iteration': {'default': False, 'actual': False}, 'score_tree_interval': {'default': 0, 'actual': 5}, 'fold_assignment': {'default': 'AUTO', 'actual': 'Modulo'}, 'fold_column': {'default': None, 'actual': None}, 'response_column': {'default': None, 'actual': {'__meta': {'schema_version': 3, 'schema_name': 'ColSpecifierV3', 'schema_type': 'VecSpecifier'}, 'column_name': 'Claim', 'is_member_of_frames': None}}, 'ignored_columns': {'default': None, 'actual': []}, 'ignore_const_cols': {'default': True, 'actual': True}, 'offset_column': {'default': None, 'actual': None}, 'weights_column': {'default': None, 'actual': None}, 'balance_classes': {'default': False, 'actual': False}, 'class_sampling_factors': {'default': None, 'actual': None}, 'max_after_balance_size': {'default': 5.0, 'actual': 5.0}, 'max_confusion_matrix_size': {'default': 20, 'actual': 20}, 'max_hit_ratio_k': {'default': 0, 'actual': 0}, 'ntrees': {'default': 50, 'actual': 162}, 'max_depth': {'default': 5, 'actual': 7}, 'min_rows': {'default': 10.0, 'actual': 5.0}, 'nbins': {'default': 20, 'actual': 20}, 'nbins_top_level': {'default': 1024, 'actual': 1024}, 'nbins_cats': {'default': 1024, 'actual': 1024}, 'r2_stopping': {'default': 1.7976931348623157e+308, 'actual': 1.7976931348623157e+308}, 'stopping_rounds': {'default': 0, 'actual': 0}, 'stopping_metric': {'default': 'AUTO', 'actual': 'logloss'}, 'stopping_tolerance': {'default': 0.001, 'actual': 0.00397382714153187}, 'max_runtime_secs': {'default': 0.0, 'actual': 0.0}, 'seed': {'default': -1, 'actual': -5159721475100505871}, 'build_tree_one_node': {'default': False, 'actual': False}, 'learn_rate': {'default': 0.1, 'actual': 0.01}, 'learn_rate_annealing': {'default': 1.0, 'actual': 1.0}, 'distribution': {'default': 'AUTO', 'actual': 'bernoulli'}, 'quantile_alpha': {'default': 0.5, 'actual': 0.5}, 'tweedie_power': {'default': 1.5, 'actual': 1.5}, 'huber_alpha': {'default': 0.9, 'actual': 0.9}, 'checkpoint': {'default': None, 'actual': None}, 'sample_rate': {'default': 1.0, 'actual': 1.0}, 'sample_rate_per_class': {'default': None, 'actual': None}, 'col_sample_rate': {'default': 1.0, 'actual': 0.4}, 'col_sample_rate_change_per_level': {'default': 1.0, 'actual': 1.0}, 'col_sample_rate_per_tree': {'default': 1.0, 'actual': 0.4}, 'min_split_improvement': {'default': 1e-05, 'actual': 1e-05}, 'histogram_type': {'default': 'AUTO', 'actual': 'AUTO'}, 'max_abs_leafnode_pred': {'default': 1.7976931348623157e+308, 'actual': 1.7976931348623157e+308}, 'pred_noise_bandwidth': {'default': 0.0, 'actual': 0.0}, 'categorical_encoding': {'default': 'AUTO', 'actual': 'AUTO'}, 'calibrate_model': {'default': False, 'actual': False}, 'calibration_frame': {'default': None, 'actual': None}, 'custom_metric_func': {'default': None, 'actual': None}, 'export_checkpoints_dir': {'default': None, 'actual': None}, 'monotone_constraints': {'default': None, 'actual': None}, 'check_constant_response': {'default': True, 'actual': True}}\n",
      "{'model_id': {'default': None, 'actual': {'__meta': {'schema_version': 3, 'schema_name': 'ModelKeyV3', 'schema_type': 'Key<Model>'}, 'name': 'GBM_grid_1_AutoML_20190422_173752_model_1', 'type': 'Key<Model>', 'URL': '/3/Models/GBM_grid_1_AutoML_20190422_173752_model_1'}}, 'training_frame': {'default': None, 'actual': {'__meta': {'schema_version': 3, 'schema_name': 'FrameKeyV3', 'schema_type': 'Key<Frame>'}, 'name': 'automl_training_train_1500.hex', 'type': 'Key<Frame>', 'URL': '/3/Frames/automl_training_train_1500.hex'}}, 'validation_frame': {'default': None, 'actual': None}, 'nfolds': {'default': 0, 'actual': 5}, 'keep_cross_validation_models': {'default': True, 'actual': False}, 'keep_cross_validation_predictions': {'default': False, 'actual': True}, 'keep_cross_validation_fold_assignment': {'default': False, 'actual': False}, 'score_each_iteration': {'default': False, 'actual': False}, 'score_tree_interval': {'default': 0, 'actual': 5}, 'fold_assignment': {'default': 'AUTO', 'actual': 'Modulo'}, 'fold_column': {'default': None, 'actual': None}, 'response_column': {'default': None, 'actual': {'__meta': {'schema_version': 3, 'schema_name': 'ColSpecifierV3', 'schema_type': 'VecSpecifier'}, 'column_name': 'Claim', 'is_member_of_frames': None}}, 'ignored_columns': {'default': None, 'actual': []}, 'ignore_const_cols': {'default': True, 'actual': True}, 'offset_column': {'default': None, 'actual': None}, 'weights_column': {'default': None, 'actual': None}, 'balance_classes': {'default': False, 'actual': False}, 'class_sampling_factors': {'default': None, 'actual': None}, 'max_after_balance_size': {'default': 5.0, 'actual': 5.0}, 'max_confusion_matrix_size': {'default': 20, 'actual': 20}, 'max_hit_ratio_k': {'default': 0, 'actual': 0}, 'ntrees': {'default': 50, 'actual': 162}, 'max_depth': {'default': 5, 'actual': 7}, 'min_rows': {'default': 10.0, 'actual': 5.0}, 'nbins': {'default': 20, 'actual': 20}, 'nbins_top_level': {'default': 1024, 'actual': 1024}, 'nbins_cats': {'default': 1024, 'actual': 1024}, 'r2_stopping': {'default': 1.7976931348623157e+308, 'actual': 1.7976931348623157e+308}, 'stopping_rounds': {'default': 0, 'actual': 0}, 'stopping_metric': {'default': 'AUTO', 'actual': 'logloss'}, 'stopping_tolerance': {'default': 0.001, 'actual': 0.00397382714153187}, 'max_runtime_secs': {'default': 0.0, 'actual': 0.0}, 'seed': {'default': -1, 'actual': -5159721475100505871}, 'build_tree_one_node': {'default': False, 'actual': False}, 'learn_rate': {'default': 0.1, 'actual': 0.01}, 'learn_rate_annealing': {'default': 1.0, 'actual': 1.0}, 'distribution': {'default': 'AUTO', 'actual': 'bernoulli'}, 'quantile_alpha': {'default': 0.5, 'actual': 0.5}, 'tweedie_power': {'default': 1.5, 'actual': 1.5}, 'huber_alpha': {'default': 0.9, 'actual': 0.9}, 'checkpoint': {'default': None, 'actual': None}, 'sample_rate': {'default': 1.0, 'actual': 1.0}, 'sample_rate_per_class': {'default': None, 'actual': None}, 'col_sample_rate': {'default': 1.0, 'actual': 0.4}, 'col_sample_rate_change_per_level': {'default': 1.0, 'actual': 1.0}, 'col_sample_rate_per_tree': {'default': 1.0, 'actual': 0.4}, 'min_split_improvement': {'default': 1e-05, 'actual': 1e-05}, 'histogram_type': {'default': 'AUTO', 'actual': 'AUTO'}, 'max_abs_leafnode_pred': {'default': 1.7976931348623157e+308, 'actual': 1.7976931348623157e+308}, 'pred_noise_bandwidth': {'default': 0.0, 'actual': 0.0}, 'categorical_encoding': {'default': 'AUTO', 'actual': 'AUTO'}, 'calibrate_model': {'default': False, 'actual': False}, 'calibration_frame': {'default': None, 'actual': None}, 'custom_metric_func': {'default': None, 'actual': None}, 'export_checkpoints_dir': {'default': None, 'actual': None}, 'monotone_constraints': {'default': None, 'actual': None}, 'check_constant_response': {'default': True, 'actual': True}}\n"
     ]
    },
    {
     "name": "stdout",
     "output_type": "stream",
     "text": [
      "{'model_id': {'default': None, 'actual': {'__meta': {'schema_version': 3, 'schema_name': 'ModelKeyV3', 'schema_type': 'Key<Model>'}, 'name': 'GBM_grid_1_AutoML_20190422_173752_model_1', 'type': 'Key<Model>', 'URL': '/3/Models/GBM_grid_1_AutoML_20190422_173752_model_1'}}, 'training_frame': {'default': None, 'actual': {'__meta': {'schema_version': 3, 'schema_name': 'FrameKeyV3', 'schema_type': 'Key<Frame>'}, 'name': 'automl_training_train_1500.hex', 'type': 'Key<Frame>', 'URL': '/3/Frames/automl_training_train_1500.hex'}}, 'validation_frame': {'default': None, 'actual': None}, 'nfolds': {'default': 0, 'actual': 5}, 'keep_cross_validation_models': {'default': True, 'actual': False}, 'keep_cross_validation_predictions': {'default': False, 'actual': True}, 'keep_cross_validation_fold_assignment': {'default': False, 'actual': False}, 'score_each_iteration': {'default': False, 'actual': False}, 'score_tree_interval': {'default': 0, 'actual': 5}, 'fold_assignment': {'default': 'AUTO', 'actual': 'Modulo'}, 'fold_column': {'default': None, 'actual': None}, 'response_column': {'default': None, 'actual': {'__meta': {'schema_version': 3, 'schema_name': 'ColSpecifierV3', 'schema_type': 'VecSpecifier'}, 'column_name': 'Claim', 'is_member_of_frames': None}}, 'ignored_columns': {'default': None, 'actual': []}, 'ignore_const_cols': {'default': True, 'actual': True}, 'offset_column': {'default': None, 'actual': None}, 'weights_column': {'default': None, 'actual': None}, 'balance_classes': {'default': False, 'actual': False}, 'class_sampling_factors': {'default': None, 'actual': None}, 'max_after_balance_size': {'default': 5.0, 'actual': 5.0}, 'max_confusion_matrix_size': {'default': 20, 'actual': 20}, 'max_hit_ratio_k': {'default': 0, 'actual': 0}, 'ntrees': {'default': 50, 'actual': 162}, 'max_depth': {'default': 5, 'actual': 7}, 'min_rows': {'default': 10.0, 'actual': 5.0}, 'nbins': {'default': 20, 'actual': 20}, 'nbins_top_level': {'default': 1024, 'actual': 1024}, 'nbins_cats': {'default': 1024, 'actual': 1024}, 'r2_stopping': {'default': 1.7976931348623157e+308, 'actual': 1.7976931348623157e+308}, 'stopping_rounds': {'default': 0, 'actual': 0}, 'stopping_metric': {'default': 'AUTO', 'actual': 'logloss'}, 'stopping_tolerance': {'default': 0.001, 'actual': 0.00397382714153187}, 'max_runtime_secs': {'default': 0.0, 'actual': 0.0}, 'seed': {'default': -1, 'actual': -5159721475100505871}, 'build_tree_one_node': {'default': False, 'actual': False}, 'learn_rate': {'default': 0.1, 'actual': 0.01}, 'learn_rate_annealing': {'default': 1.0, 'actual': 1.0}, 'distribution': {'default': 'AUTO', 'actual': 'bernoulli'}, 'quantile_alpha': {'default': 0.5, 'actual': 0.5}, 'tweedie_power': {'default': 1.5, 'actual': 1.5}, 'huber_alpha': {'default': 0.9, 'actual': 0.9}, 'checkpoint': {'default': None, 'actual': None}, 'sample_rate': {'default': 1.0, 'actual': 1.0}, 'sample_rate_per_class': {'default': None, 'actual': None}, 'col_sample_rate': {'default': 1.0, 'actual': 0.4}, 'col_sample_rate_change_per_level': {'default': 1.0, 'actual': 1.0}, 'col_sample_rate_per_tree': {'default': 1.0, 'actual': 0.4}, 'min_split_improvement': {'default': 1e-05, 'actual': 1e-05}, 'histogram_type': {'default': 'AUTO', 'actual': 'AUTO'}, 'max_abs_leafnode_pred': {'default': 1.7976931348623157e+308, 'actual': 1.7976931348623157e+308}, 'pred_noise_bandwidth': {'default': 0.0, 'actual': 0.0}, 'categorical_encoding': {'default': 'AUTO', 'actual': 'AUTO'}, 'calibrate_model': {'default': False, 'actual': False}, 'calibration_frame': {'default': None, 'actual': None}, 'custom_metric_func': {'default': None, 'actual': None}, 'export_checkpoints_dir': {'default': None, 'actual': None}, 'monotone_constraints': {'default': None, 'actual': None}, 'check_constant_response': {'default': True, 'actual': True}}\n"
     ]
    }
   ],
   "source": [
    "for index, row in aml_leaderboard_df.head().iterrows():\n",
    "     #print(index, row)\n",
    "     mod_best.params\n",
    "     print(mod_best.params)\n",
    "     "
   ]
  },
  {
   "cell_type": "code",
   "execution_count": 125,
   "metadata": {},
   "outputs": [
    {
     "name": "stdout",
     "output_type": "stream",
     "text": [
      "GBM_grid_1_AutoML_20190422_173752_model_1\n",
      "GBM_2_AutoML_20190422_173752\n",
      "GBM_grid_1_AutoML_20190422_173752_model_12\n",
      "GBM_1_AutoML_20190422_173752\n",
      "GBM_grid_1_AutoML_20190422_173752_model_10\n",
      "GBM_grid_1_AutoML_20190422_173752_model_13\n",
      "GBM_grid_1_AutoML_20190422_173752_model_9\n",
      "GBM_grid_1_AutoML_20190422_173752_model_2\n",
      "GBM_3_AutoML_20190422_173752\n",
      "GBM_grid_1_AutoML_20190422_173752_model_3\n",
      "StackedEnsemble_BestOfFamily_AutoML_20190422_173752\n",
      "GBM_grid_1_AutoML_20190422_173752_model_16\n",
      "StackedEnsemble_AllModels_AutoML_20190422_173752\n",
      "GBM_5_AutoML_20190422_173752\n",
      "GBM_4_AutoML_20190422_173752\n",
      "GBM_grid_1_AutoML_20190422_173752_model_7\n",
      "GBM_grid_1_AutoML_20190422_173752_model_15\n",
      "GBM_grid_1_AutoML_20190422_173752_model_14\n",
      "GBM_grid_1_AutoML_20190422_173752_model_11\n",
      "GBM_grid_1_AutoML_20190422_173752_model_4\n",
      "GBM_grid_1_AutoML_20190422_173752_model_8\n",
      "GBM_grid_1_AutoML_20190422_173752_model_17\n",
      "DeepLearning_grid_1_AutoML_20190422_173752_model_6\n",
      "GLM_grid_1_AutoML_20190422_173752_model_1\n",
      "DRF_1_AutoML_20190422_173752\n",
      "XRT_1_AutoML_20190422_173752\n",
      "DeepLearning_1_AutoML_20190422_173752\n",
      "DeepLearning_grid_1_AutoML_20190422_173752_model_2\n",
      "DeepLearning_grid_1_AutoML_20190422_173752_model_3\n",
      "DeepLearning_grid_1_AutoML_20190422_173752_model_4\n",
      "DeepLearning_grid_1_AutoML_20190422_173752_model_1\n",
      "DeepLearning_grid_1_AutoML_20190422_173752_model_5\n",
      "GBM_grid_1_AutoML_20190422_173752_model_5\n",
      "GBM_grid_1_AutoML_20190422_173752_model_6\n"
     ]
    }
   ],
   "source": [
    "jsonDicts= []\n",
    "for id in model_set.iteritems():\n",
    "  id,model_name = id\n",
    "  print(model_name)\n",
    "  mod_best=h2o.get_model(model_name)\n",
    "  jsonDicts.append(mod_best.params)"
   ]
  },
  {
   "cell_type": "code",
   "execution_count": 126,
   "metadata": {},
   "outputs": [
    {
     "name": "stdout",
     "output_type": "stream",
     "text": [
      "[{'model_id': {'default': None, 'actual': {'__meta': {'schema_version': 3, 'schema_name': 'ModelKeyV3', 'schema_type': 'Key<Model>'}, 'name': 'GBM_grid_1_AutoML_20190422_173752_model_1', 'type': 'Key<Model>', 'URL': '/3/Models/GBM_grid_1_AutoML_20190422_173752_model_1'}}, 'training_frame': {'default': None, 'actual': {'__meta': {'schema_version': 3, 'schema_name': 'FrameKeyV3', 'schema_type': 'Key<Frame>'}, 'name': 'automl_training_train_1500.hex', 'type': 'Key<Frame>', 'URL': '/3/Frames/automl_training_train_1500.hex'}}, 'validation_frame': {'default': None, 'actual': None}, 'nfolds': {'default': 0, 'actual': 5}, 'keep_cross_validation_models': {'default': True, 'actual': False}, 'keep_cross_validation_predictions': {'default': False, 'actual': True}, 'keep_cross_validation_fold_assignment': {'default': False, 'actual': False}, 'score_each_iteration': {'default': False, 'actual': False}, 'score_tree_interval': {'default': 0, 'actual': 5}, 'fold_assignment': {'default': 'AUTO', 'actual': 'Modulo'}, 'fold_column': {'default': None, 'actual': None}, 'response_column': {'default': None, 'actual': {'__meta': {'schema_version': 3, 'schema_name': 'ColSpecifierV3', 'schema_type': 'VecSpecifier'}, 'column_name': 'Claim', 'is_member_of_frames': None}}, 'ignored_columns': {'default': None, 'actual': []}, 'ignore_const_cols': {'default': True, 'actual': True}, 'offset_column': {'default': None, 'actual': None}, 'weights_column': {'default': None, 'actual': None}, 'balance_classes': {'default': False, 'actual': False}, 'class_sampling_factors': {'default': None, 'actual': None}, 'max_after_balance_size': {'default': 5.0, 'actual': 5.0}, 'max_confusion_matrix_size': {'default': 20, 'actual': 20}, 'max_hit_ratio_k': {'default': 0, 'actual': 0}, 'ntrees': {'default': 50, 'actual': 162}, 'max_depth': {'default': 5, 'actual': 7}, 'min_rows': {'default': 10.0, 'actual': 5.0}, 'nbins': {'default': 20, 'actual': 20}, 'nbins_top_level': {'default': 1024, 'actual': 1024}, 'nbins_cats': {'default': 1024, 'actual': 1024}, 'r2_stopping': {'default': 1.7976931348623157e+308, 'actual': 1.7976931348623157e+308}, 'stopping_rounds': {'default': 0, 'actual': 0}, 'stopping_metric': {'default': 'AUTO', 'actual': 'logloss'}, 'stopping_tolerance': {'default': 0.001, 'actual': 0.00397382714153187}, 'max_runtime_secs': {'default': 0.0, 'actual': 0.0}, 'seed': {'default': -1, 'actual': -5159721475100505871}, 'build_tree_one_node': {'default': False, 'actual': False}, 'learn_rate': {'default': 0.1, 'actual': 0.01}, 'learn_rate_annealing': {'default': 1.0, 'actual': 1.0}, 'distribution': {'default': 'AUTO', 'actual': 'bernoulli'}, 'quantile_alpha': {'default': 0.5, 'actual': 0.5}, 'tweedie_power': {'default': 1.5, 'actual': 1.5}, 'huber_alpha': {'default': 0.9, 'actual': 0.9}, 'checkpoint': {'default': None, 'actual': None}, 'sample_rate': {'default': 1.0, 'actual': 1.0}, 'sample_rate_per_class': {'default': None, 'actual': None}, 'col_sample_rate': {'default': 1.0, 'actual': 0.4}, 'col_sample_rate_change_per_level': {'default': 1.0, 'actual': 1.0}, 'col_sample_rate_per_tree': {'default': 1.0, 'actual': 0.4}, 'min_split_improvement': {'default': 1e-05, 'actual': 1e-05}, 'histogram_type': {'default': 'AUTO', 'actual': 'AUTO'}, 'max_abs_leafnode_pred': {'default': 1.7976931348623157e+308, 'actual': 1.7976931348623157e+308}, 'pred_noise_bandwidth': {'default': 0.0, 'actual': 0.0}, 'categorical_encoding': {'default': 'AUTO', 'actual': 'AUTO'}, 'calibrate_model': {'default': False, 'actual': False}, 'calibration_frame': {'default': None, 'actual': None}, 'custom_metric_func': {'default': None, 'actual': None}, 'export_checkpoints_dir': {'default': None, 'actual': None}, 'monotone_constraints': {'default': None, 'actual': None}, 'check_constant_response': {'default': True, 'actual': True}}, {'model_id': {'default': None, 'actual': {'__meta': {'schema_version': 3, 'schema_name': 'ModelKeyV3', 'schema_type': 'Key<Model>'}, 'name': 'GBM_2_AutoML_20190422_173752', 'type': 'Key<Model>', 'URL': '/3/Models/GBM_2_AutoML_20190422_173752'}}, 'training_frame': {'default': None, 'actual': {'__meta': {'schema_version': 3, 'schema_name': 'FrameKeyV3', 'schema_type': 'Key<Frame>'}, 'name': 'automl_training_train_1500.hex', 'type': 'Key<Frame>', 'URL': '/3/Frames/automl_training_train_1500.hex'}}, 'validation_frame': {'default': None, 'actual': None}, 'nfolds': {'default': 0, 'actual': 5}, 'keep_cross_validation_models': {'default': True, 'actual': False}, 'keep_cross_validation_predictions': {'default': False, 'actual': True}, 'keep_cross_validation_fold_assignment': {'default': False, 'actual': False}, 'score_each_iteration': {'default': False, 'actual': False}, 'score_tree_interval': {'default': 0, 'actual': 5}, 'fold_assignment': {'default': 'AUTO', 'actual': 'Modulo'}, 'fold_column': {'default': None, 'actual': None}, 'response_column': {'default': None, 'actual': {'__meta': {'schema_version': 3, 'schema_name': 'ColSpecifierV3', 'schema_type': 'VecSpecifier'}, 'column_name': 'Claim', 'is_member_of_frames': None}}, 'ignored_columns': {'default': None, 'actual': []}, 'ignore_const_cols': {'default': True, 'actual': True}, 'offset_column': {'default': None, 'actual': None}, 'weights_column': {'default': None, 'actual': None}, 'balance_classes': {'default': False, 'actual': False}, 'class_sampling_factors': {'default': None, 'actual': None}, 'max_after_balance_size': {'default': 5.0, 'actual': 5.0}, 'max_confusion_matrix_size': {'default': 20, 'actual': 20}, 'max_hit_ratio_k': {'default': 0, 'actual': 0}, 'ntrees': {'default': 50, 'actual': 34}, 'max_depth': {'default': 5, 'actual': 15}, 'min_rows': {'default': 10.0, 'actual': 100.0}, 'nbins': {'default': 20, 'actual': 20}, 'nbins_top_level': {'default': 1024, 'actual': 1024}, 'nbins_cats': {'default': 1024, 'actual': 1024}, 'r2_stopping': {'default': 1.7976931348623157e+308, 'actual': 1.7976931348623157e+308}, 'stopping_rounds': {'default': 0, 'actual': 0}, 'stopping_metric': {'default': 'AUTO', 'actual': 'logloss'}, 'stopping_tolerance': {'default': 0.001, 'actual': 0.00397382714153187}, 'max_runtime_secs': {'default': 0.0, 'actual': 0.0}, 'seed': {'default': -1, 'actual': 7366209167550345169}, 'build_tree_one_node': {'default': False, 'actual': False}, 'learn_rate': {'default': 0.1, 'actual': 0.1}, 'learn_rate_annealing': {'default': 1.0, 'actual': 1.0}, 'distribution': {'default': 'AUTO', 'actual': 'bernoulli'}, 'quantile_alpha': {'default': 0.5, 'actual': 0.5}, 'tweedie_power': {'default': 1.5, 'actual': 1.5}, 'huber_alpha': {'default': 0.9, 'actual': 0.9}, 'checkpoint': {'default': None, 'actual': None}, 'sample_rate': {'default': 1.0, 'actual': 0.8}, 'sample_rate_per_class': {'default': None, 'actual': None}, 'col_sample_rate': {'default': 1.0, 'actual': 0.8}, 'col_sample_rate_change_per_level': {'default': 1.0, 'actual': 1.0}, 'col_sample_rate_per_tree': {'default': 1.0, 'actual': 0.8}, 'min_split_improvement': {'default': 1e-05, 'actual': 1e-05}, 'histogram_type': {'default': 'AUTO', 'actual': 'AUTO'}, 'max_abs_leafnode_pred': {'default': 1.7976931348623157e+308, 'actual': 1.7976931348623157e+308}, 'pred_noise_bandwidth': {'default': 0.0, 'actual': 0.0}, 'categorical_encoding': {'default': 'AUTO', 'actual': 'AUTO'}, 'calibrate_model': {'default': False, 'actual': False}, 'calibration_frame': {'default': None, 'actual': None}, 'custom_metric_func': {'default': None, 'actual': None}, 'export_checkpoints_dir': {'default': None, 'actual': None}, 'monotone_constraints': {'default': None, 'actual': None}, 'check_constant_response': {'default': True, 'actual': True}}, {'model_id': {'default': None, 'actual': {'__meta': {'schema_version': 3, 'schema_name': 'ModelKeyV3', 'schema_type': 'Key<Model>'}, 'name': 'GBM_grid_1_AutoML_20190422_173752_model_12', 'type': 'Key<Model>', 'URL': '/3/Models/GBM_grid_1_AutoML_20190422_173752_model_12'}}, 'training_frame': {'default': None, 'actual': {'__meta': {'schema_version': 3, 'schema_name': 'FrameKeyV3', 'schema_type': 'Key<Frame>'}, 'name': 'automl_training_train_1500.hex', 'type': 'Key<Frame>', 'URL': '/3/Frames/automl_training_train_1500.hex'}}, 'validation_frame': {'default': None, 'actual': None}, 'nfolds': {'default': 0, 'actual': 5}, 'keep_cross_validation_models': {'default': True, 'actual': False}, 'keep_cross_validation_predictions': {'default': False, 'actual': True}, 'keep_cross_validation_fold_assignment': {'default': False, 'actual': False}, 'score_each_iteration': {'default': False, 'actual': False}, 'score_tree_interval': {'default': 0, 'actual': 5}, 'fold_assignment': {'default': 'AUTO', 'actual': 'Modulo'}, 'fold_column': {'default': None, 'actual': None}, 'response_column': {'default': None, 'actual': {'__meta': {'schema_version': 3, 'schema_name': 'ColSpecifierV3', 'schema_type': 'VecSpecifier'}, 'column_name': 'Claim', 'is_member_of_frames': None}}, 'ignored_columns': {'default': None, 'actual': []}, 'ignore_const_cols': {'default': True, 'actual': True}, 'offset_column': {'default': None, 'actual': None}, 'weights_column': {'default': None, 'actual': None}, 'balance_classes': {'default': False, 'actual': False}, 'class_sampling_factors': {'default': None, 'actual': None}, 'max_after_balance_size': {'default': 5.0, 'actual': 5.0}, 'max_confusion_matrix_size': {'default': 20, 'actual': 20}, 'max_hit_ratio_k': {'default': 0, 'actual': 0}, 'ntrees': {'default': 50, 'actual': 42}, 'max_depth': {'default': 5, 'actual': 5}, 'min_rows': {'default': 10.0, 'actual': 10.0}, 'nbins': {'default': 20, 'actual': 20}, 'nbins_top_level': {'default': 1024, 'actual': 1024}, 'nbins_cats': {'default': 1024, 'actual': 1024}, 'r2_stopping': {'default': 1.7976931348623157e+308, 'actual': 1.7976931348623157e+308}, 'stopping_rounds': {'default': 0, 'actual': 0}, 'stopping_metric': {'default': 'AUTO', 'actual': 'logloss'}, 'stopping_tolerance': {'default': 0.001, 'actual': 0.00397382714153187}, 'max_runtime_secs': {'default': 0.0, 'actual': 0.0}, 'seed': {'default': -1, 'actual': 600192741971263891}, 'build_tree_one_node': {'default': False, 'actual': False}, 'learn_rate': {'default': 0.1, 'actual': 0.1}, 'learn_rate_annealing': {'default': 1.0, 'actual': 1.0}, 'distribution': {'default': 'AUTO', 'actual': 'bernoulli'}, 'quantile_alpha': {'default': 0.5, 'actual': 0.5}, 'tweedie_power': {'default': 1.5, 'actual': 1.5}, 'huber_alpha': {'default': 0.9, 'actual': 0.9}, 'checkpoint': {'default': None, 'actual': None}, 'sample_rate': {'default': 1.0, 'actual': 0.7}, 'sample_rate_per_class': {'default': None, 'actual': None}, 'col_sample_rate': {'default': 1.0, 'actual': 1.0}, 'col_sample_rate_change_per_level': {'default': 1.0, 'actual': 1.0}, 'col_sample_rate_per_tree': {'default': 1.0, 'actual': 0.7}, 'min_split_improvement': {'default': 1e-05, 'actual': 0.0001}, 'histogram_type': {'default': 'AUTO', 'actual': 'AUTO'}, 'max_abs_leafnode_pred': {'default': 1.7976931348623157e+308, 'actual': 1.7976931348623157e+308}, 'pred_noise_bandwidth': {'default': 0.0, 'actual': 0.0}, 'categorical_encoding': {'default': 'AUTO', 'actual': 'AUTO'}, 'calibrate_model': {'default': False, 'actual': False}, 'calibration_frame': {'default': None, 'actual': None}, 'custom_metric_func': {'default': None, 'actual': None}, 'export_checkpoints_dir': {'default': None, 'actual': None}, 'monotone_constraints': {'default': None, 'actual': None}, 'check_constant_response': {'default': True, 'actual': True}}, {'model_id': {'default': None, 'actual': {'__meta': {'schema_version': 3, 'schema_name': 'ModelKeyV3', 'schema_type': 'Key<Model>'}, 'name': 'GBM_1_AutoML_20190422_173752', 'type': 'Key<Model>', 'URL': '/3/Models/GBM_1_AutoML_20190422_173752'}}, 'training_frame': {'default': None, 'actual': {'__meta': {'schema_version': 3, 'schema_name': 'FrameKeyV3', 'schema_type': 'Key<Frame>'}, 'name': 'automl_training_train_1500.hex', 'type': 'Key<Frame>', 'URL': '/3/Frames/automl_training_train_1500.hex'}}, 'validation_frame': {'default': None, 'actual': None}, 'nfolds': {'default': 0, 'actual': 5}, 'keep_cross_validation_models': {'default': True, 'actual': False}, 'keep_cross_validation_predictions': {'default': False, 'actual': True}, 'keep_cross_validation_fold_assignment': {'default': False, 'actual': False}, 'score_each_iteration': {'default': False, 'actual': False}, 'score_tree_interval': {'default': 0, 'actual': 5}, 'fold_assignment': {'default': 'AUTO', 'actual': 'Modulo'}, 'fold_column': {'default': None, 'actual': None}, 'response_column': {'default': None, 'actual': {'__meta': {'schema_version': 3, 'schema_name': 'ColSpecifierV3', 'schema_type': 'VecSpecifier'}, 'column_name': 'Claim', 'is_member_of_frames': None}}, 'ignored_columns': {'default': None, 'actual': []}, 'ignore_const_cols': {'default': True, 'actual': True}, 'offset_column': {'default': None, 'actual': None}, 'weights_column': {'default': None, 'actual': None}, 'balance_classes': {'default': False, 'actual': False}, 'class_sampling_factors': {'default': None, 'actual': None}, 'max_after_balance_size': {'default': 5.0, 'actual': 5.0}, 'max_confusion_matrix_size': {'default': 20, 'actual': 20}, 'max_hit_ratio_k': {'default': 0, 'actual': 0}, 'ntrees': {'default': 50, 'actual': 34}, 'max_depth': {'default': 5, 'actual': 15}, 'min_rows': {'default': 10.0, 'actual': 100.0}, 'nbins': {'default': 20, 'actual': 20}, 'nbins_top_level': {'default': 1024, 'actual': 1024}, 'nbins_cats': {'default': 1024, 'actual': 1024}, 'r2_stopping': {'default': 1.7976931348623157e+308, 'actual': 1.7976931348623157e+308}, 'stopping_rounds': {'default': 0, 'actual': 0}, 'stopping_metric': {'default': 'AUTO', 'actual': 'logloss'}, 'stopping_tolerance': {'default': 0.001, 'actual': 0.00397382714153187}, 'max_runtime_secs': {'default': 0.0, 'actual': 0.0}, 'seed': {'default': -1, 'actual': 7366209167550345169}, 'build_tree_one_node': {'default': False, 'actual': False}, 'learn_rate': {'default': 0.1, 'actual': 0.1}, 'learn_rate_annealing': {'default': 1.0, 'actual': 1.0}, 'distribution': {'default': 'AUTO', 'actual': 'bernoulli'}, 'quantile_alpha': {'default': 0.5, 'actual': 0.5}, 'tweedie_power': {'default': 1.5, 'actual': 1.5}, 'huber_alpha': {'default': 0.9, 'actual': 0.9}, 'checkpoint': {'default': None, 'actual': None}, 'sample_rate': {'default': 1.0, 'actual': 0.8}, 'sample_rate_per_class': {'default': None, 'actual': None}, 'col_sample_rate': {'default': 1.0, 'actual': 0.8}, 'col_sample_rate_change_per_level': {'default': 1.0, 'actual': 1.0}, 'col_sample_rate_per_tree': {'default': 1.0, 'actual': 0.8}, 'min_split_improvement': {'default': 1e-05, 'actual': 1e-05}, 'histogram_type': {'default': 'AUTO', 'actual': 'AUTO'}, 'max_abs_leafnode_pred': {'default': 1.7976931348623157e+308, 'actual': 1.7976931348623157e+308}, 'pred_noise_bandwidth': {'default': 0.0, 'actual': 0.0}, 'categorical_encoding': {'default': 'AUTO', 'actual': 'AUTO'}, 'calibrate_model': {'default': False, 'actual': False}, 'calibration_frame': {'default': None, 'actual': None}, 'custom_metric_func': {'default': None, 'actual': None}, 'export_checkpoints_dir': {'default': None, 'actual': None}, 'monotone_constraints': {'default': None, 'actual': None}, 'check_constant_response': {'default': True, 'actual': True}}, {'model_id': {'default': None, 'actual': {'__meta': {'schema_version': 3, 'schema_name': 'ModelKeyV3', 'schema_type': 'Key<Model>'}, 'name': 'GBM_grid_1_AutoML_20190422_173752_model_10', 'type': 'Key<Model>', 'URL': '/3/Models/GBM_grid_1_AutoML_20190422_173752_model_10'}}, 'training_frame': {'default': None, 'actual': {'__meta': {'schema_version': 3, 'schema_name': 'FrameKeyV3', 'schema_type': 'Key<Frame>'}, 'name': 'automl_training_train_1500.hex', 'type': 'Key<Frame>', 'URL': '/3/Frames/automl_training_train_1500.hex'}}, 'validation_frame': {'default': None, 'actual': None}, 'nfolds': {'default': 0, 'actual': 5}, 'keep_cross_validation_models': {'default': True, 'actual': False}, 'keep_cross_validation_predictions': {'default': False, 'actual': True}, 'keep_cross_validation_fold_assignment': {'default': False, 'actual': False}, 'score_each_iteration': {'default': False, 'actual': False}, 'score_tree_interval': {'default': 0, 'actual': 5}, 'fold_assignment': {'default': 'AUTO', 'actual': 'Modulo'}, 'fold_column': {'default': None, 'actual': None}, 'response_column': {'default': None, 'actual': {'__meta': {'schema_version': 3, 'schema_name': 'ColSpecifierV3', 'schema_type': 'VecSpecifier'}, 'column_name': 'Claim', 'is_member_of_frames': None}}, 'ignored_columns': {'default': None, 'actual': []}, 'ignore_const_cols': {'default': True, 'actual': True}, 'offset_column': {'default': None, 'actual': None}, 'weights_column': {'default': None, 'actual': None}, 'balance_classes': {'default': False, 'actual': False}, 'class_sampling_factors': {'default': None, 'actual': None}, 'max_after_balance_size': {'default': 5.0, 'actual': 5.0}, 'max_confusion_matrix_size': {'default': 20, 'actual': 20}, 'max_hit_ratio_k': {'default': 0, 'actual': 0}, 'ntrees': {'default': 50, 'actual': 43}, 'max_depth': {'default': 5, 'actual': 5}, 'min_rows': {'default': 10.0, 'actual': 1.0}, 'nbins': {'default': 20, 'actual': 20}, 'nbins_top_level': {'default': 1024, 'actual': 1024}, 'nbins_cats': {'default': 1024, 'actual': 1024}, 'r2_stopping': {'default': 1.7976931348623157e+308, 'actual': 1.7976931348623157e+308}, 'stopping_rounds': {'default': 0, 'actual': 0}, 'stopping_metric': {'default': 'AUTO', 'actual': 'logloss'}, 'stopping_tolerance': {'default': 0.001, 'actual': 0.00397382714153187}, 'max_runtime_secs': {'default': 0.0, 'actual': 0.0}, 'seed': {'default': -1, 'actual': 8273086787143686369}, 'build_tree_one_node': {'default': False, 'actual': False}, 'learn_rate': {'default': 0.1, 'actual': 0.1}, 'learn_rate_annealing': {'default': 1.0, 'actual': 1.0}, 'distribution': {'default': 'AUTO', 'actual': 'bernoulli'}, 'quantile_alpha': {'default': 0.5, 'actual': 0.5}, 'tweedie_power': {'default': 1.5, 'actual': 1.5}, 'huber_alpha': {'default': 0.9, 'actual': 0.9}, 'checkpoint': {'default': None, 'actual': None}, 'sample_rate': {'default': 1.0, 'actual': 0.6}, 'sample_rate_per_class': {'default': None, 'actual': None}, 'col_sample_rate': {'default': 1.0, 'actual': 0.7}, 'col_sample_rate_change_per_level': {'default': 1.0, 'actual': 1.0}, 'col_sample_rate_per_tree': {'default': 1.0, 'actual': 0.4}, 'min_split_improvement': {'default': 1e-05, 'actual': 0.0001}, 'histogram_type': {'default': 'AUTO', 'actual': 'AUTO'}, 'max_abs_leafnode_pred': {'default': 1.7976931348623157e+308, 'actual': 1.7976931348623157e+308}, 'pred_noise_bandwidth': {'default': 0.0, 'actual': 0.0}, 'categorical_encoding': {'default': 'AUTO', 'actual': 'AUTO'}, 'calibrate_model': {'default': False, 'actual': False}, 'calibration_frame': {'default': None, 'actual': None}, 'custom_metric_func': {'default': None, 'actual': None}, 'export_checkpoints_dir': {'default': None, 'actual': None}, 'monotone_constraints': {'default': None, 'actual': None}, 'check_constant_response': {'default': True, 'actual': True}}, {'model_id': {'default': None, 'actual': {'__meta': {'schema_version': 3, 'schema_name': 'ModelKeyV3', 'schema_type': 'Key<Model>'}, 'name': 'GBM_grid_1_AutoML_20190422_173752_model_13', 'type': 'Key<Model>', 'URL': '/3/Models/GBM_grid_1_AutoML_20190422_173752_model_13'}}, 'training_frame': {'default': None, 'actual': {'__meta': {'schema_version': 3, 'schema_name': 'FrameKeyV3', 'schema_type': 'Key<Frame>'}, 'name': 'automl_training_train_1500.hex', 'type': 'Key<Frame>', 'URL': '/3/Frames/automl_training_train_1500.hex'}}, 'validation_frame': {'default': None, 'actual': None}, 'nfolds': {'default': 0, 'actual': 5}, 'keep_cross_validation_models': {'default': True, 'actual': False}, 'keep_cross_validation_predictions': {'default': False, 'actual': True}, 'keep_cross_validation_fold_assignment': {'default': False, 'actual': False}, 'score_each_iteration': {'default': False, 'actual': False}, 'score_tree_interval': {'default': 0, 'actual': 5}, 'fold_assignment': {'default': 'AUTO', 'actual': 'Modulo'}, 'fold_column': {'default': None, 'actual': None}, 'response_column': {'default': None, 'actual': {'__meta': {'schema_version': 3, 'schema_name': 'ColSpecifierV3', 'schema_type': 'VecSpecifier'}, 'column_name': 'Claim', 'is_member_of_frames': None}}, 'ignored_columns': {'default': None, 'actual': []}, 'ignore_const_cols': {'default': True, 'actual': True}, 'offset_column': {'default': None, 'actual': None}, 'weights_column': {'default': None, 'actual': None}, 'balance_classes': {'default': False, 'actual': False}, 'class_sampling_factors': {'default': None, 'actual': None}, 'max_after_balance_size': {'default': 5.0, 'actual': 5.0}, 'max_confusion_matrix_size': {'default': 20, 'actual': 20}, 'max_hit_ratio_k': {'default': 0, 'actual': 0}, 'ntrees': {'default': 50, 'actual': 128}, 'max_depth': {'default': 5, 'actual': 9}, 'min_rows': {'default': 10.0, 'actual': 100.0}, 'nbins': {'default': 20, 'actual': 20}, 'nbins_top_level': {'default': 1024, 'actual': 1024}, 'nbins_cats': {'default': 1024, 'actual': 1024}, 'r2_stopping': {'default': 1.7976931348623157e+308, 'actual': 1.7976931348623157e+308}, 'stopping_rounds': {'default': 0, 'actual': 0}, 'stopping_metric': {'default': 'AUTO', 'actual': 'logloss'}, 'stopping_tolerance': {'default': 0.001, 'actual': 0.00397382714153187}, 'max_runtime_secs': {'default': 0.0, 'actual': 0.0}, 'seed': {'default': -1, 'actual': 8975856687447397913}, 'build_tree_one_node': {'default': False, 'actual': False}, 'learn_rate': {'default': 0.1, 'actual': 0.001}, 'learn_rate_annealing': {'default': 1.0, 'actual': 1.0}, 'distribution': {'default': 'AUTO', 'actual': 'bernoulli'}, 'quantile_alpha': {'default': 0.5, 'actual': 0.5}, 'tweedie_power': {'default': 1.5, 'actual': 1.5}, 'huber_alpha': {'default': 0.9, 'actual': 0.9}, 'checkpoint': {'default': None, 'actual': None}, 'sample_rate': {'default': 1.0, 'actual': 0.7}, 'sample_rate_per_class': {'default': None, 'actual': None}, 'col_sample_rate': {'default': 1.0, 'actual': 1.0}, 'col_sample_rate_change_per_level': {'default': 1.0, 'actual': 1.0}, 'col_sample_rate_per_tree': {'default': 1.0, 'actual': 0.7}, 'min_split_improvement': {'default': 1e-05, 'actual': 1e-05}, 'histogram_type': {'default': 'AUTO', 'actual': 'AUTO'}, 'max_abs_leafnode_pred': {'default': 1.7976931348623157e+308, 'actual': 1.7976931348623157e+308}, 'pred_noise_bandwidth': {'default': 0.0, 'actual': 0.0}, 'categorical_encoding': {'default': 'AUTO', 'actual': 'AUTO'}, 'calibrate_model': {'default': False, 'actual': False}, 'calibration_frame': {'default': None, 'actual': None}, 'custom_metric_func': {'default': None, 'actual': None}, 'export_checkpoints_dir': {'default': None, 'actual': None}, 'monotone_constraints': {'default': None, 'actual': None}, 'check_constant_response': {'default': True, 'actual': True}}, {'model_id': {'default': None, 'actual': {'__meta': {'schema_version': 3, 'schema_name': 'ModelKeyV3', 'schema_type': 'Key<Model>'}, 'name': 'GBM_grid_1_AutoML_20190422_173752_model_9', 'type': 'Key<Model>', 'URL': '/3/Models/GBM_grid_1_AutoML_20190422_173752_model_9'}}, 'training_frame': {'default': None, 'actual': {'__meta': {'schema_version': 3, 'schema_name': 'FrameKeyV3', 'schema_type': 'Key<Frame>'}, 'name': 'automl_training_train_1500.hex', 'type': 'Key<Frame>', 'URL': '/3/Frames/automl_training_train_1500.hex'}}, 'validation_frame': {'default': None, 'actual': None}, 'nfolds': {'default': 0, 'actual': 5}, 'keep_cross_validation_models': {'default': True, 'actual': False}, 'keep_cross_validation_predictions': {'default': False, 'actual': True}, 'keep_cross_validation_fold_assignment': {'default': False, 'actual': False}, 'score_each_iteration': {'default': False, 'actual': False}, 'score_tree_interval': {'default': 0, 'actual': 5}, 'fold_assignment': {'default': 'AUTO', 'actual': 'Modulo'}, 'fold_column': {'default': None, 'actual': None}, 'response_column': {'default': None, 'actual': {'__meta': {'schema_version': 3, 'schema_name': 'ColSpecifierV3', 'schema_type': 'VecSpecifier'}, 'column_name': 'Claim', 'is_member_of_frames': None}}, 'ignored_columns': {'default': None, 'actual': []}, 'ignore_const_cols': {'default': True, 'actual': True}, 'offset_column': {'default': None, 'actual': None}, 'weights_column': {'default': None, 'actual': None}, 'balance_classes': {'default': False, 'actual': False}, 'class_sampling_factors': {'default': None, 'actual': None}, 'max_after_balance_size': {'default': 5.0, 'actual': 5.0}, 'max_confusion_matrix_size': {'default': 20, 'actual': 20}, 'max_hit_ratio_k': {'default': 0, 'actual': 0}, 'ntrees': {'default': 50, 'actual': 168}, 'max_depth': {'default': 5, 'actual': 12}, 'min_rows': {'default': 10.0, 'actual': 30.0}, 'nbins': {'default': 20, 'actual': 20}, 'nbins_top_level': {'default': 1024, 'actual': 1024}, 'nbins_cats': {'default': 1024, 'actual': 1024}, 'r2_stopping': {'default': 1.7976931348623157e+308, 'actual': 1.7976931348623157e+308}, 'stopping_rounds': {'default': 0, 'actual': 0}, 'stopping_metric': {'default': 'AUTO', 'actual': 'logloss'}, 'stopping_tolerance': {'default': 0.001, 'actual': 0.00397382714153187}, 'max_runtime_secs': {'default': 0.0, 'actual': 0.0}, 'seed': {'default': -1, 'actual': -8888194006040548948}, 'build_tree_one_node': {'default': False, 'actual': False}, 'learn_rate': {'default': 0.1, 'actual': 0.005}, 'learn_rate_annealing': {'default': 1.0, 'actual': 1.0}, 'distribution': {'default': 'AUTO', 'actual': 'bernoulli'}, 'quantile_alpha': {'default': 0.5, 'actual': 0.5}, 'tweedie_power': {'default': 1.5, 'actual': 1.5}, 'huber_alpha': {'default': 0.9, 'actual': 0.9}, 'checkpoint': {'default': None, 'actual': None}, 'sample_rate': {'default': 1.0, 'actual': 0.8}, 'sample_rate_per_class': {'default': None, 'actual': None}, 'col_sample_rate': {'default': 1.0, 'actual': 0.4}, 'col_sample_rate_change_per_level': {'default': 1.0, 'actual': 1.0}, 'col_sample_rate_per_tree': {'default': 1.0, 'actual': 1.0}, 'min_split_improvement': {'default': 1e-05, 'actual': 0.0001}, 'histogram_type': {'default': 'AUTO', 'actual': 'AUTO'}, 'max_abs_leafnode_pred': {'default': 1.7976931348623157e+308, 'actual': 1.7976931348623157e+308}, 'pred_noise_bandwidth': {'default': 0.0, 'actual': 0.0}, 'categorical_encoding': {'default': 'AUTO', 'actual': 'AUTO'}, 'calibrate_model': {'default': False, 'actual': False}, 'calibration_frame': {'default': None, 'actual': None}, 'custom_metric_func': {'default': None, 'actual': None}, 'export_checkpoints_dir': {'default': None, 'actual': None}, 'monotone_constraints': {'default': None, 'actual': None}, 'check_constant_response': {'default': True, 'actual': True}}, {'model_id': {'default': None, 'actual': {'__meta': {'schema_version': 3, 'schema_name': 'ModelKeyV3', 'schema_type': 'Key<Model>'}, 'name': 'GBM_grid_1_AutoML_20190422_173752_model_2', 'type': 'Key<Model>', 'URL': '/3/Models/GBM_grid_1_AutoML_20190422_173752_model_2'}}, 'training_frame': {'default': None, 'actual': {'__meta': {'schema_version': 3, 'schema_name': 'FrameKeyV3', 'schema_type': 'Key<Frame>'}, 'name': 'automl_training_train_1500.hex', 'type': 'Key<Frame>', 'URL': '/3/Frames/automl_training_train_1500.hex'}}, 'validation_frame': {'default': None, 'actual': None}, 'nfolds': {'default': 0, 'actual': 5}, 'keep_cross_validation_models': {'default': True, 'actual': False}, 'keep_cross_validation_predictions': {'default': False, 'actual': True}, 'keep_cross_validation_fold_assignment': {'default': False, 'actual': False}, 'score_each_iteration': {'default': False, 'actual': False}, 'score_tree_interval': {'default': 0, 'actual': 5}, 'fold_assignment': {'default': 'AUTO', 'actual': 'Modulo'}, 'fold_column': {'default': None, 'actual': None}, 'response_column': {'default': None, 'actual': {'__meta': {'schema_version': 3, 'schema_name': 'ColSpecifierV3', 'schema_type': 'VecSpecifier'}, 'column_name': 'Claim', 'is_member_of_frames': None}}, 'ignored_columns': {'default': None, 'actual': []}, 'ignore_const_cols': {'default': True, 'actual': True}, 'offset_column': {'default': None, 'actual': None}, 'weights_column': {'default': None, 'actual': None}, 'balance_classes': {'default': False, 'actual': False}, 'class_sampling_factors': {'default': None, 'actual': None}, 'max_after_balance_size': {'default': 5.0, 'actual': 5.0}, 'max_confusion_matrix_size': {'default': 20, 'actual': 20}, 'max_hit_ratio_k': {'default': 0, 'actual': 0}, 'ntrees': {'default': 50, 'actual': 135}, 'max_depth': {'default': 5, 'actual': 9}, 'min_rows': {'default': 10.0, 'actual': 15.0}, 'nbins': {'default': 20, 'actual': 20}, 'nbins_top_level': {'default': 1024, 'actual': 1024}, 'nbins_cats': {'default': 1024, 'actual': 1024}, 'r2_stopping': {'default': 1.7976931348623157e+308, 'actual': 1.7976931348623157e+308}, 'stopping_rounds': {'default': 0, 'actual': 0}, 'stopping_metric': {'default': 'AUTO', 'actual': 'logloss'}, 'stopping_tolerance': {'default': 0.001, 'actual': 0.00397382714153187}, 'max_runtime_secs': {'default': 0.0, 'actual': 0.0}, 'seed': {'default': -1, 'actual': 1518018939911565147}, 'build_tree_one_node': {'default': False, 'actual': False}, 'learn_rate': {'default': 0.1, 'actual': 0.008}, 'learn_rate_annealing': {'default': 1.0, 'actual': 1.0}, 'distribution': {'default': 'AUTO', 'actual': 'bernoulli'}, 'quantile_alpha': {'default': 0.5, 'actual': 0.5}, 'tweedie_power': {'default': 1.5, 'actual': 1.5}, 'huber_alpha': {'default': 0.9, 'actual': 0.9}, 'checkpoint': {'default': None, 'actual': None}, 'sample_rate': {'default': 1.0, 'actual': 1.0}, 'sample_rate_per_class': {'default': None, 'actual': None}, 'col_sample_rate': {'default': 1.0, 'actual': 0.7}, 'col_sample_rate_change_per_level': {'default': 1.0, 'actual': 1.0}, 'col_sample_rate_per_tree': {'default': 1.0, 'actual': 1.0}, 'min_split_improvement': {'default': 1e-05, 'actual': 1e-05}, 'histogram_type': {'default': 'AUTO', 'actual': 'AUTO'}, 'max_abs_leafnode_pred': {'default': 1.7976931348623157e+308, 'actual': 1.7976931348623157e+308}, 'pred_noise_bandwidth': {'default': 0.0, 'actual': 0.0}, 'categorical_encoding': {'default': 'AUTO', 'actual': 'AUTO'}, 'calibrate_model': {'default': False, 'actual': False}, 'calibration_frame': {'default': None, 'actual': None}, 'custom_metric_func': {'default': None, 'actual': None}, 'export_checkpoints_dir': {'default': None, 'actual': None}, 'monotone_constraints': {'default': None, 'actual': None}, 'check_constant_response': {'default': True, 'actual': True}}, {'model_id': {'default': None, 'actual': {'__meta': {'schema_version': 3, 'schema_name': 'ModelKeyV3', 'schema_type': 'Key<Model>'}, 'name': 'GBM_3_AutoML_20190422_173752', 'type': 'Key<Model>', 'URL': '/3/Models/GBM_3_AutoML_20190422_173752'}}, 'training_frame': {'default': None, 'actual': {'__meta': {'schema_version': 3, 'schema_name': 'FrameKeyV3', 'schema_type': 'Key<Frame>'}, 'name': 'automl_training_train_1500.hex', 'type': 'Key<Frame>', 'URL': '/3/Frames/automl_training_train_1500.hex'}}, 'validation_frame': {'default': None, 'actual': None}, 'nfolds': {'default': 0, 'actual': 5}, 'keep_cross_validation_models': {'default': True, 'actual': False}, 'keep_cross_validation_predictions': {'default': False, 'actual': True}, 'keep_cross_validation_fold_assignment': {'default': False, 'actual': False}, 'score_each_iteration': {'default': False, 'actual': False}, 'score_tree_interval': {'default': 0, 'actual': 5}, 'fold_assignment': {'default': 'AUTO', 'actual': 'Modulo'}, 'fold_column': {'default': None, 'actual': None}, 'response_column': {'default': None, 'actual': {'__meta': {'schema_version': 3, 'schema_name': 'ColSpecifierV3', 'schema_type': 'VecSpecifier'}, 'column_name': 'Claim', 'is_member_of_frames': None}}, 'ignored_columns': {'default': None, 'actual': []}, 'ignore_const_cols': {'default': True, 'actual': True}, 'offset_column': {'default': None, 'actual': None}, 'weights_column': {'default': None, 'actual': None}, 'balance_classes': {'default': False, 'actual': False}, 'class_sampling_factors': {'default': None, 'actual': None}, 'max_after_balance_size': {'default': 5.0, 'actual': 5.0}, 'max_confusion_matrix_size': {'default': 20, 'actual': 20}, 'max_hit_ratio_k': {'default': 0, 'actual': 0}, 'ntrees': {'default': 50, 'actual': 34}, 'max_depth': {'default': 5, 'actual': 15}, 'min_rows': {'default': 10.0, 'actual': 100.0}, 'nbins': {'default': 20, 'actual': 20}, 'nbins_top_level': {'default': 1024, 'actual': 1024}, 'nbins_cats': {'default': 1024, 'actual': 1024}, 'r2_stopping': {'default': 1.7976931348623157e+308, 'actual': 1.7976931348623157e+308}, 'stopping_rounds': {'default': 0, 'actual': 0}, 'stopping_metric': {'default': 'AUTO', 'actual': 'logloss'}, 'stopping_tolerance': {'default': 0.001, 'actual': 0.00397382714153187}, 'max_runtime_secs': {'default': 0.0, 'actual': 0.0}, 'seed': {'default': -1, 'actual': 7366209167550345169}, 'build_tree_one_node': {'default': False, 'actual': False}, 'learn_rate': {'default': 0.1, 'actual': 0.1}, 'learn_rate_annealing': {'default': 1.0, 'actual': 1.0}, 'distribution': {'default': 'AUTO', 'actual': 'bernoulli'}, 'quantile_alpha': {'default': 0.5, 'actual': 0.5}, 'tweedie_power': {'default': 1.5, 'actual': 1.5}, 'huber_alpha': {'default': 0.9, 'actual': 0.9}, 'checkpoint': {'default': None, 'actual': None}, 'sample_rate': {'default': 1.0, 'actual': 0.8}, 'sample_rate_per_class': {'default': None, 'actual': None}, 'col_sample_rate': {'default': 1.0, 'actual': 0.8}, 'col_sample_rate_change_per_level': {'default': 1.0, 'actual': 1.0}, 'col_sample_rate_per_tree': {'default': 1.0, 'actual': 0.8}, 'min_split_improvement': {'default': 1e-05, 'actual': 1e-05}, 'histogram_type': {'default': 'AUTO', 'actual': 'AUTO'}, 'max_abs_leafnode_pred': {'default': 1.7976931348623157e+308, 'actual': 1.7976931348623157e+308}, 'pred_noise_bandwidth': {'default': 0.0, 'actual': 0.0}, 'categorical_encoding': {'default': 'AUTO', 'actual': 'AUTO'}, 'calibrate_model': {'default': False, 'actual': False}, 'calibration_frame': {'default': None, 'actual': None}, 'custom_metric_func': {'default': None, 'actual': None}, 'export_checkpoints_dir': {'default': None, 'actual': None}, 'monotone_constraints': {'default': None, 'actual': None}, 'check_constant_response': {'default': True, 'actual': True}}, {'model_id': {'default': None, 'actual': {'__meta': {'schema_version': 3, 'schema_name': 'ModelKeyV3', 'schema_type': 'Key<Model>'}, 'name': 'GBM_grid_1_AutoML_20190422_173752_model_3', 'type': 'Key<Model>', 'URL': '/3/Models/GBM_grid_1_AutoML_20190422_173752_model_3'}}, 'training_frame': {'default': None, 'actual': {'__meta': {'schema_version': 3, 'schema_name': 'FrameKeyV3', 'schema_type': 'Key<Frame>'}, 'name': 'automl_training_train_1500.hex', 'type': 'Key<Frame>', 'URL': '/3/Frames/automl_training_train_1500.hex'}}, 'validation_frame': {'default': None, 'actual': None}, 'nfolds': {'default': 0, 'actual': 5}, 'keep_cross_validation_models': {'default': True, 'actual': False}, 'keep_cross_validation_predictions': {'default': False, 'actual': True}, 'keep_cross_validation_fold_assignment': {'default': False, 'actual': False}, 'score_each_iteration': {'default': False, 'actual': False}, 'score_tree_interval': {'default': 0, 'actual': 5}, 'fold_assignment': {'default': 'AUTO', 'actual': 'Modulo'}, 'fold_column': {'default': None, 'actual': None}, 'response_column': {'default': None, 'actual': {'__meta': {'schema_version': 3, 'schema_name': 'ColSpecifierV3', 'schema_type': 'VecSpecifier'}, 'column_name': 'Claim', 'is_member_of_frames': None}}, 'ignored_columns': {'default': None, 'actual': []}, 'ignore_const_cols': {'default': True, 'actual': True}, 'offset_column': {'default': None, 'actual': None}, 'weights_column': {'default': None, 'actual': None}, 'balance_classes': {'default': False, 'actual': False}, 'class_sampling_factors': {'default': None, 'actual': None}, 'max_after_balance_size': {'default': 5.0, 'actual': 5.0}, 'max_confusion_matrix_size': {'default': 20, 'actual': 20}, 'max_hit_ratio_k': {'default': 0, 'actual': 0}, 'ntrees': {'default': 50, 'actual': 134}, 'max_depth': {'default': 5, 'actual': 13}, 'min_rows': {'default': 10.0, 'actual': 5.0}, 'nbins': {'default': 20, 'actual': 20}, 'nbins_top_level': {'default': 1024, 'actual': 1024}, 'nbins_cats': {'default': 1024, 'actual': 1024}, 'r2_stopping': {'default': 1.7976931348623157e+308, 'actual': 1.7976931348623157e+308}, 'stopping_rounds': {'default': 0, 'actual': 0}, 'stopping_metric': {'default': 'AUTO', 'actual': 'logloss'}, 'stopping_tolerance': {'default': 0.001, 'actual': 0.00397382714153187}, 'max_runtime_secs': {'default': 0.0, 'actual': 0.0}, 'seed': {'default': -1, 'actual': 1657080955775340877}, 'build_tree_one_node': {'default': False, 'actual': False}, 'learn_rate': {'default': 0.1, 'actual': 0.01}, 'learn_rate_annealing': {'default': 1.0, 'actual': 1.0}, 'distribution': {'default': 'AUTO', 'actual': 'bernoulli'}, 'quantile_alpha': {'default': 0.5, 'actual': 0.5}, 'tweedie_power': {'default': 1.5, 'actual': 1.5}, 'huber_alpha': {'default': 0.9, 'actual': 0.9}, 'checkpoint': {'default': None, 'actual': None}, 'sample_rate': {'default': 1.0, 'actual': 0.6}, 'sample_rate_per_class': {'default': None, 'actual': None}, 'col_sample_rate': {'default': 1.0, 'actual': 0.7}, 'col_sample_rate_change_per_level': {'default': 1.0, 'actual': 1.0}, 'col_sample_rate_per_tree': {'default': 1.0, 'actual': 0.4}, 'min_split_improvement': {'default': 1e-05, 'actual': 0.0001}, 'histogram_type': {'default': 'AUTO', 'actual': 'AUTO'}, 'max_abs_leafnode_pred': {'default': 1.7976931348623157e+308, 'actual': 1.7976931348623157e+308}, 'pred_noise_bandwidth': {'default': 0.0, 'actual': 0.0}, 'categorical_encoding': {'default': 'AUTO', 'actual': 'AUTO'}, 'calibrate_model': {'default': False, 'actual': False}, 'calibration_frame': {'default': None, 'actual': None}, 'custom_metric_func': {'default': None, 'actual': None}, 'export_checkpoints_dir': {'default': None, 'actual': None}, 'monotone_constraints': {'default': None, 'actual': None}, 'check_constant_response': {'default': True, 'actual': True}}, {'model_id': {'default': None, 'actual': {'__meta': {'schema_version': 3, 'schema_name': 'ModelKeyV3', 'schema_type': 'Key<Model>'}, 'name': 'StackedEnsemble_BestOfFamily_AutoML_20190422_173752', 'type': 'Key<Model>', 'URL': '/3/Models/StackedEnsemble_BestOfFamily_AutoML_20190422_173752'}}, 'training_frame': {'default': None, 'actual': {'__meta': {'schema_version': 3, 'schema_name': 'FrameKeyV3', 'schema_type': 'Key<Frame>'}, 'name': 'automl_training_train_1500.hex', 'type': 'Key<Frame>', 'URL': '/3/Frames/automl_training_train_1500.hex'}}, 'response_column': {'default': None, 'actual': {'__meta': {'schema_version': 3, 'schema_name': 'ColSpecifierV3', 'schema_type': 'VecSpecifier'}, 'column_name': 'Claim', 'is_member_of_frames': None}}, 'validation_frame': {'default': None, 'actual': None}, 'blending_frame': {'default': None, 'actual': None}, 'base_models': {'default': [], 'actual': [{'__meta': {'schema_version': 3, 'schema_name': 'ModelKeyV3', 'schema_type': 'Key<Model>'}, 'name': 'GBM_grid_1_AutoML_20190422_173752_model_1', 'type': 'Key<Model>', 'URL': '/3/Models/GBM_grid_1_AutoML_20190422_173752_model_1'}, {'__meta': {'schema_version': 3, 'schema_name': 'ModelKeyV3', 'schema_type': 'Key<Model>'}, 'name': 'DeepLearning_grid_1_AutoML_20190422_173752_model_6', 'type': 'Key<Model>', 'URL': '/3/Models/DeepLearning_grid_1_AutoML_20190422_173752_model_6'}, {'__meta': {'schema_version': 3, 'schema_name': 'ModelKeyV3', 'schema_type': 'Key<Model>'}, 'name': 'GLM_grid_1_AutoML_20190422_173752_model_1', 'type': 'Key<Model>', 'URL': '/3/Models/GLM_grid_1_AutoML_20190422_173752_model_1'}, {'__meta': {'schema_version': 3, 'schema_name': 'ModelKeyV3', 'schema_type': 'Key<Model>'}, 'name': 'DRF_1_AutoML_20190422_173752', 'type': 'Key<Model>', 'URL': '/3/Models/DRF_1_AutoML_20190422_173752'}, {'__meta': {'schema_version': 3, 'schema_name': 'ModelKeyV3', 'schema_type': 'Key<Model>'}, 'name': 'XRT_1_AutoML_20190422_173752', 'type': 'Key<Model>', 'URL': '/3/Models/XRT_1_AutoML_20190422_173752'}]}, 'metalearner_algorithm': {'default': 'AUTO', 'actual': 'AUTO'}, 'metalearner_nfolds': {'default': 0, 'actual': 5}, 'metalearner_fold_assignment': {'default': None, 'actual': None}, 'metalearner_fold_column': {'default': None, 'actual': None}, 'metalearner_params': {'default': '', 'actual': ''}, 'seed': {'default': -1, 'actual': 5235276583578312615}, 'keep_levelone_frame': {'default': False, 'actual': True}, 'export_checkpoints_dir': {'default': None, 'actual': None}}, {'model_id': {'default': None, 'actual': {'__meta': {'schema_version': 3, 'schema_name': 'ModelKeyV3', 'schema_type': 'Key<Model>'}, 'name': 'GBM_grid_1_AutoML_20190422_173752_model_16', 'type': 'Key<Model>', 'URL': '/3/Models/GBM_grid_1_AutoML_20190422_173752_model_16'}}, 'training_frame': {'default': None, 'actual': {'__meta': {'schema_version': 3, 'schema_name': 'FrameKeyV3', 'schema_type': 'Key<Frame>'}, 'name': 'automl_training_train_1500.hex', 'type': 'Key<Frame>', 'URL': '/3/Frames/automl_training_train_1500.hex'}}, 'validation_frame': {'default': None, 'actual': None}, 'nfolds': {'default': 0, 'actual': 5}, 'keep_cross_validation_models': {'default': True, 'actual': False}, 'keep_cross_validation_predictions': {'default': False, 'actual': True}, 'keep_cross_validation_fold_assignment': {'default': False, 'actual': False}, 'score_each_iteration': {'default': False, 'actual': False}, 'score_tree_interval': {'default': 0, 'actual': 5}, 'fold_assignment': {'default': 'AUTO', 'actual': 'Modulo'}, 'fold_column': {'default': None, 'actual': None}, 'response_column': {'default': None, 'actual': {'__meta': {'schema_version': 3, 'schema_name': 'ColSpecifierV3', 'schema_type': 'VecSpecifier'}, 'column_name': 'Claim', 'is_member_of_frames': None}}, 'ignored_columns': {'default': None, 'actual': []}, 'ignore_const_cols': {'default': True, 'actual': True}, 'offset_column': {'default': None, 'actual': None}, 'weights_column': {'default': None, 'actual': None}, 'balance_classes': {'default': False, 'actual': False}, 'class_sampling_factors': {'default': None, 'actual': None}, 'max_after_balance_size': {'default': 5.0, 'actual': 5.0}, 'max_confusion_matrix_size': {'default': 20, 'actual': 20}, 'max_hit_ratio_k': {'default': 0, 'actual': 0}, 'ntrees': {'default': 50, 'actual': 40}, 'max_depth': {'default': 5, 'actual': 8}, 'min_rows': {'default': 10.0, 'actual': 5.0}, 'nbins': {'default': 20, 'actual': 20}, 'nbins_top_level': {'default': 1024, 'actual': 1024}, 'nbins_cats': {'default': 1024, 'actual': 1024}, 'r2_stopping': {'default': 1.7976931348623157e+308, 'actual': 1.7976931348623157e+308}, 'stopping_rounds': {'default': 0, 'actual': 0}, 'stopping_metric': {'default': 'AUTO', 'actual': 'logloss'}, 'stopping_tolerance': {'default': 0.001, 'actual': 0.00397382714153187}, 'max_runtime_secs': {'default': 0.0, 'actual': 0.0}, 'seed': {'default': -1, 'actual': 5399006146628691095}, 'build_tree_one_node': {'default': False, 'actual': False}, 'learn_rate': {'default': 0.1, 'actual': 0.008}, 'learn_rate_annealing': {'default': 1.0, 'actual': 1.0}, 'distribution': {'default': 'AUTO', 'actual': 'bernoulli'}, 'quantile_alpha': {'default': 0.5, 'actual': 0.5}, 'tweedie_power': {'default': 1.5, 'actual': 1.5}, 'huber_alpha': {'default': 0.9, 'actual': 0.9}, 'checkpoint': {'default': None, 'actual': None}, 'sample_rate': {'default': 1.0, 'actual': 0.5}, 'sample_rate_per_class': {'default': None, 'actual': None}, 'col_sample_rate': {'default': 1.0, 'actual': 1.0}, 'col_sample_rate_change_per_level': {'default': 1.0, 'actual': 1.0}, 'col_sample_rate_per_tree': {'default': 1.0, 'actual': 0.4}, 'min_split_improvement': {'default': 1e-05, 'actual': 1e-05}, 'histogram_type': {'default': 'AUTO', 'actual': 'AUTO'}, 'max_abs_leafnode_pred': {'default': 1.7976931348623157e+308, 'actual': 1.7976931348623157e+308}, 'pred_noise_bandwidth': {'default': 0.0, 'actual': 0.0}, 'categorical_encoding': {'default': 'AUTO', 'actual': 'AUTO'}, 'calibrate_model': {'default': False, 'actual': False}, 'calibration_frame': {'default': None, 'actual': None}, 'custom_metric_func': {'default': None, 'actual': None}, 'export_checkpoints_dir': {'default': None, 'actual': None}, 'monotone_constraints': {'default': None, 'actual': None}, 'check_constant_response': {'default': True, 'actual': True}}, {'model_id': {'default': None, 'actual': {'__meta': {'schema_version': 3, 'schema_name': 'ModelKeyV3', 'schema_type': 'Key<Model>'}, 'name': 'StackedEnsemble_AllModels_AutoML_20190422_173752', 'type': 'Key<Model>', 'URL': '/3/Models/StackedEnsemble_AllModels_AutoML_20190422_173752'}}, 'training_frame': {'default': None, 'actual': {'__meta': {'schema_version': 3, 'schema_name': 'FrameKeyV3', 'schema_type': 'Key<Frame>'}, 'name': 'automl_training_train_1500.hex', 'type': 'Key<Frame>', 'URL': '/3/Frames/automl_training_train_1500.hex'}}, 'response_column': {'default': None, 'actual': {'__meta': {'schema_version': 3, 'schema_name': 'ColSpecifierV3', 'schema_type': 'VecSpecifier'}, 'column_name': 'Claim', 'is_member_of_frames': None}}, 'validation_frame': {'default': None, 'actual': None}, 'blending_frame': {'default': None, 'actual': None}, 'base_models': {'default': [], 'actual': [{'__meta': {'schema_version': 3, 'schema_name': 'ModelKeyV3', 'schema_type': 'Key<Model>'}, 'name': 'GBM_grid_1_AutoML_20190422_173752_model_1', 'type': 'Key<Model>', 'URL': '/3/Models/GBM_grid_1_AutoML_20190422_173752_model_1'}, {'__meta': {'schema_version': 3, 'schema_name': 'ModelKeyV3', 'schema_type': 'Key<Model>'}, 'name': 'GBM_2_AutoML_20190422_173752', 'type': 'Key<Model>', 'URL': '/3/Models/GBM_2_AutoML_20190422_173752'}, {'__meta': {'schema_version': 3, 'schema_name': 'ModelKeyV3', 'schema_type': 'Key<Model>'}, 'name': 'GBM_grid_1_AutoML_20190422_173752_model_12', 'type': 'Key<Model>', 'URL': '/3/Models/GBM_grid_1_AutoML_20190422_173752_model_12'}, {'__meta': {'schema_version': 3, 'schema_name': 'ModelKeyV3', 'schema_type': 'Key<Model>'}, 'name': 'GBM_1_AutoML_20190422_173752', 'type': 'Key<Model>', 'URL': '/3/Models/GBM_1_AutoML_20190422_173752'}, {'__meta': {'schema_version': 3, 'schema_name': 'ModelKeyV3', 'schema_type': 'Key<Model>'}, 'name': 'GBM_grid_1_AutoML_20190422_173752_model_10', 'type': 'Key<Model>', 'URL': '/3/Models/GBM_grid_1_AutoML_20190422_173752_model_10'}, {'__meta': {'schema_version': 3, 'schema_name': 'ModelKeyV3', 'schema_type': 'Key<Model>'}, 'name': 'GBM_grid_1_AutoML_20190422_173752_model_13', 'type': 'Key<Model>', 'URL': '/3/Models/GBM_grid_1_AutoML_20190422_173752_model_13'}, {'__meta': {'schema_version': 3, 'schema_name': 'ModelKeyV3', 'schema_type': 'Key<Model>'}, 'name': 'GBM_grid_1_AutoML_20190422_173752_model_9', 'type': 'Key<Model>', 'URL': '/3/Models/GBM_grid_1_AutoML_20190422_173752_model_9'}, {'__meta': {'schema_version': 3, 'schema_name': 'ModelKeyV3', 'schema_type': 'Key<Model>'}, 'name': 'GBM_grid_1_AutoML_20190422_173752_model_2', 'type': 'Key<Model>', 'URL': '/3/Models/GBM_grid_1_AutoML_20190422_173752_model_2'}, {'__meta': {'schema_version': 3, 'schema_name': 'ModelKeyV3', 'schema_type': 'Key<Model>'}, 'name': 'GBM_3_AutoML_20190422_173752', 'type': 'Key<Model>', 'URL': '/3/Models/GBM_3_AutoML_20190422_173752'}, {'__meta': {'schema_version': 3, 'schema_name': 'ModelKeyV3', 'schema_type': 'Key<Model>'}, 'name': 'GBM_grid_1_AutoML_20190422_173752_model_3', 'type': 'Key<Model>', 'URL': '/3/Models/GBM_grid_1_AutoML_20190422_173752_model_3'}, {'__meta': {'schema_version': 3, 'schema_name': 'ModelKeyV3', 'schema_type': 'Key<Model>'}, 'name': 'GBM_grid_1_AutoML_20190422_173752_model_16', 'type': 'Key<Model>', 'URL': '/3/Models/GBM_grid_1_AutoML_20190422_173752_model_16'}, {'__meta': {'schema_version': 3, 'schema_name': 'ModelKeyV3', 'schema_type': 'Key<Model>'}, 'name': 'GBM_5_AutoML_20190422_173752', 'type': 'Key<Model>', 'URL': '/3/Models/GBM_5_AutoML_20190422_173752'}, {'__meta': {'schema_version': 3, 'schema_name': 'ModelKeyV3', 'schema_type': 'Key<Model>'}, 'name': 'GBM_4_AutoML_20190422_173752', 'type': 'Key<Model>', 'URL': '/3/Models/GBM_4_AutoML_20190422_173752'}, {'__meta': {'schema_version': 3, 'schema_name': 'ModelKeyV3', 'schema_type': 'Key<Model>'}, 'name': 'GBM_grid_1_AutoML_20190422_173752_model_7', 'type': 'Key<Model>', 'URL': '/3/Models/GBM_grid_1_AutoML_20190422_173752_model_7'}, {'__meta': {'schema_version': 3, 'schema_name': 'ModelKeyV3', 'schema_type': 'Key<Model>'}, 'name': 'GBM_grid_1_AutoML_20190422_173752_model_15', 'type': 'Key<Model>', 'URL': '/3/Models/GBM_grid_1_AutoML_20190422_173752_model_15'}, {'__meta': {'schema_version': 3, 'schema_name': 'ModelKeyV3', 'schema_type': 'Key<Model>'}, 'name': 'GBM_grid_1_AutoML_20190422_173752_model_14', 'type': 'Key<Model>', 'URL': '/3/Models/GBM_grid_1_AutoML_20190422_173752_model_14'}, {'__meta': {'schema_version': 3, 'schema_name': 'ModelKeyV3', 'schema_type': 'Key<Model>'}, 'name': 'GBM_grid_1_AutoML_20190422_173752_model_11', 'type': 'Key<Model>', 'URL': '/3/Models/GBM_grid_1_AutoML_20190422_173752_model_11'}, {'__meta': {'schema_version': 3, 'schema_name': 'ModelKeyV3', 'schema_type': 'Key<Model>'}, 'name': 'GBM_grid_1_AutoML_20190422_173752_model_4', 'type': 'Key<Model>', 'URL': '/3/Models/GBM_grid_1_AutoML_20190422_173752_model_4'}, {'__meta': {'schema_version': 3, 'schema_name': 'ModelKeyV3', 'schema_type': 'Key<Model>'}, 'name': 'GBM_grid_1_AutoML_20190422_173752_model_8', 'type': 'Key<Model>', 'URL': '/3/Models/GBM_grid_1_AutoML_20190422_173752_model_8'}, {'__meta': {'schema_version': 3, 'schema_name': 'ModelKeyV3', 'schema_type': 'Key<Model>'}, 'name': 'GBM_grid_1_AutoML_20190422_173752_model_17', 'type': 'Key<Model>', 'URL': '/3/Models/GBM_grid_1_AutoML_20190422_173752_model_17'}, {'__meta': {'schema_version': 3, 'schema_name': 'ModelKeyV3', 'schema_type': 'Key<Model>'}, 'name': 'DeepLearning_grid_1_AutoML_20190422_173752_model_6', 'type': 'Key<Model>', 'URL': '/3/Models/DeepLearning_grid_1_AutoML_20190422_173752_model_6'}, {'__meta': {'schema_version': 3, 'schema_name': 'ModelKeyV3', 'schema_type': 'Key<Model>'}, 'name': 'GLM_grid_1_AutoML_20190422_173752_model_1', 'type': 'Key<Model>', 'URL': '/3/Models/GLM_grid_1_AutoML_20190422_173752_model_1'}, {'__meta': {'schema_version': 3, 'schema_name': 'ModelKeyV3', 'schema_type': 'Key<Model>'}, 'name': 'DRF_1_AutoML_20190422_173752', 'type': 'Key<Model>', 'URL': '/3/Models/DRF_1_AutoML_20190422_173752'}, {'__meta': {'schema_version': 3, 'schema_name': 'ModelKeyV3', 'schema_type': 'Key<Model>'}, 'name': 'XRT_1_AutoML_20190422_173752', 'type': 'Key<Model>', 'URL': '/3/Models/XRT_1_AutoML_20190422_173752'}, {'__meta': {'schema_version': 3, 'schema_name': 'ModelKeyV3', 'schema_type': 'Key<Model>'}, 'name': 'DeepLearning_1_AutoML_20190422_173752', 'type': 'Key<Model>', 'URL': '/3/Models/DeepLearning_1_AutoML_20190422_173752'}, {'__meta': {'schema_version': 3, 'schema_name': 'ModelKeyV3', 'schema_type': 'Key<Model>'}, 'name': 'DeepLearning_grid_1_AutoML_20190422_173752_model_2', 'type': 'Key<Model>', 'URL': '/3/Models/DeepLearning_grid_1_AutoML_20190422_173752_model_2'}, {'__meta': {'schema_version': 3, 'schema_name': 'ModelKeyV3', 'schema_type': 'Key<Model>'}, 'name': 'DeepLearning_grid_1_AutoML_20190422_173752_model_3', 'type': 'Key<Model>', 'URL': '/3/Models/DeepLearning_grid_1_AutoML_20190422_173752_model_3'}, {'__meta': {'schema_version': 3, 'schema_name': 'ModelKeyV3', 'schema_type': 'Key<Model>'}, 'name': 'DeepLearning_grid_1_AutoML_20190422_173752_model_4', 'type': 'Key<Model>', 'URL': '/3/Models/DeepLearning_grid_1_AutoML_20190422_173752_model_4'}, {'__meta': {'schema_version': 3, 'schema_name': 'ModelKeyV3', 'schema_type': 'Key<Model>'}, 'name': 'DeepLearning_grid_1_AutoML_20190422_173752_model_1', 'type': 'Key<Model>', 'URL': '/3/Models/DeepLearning_grid_1_AutoML_20190422_173752_model_1'}, {'__meta': {'schema_version': 3, 'schema_name': 'ModelKeyV3', 'schema_type': 'Key<Model>'}, 'name': 'DeepLearning_grid_1_AutoML_20190422_173752_model_5', 'type': 'Key<Model>', 'URL': '/3/Models/DeepLearning_grid_1_AutoML_20190422_173752_model_5'}, {'__meta': {'schema_version': 3, 'schema_name': 'ModelKeyV3', 'schema_type': 'Key<Model>'}, 'name': 'GBM_grid_1_AutoML_20190422_173752_model_5', 'type': 'Key<Model>', 'URL': '/3/Models/GBM_grid_1_AutoML_20190422_173752_model_5'}, {'__meta': {'schema_version': 3, 'schema_name': 'ModelKeyV3', 'schema_type': 'Key<Model>'}, 'name': 'GBM_grid_1_AutoML_20190422_173752_model_6', 'type': 'Key<Model>', 'URL': '/3/Models/GBM_grid_1_AutoML_20190422_173752_model_6'}]}, 'metalearner_algorithm': {'default': 'AUTO', 'actual': 'AUTO'}, 'metalearner_nfolds': {'default': 0, 'actual': 5}, 'metalearner_fold_assignment': {'default': None, 'actual': None}, 'metalearner_fold_column': {'default': None, 'actual': None}, 'metalearner_params': {'default': '', 'actual': ''}, 'seed': {'default': -1, 'actual': -1763276266659667682}, 'keep_levelone_frame': {'default': False, 'actual': True}, 'export_checkpoints_dir': {'default': None, 'actual': None}}, {'model_id': {'default': None, 'actual': {'__meta': {'schema_version': 3, 'schema_name': 'ModelKeyV3', 'schema_type': 'Key<Model>'}, 'name': 'GBM_5_AutoML_20190422_173752', 'type': 'Key<Model>', 'URL': '/3/Models/GBM_5_AutoML_20190422_173752'}}, 'training_frame': {'default': None, 'actual': {'__meta': {'schema_version': 3, 'schema_name': 'FrameKeyV3', 'schema_type': 'Key<Frame>'}, 'name': 'automl_training_train_1500.hex', 'type': 'Key<Frame>', 'URL': '/3/Frames/automl_training_train_1500.hex'}}, 'validation_frame': {'default': None, 'actual': None}, 'nfolds': {'default': 0, 'actual': 5}, 'keep_cross_validation_models': {'default': True, 'actual': False}, 'keep_cross_validation_predictions': {'default': False, 'actual': True}, 'keep_cross_validation_fold_assignment': {'default': False, 'actual': False}, 'score_each_iteration': {'default': False, 'actual': False}, 'score_tree_interval': {'default': 0, 'actual': 5}, 'fold_assignment': {'default': 'AUTO', 'actual': 'Modulo'}, 'fold_column': {'default': None, 'actual': None}, 'response_column': {'default': None, 'actual': {'__meta': {'schema_version': 3, 'schema_name': 'ColSpecifierV3', 'schema_type': 'VecSpecifier'}, 'column_name': 'Claim', 'is_member_of_frames': None}}, 'ignored_columns': {'default': None, 'actual': []}, 'ignore_const_cols': {'default': True, 'actual': True}, 'offset_column': {'default': None, 'actual': None}, 'weights_column': {'default': None, 'actual': None}, 'balance_classes': {'default': False, 'actual': False}, 'class_sampling_factors': {'default': None, 'actual': None}, 'max_after_balance_size': {'default': 5.0, 'actual': 5.0}, 'max_confusion_matrix_size': {'default': 20, 'actual': 20}, 'max_hit_ratio_k': {'default': 0, 'actual': 0}, 'ntrees': {'default': 50, 'actual': 34}, 'max_depth': {'default': 5, 'actual': 15}, 'min_rows': {'default': 10.0, 'actual': 100.0}, 'nbins': {'default': 20, 'actual': 20}, 'nbins_top_level': {'default': 1024, 'actual': 1024}, 'nbins_cats': {'default': 1024, 'actual': 1024}, 'r2_stopping': {'default': 1.7976931348623157e+308, 'actual': 1.7976931348623157e+308}, 'stopping_rounds': {'default': 0, 'actual': 0}, 'stopping_metric': {'default': 'AUTO', 'actual': 'logloss'}, 'stopping_tolerance': {'default': 0.001, 'actual': 0.00397382714153187}, 'max_runtime_secs': {'default': 0.0, 'actual': 0.0}, 'seed': {'default': -1, 'actual': 7366209167550345169}, 'build_tree_one_node': {'default': False, 'actual': False}, 'learn_rate': {'default': 0.1, 'actual': 0.1}, 'learn_rate_annealing': {'default': 1.0, 'actual': 1.0}, 'distribution': {'default': 'AUTO', 'actual': 'bernoulli'}, 'quantile_alpha': {'default': 0.5, 'actual': 0.5}, 'tweedie_power': {'default': 1.5, 'actual': 1.5}, 'huber_alpha': {'default': 0.9, 'actual': 0.9}, 'checkpoint': {'default': None, 'actual': None}, 'sample_rate': {'default': 1.0, 'actual': 0.8}, 'sample_rate_per_class': {'default': None, 'actual': None}, 'col_sample_rate': {'default': 1.0, 'actual': 0.8}, 'col_sample_rate_change_per_level': {'default': 1.0, 'actual': 1.0}, 'col_sample_rate_per_tree': {'default': 1.0, 'actual': 0.8}, 'min_split_improvement': {'default': 1e-05, 'actual': 1e-05}, 'histogram_type': {'default': 'AUTO', 'actual': 'AUTO'}, 'max_abs_leafnode_pred': {'default': 1.7976931348623157e+308, 'actual': 1.7976931348623157e+308}, 'pred_noise_bandwidth': {'default': 0.0, 'actual': 0.0}, 'categorical_encoding': {'default': 'AUTO', 'actual': 'AUTO'}, 'calibrate_model': {'default': False, 'actual': False}, 'calibration_frame': {'default': None, 'actual': None}, 'custom_metric_func': {'default': None, 'actual': None}, 'export_checkpoints_dir': {'default': None, 'actual': None}, 'monotone_constraints': {'default': None, 'actual': None}, 'check_constant_response': {'default': True, 'actual': True}}, {'model_id': {'default': None, 'actual': {'__meta': {'schema_version': 3, 'schema_name': 'ModelKeyV3', 'schema_type': 'Key<Model>'}, 'name': 'GBM_4_AutoML_20190422_173752', 'type': 'Key<Model>', 'URL': '/3/Models/GBM_4_AutoML_20190422_173752'}}, 'training_frame': {'default': None, 'actual': {'__meta': {'schema_version': 3, 'schema_name': 'FrameKeyV3', 'schema_type': 'Key<Frame>'}, 'name': 'automl_training_train_1500.hex', 'type': 'Key<Frame>', 'URL': '/3/Frames/automl_training_train_1500.hex'}}, 'validation_frame': {'default': None, 'actual': None}, 'nfolds': {'default': 0, 'actual': 5}, 'keep_cross_validation_models': {'default': True, 'actual': False}, 'keep_cross_validation_predictions': {'default': False, 'actual': True}, 'keep_cross_validation_fold_assignment': {'default': False, 'actual': False}, 'score_each_iteration': {'default': False, 'actual': False}, 'score_tree_interval': {'default': 0, 'actual': 5}, 'fold_assignment': {'default': 'AUTO', 'actual': 'Modulo'}, 'fold_column': {'default': None, 'actual': None}, 'response_column': {'default': None, 'actual': {'__meta': {'schema_version': 3, 'schema_name': 'ColSpecifierV3', 'schema_type': 'VecSpecifier'}, 'column_name': 'Claim', 'is_member_of_frames': None}}, 'ignored_columns': {'default': None, 'actual': []}, 'ignore_const_cols': {'default': True, 'actual': True}, 'offset_column': {'default': None, 'actual': None}, 'weights_column': {'default': None, 'actual': None}, 'balance_classes': {'default': False, 'actual': False}, 'class_sampling_factors': {'default': None, 'actual': None}, 'max_after_balance_size': {'default': 5.0, 'actual': 5.0}, 'max_confusion_matrix_size': {'default': 20, 'actual': 20}, 'max_hit_ratio_k': {'default': 0, 'actual': 0}, 'ntrees': {'default': 50, 'actual': 34}, 'max_depth': {'default': 5, 'actual': 15}, 'min_rows': {'default': 10.0, 'actual': 100.0}, 'nbins': {'default': 20, 'actual': 20}, 'nbins_top_level': {'default': 1024, 'actual': 1024}, 'nbins_cats': {'default': 1024, 'actual': 1024}, 'r2_stopping': {'default': 1.7976931348623157e+308, 'actual': 1.7976931348623157e+308}, 'stopping_rounds': {'default': 0, 'actual': 0}, 'stopping_metric': {'default': 'AUTO', 'actual': 'logloss'}, 'stopping_tolerance': {'default': 0.001, 'actual': 0.00397382714153187}, 'max_runtime_secs': {'default': 0.0, 'actual': 0.0}, 'seed': {'default': -1, 'actual': 7366209167550345169}, 'build_tree_one_node': {'default': False, 'actual': False}, 'learn_rate': {'default': 0.1, 'actual': 0.1}, 'learn_rate_annealing': {'default': 1.0, 'actual': 1.0}, 'distribution': {'default': 'AUTO', 'actual': 'bernoulli'}, 'quantile_alpha': {'default': 0.5, 'actual': 0.5}, 'tweedie_power': {'default': 1.5, 'actual': 1.5}, 'huber_alpha': {'default': 0.9, 'actual': 0.9}, 'checkpoint': {'default': None, 'actual': None}, 'sample_rate': {'default': 1.0, 'actual': 0.8}, 'sample_rate_per_class': {'default': None, 'actual': None}, 'col_sample_rate': {'default': 1.0, 'actual': 0.8}, 'col_sample_rate_change_per_level': {'default': 1.0, 'actual': 1.0}, 'col_sample_rate_per_tree': {'default': 1.0, 'actual': 0.8}, 'min_split_improvement': {'default': 1e-05, 'actual': 1e-05}, 'histogram_type': {'default': 'AUTO', 'actual': 'AUTO'}, 'max_abs_leafnode_pred': {'default': 1.7976931348623157e+308, 'actual': 1.7976931348623157e+308}, 'pred_noise_bandwidth': {'default': 0.0, 'actual': 0.0}, 'categorical_encoding': {'default': 'AUTO', 'actual': 'AUTO'}, 'calibrate_model': {'default': False, 'actual': False}, 'calibration_frame': {'default': None, 'actual': None}, 'custom_metric_func': {'default': None, 'actual': None}, 'export_checkpoints_dir': {'default': None, 'actual': None}, 'monotone_constraints': {'default': None, 'actual': None}, 'check_constant_response': {'default': True, 'actual': True}}, {'model_id': {'default': None, 'actual': {'__meta': {'schema_version': 3, 'schema_name': 'ModelKeyV3', 'schema_type': 'Key<Model>'}, 'name': 'GBM_grid_1_AutoML_20190422_173752_model_7', 'type': 'Key<Model>', 'URL': '/3/Models/GBM_grid_1_AutoML_20190422_173752_model_7'}}, 'training_frame': {'default': None, 'actual': {'__meta': {'schema_version': 3, 'schema_name': 'FrameKeyV3', 'schema_type': 'Key<Frame>'}, 'name': 'automl_training_train_1500.hex', 'type': 'Key<Frame>', 'URL': '/3/Frames/automl_training_train_1500.hex'}}, 'validation_frame': {'default': None, 'actual': None}, 'nfolds': {'default': 0, 'actual': 5}, 'keep_cross_validation_models': {'default': True, 'actual': False}, 'keep_cross_validation_predictions': {'default': False, 'actual': True}, 'keep_cross_validation_fold_assignment': {'default': False, 'actual': False}, 'score_each_iteration': {'default': False, 'actual': False}, 'score_tree_interval': {'default': 0, 'actual': 5}, 'fold_assignment': {'default': 'AUTO', 'actual': 'Modulo'}, 'fold_column': {'default': None, 'actual': None}, 'response_column': {'default': None, 'actual': {'__meta': {'schema_version': 3, 'schema_name': 'ColSpecifierV3', 'schema_type': 'VecSpecifier'}, 'column_name': 'Claim', 'is_member_of_frames': None}}, 'ignored_columns': {'default': None, 'actual': []}, 'ignore_const_cols': {'default': True, 'actual': True}, 'offset_column': {'default': None, 'actual': None}, 'weights_column': {'default': None, 'actual': None}, 'balance_classes': {'default': False, 'actual': False}, 'class_sampling_factors': {'default': None, 'actual': None}, 'max_after_balance_size': {'default': 5.0, 'actual': 5.0}, 'max_confusion_matrix_size': {'default': 20, 'actual': 20}, 'max_hit_ratio_k': {'default': 0, 'actual': 0}, 'ntrees': {'default': 50, 'actual': 123}, 'max_depth': {'default': 5, 'actual': 3}, 'min_rows': {'default': 10.0, 'actual': 10.0}, 'nbins': {'default': 20, 'actual': 20}, 'nbins_top_level': {'default': 1024, 'actual': 1024}, 'nbins_cats': {'default': 1024, 'actual': 1024}, 'r2_stopping': {'default': 1.7976931348623157e+308, 'actual': 1.7976931348623157e+308}, 'stopping_rounds': {'default': 0, 'actual': 0}, 'stopping_metric': {'default': 'AUTO', 'actual': 'logloss'}, 'stopping_tolerance': {'default': 0.001, 'actual': 0.00397382714153187}, 'max_runtime_secs': {'default': 0.0, 'actual': 0.0}, 'seed': {'default': -1, 'actual': -9154895082505450683}, 'build_tree_one_node': {'default': False, 'actual': False}, 'learn_rate': {'default': 0.1, 'actual': 0.001}, 'learn_rate_annealing': {'default': 1.0, 'actual': 1.0}, 'distribution': {'default': 'AUTO', 'actual': 'bernoulli'}, 'quantile_alpha': {'default': 0.5, 'actual': 0.5}, 'tweedie_power': {'default': 1.5, 'actual': 1.5}, 'huber_alpha': {'default': 0.9, 'actual': 0.9}, 'checkpoint': {'default': None, 'actual': None}, 'sample_rate': {'default': 1.0, 'actual': 0.8}, 'sample_rate_per_class': {'default': None, 'actual': None}, 'col_sample_rate': {'default': 1.0, 'actual': 1.0}, 'col_sample_rate_change_per_level': {'default': 1.0, 'actual': 1.0}, 'col_sample_rate_per_tree': {'default': 1.0, 'actual': 0.4}, 'min_split_improvement': {'default': 1e-05, 'actual': 0.0001}, 'histogram_type': {'default': 'AUTO', 'actual': 'AUTO'}, 'max_abs_leafnode_pred': {'default': 1.7976931348623157e+308, 'actual': 1.7976931348623157e+308}, 'pred_noise_bandwidth': {'default': 0.0, 'actual': 0.0}, 'categorical_encoding': {'default': 'AUTO', 'actual': 'AUTO'}, 'calibrate_model': {'default': False, 'actual': False}, 'calibration_frame': {'default': None, 'actual': None}, 'custom_metric_func': {'default': None, 'actual': None}, 'export_checkpoints_dir': {'default': None, 'actual': None}, 'monotone_constraints': {'default': None, 'actual': None}, 'check_constant_response': {'default': True, 'actual': True}}, {'model_id': {'default': None, 'actual': {'__meta': {'schema_version': 3, 'schema_name': 'ModelKeyV3', 'schema_type': 'Key<Model>'}, 'name': 'GBM_grid_1_AutoML_20190422_173752_model_15', 'type': 'Key<Model>', 'URL': '/3/Models/GBM_grid_1_AutoML_20190422_173752_model_15'}}, 'training_frame': {'default': None, 'actual': {'__meta': {'schema_version': 3, 'schema_name': 'FrameKeyV3', 'schema_type': 'Key<Frame>'}, 'name': 'automl_training_train_1500.hex', 'type': 'Key<Frame>', 'URL': '/3/Frames/automl_training_train_1500.hex'}}, 'validation_frame': {'default': None, 'actual': None}, 'nfolds': {'default': 0, 'actual': 5}, 'keep_cross_validation_models': {'default': True, 'actual': False}, 'keep_cross_validation_predictions': {'default': False, 'actual': True}, 'keep_cross_validation_fold_assignment': {'default': False, 'actual': False}, 'score_each_iteration': {'default': False, 'actual': False}, 'score_tree_interval': {'default': 0, 'actual': 5}, 'fold_assignment': {'default': 'AUTO', 'actual': 'Modulo'}, 'fold_column': {'default': None, 'actual': None}, 'response_column': {'default': None, 'actual': {'__meta': {'schema_version': 3, 'schema_name': 'ColSpecifierV3', 'schema_type': 'VecSpecifier'}, 'column_name': 'Claim', 'is_member_of_frames': None}}, 'ignored_columns': {'default': None, 'actual': []}, 'ignore_const_cols': {'default': True, 'actual': True}, 'offset_column': {'default': None, 'actual': None}, 'weights_column': {'default': None, 'actual': None}, 'balance_classes': {'default': False, 'actual': False}, 'class_sampling_factors': {'default': None, 'actual': None}, 'max_after_balance_size': {'default': 5.0, 'actual': 5.0}, 'max_confusion_matrix_size': {'default': 20, 'actual': 20}, 'max_hit_ratio_k': {'default': 0, 'actual': 0}, 'ntrees': {'default': 50, 'actual': 82}, 'max_depth': {'default': 5, 'actual': 4}, 'min_rows': {'default': 10.0, 'actual': 1.0}, 'nbins': {'default': 20, 'actual': 20}, 'nbins_top_level': {'default': 1024, 'actual': 1024}, 'nbins_cats': {'default': 1024, 'actual': 1024}, 'r2_stopping': {'default': 1.7976931348623157e+308, 'actual': 1.7976931348623157e+308}, 'stopping_rounds': {'default': 0, 'actual': 0}, 'stopping_metric': {'default': 'AUTO', 'actual': 'logloss'}, 'stopping_tolerance': {'default': 0.001, 'actual': 0.00397382714153187}, 'max_runtime_secs': {'default': 0.0, 'actual': 0.0}, 'seed': {'default': -1, 'actual': 6469946110789754164}, 'build_tree_one_node': {'default': False, 'actual': False}, 'learn_rate': {'default': 0.1, 'actual': 0.001}, 'learn_rate_annealing': {'default': 1.0, 'actual': 1.0}, 'distribution': {'default': 'AUTO', 'actual': 'bernoulli'}, 'quantile_alpha': {'default': 0.5, 'actual': 0.5}, 'tweedie_power': {'default': 1.5, 'actual': 1.5}, 'huber_alpha': {'default': 0.9, 'actual': 0.9}, 'checkpoint': {'default': None, 'actual': None}, 'sample_rate': {'default': 1.0, 'actual': 1.0}, 'sample_rate_per_class': {'default': None, 'actual': None}, 'col_sample_rate': {'default': 1.0, 'actual': 1.0}, 'col_sample_rate_change_per_level': {'default': 1.0, 'actual': 1.0}, 'col_sample_rate_per_tree': {'default': 1.0, 'actual': 0.4}, 'min_split_improvement': {'default': 1e-05, 'actual': 1e-05}, 'histogram_type': {'default': 'AUTO', 'actual': 'AUTO'}, 'max_abs_leafnode_pred': {'default': 1.7976931348623157e+308, 'actual': 1.7976931348623157e+308}, 'pred_noise_bandwidth': {'default': 0.0, 'actual': 0.0}, 'categorical_encoding': {'default': 'AUTO', 'actual': 'AUTO'}, 'calibrate_model': {'default': False, 'actual': False}, 'calibration_frame': {'default': None, 'actual': None}, 'custom_metric_func': {'default': None, 'actual': None}, 'export_checkpoints_dir': {'default': None, 'actual': None}, 'monotone_constraints': {'default': None, 'actual': None}, 'check_constant_response': {'default': True, 'actual': True}}, {'model_id': {'default': None, 'actual': {'__meta': {'schema_version': 3, 'schema_name': 'ModelKeyV3', 'schema_type': 'Key<Model>'}, 'name': 'GBM_grid_1_AutoML_20190422_173752_model_14', 'type': 'Key<Model>', 'URL': '/3/Models/GBM_grid_1_AutoML_20190422_173752_model_14'}}, 'training_frame': {'default': None, 'actual': {'__meta': {'schema_version': 3, 'schema_name': 'FrameKeyV3', 'schema_type': 'Key<Frame>'}, 'name': 'automl_training_train_1500.hex', 'type': 'Key<Frame>', 'URL': '/3/Frames/automl_training_train_1500.hex'}}, 'validation_frame': {'default': None, 'actual': None}, 'nfolds': {'default': 0, 'actual': 5}, 'keep_cross_validation_models': {'default': True, 'actual': False}, 'keep_cross_validation_predictions': {'default': False, 'actual': True}, 'keep_cross_validation_fold_assignment': {'default': False, 'actual': False}, 'score_each_iteration': {'default': False, 'actual': False}, 'score_tree_interval': {'default': 0, 'actual': 5}, 'fold_assignment': {'default': 'AUTO', 'actual': 'Modulo'}, 'fold_column': {'default': None, 'actual': None}, 'response_column': {'default': None, 'actual': {'__meta': {'schema_version': 3, 'schema_name': 'ColSpecifierV3', 'schema_type': 'VecSpecifier'}, 'column_name': 'Claim', 'is_member_of_frames': None}}, 'ignored_columns': {'default': None, 'actual': []}, 'ignore_const_cols': {'default': True, 'actual': True}, 'offset_column': {'default': None, 'actual': None}, 'weights_column': {'default': None, 'actual': None}, 'balance_classes': {'default': False, 'actual': False}, 'class_sampling_factors': {'default': None, 'actual': None}, 'max_after_balance_size': {'default': 5.0, 'actual': 5.0}, 'max_confusion_matrix_size': {'default': 20, 'actual': 20}, 'max_hit_ratio_k': {'default': 0, 'actual': 0}, 'ntrees': {'default': 50, 'actual': 65}, 'max_depth': {'default': 5, 'actual': 5}, 'min_rows': {'default': 10.0, 'actual': 10.0}, 'nbins': {'default': 20, 'actual': 20}, 'nbins_top_level': {'default': 1024, 'actual': 1024}, 'nbins_cats': {'default': 1024, 'actual': 1024}, 'r2_stopping': {'default': 1.7976931348623157e+308, 'actual': 1.7976931348623157e+308}, 'stopping_rounds': {'default': 0, 'actual': 0}, 'stopping_metric': {'default': 'AUTO', 'actual': 'logloss'}, 'stopping_tolerance': {'default': 0.001, 'actual': 0.00397382714153187}, 'max_runtime_secs': {'default': 0.0, 'actual': 0.0}, 'seed': {'default': -1, 'actual': 3502449500039641928}, 'build_tree_one_node': {'default': False, 'actual': False}, 'learn_rate': {'default': 0.1, 'actual': 0.001}, 'learn_rate_annealing': {'default': 1.0, 'actual': 1.0}, 'distribution': {'default': 'AUTO', 'actual': 'bernoulli'}, 'quantile_alpha': {'default': 0.5, 'actual': 0.5}, 'tweedie_power': {'default': 1.5, 'actual': 1.5}, 'huber_alpha': {'default': 0.9, 'actual': 0.9}, 'checkpoint': {'default': None, 'actual': None}, 'sample_rate': {'default': 1.0, 'actual': 0.5}, 'sample_rate_per_class': {'default': None, 'actual': None}, 'col_sample_rate': {'default': 1.0, 'actual': 0.4}, 'col_sample_rate_change_per_level': {'default': 1.0, 'actual': 1.0}, 'col_sample_rate_per_tree': {'default': 1.0, 'actual': 0.4}, 'min_split_improvement': {'default': 1e-05, 'actual': 1e-05}, 'histogram_type': {'default': 'AUTO', 'actual': 'AUTO'}, 'max_abs_leafnode_pred': {'default': 1.7976931348623157e+308, 'actual': 1.7976931348623157e+308}, 'pred_noise_bandwidth': {'default': 0.0, 'actual': 0.0}, 'categorical_encoding': {'default': 'AUTO', 'actual': 'AUTO'}, 'calibrate_model': {'default': False, 'actual': False}, 'calibration_frame': {'default': None, 'actual': None}, 'custom_metric_func': {'default': None, 'actual': None}, 'export_checkpoints_dir': {'default': None, 'actual': None}, 'monotone_constraints': {'default': None, 'actual': None}, 'check_constant_response': {'default': True, 'actual': True}}, {'model_id': {'default': None, 'actual': {'__meta': {'schema_version': 3, 'schema_name': 'ModelKeyV3', 'schema_type': 'Key<Model>'}, 'name': 'GBM_grid_1_AutoML_20190422_173752_model_11', 'type': 'Key<Model>', 'URL': '/3/Models/GBM_grid_1_AutoML_20190422_173752_model_11'}}, 'training_frame': {'default': None, 'actual': {'__meta': {'schema_version': 3, 'schema_name': 'FrameKeyV3', 'schema_type': 'Key<Frame>'}, 'name': 'automl_training_train_1500.hex', 'type': 'Key<Frame>', 'URL': '/3/Frames/automl_training_train_1500.hex'}}, 'validation_frame': {'default': None, 'actual': None}, 'nfolds': {'default': 0, 'actual': 5}, 'keep_cross_validation_models': {'default': True, 'actual': False}, 'keep_cross_validation_predictions': {'default': False, 'actual': True}, 'keep_cross_validation_fold_assignment': {'default': False, 'actual': False}, 'score_each_iteration': {'default': False, 'actual': False}, 'score_tree_interval': {'default': 0, 'actual': 5}, 'fold_assignment': {'default': 'AUTO', 'actual': 'Modulo'}, 'fold_column': {'default': None, 'actual': None}, 'response_column': {'default': None, 'actual': {'__meta': {'schema_version': 3, 'schema_name': 'ColSpecifierV3', 'schema_type': 'VecSpecifier'}, 'column_name': 'Claim', 'is_member_of_frames': None}}, 'ignored_columns': {'default': None, 'actual': []}, 'ignore_const_cols': {'default': True, 'actual': True}, 'offset_column': {'default': None, 'actual': None}, 'weights_column': {'default': None, 'actual': None}, 'balance_classes': {'default': False, 'actual': False}, 'class_sampling_factors': {'default': None, 'actual': None}, 'max_after_balance_size': {'default': 5.0, 'actual': 5.0}, 'max_confusion_matrix_size': {'default': 20, 'actual': 20}, 'max_hit_ratio_k': {'default': 0, 'actual': 0}, 'ntrees': {'default': 50, 'actual': 36}, 'max_depth': {'default': 5, 'actual': 3}, 'min_rows': {'default': 10.0, 'actual': 5.0}, 'nbins': {'default': 20, 'actual': 20}, 'nbins_top_level': {'default': 1024, 'actual': 1024}, 'nbins_cats': {'default': 1024, 'actual': 1024}, 'r2_stopping': {'default': 1.7976931348623157e+308, 'actual': 1.7976931348623157e+308}, 'stopping_rounds': {'default': 0, 'actual': 0}, 'stopping_metric': {'default': 'AUTO', 'actual': 'logloss'}, 'stopping_tolerance': {'default': 0.001, 'actual': 0.00397382714153187}, 'max_runtime_secs': {'default': 0.0, 'actual': 0.0}, 'seed': {'default': -1, 'actual': -7292680025638366398}, 'build_tree_one_node': {'default': False, 'actual': False}, 'learn_rate': {'default': 0.1, 'actual': 0.8}, 'learn_rate_annealing': {'default': 1.0, 'actual': 1.0}, 'distribution': {'default': 'AUTO', 'actual': 'bernoulli'}, 'quantile_alpha': {'default': 0.5, 'actual': 0.5}, 'tweedie_power': {'default': 1.5, 'actual': 1.5}, 'huber_alpha': {'default': 0.9, 'actual': 0.9}, 'checkpoint': {'default': None, 'actual': None}, 'sample_rate': {'default': 1.0, 'actual': 1.0}, 'sample_rate_per_class': {'default': None, 'actual': None}, 'col_sample_rate': {'default': 1.0, 'actual': 0.4}, 'col_sample_rate_change_per_level': {'default': 1.0, 'actual': 1.0}, 'col_sample_rate_per_tree': {'default': 1.0, 'actual': 0.7}, 'min_split_improvement': {'default': 1e-05, 'actual': 1e-05}, 'histogram_type': {'default': 'AUTO', 'actual': 'AUTO'}, 'max_abs_leafnode_pred': {'default': 1.7976931348623157e+308, 'actual': 1.7976931348623157e+308}, 'pred_noise_bandwidth': {'default': 0.0, 'actual': 0.0}, 'categorical_encoding': {'default': 'AUTO', 'actual': 'AUTO'}, 'calibrate_model': {'default': False, 'actual': False}, 'calibration_frame': {'default': None, 'actual': None}, 'custom_metric_func': {'default': None, 'actual': None}, 'export_checkpoints_dir': {'default': None, 'actual': None}, 'monotone_constraints': {'default': None, 'actual': None}, 'check_constant_response': {'default': True, 'actual': True}}, {'model_id': {'default': None, 'actual': {'__meta': {'schema_version': 3, 'schema_name': 'ModelKeyV3', 'schema_type': 'Key<Model>'}, 'name': 'GBM_grid_1_AutoML_20190422_173752_model_4', 'type': 'Key<Model>', 'URL': '/3/Models/GBM_grid_1_AutoML_20190422_173752_model_4'}}, 'training_frame': {'default': None, 'actual': {'__meta': {'schema_version': 3, 'schema_name': 'FrameKeyV3', 'schema_type': 'Key<Frame>'}, 'name': 'automl_training_train_1500.hex', 'type': 'Key<Frame>', 'URL': '/3/Frames/automl_training_train_1500.hex'}}, 'validation_frame': {'default': None, 'actual': None}, 'nfolds': {'default': 0, 'actual': 5}, 'keep_cross_validation_models': {'default': True, 'actual': False}, 'keep_cross_validation_predictions': {'default': False, 'actual': True}, 'keep_cross_validation_fold_assignment': {'default': False, 'actual': False}, 'score_each_iteration': {'default': False, 'actual': False}, 'score_tree_interval': {'default': 0, 'actual': 5}, 'fold_assignment': {'default': 'AUTO', 'actual': 'Modulo'}, 'fold_column': {'default': None, 'actual': None}, 'response_column': {'default': None, 'actual': {'__meta': {'schema_version': 3, 'schema_name': 'ColSpecifierV3', 'schema_type': 'VecSpecifier'}, 'column_name': 'Claim', 'is_member_of_frames': None}}, 'ignored_columns': {'default': None, 'actual': []}, 'ignore_const_cols': {'default': True, 'actual': True}, 'offset_column': {'default': None, 'actual': None}, 'weights_column': {'default': None, 'actual': None}, 'balance_classes': {'default': False, 'actual': False}, 'class_sampling_factors': {'default': None, 'actual': None}, 'max_after_balance_size': {'default': 5.0, 'actual': 5.0}, 'max_confusion_matrix_size': {'default': 20, 'actual': 20}, 'max_hit_ratio_k': {'default': 0, 'actual': 0}, 'ntrees': {'default': 50, 'actual': 33}, 'max_depth': {'default': 5, 'actual': 16}, 'min_rows': {'default': 10.0, 'actual': 15.0}, 'nbins': {'default': 20, 'actual': 20}, 'nbins_top_level': {'default': 1024, 'actual': 1024}, 'nbins_cats': {'default': 1024, 'actual': 1024}, 'r2_stopping': {'default': 1.7976931348623157e+308, 'actual': 1.7976931348623157e+308}, 'stopping_rounds': {'default': 0, 'actual': 0}, 'stopping_metric': {'default': 'AUTO', 'actual': 'logloss'}, 'stopping_tolerance': {'default': 0.001, 'actual': 0.00397382714153187}, 'max_runtime_secs': {'default': 0.0, 'actual': 0.0}, 'seed': {'default': -1, 'actual': 6077014365831610536}, 'build_tree_one_node': {'default': False, 'actual': False}, 'learn_rate': {'default': 0.1, 'actual': 0.08}, 'learn_rate_annealing': {'default': 1.0, 'actual': 1.0}, 'distribution': {'default': 'AUTO', 'actual': 'bernoulli'}, 'quantile_alpha': {'default': 0.5, 'actual': 0.5}, 'tweedie_power': {'default': 1.5, 'actual': 1.5}, 'huber_alpha': {'default': 0.9, 'actual': 0.9}, 'checkpoint': {'default': None, 'actual': None}, 'sample_rate': {'default': 1.0, 'actual': 1.0}, 'sample_rate_per_class': {'default': None, 'actual': None}, 'col_sample_rate': {'default': 1.0, 'actual': 0.7}, 'col_sample_rate_change_per_level': {'default': 1.0, 'actual': 1.0}, 'col_sample_rate_per_tree': {'default': 1.0, 'actual': 0.7}, 'min_split_improvement': {'default': 1e-05, 'actual': 0.0001}, 'histogram_type': {'default': 'AUTO', 'actual': 'AUTO'}, 'max_abs_leafnode_pred': {'default': 1.7976931348623157e+308, 'actual': 1.7976931348623157e+308}, 'pred_noise_bandwidth': {'default': 0.0, 'actual': 0.0}, 'categorical_encoding': {'default': 'AUTO', 'actual': 'AUTO'}, 'calibrate_model': {'default': False, 'actual': False}, 'calibration_frame': {'default': None, 'actual': None}, 'custom_metric_func': {'default': None, 'actual': None}, 'export_checkpoints_dir': {'default': None, 'actual': None}, 'monotone_constraints': {'default': None, 'actual': None}, 'check_constant_response': {'default': True, 'actual': True}}, {'model_id': {'default': None, 'actual': {'__meta': {'schema_version': 3, 'schema_name': 'ModelKeyV3', 'schema_type': 'Key<Model>'}, 'name': 'GBM_grid_1_AutoML_20190422_173752_model_8', 'type': 'Key<Model>', 'URL': '/3/Models/GBM_grid_1_AutoML_20190422_173752_model_8'}}, 'training_frame': {'default': None, 'actual': {'__meta': {'schema_version': 3, 'schema_name': 'FrameKeyV3', 'schema_type': 'Key<Frame>'}, 'name': 'automl_training_train_1500.hex', 'type': 'Key<Frame>', 'URL': '/3/Frames/automl_training_train_1500.hex'}}, 'validation_frame': {'default': None, 'actual': None}, 'nfolds': {'default': 0, 'actual': 5}, 'keep_cross_validation_models': {'default': True, 'actual': False}, 'keep_cross_validation_predictions': {'default': False, 'actual': True}, 'keep_cross_validation_fold_assignment': {'default': False, 'actual': False}, 'score_each_iteration': {'default': False, 'actual': False}, 'score_tree_interval': {'default': 0, 'actual': 5}, 'fold_assignment': {'default': 'AUTO', 'actual': 'Modulo'}, 'fold_column': {'default': None, 'actual': None}, 'response_column': {'default': None, 'actual': {'__meta': {'schema_version': 3, 'schema_name': 'ColSpecifierV3', 'schema_type': 'VecSpecifier'}, 'column_name': 'Claim', 'is_member_of_frames': None}}, 'ignored_columns': {'default': None, 'actual': []}, 'ignore_const_cols': {'default': True, 'actual': True}, 'offset_column': {'default': None, 'actual': None}, 'weights_column': {'default': None, 'actual': None}, 'balance_classes': {'default': False, 'actual': False}, 'class_sampling_factors': {'default': None, 'actual': None}, 'max_after_balance_size': {'default': 5.0, 'actual': 5.0}, 'max_confusion_matrix_size': {'default': 20, 'actual': 20}, 'max_hit_ratio_k': {'default': 0, 'actual': 0}, 'ntrees': {'default': 50, 'actual': 34}, 'max_depth': {'default': 5, 'actual': 13}, 'min_rows': {'default': 10.0, 'actual': 10.0}, 'nbins': {'default': 20, 'actual': 20}, 'nbins_top_level': {'default': 1024, 'actual': 1024}, 'nbins_cats': {'default': 1024, 'actual': 1024}, 'r2_stopping': {'default': 1.7976931348623157e+308, 'actual': 1.7976931348623157e+308}, 'stopping_rounds': {'default': 0, 'actual': 0}, 'stopping_metric': {'default': 'AUTO', 'actual': 'logloss'}, 'stopping_tolerance': {'default': 0.001, 'actual': 0.00397382714153187}, 'max_runtime_secs': {'default': 0.0, 'actual': 0.0}, 'seed': {'default': -1, 'actual': 1593678112495892298}, 'build_tree_one_node': {'default': False, 'actual': False}, 'learn_rate': {'default': 0.1, 'actual': 0.1}, 'learn_rate_annealing': {'default': 1.0, 'actual': 1.0}, 'distribution': {'default': 'AUTO', 'actual': 'bernoulli'}, 'quantile_alpha': {'default': 0.5, 'actual': 0.5}, 'tweedie_power': {'default': 1.5, 'actual': 1.5}, 'huber_alpha': {'default': 0.9, 'actual': 0.9}, 'checkpoint': {'default': None, 'actual': None}, 'sample_rate': {'default': 1.0, 'actual': 0.5}, 'sample_rate_per_class': {'default': None, 'actual': None}, 'col_sample_rate': {'default': 1.0, 'actual': 0.7}, 'col_sample_rate_change_per_level': {'default': 1.0, 'actual': 1.0}, 'col_sample_rate_per_tree': {'default': 1.0, 'actual': 0.4}, 'min_split_improvement': {'default': 1e-05, 'actual': 1e-05}, 'histogram_type': {'default': 'AUTO', 'actual': 'AUTO'}, 'max_abs_leafnode_pred': {'default': 1.7976931348623157e+308, 'actual': 1.7976931348623157e+308}, 'pred_noise_bandwidth': {'default': 0.0, 'actual': 0.0}, 'categorical_encoding': {'default': 'AUTO', 'actual': 'AUTO'}, 'calibrate_model': {'default': False, 'actual': False}, 'calibration_frame': {'default': None, 'actual': None}, 'custom_metric_func': {'default': None, 'actual': None}, 'export_checkpoints_dir': {'default': None, 'actual': None}, 'monotone_constraints': {'default': None, 'actual': None}, 'check_constant_response': {'default': True, 'actual': True}}, {'model_id': {'default': None, 'actual': {'__meta': {'schema_version': 3, 'schema_name': 'ModelKeyV3', 'schema_type': 'Key<Model>'}, 'name': 'GBM_grid_1_AutoML_20190422_173752_model_17', 'type': 'Key<Model>', 'URL': '/3/Models/GBM_grid_1_AutoML_20190422_173752_model_17'}}, 'training_frame': {'default': None, 'actual': {'__meta': {'schema_version': 3, 'schema_name': 'FrameKeyV3', 'schema_type': 'Key<Frame>'}, 'name': 'automl_training_train_1500.hex', 'type': 'Key<Frame>', 'URL': '/3/Frames/automl_training_train_1500.hex'}}, 'validation_frame': {'default': None, 'actual': None}, 'nfolds': {'default': 0, 'actual': 5}, 'keep_cross_validation_models': {'default': True, 'actual': False}, 'keep_cross_validation_predictions': {'default': False, 'actual': True}, 'keep_cross_validation_fold_assignment': {'default': False, 'actual': False}, 'score_each_iteration': {'default': False, 'actual': False}, 'score_tree_interval': {'default': 0, 'actual': 5}, 'fold_assignment': {'default': 'AUTO', 'actual': 'Modulo'}, 'fold_column': {'default': None, 'actual': None}, 'response_column': {'default': None, 'actual': {'__meta': {'schema_version': 3, 'schema_name': 'ColSpecifierV3', 'schema_type': 'VecSpecifier'}, 'column_name': 'Claim', 'is_member_of_frames': None}}, 'ignored_columns': {'default': None, 'actual': []}, 'ignore_const_cols': {'default': True, 'actual': True}, 'offset_column': {'default': None, 'actual': None}, 'weights_column': {'default': None, 'actual': None}, 'balance_classes': {'default': False, 'actual': False}, 'class_sampling_factors': {'default': None, 'actual': None}, 'max_after_balance_size': {'default': 5.0, 'actual': 5.0}, 'max_confusion_matrix_size': {'default': 20, 'actual': 20}, 'max_hit_ratio_k': {'default': 0, 'actual': 0}, 'ntrees': {'default': 50, 'actual': 5}, 'max_depth': {'default': 5, 'actual': 10}, 'min_rows': {'default': 10.0, 'actual': 30.0}, 'nbins': {'default': 20, 'actual': 20}, 'nbins_top_level': {'default': 1024, 'actual': 1024}, 'nbins_cats': {'default': 1024, 'actual': 1024}, 'r2_stopping': {'default': 1.7976931348623157e+308, 'actual': 1.7976931348623157e+308}, 'stopping_rounds': {'default': 0, 'actual': 0}, 'stopping_metric': {'default': 'AUTO', 'actual': 'logloss'}, 'stopping_tolerance': {'default': 0.001, 'actual': 0.00397382714153187}, 'max_runtime_secs': {'default': 0.0, 'actual': 0.0}, 'seed': {'default': -1, 'actual': 856753864224833422}, 'build_tree_one_node': {'default': False, 'actual': False}, 'learn_rate': {'default': 0.1, 'actual': 0.05}, 'learn_rate_annealing': {'default': 1.0, 'actual': 1.0}, 'distribution': {'default': 'AUTO', 'actual': 'bernoulli'}, 'quantile_alpha': {'default': 0.5, 'actual': 0.5}, 'tweedie_power': {'default': 1.5, 'actual': 1.5}, 'huber_alpha': {'default': 0.9, 'actual': 0.9}, 'checkpoint': {'default': None, 'actual': None}, 'sample_rate': {'default': 1.0, 'actual': 0.5}, 'sample_rate_per_class': {'default': None, 'actual': None}, 'col_sample_rate': {'default': 1.0, 'actual': 0.7}, 'col_sample_rate_change_per_level': {'default': 1.0, 'actual': 1.0}, 'col_sample_rate_per_tree': {'default': 1.0, 'actual': 0.4}, 'min_split_improvement': {'default': 1e-05, 'actual': 1e-05}, 'histogram_type': {'default': 'AUTO', 'actual': 'AUTO'}, 'max_abs_leafnode_pred': {'default': 1.7976931348623157e+308, 'actual': 1.7976931348623157e+308}, 'pred_noise_bandwidth': {'default': 0.0, 'actual': 0.0}, 'categorical_encoding': {'default': 'AUTO', 'actual': 'AUTO'}, 'calibrate_model': {'default': False, 'actual': False}, 'calibration_frame': {'default': None, 'actual': None}, 'custom_metric_func': {'default': None, 'actual': None}, 'export_checkpoints_dir': {'default': None, 'actual': None}, 'monotone_constraints': {'default': None, 'actual': None}, 'check_constant_response': {'default': True, 'actual': True}}, {'model_id': {'default': None, 'actual': {'__meta': {'schema_version': 3, 'schema_name': 'ModelKeyV3', 'schema_type': 'Key<Model>'}, 'name': 'DeepLearning_grid_1_AutoML_20190422_173752_model_6', 'type': 'Key<Model>', 'URL': '/3/Models/DeepLearning_grid_1_AutoML_20190422_173752_model_6'}}, 'training_frame': {'default': None, 'actual': {'__meta': {'schema_version': 3, 'schema_name': 'FrameKeyV3', 'schema_type': 'Key<Frame>'}, 'name': 'automl_training_train_1500.hex', 'type': 'Key<Frame>', 'URL': '/3/Frames/automl_training_train_1500.hex'}}, 'validation_frame': {'default': None, 'actual': None}, 'nfolds': {'default': 0, 'actual': 5}, 'keep_cross_validation_models': {'default': True, 'actual': False}, 'keep_cross_validation_predictions': {'default': False, 'actual': True}, 'keep_cross_validation_fold_assignment': {'default': False, 'actual': False}, 'fold_assignment': {'default': 'AUTO', 'actual': 'Modulo'}, 'fold_column': {'default': None, 'actual': None}, 'response_column': {'default': None, 'actual': {'__meta': {'schema_version': 3, 'schema_name': 'ColSpecifierV3', 'schema_type': 'VecSpecifier'}, 'column_name': 'Claim', 'is_member_of_frames': None}}, 'ignored_columns': {'default': None, 'actual': []}, 'ignore_const_cols': {'default': True, 'actual': True}, 'score_each_iteration': {'default': False, 'actual': False}, 'weights_column': {'default': None, 'actual': None}, 'offset_column': {'default': None, 'actual': None}, 'balance_classes': {'default': False, 'actual': False}, 'class_sampling_factors': {'default': None, 'actual': None}, 'max_after_balance_size': {'default': 5.0, 'actual': 5.0}, 'max_confusion_matrix_size': {'default': 20, 'actual': 20}, 'max_hit_ratio_k': {'default': 0, 'actual': 0}, 'checkpoint': {'default': None, 'actual': None}, 'pretrained_autoencoder': {'default': None, 'actual': None}, 'overwrite_with_best_model': {'default': True, 'actual': False}, 'use_all_factor_levels': {'default': True, 'actual': True}, 'standardize': {'default': True, 'actual': True}, 'activation': {'default': 'Rectifier', 'actual': 'RectifierWithDropout'}, 'hidden': {'default': [200, 200], 'actual': [50, 50, 50]}, 'epochs': {'default': 10.0, 'actual': 1.5790828461322057}, 'train_samples_per_iteration': {'default': -2, 'actual': -2}, 'target_ratio_comm_to_comp': {'default': 0.05, 'actual': 0.05}, 'seed': {'default': -1, 'actual': -106762469237734665}, 'adaptive_rate': {'default': True, 'actual': True}, 'rho': {'default': 0.99, 'actual': 0.99}, 'epsilon': {'default': 1e-08, 'actual': 1e-06}, 'rate': {'default': 0.005, 'actual': 0.005}, 'rate_annealing': {'default': 1e-06, 'actual': 1e-06}, 'rate_decay': {'default': 1.0, 'actual': 1.0}, 'momentum_start': {'default': 0.0, 'actual': 0.0}, 'momentum_ramp': {'default': 1000000.0, 'actual': 1000000.0}, 'momentum_stable': {'default': 0.0, 'actual': 0.0}, 'nesterov_accelerated_gradient': {'default': True, 'actual': True}, 'input_dropout_ratio': {'default': 0.0, 'actual': 0.0}, 'hidden_dropout_ratios': {'default': None, 'actual': [0.5, 0.5, 0.5]}, 'l1': {'default': 0.0, 'actual': 0.0}, 'l2': {'default': 0.0, 'actual': 0.0}, 'max_w2': {'default': 3.4028235e+38, 'actual': 3.4028235e+38}, 'initial_weight_distribution': {'default': 'UniformAdaptive', 'actual': 'UniformAdaptive'}, 'initial_weight_scale': {'default': 1.0, 'actual': 1.0}, 'initial_weights': {'default': None, 'actual': None}, 'initial_biases': {'default': None, 'actual': None}, 'loss': {'default': 'Automatic', 'actual': 'Automatic'}, 'distribution': {'default': 'AUTO', 'actual': 'AUTO'}, 'quantile_alpha': {'default': 0.5, 'actual': 0.5}, 'tweedie_power': {'default': 1.5, 'actual': 1.5}, 'huber_alpha': {'default': 0.9, 'actual': 0.9}, 'score_interval': {'default': 5.0, 'actual': 5.0}, 'score_training_samples': {'default': 10000, 'actual': 10000}, 'score_validation_samples': {'default': 0, 'actual': 0}, 'score_duty_cycle': {'default': 0.1, 'actual': 0.1}, 'classification_stop': {'default': 0.0, 'actual': 0.0}, 'regression_stop': {'default': 1e-06, 'actual': 1e-06}, 'stopping_rounds': {'default': 5, 'actual': 0}, 'stopping_metric': {'default': 'AUTO', 'actual': 'logloss'}, 'stopping_tolerance': {'default': 0.0, 'actual': 0.00397382714153187}, 'max_runtime_secs': {'default': 0.0, 'actual': 0.0}, 'score_validation_sampling': {'default': 'Uniform', 'actual': 'Uniform'}, 'diagnostics': {'default': True, 'actual': True}, 'fast_mode': {'default': True, 'actual': True}, 'force_load_balance': {'default': True, 'actual': True}, 'variable_importances': {'default': True, 'actual': True}, 'replicate_training_data': {'default': True, 'actual': True}, 'single_node_mode': {'default': False, 'actual': False}, 'shuffle_training_data': {'default': False, 'actual': False}, 'missing_values_handling': {'default': 'MeanImputation', 'actual': 'MeanImputation'}, 'quiet_mode': {'default': False, 'actual': False}, 'autoencoder': {'default': False, 'actual': False}, 'sparse': {'default': False, 'actual': False}, 'col_major': {'default': False, 'actual': False}, 'average_activation': {'default': 0.0, 'actual': 0.0}, 'sparsity_beta': {'default': 0.0, 'actual': 0.0}, 'max_categorical_features': {'default': 2147483647, 'actual': 2147483647}, 'reproducible': {'default': False, 'actual': False}, 'export_weights_and_biases': {'default': False, 'actual': False}, 'mini_batch_size': {'default': 1, 'actual': 1}, 'categorical_encoding': {'default': 'AUTO', 'actual': 'AUTO'}, 'elastic_averaging': {'default': False, 'actual': False}, 'elastic_averaging_moving_rate': {'default': 0.9, 'actual': 0.9}, 'elastic_averaging_regularization': {'default': 0.001, 'actual': 0.001}, 'export_checkpoints_dir': {'default': None, 'actual': None}}, {'model_id': {'default': None, 'actual': {'__meta': {'schema_version': 3, 'schema_name': 'ModelKeyV3', 'schema_type': 'Key<Model>'}, 'name': 'GLM_grid_1_AutoML_20190422_173752_model_1', 'type': 'Key<Model>', 'URL': '/3/Models/GLM_grid_1_AutoML_20190422_173752_model_1'}}, 'training_frame': {'default': None, 'actual': {'__meta': {'schema_version': 3, 'schema_name': 'FrameKeyV3', 'schema_type': 'Key<Frame>'}, 'name': 'automl_training_train_1500.hex', 'type': 'Key<Frame>', 'URL': '/3/Frames/automl_training_train_1500.hex'}}, 'validation_frame': {'default': None, 'actual': None}, 'nfolds': {'default': 0, 'actual': 5}, 'seed': {'default': -1, 'actual': 252856177740634492}, 'keep_cross_validation_models': {'default': True, 'actual': False}, 'keep_cross_validation_predictions': {'default': False, 'actual': True}, 'keep_cross_validation_fold_assignment': {'default': False, 'actual': False}, 'fold_assignment': {'default': 'AUTO', 'actual': 'Modulo'}, 'fold_column': {'default': None, 'actual': None}, 'response_column': {'default': None, 'actual': {'__meta': {'schema_version': 3, 'schema_name': 'ColSpecifierV3', 'schema_type': 'VecSpecifier'}, 'column_name': 'Claim', 'is_member_of_frames': None}}, 'ignored_columns': {'default': None, 'actual': []}, 'ignore_const_cols': {'default': True, 'actual': True}, 'score_each_iteration': {'default': False, 'actual': False}, 'offset_column': {'default': None, 'actual': None}, 'weights_column': {'default': None, 'actual': None}, 'family': {'default': 'gaussian', 'actual': 'binomial'}, 'tweedie_variance_power': {'default': 0.0, 'actual': 0.0}, 'tweedie_link_power': {'default': 1.0, 'actual': 1.0}, 'theta': {'default': 1e-10, 'actual': 1e-10}, 'solver': {'default': 'AUTO', 'actual': 'COORDINATE_DESCENT'}, 'alpha': {'default': None, 'actual': [0.0, 0.2, 0.4, 0.6, 0.8, 1.0]}, 'lambda': {'default': None, 'actual': [1.6085069897114428, 0.9989100917618017, 0.6203400904105332, 0.3852417058794841, 0.2392416260743656, 0.148573102997867, 0.09226641407107536, 0.05729900630571976, 0.03558365366940339, 0.022098051783101334, 0.01372326454010296, 0.008522379777463647, 0.005292542227038961, 0.0032867583886676903, 0.0020411326432668454, 0.001267577952116616, 0.0007871873834326291, 0.0004888567015549515, 0.0003035882938228517, 0.00018853347382394422, 0.00011708248135833861, 7.271020452223121e-05, 4.515426885670601e-05, 2.8041565958740943e-05]}, 'lambda_search': {'default': False, 'actual': True}, 'early_stopping': {'default': True, 'actual': True}, 'nlambdas': {'default': -1, 'actual': 30}, 'standardize': {'default': True, 'actual': True}, 'missing_values_handling': {'default': 'MeanImputation', 'actual': 'MeanImputation'}, 'compute_p_values': {'default': False, 'actual': False}, 'remove_collinear_columns': {'default': False, 'actual': False}, 'intercept': {'default': True, 'actual': True}, 'non_negative': {'default': False, 'actual': False}, 'max_iterations': {'default': -1, 'actual': 300}, 'objective_epsilon': {'default': -1.0, 'actual': 0.0001}, 'beta_epsilon': {'default': 0.0001, 'actual': 0.0001}, 'gradient_epsilon': {'default': -1.0, 'actual': 1.0000000000000002e-06}, 'link': {'default': 'family_default', 'actual': 'logit'}, 'prior': {'default': -1.0, 'actual': -1.0}, 'lambda_min_ratio': {'default': -1.0, 'actual': 1.0000000000000002e-06}, 'beta_constraints': {'default': None, 'actual': None}, 'max_active_predictors': {'default': -1, 'actual': 5000}, 'interactions': {'default': None, 'actual': None}, 'interaction_pairs': {'default': None, 'actual': None}, 'obj_reg': {'default': -1.0, 'actual': 1.5791302150775352e-05}, 'export_checkpoints_dir': {'default': None, 'actual': None}, 'balance_classes': {'default': False, 'actual': False}, 'class_sampling_factors': {'default': None, 'actual': None}, 'max_after_balance_size': {'default': 5.0, 'actual': 5.0}, 'max_confusion_matrix_size': {'default': 20, 'actual': 20}, 'max_hit_ratio_k': {'default': 0, 'actual': 0}, 'max_runtime_secs': {'default': 0.0, 'actual': 0.0}, 'custom_metric_func': {'default': None, 'actual': None}}, {'model_id': {'default': None, 'actual': {'__meta': {'schema_version': 3, 'schema_name': 'ModelKeyV3', 'schema_type': 'Key<Model>'}, 'name': 'DRF_1_AutoML_20190422_173752', 'type': 'Key<Model>', 'URL': '/3/Models/DRF_1_AutoML_20190422_173752'}}, 'training_frame': {'default': None, 'actual': {'__meta': {'schema_version': 3, 'schema_name': 'FrameKeyV3', 'schema_type': 'Key<Frame>'}, 'name': 'automl_training_train_1500.hex', 'type': 'Key<Frame>', 'URL': '/3/Frames/automl_training_train_1500.hex'}}, 'validation_frame': {'default': None, 'actual': None}, 'nfolds': {'default': 0, 'actual': 5}, 'keep_cross_validation_models': {'default': True, 'actual': False}, 'keep_cross_validation_predictions': {'default': False, 'actual': True}, 'keep_cross_validation_fold_assignment': {'default': False, 'actual': False}, 'score_each_iteration': {'default': False, 'actual': False}, 'score_tree_interval': {'default': 0, 'actual': 0}, 'fold_assignment': {'default': 'AUTO', 'actual': 'Modulo'}, 'fold_column': {'default': None, 'actual': None}, 'response_column': {'default': None, 'actual': {'__meta': {'schema_version': 3, 'schema_name': 'ColSpecifierV3', 'schema_type': 'VecSpecifier'}, 'column_name': 'Claim', 'is_member_of_frames': None}}, 'ignored_columns': {'default': None, 'actual': []}, 'ignore_const_cols': {'default': True, 'actual': True}, 'offset_column': {'default': None, 'actual': None}, 'weights_column': {'default': None, 'actual': None}, 'balance_classes': {'default': False, 'actual': False}, 'class_sampling_factors': {'default': None, 'actual': None}, 'max_after_balance_size': {'default': 5.0, 'actual': 5.0}, 'max_confusion_matrix_size': {'default': 20, 'actual': 20}, 'max_hit_ratio_k': {'default': 0, 'actual': 0}, 'ntrees': {'default': 50, 'actual': 50}, 'max_depth': {'default': 20, 'actual': 20}, 'min_rows': {'default': 1.0, 'actual': 1.0}, 'nbins': {'default': 20, 'actual': 20}, 'nbins_top_level': {'default': 1024, 'actual': 1024}, 'nbins_cats': {'default': 1024, 'actual': 1024}, 'r2_stopping': {'default': 1.7976931348623157e+308, 'actual': 1.7976931348623157e+308}, 'stopping_rounds': {'default': 0, 'actual': 0}, 'stopping_metric': {'default': 'AUTO', 'actual': 'logloss'}, 'stopping_tolerance': {'default': 0.001, 'actual': 0.00397382714153187}, 'max_runtime_secs': {'default': 0.0, 'actual': 0.0}, 'seed': {'default': -1, 'actual': -5076880529517167022}, 'build_tree_one_node': {'default': False, 'actual': False}, 'mtries': {'default': -1, 'actual': -1}, 'sample_rate': {'default': 0.6320000290870667, 'actual': 0.6320000290870667}, 'sample_rate_per_class': {'default': None, 'actual': None}, 'binomial_double_trees': {'default': False, 'actual': False}, 'checkpoint': {'default': None, 'actual': None}, 'col_sample_rate_change_per_level': {'default': 1.0, 'actual': 1.0}, 'col_sample_rate_per_tree': {'default': 1.0, 'actual': 1.0}, 'min_split_improvement': {'default': 1e-05, 'actual': 1e-05}, 'histogram_type': {'default': 'AUTO', 'actual': 'AUTO'}, 'categorical_encoding': {'default': 'AUTO', 'actual': 'AUTO'}, 'calibrate_model': {'default': False, 'actual': False}, 'calibration_frame': {'default': None, 'actual': None}, 'distribution': {'default': 'AUTO', 'actual': 'multinomial'}, 'custom_metric_func': {'default': None, 'actual': None}, 'export_checkpoints_dir': {'default': None, 'actual': None}, 'check_constant_response': {'default': True, 'actual': True}}, {'model_id': {'default': None, 'actual': {'__meta': {'schema_version': 3, 'schema_name': 'ModelKeyV3', 'schema_type': 'Key<Model>'}, 'name': 'XRT_1_AutoML_20190422_173752', 'type': 'Key<Model>', 'URL': '/3/Models/XRT_1_AutoML_20190422_173752'}}, 'training_frame': {'default': None, 'actual': {'__meta': {'schema_version': 3, 'schema_name': 'FrameKeyV3', 'schema_type': 'Key<Frame>'}, 'name': 'automl_training_train_1500.hex', 'type': 'Key<Frame>', 'URL': '/3/Frames/automl_training_train_1500.hex'}}, 'validation_frame': {'default': None, 'actual': None}, 'nfolds': {'default': 0, 'actual': 5}, 'keep_cross_validation_models': {'default': True, 'actual': False}, 'keep_cross_validation_predictions': {'default': False, 'actual': True}, 'keep_cross_validation_fold_assignment': {'default': False, 'actual': False}, 'score_each_iteration': {'default': False, 'actual': False}, 'score_tree_interval': {'default': 0, 'actual': 0}, 'fold_assignment': {'default': 'AUTO', 'actual': 'Modulo'}, 'fold_column': {'default': None, 'actual': None}, 'response_column': {'default': None, 'actual': {'__meta': {'schema_version': 3, 'schema_name': 'ColSpecifierV3', 'schema_type': 'VecSpecifier'}, 'column_name': 'Claim', 'is_member_of_frames': None}}, 'ignored_columns': {'default': None, 'actual': []}, 'ignore_const_cols': {'default': True, 'actual': True}, 'offset_column': {'default': None, 'actual': None}, 'weights_column': {'default': None, 'actual': None}, 'balance_classes': {'default': False, 'actual': False}, 'class_sampling_factors': {'default': None, 'actual': None}, 'max_after_balance_size': {'default': 5.0, 'actual': 5.0}, 'max_confusion_matrix_size': {'default': 20, 'actual': 20}, 'max_hit_ratio_k': {'default': 0, 'actual': 0}, 'ntrees': {'default': 50, 'actual': 50}, 'max_depth': {'default': 20, 'actual': 20}, 'min_rows': {'default': 1.0, 'actual': 1.0}, 'nbins': {'default': 20, 'actual': 20}, 'nbins_top_level': {'default': 1024, 'actual': 1024}, 'nbins_cats': {'default': 1024, 'actual': 1024}, 'r2_stopping': {'default': 1.7976931348623157e+308, 'actual': 1.7976931348623157e+308}, 'stopping_rounds': {'default': 0, 'actual': 0}, 'stopping_metric': {'default': 'AUTO', 'actual': 'logloss'}, 'stopping_tolerance': {'default': 0.001, 'actual': 0.00397382714153187}, 'max_runtime_secs': {'default': 0.0, 'actual': 0.0}, 'seed': {'default': -1, 'actual': 1286619255904531280}, 'build_tree_one_node': {'default': False, 'actual': False}, 'mtries': {'default': -1, 'actual': -1}, 'sample_rate': {'default': 0.6320000290870667, 'actual': 0.6320000290870667}, 'sample_rate_per_class': {'default': None, 'actual': None}, 'binomial_double_trees': {'default': False, 'actual': False}, 'checkpoint': {'default': None, 'actual': None}, 'col_sample_rate_change_per_level': {'default': 1.0, 'actual': 1.0}, 'col_sample_rate_per_tree': {'default': 1.0, 'actual': 1.0}, 'min_split_improvement': {'default': 1e-05, 'actual': 1e-05}, 'histogram_type': {'default': 'AUTO', 'actual': 'Random'}, 'categorical_encoding': {'default': 'AUTO', 'actual': 'AUTO'}, 'calibrate_model': {'default': False, 'actual': False}, 'calibration_frame': {'default': None, 'actual': None}, 'distribution': {'default': 'AUTO', 'actual': 'multinomial'}, 'custom_metric_func': {'default': None, 'actual': None}, 'export_checkpoints_dir': {'default': None, 'actual': None}, 'check_constant_response': {'default': True, 'actual': True}}, {'model_id': {'default': None, 'actual': {'__meta': {'schema_version': 3, 'schema_name': 'ModelKeyV3', 'schema_type': 'Key<Model>'}, 'name': 'DeepLearning_1_AutoML_20190422_173752', 'type': 'Key<Model>', 'URL': '/3/Models/DeepLearning_1_AutoML_20190422_173752'}}, 'training_frame': {'default': None, 'actual': {'__meta': {'schema_version': 3, 'schema_name': 'FrameKeyV3', 'schema_type': 'Key<Frame>'}, 'name': 'automl_training_train_1500.hex', 'type': 'Key<Frame>', 'URL': '/3/Frames/automl_training_train_1500.hex'}}, 'validation_frame': {'default': None, 'actual': None}, 'nfolds': {'default': 0, 'actual': 5}, 'keep_cross_validation_models': {'default': True, 'actual': False}, 'keep_cross_validation_predictions': {'default': False, 'actual': True}, 'keep_cross_validation_fold_assignment': {'default': False, 'actual': False}, 'fold_assignment': {'default': 'AUTO', 'actual': 'Modulo'}, 'fold_column': {'default': None, 'actual': None}, 'response_column': {'default': None, 'actual': {'__meta': {'schema_version': 3, 'schema_name': 'ColSpecifierV3', 'schema_type': 'VecSpecifier'}, 'column_name': 'Claim', 'is_member_of_frames': None}}, 'ignored_columns': {'default': None, 'actual': []}, 'ignore_const_cols': {'default': True, 'actual': True}, 'score_each_iteration': {'default': False, 'actual': False}, 'weights_column': {'default': None, 'actual': None}, 'offset_column': {'default': None, 'actual': None}, 'balance_classes': {'default': False, 'actual': False}, 'class_sampling_factors': {'default': None, 'actual': None}, 'max_after_balance_size': {'default': 5.0, 'actual': 5.0}, 'max_confusion_matrix_size': {'default': 20, 'actual': 20}, 'max_hit_ratio_k': {'default': 0, 'actual': 0}, 'checkpoint': {'default': None, 'actual': None}, 'pretrained_autoencoder': {'default': None, 'actual': None}, 'overwrite_with_best_model': {'default': True, 'actual': False}, 'use_all_factor_levels': {'default': True, 'actual': True}, 'standardize': {'default': True, 'actual': True}, 'activation': {'default': 'Rectifier', 'actual': 'Rectifier'}, 'hidden': {'default': [200, 200], 'actual': [10, 10, 10]}, 'epochs': {'default': 10.0, 'actual': 10.400404216697424}, 'train_samples_per_iteration': {'default': -2, 'actual': -2}, 'target_ratio_comm_to_comp': {'default': 0.05, 'actual': 0.05}, 'seed': {'default': -1, 'actual': -1833588668293285374}, 'adaptive_rate': {'default': True, 'actual': True}, 'rho': {'default': 0.99, 'actual': 0.99}, 'epsilon': {'default': 1e-08, 'actual': 1e-08}, 'rate': {'default': 0.005, 'actual': 0.005}, 'rate_annealing': {'default': 1e-06, 'actual': 1e-06}, 'rate_decay': {'default': 1.0, 'actual': 1.0}, 'momentum_start': {'default': 0.0, 'actual': 0.0}, 'momentum_ramp': {'default': 1000000.0, 'actual': 1000000.0}, 'momentum_stable': {'default': 0.0, 'actual': 0.0}, 'nesterov_accelerated_gradient': {'default': True, 'actual': True}, 'input_dropout_ratio': {'default': 0.0, 'actual': 0.0}, 'hidden_dropout_ratios': {'default': None, 'actual': None}, 'l1': {'default': 0.0, 'actual': 0.0}, 'l2': {'default': 0.0, 'actual': 0.0}, 'max_w2': {'default': 3.4028235e+38, 'actual': 3.4028235e+38}, 'initial_weight_distribution': {'default': 'UniformAdaptive', 'actual': 'UniformAdaptive'}, 'initial_weight_scale': {'default': 1.0, 'actual': 1.0}, 'initial_weights': {'default': None, 'actual': None}, 'initial_biases': {'default': None, 'actual': None}, 'loss': {'default': 'Automatic', 'actual': 'Automatic'}, 'distribution': {'default': 'AUTO', 'actual': 'AUTO'}, 'quantile_alpha': {'default': 0.5, 'actual': 0.5}, 'tweedie_power': {'default': 1.5, 'actual': 1.5}, 'huber_alpha': {'default': 0.9, 'actual': 0.9}, 'score_interval': {'default': 5.0, 'actual': 5.0}, 'score_training_samples': {'default': 10000, 'actual': 10000}, 'score_validation_samples': {'default': 0, 'actual': 0}, 'score_duty_cycle': {'default': 0.1, 'actual': 0.1}, 'classification_stop': {'default': 0.0, 'actual': 0.0}, 'regression_stop': {'default': 1e-06, 'actual': 1e-06}, 'stopping_rounds': {'default': 5, 'actual': 0}, 'stopping_metric': {'default': 'AUTO', 'actual': 'logloss'}, 'stopping_tolerance': {'default': 0.0, 'actual': 0.00397382714153187}, 'max_runtime_secs': {'default': 0.0, 'actual': 0.0}, 'score_validation_sampling': {'default': 'Uniform', 'actual': 'Uniform'}, 'diagnostics': {'default': True, 'actual': True}, 'fast_mode': {'default': True, 'actual': True}, 'force_load_balance': {'default': True, 'actual': True}, 'variable_importances': {'default': True, 'actual': True}, 'replicate_training_data': {'default': True, 'actual': True}, 'single_node_mode': {'default': False, 'actual': False}, 'shuffle_training_data': {'default': False, 'actual': False}, 'missing_values_handling': {'default': 'MeanImputation', 'actual': 'MeanImputation'}, 'quiet_mode': {'default': False, 'actual': False}, 'autoencoder': {'default': False, 'actual': False}, 'sparse': {'default': False, 'actual': False}, 'col_major': {'default': False, 'actual': False}, 'average_activation': {'default': 0.0, 'actual': 0.0}, 'sparsity_beta': {'default': 0.0, 'actual': 0.0}, 'max_categorical_features': {'default': 2147483647, 'actual': 2147483647}, 'reproducible': {'default': False, 'actual': False}, 'export_weights_and_biases': {'default': False, 'actual': False}, 'mini_batch_size': {'default': 1, 'actual': 1}, 'categorical_encoding': {'default': 'AUTO', 'actual': 'AUTO'}, 'elastic_averaging': {'default': False, 'actual': False}, 'elastic_averaging_moving_rate': {'default': 0.9, 'actual': 0.9}, 'elastic_averaging_regularization': {'default': 0.001, 'actual': 0.001}, 'export_checkpoints_dir': {'default': None, 'actual': None}}, {'model_id': {'default': None, 'actual': {'__meta': {'schema_version': 3, 'schema_name': 'ModelKeyV3', 'schema_type': 'Key<Model>'}, 'name': 'DeepLearning_grid_1_AutoML_20190422_173752_model_2', 'type': 'Key<Model>', 'URL': '/3/Models/DeepLearning_grid_1_AutoML_20190422_173752_model_2'}}, 'training_frame': {'default': None, 'actual': {'__meta': {'schema_version': 3, 'schema_name': 'FrameKeyV3', 'schema_type': 'Key<Frame>'}, 'name': 'automl_training_train_1500.hex', 'type': 'Key<Frame>', 'URL': '/3/Frames/automl_training_train_1500.hex'}}, 'validation_frame': {'default': None, 'actual': None}, 'nfolds': {'default': 0, 'actual': 5}, 'keep_cross_validation_models': {'default': True, 'actual': False}, 'keep_cross_validation_predictions': {'default': False, 'actual': True}, 'keep_cross_validation_fold_assignment': {'default': False, 'actual': False}, 'fold_assignment': {'default': 'AUTO', 'actual': 'Modulo'}, 'fold_column': {'default': None, 'actual': None}, 'response_column': {'default': None, 'actual': {'__meta': {'schema_version': 3, 'schema_name': 'ColSpecifierV3', 'schema_type': 'VecSpecifier'}, 'column_name': 'Claim', 'is_member_of_frames': None}}, 'ignored_columns': {'default': None, 'actual': []}, 'ignore_const_cols': {'default': True, 'actual': True}, 'score_each_iteration': {'default': False, 'actual': False}, 'weights_column': {'default': None, 'actual': None}, 'offset_column': {'default': None, 'actual': None}, 'balance_classes': {'default': False, 'actual': False}, 'class_sampling_factors': {'default': None, 'actual': None}, 'max_after_balance_size': {'default': 5.0, 'actual': 5.0}, 'max_confusion_matrix_size': {'default': 20, 'actual': 20}, 'max_hit_ratio_k': {'default': 0, 'actual': 0}, 'checkpoint': {'default': None, 'actual': None}, 'pretrained_autoencoder': {'default': None, 'actual': None}, 'overwrite_with_best_model': {'default': True, 'actual': False}, 'use_all_factor_levels': {'default': True, 'actual': True}, 'standardize': {'default': True, 'actual': True}, 'activation': {'default': 'Rectifier', 'actual': 'RectifierWithDropout'}, 'hidden': {'default': [200, 200], 'actual': [500]}, 'epochs': {'default': 10.0, 'actual': 3.4736210484134835}, 'train_samples_per_iteration': {'default': -2, 'actual': -2}, 'target_ratio_comm_to_comp': {'default': 0.05, 'actual': 0.05}, 'seed': {'default': -1, 'actual': -7661291217193553830}, 'adaptive_rate': {'default': True, 'actual': True}, 'rho': {'default': 0.99, 'actual': 0.99}, 'epsilon': {'default': 1e-08, 'actual': 1e-06}, 'rate': {'default': 0.005, 'actual': 0.005}, 'rate_annealing': {'default': 1e-06, 'actual': 1e-06}, 'rate_decay': {'default': 1.0, 'actual': 1.0}, 'momentum_start': {'default': 0.0, 'actual': 0.0}, 'momentum_ramp': {'default': 1000000.0, 'actual': 1000000.0}, 'momentum_stable': {'default': 0.0, 'actual': 0.0}, 'nesterov_accelerated_gradient': {'default': True, 'actual': True}, 'input_dropout_ratio': {'default': 0.0, 'actual': 0.1}, 'hidden_dropout_ratios': {'default': None, 'actual': [0.3]}, 'l1': {'default': 0.0, 'actual': 0.0}, 'l2': {'default': 0.0, 'actual': 0.0}, 'max_w2': {'default': 3.4028235e+38, 'actual': 3.4028235e+38}, 'initial_weight_distribution': {'default': 'UniformAdaptive', 'actual': 'UniformAdaptive'}, 'initial_weight_scale': {'default': 1.0, 'actual': 1.0}, 'initial_weights': {'default': None, 'actual': None}, 'initial_biases': {'default': None, 'actual': None}, 'loss': {'default': 'Automatic', 'actual': 'Automatic'}, 'distribution': {'default': 'AUTO', 'actual': 'AUTO'}, 'quantile_alpha': {'default': 0.5, 'actual': 0.5}, 'tweedie_power': {'default': 1.5, 'actual': 1.5}, 'huber_alpha': {'default': 0.9, 'actual': 0.9}, 'score_interval': {'default': 5.0, 'actual': 5.0}, 'score_training_samples': {'default': 10000, 'actual': 10000}, 'score_validation_samples': {'default': 0, 'actual': 0}, 'score_duty_cycle': {'default': 0.1, 'actual': 0.1}, 'classification_stop': {'default': 0.0, 'actual': 0.0}, 'regression_stop': {'default': 1e-06, 'actual': 1e-06}, 'stopping_rounds': {'default': 5, 'actual': 0}, 'stopping_metric': {'default': 'AUTO', 'actual': 'logloss'}, 'stopping_tolerance': {'default': 0.0, 'actual': 0.00397382714153187}, 'max_runtime_secs': {'default': 0.0, 'actual': 0.0}, 'score_validation_sampling': {'default': 'Uniform', 'actual': 'Uniform'}, 'diagnostics': {'default': True, 'actual': True}, 'fast_mode': {'default': True, 'actual': True}, 'force_load_balance': {'default': True, 'actual': True}, 'variable_importances': {'default': True, 'actual': True}, 'replicate_training_data': {'default': True, 'actual': True}, 'single_node_mode': {'default': False, 'actual': False}, 'shuffle_training_data': {'default': False, 'actual': False}, 'missing_values_handling': {'default': 'MeanImputation', 'actual': 'MeanImputation'}, 'quiet_mode': {'default': False, 'actual': False}, 'autoencoder': {'default': False, 'actual': False}, 'sparse': {'default': False, 'actual': False}, 'col_major': {'default': False, 'actual': False}, 'average_activation': {'default': 0.0, 'actual': 0.0}, 'sparsity_beta': {'default': 0.0, 'actual': 0.0}, 'max_categorical_features': {'default': 2147483647, 'actual': 2147483647}, 'reproducible': {'default': False, 'actual': False}, 'export_weights_and_biases': {'default': False, 'actual': False}, 'mini_batch_size': {'default': 1, 'actual': 1}, 'categorical_encoding': {'default': 'AUTO', 'actual': 'AUTO'}, 'elastic_averaging': {'default': False, 'actual': False}, 'elastic_averaging_moving_rate': {'default': 0.9, 'actual': 0.9}, 'elastic_averaging_regularization': {'default': 0.001, 'actual': 0.001}, 'export_checkpoints_dir': {'default': None, 'actual': None}}, {'model_id': {'default': None, 'actual': {'__meta': {'schema_version': 3, 'schema_name': 'ModelKeyV3', 'schema_type': 'Key<Model>'}, 'name': 'DeepLearning_grid_1_AutoML_20190422_173752_model_3', 'type': 'Key<Model>', 'URL': '/3/Models/DeepLearning_grid_1_AutoML_20190422_173752_model_3'}}, 'training_frame': {'default': None, 'actual': {'__meta': {'schema_version': 3, 'schema_name': 'FrameKeyV3', 'schema_type': 'Key<Frame>'}, 'name': 'automl_training_train_1500.hex', 'type': 'Key<Frame>', 'URL': '/3/Frames/automl_training_train_1500.hex'}}, 'validation_frame': {'default': None, 'actual': None}, 'nfolds': {'default': 0, 'actual': 5}, 'keep_cross_validation_models': {'default': True, 'actual': False}, 'keep_cross_validation_predictions': {'default': False, 'actual': True}, 'keep_cross_validation_fold_assignment': {'default': False, 'actual': False}, 'fold_assignment': {'default': 'AUTO', 'actual': 'Modulo'}, 'fold_column': {'default': None, 'actual': None}, 'response_column': {'default': None, 'actual': {'__meta': {'schema_version': 3, 'schema_name': 'ColSpecifierV3', 'schema_type': 'VecSpecifier'}, 'column_name': 'Claim', 'is_member_of_frames': None}}, 'ignored_columns': {'default': None, 'actual': []}, 'ignore_const_cols': {'default': True, 'actual': True}, 'score_each_iteration': {'default': False, 'actual': False}, 'weights_column': {'default': None, 'actual': None}, 'offset_column': {'default': None, 'actual': None}, 'balance_classes': {'default': False, 'actual': False}, 'class_sampling_factors': {'default': None, 'actual': None}, 'max_after_balance_size': {'default': 5.0, 'actual': 5.0}, 'max_confusion_matrix_size': {'default': 20, 'actual': 20}, 'max_hit_ratio_k': {'default': 0, 'actual': 0}, 'checkpoint': {'default': None, 'actual': None}, 'pretrained_autoencoder': {'default': None, 'actual': None}, 'overwrite_with_best_model': {'default': True, 'actual': False}, 'use_all_factor_levels': {'default': True, 'actual': True}, 'standardize': {'default': True, 'actual': True}, 'activation': {'default': 'Rectifier', 'actual': 'RectifierWithDropout'}, 'hidden': {'default': [200, 200], 'actual': [200]}, 'epochs': {'default': 10.0, 'actual': 1.5810409580762765}, 'train_samples_per_iteration': {'default': -2, 'actual': -2}, 'target_ratio_comm_to_comp': {'default': 0.05, 'actual': 0.05}, 'seed': {'default': -1, 'actual': -4923386358079946612}, 'adaptive_rate': {'default': True, 'actual': True}, 'rho': {'default': 0.99, 'actual': 0.99}, 'epsilon': {'default': 1e-08, 'actual': 1e-08}, 'rate': {'default': 0.005, 'actual': 0.005}, 'rate_annealing': {'default': 1e-06, 'actual': 1e-06}, 'rate_decay': {'default': 1.0, 'actual': 1.0}, 'momentum_start': {'default': 0.0, 'actual': 0.0}, 'momentum_ramp': {'default': 1000000.0, 'actual': 1000000.0}, 'momentum_stable': {'default': 0.0, 'actual': 0.0}, 'nesterov_accelerated_gradient': {'default': True, 'actual': True}, 'input_dropout_ratio': {'default': 0.0, 'actual': 0.05}, 'hidden_dropout_ratios': {'default': None, 'actual': [0.4]}, 'l1': {'default': 0.0, 'actual': 0.0}, 'l2': {'default': 0.0, 'actual': 0.0}, 'max_w2': {'default': 3.4028235e+38, 'actual': 3.4028235e+38}, 'initial_weight_distribution': {'default': 'UniformAdaptive', 'actual': 'UniformAdaptive'}, 'initial_weight_scale': {'default': 1.0, 'actual': 1.0}, 'initial_weights': {'default': None, 'actual': None}, 'initial_biases': {'default': None, 'actual': None}, 'loss': {'default': 'Automatic', 'actual': 'Automatic'}, 'distribution': {'default': 'AUTO', 'actual': 'AUTO'}, 'quantile_alpha': {'default': 0.5, 'actual': 0.5}, 'tweedie_power': {'default': 1.5, 'actual': 1.5}, 'huber_alpha': {'default': 0.9, 'actual': 0.9}, 'score_interval': {'default': 5.0, 'actual': 5.0}, 'score_training_samples': {'default': 10000, 'actual': 10000}, 'score_validation_samples': {'default': 0, 'actual': 0}, 'score_duty_cycle': {'default': 0.1, 'actual': 0.1}, 'classification_stop': {'default': 0.0, 'actual': 0.0}, 'regression_stop': {'default': 1e-06, 'actual': 1e-06}, 'stopping_rounds': {'default': 5, 'actual': 0}, 'stopping_metric': {'default': 'AUTO', 'actual': 'logloss'}, 'stopping_tolerance': {'default': 0.0, 'actual': 0.00397382714153187}, 'max_runtime_secs': {'default': 0.0, 'actual': 0.0}, 'score_validation_sampling': {'default': 'Uniform', 'actual': 'Uniform'}, 'diagnostics': {'default': True, 'actual': True}, 'fast_mode': {'default': True, 'actual': True}, 'force_load_balance': {'default': True, 'actual': True}, 'variable_importances': {'default': True, 'actual': True}, 'replicate_training_data': {'default': True, 'actual': True}, 'single_node_mode': {'default': False, 'actual': False}, 'shuffle_training_data': {'default': False, 'actual': False}, 'missing_values_handling': {'default': 'MeanImputation', 'actual': 'MeanImputation'}, 'quiet_mode': {'default': False, 'actual': False}, 'autoencoder': {'default': False, 'actual': False}, 'sparse': {'default': False, 'actual': False}, 'col_major': {'default': False, 'actual': False}, 'average_activation': {'default': 0.0, 'actual': 0.0}, 'sparsity_beta': {'default': 0.0, 'actual': 0.0}, 'max_categorical_features': {'default': 2147483647, 'actual': 2147483647}, 'reproducible': {'default': False, 'actual': False}, 'export_weights_and_biases': {'default': False, 'actual': False}, 'mini_batch_size': {'default': 1, 'actual': 1}, 'categorical_encoding': {'default': 'AUTO', 'actual': 'AUTO'}, 'elastic_averaging': {'default': False, 'actual': False}, 'elastic_averaging_moving_rate': {'default': 0.9, 'actual': 0.9}, 'elastic_averaging_regularization': {'default': 0.001, 'actual': 0.001}, 'export_checkpoints_dir': {'default': None, 'actual': None}}, {'model_id': {'default': None, 'actual': {'__meta': {'schema_version': 3, 'schema_name': 'ModelKeyV3', 'schema_type': 'Key<Model>'}, 'name': 'DeepLearning_grid_1_AutoML_20190422_173752_model_4', 'type': 'Key<Model>', 'URL': '/3/Models/DeepLearning_grid_1_AutoML_20190422_173752_model_4'}}, 'training_frame': {'default': None, 'actual': {'__meta': {'schema_version': 3, 'schema_name': 'FrameKeyV3', 'schema_type': 'Key<Frame>'}, 'name': 'automl_training_train_1500.hex', 'type': 'Key<Frame>', 'URL': '/3/Frames/automl_training_train_1500.hex'}}, 'validation_frame': {'default': None, 'actual': None}, 'nfolds': {'default': 0, 'actual': 5}, 'keep_cross_validation_models': {'default': True, 'actual': False}, 'keep_cross_validation_predictions': {'default': False, 'actual': True}, 'keep_cross_validation_fold_assignment': {'default': False, 'actual': False}, 'fold_assignment': {'default': 'AUTO', 'actual': 'Modulo'}, 'fold_column': {'default': None, 'actual': None}, 'response_column': {'default': None, 'actual': {'__meta': {'schema_version': 3, 'schema_name': 'ColSpecifierV3', 'schema_type': 'VecSpecifier'}, 'column_name': 'Claim', 'is_member_of_frames': None}}, 'ignored_columns': {'default': None, 'actual': []}, 'ignore_const_cols': {'default': True, 'actual': True}, 'score_each_iteration': {'default': False, 'actual': False}, 'weights_column': {'default': None, 'actual': None}, 'offset_column': {'default': None, 'actual': None}, 'balance_classes': {'default': False, 'actual': False}, 'class_sampling_factors': {'default': None, 'actual': None}, 'max_after_balance_size': {'default': 5.0, 'actual': 5.0}, 'max_confusion_matrix_size': {'default': 20, 'actual': 20}, 'max_hit_ratio_k': {'default': 0, 'actual': 0}, 'checkpoint': {'default': None, 'actual': None}, 'pretrained_autoencoder': {'default': None, 'actual': None}, 'overwrite_with_best_model': {'default': True, 'actual': False}, 'use_all_factor_levels': {'default': True, 'actual': True}, 'standardize': {'default': True, 'actual': True}, 'activation': {'default': 'Rectifier', 'actual': 'RectifierWithDropout'}, 'hidden': {'default': [200, 200], 'actual': [500, 500]}, 'epochs': {'default': 10.0, 'actual': 0.202151954711809}, 'train_samples_per_iteration': {'default': -2, 'actual': -2}, 'target_ratio_comm_to_comp': {'default': 0.05, 'actual': 0.05}, 'seed': {'default': -1, 'actual': 8978805741848839658}, 'adaptive_rate': {'default': True, 'actual': True}, 'rho': {'default': 0.99, 'actual': 0.95}, 'epsilon': {'default': 1e-08, 'actual': 1e-08}, 'rate': {'default': 0.005, 'actual': 0.005}, 'rate_annealing': {'default': 1e-06, 'actual': 1e-06}, 'rate_decay': {'default': 1.0, 'actual': 1.0}, 'momentum_start': {'default': 0.0, 'actual': 0.0}, 'momentum_ramp': {'default': 1000000.0, 'actual': 1000000.0}, 'momentum_stable': {'default': 0.0, 'actual': 0.0}, 'nesterov_accelerated_gradient': {'default': True, 'actual': True}, 'input_dropout_ratio': {'default': 0.0, 'actual': 0.0}, 'hidden_dropout_ratios': {'default': None, 'actual': [0.1, 0.1]}, 'l1': {'default': 0.0, 'actual': 0.0}, 'l2': {'default': 0.0, 'actual': 0.0}, 'max_w2': {'default': 3.4028235e+38, 'actual': 3.4028235e+38}, 'initial_weight_distribution': {'default': 'UniformAdaptive', 'actual': 'UniformAdaptive'}, 'initial_weight_scale': {'default': 1.0, 'actual': 1.0}, 'initial_weights': {'default': None, 'actual': None}, 'initial_biases': {'default': None, 'actual': None}, 'loss': {'default': 'Automatic', 'actual': 'Automatic'}, 'distribution': {'default': 'AUTO', 'actual': 'AUTO'}, 'quantile_alpha': {'default': 0.5, 'actual': 0.5}, 'tweedie_power': {'default': 1.5, 'actual': 1.5}, 'huber_alpha': {'default': 0.9, 'actual': 0.9}, 'score_interval': {'default': 5.0, 'actual': 5.0}, 'score_training_samples': {'default': 10000, 'actual': 10000}, 'score_validation_samples': {'default': 0, 'actual': 0}, 'score_duty_cycle': {'default': 0.1, 'actual': 0.1}, 'classification_stop': {'default': 0.0, 'actual': 0.0}, 'regression_stop': {'default': 1e-06, 'actual': 1e-06}, 'stopping_rounds': {'default': 5, 'actual': 0}, 'stopping_metric': {'default': 'AUTO', 'actual': 'logloss'}, 'stopping_tolerance': {'default': 0.0, 'actual': 0.00397382714153187}, 'max_runtime_secs': {'default': 0.0, 'actual': 0.0}, 'score_validation_sampling': {'default': 'Uniform', 'actual': 'Uniform'}, 'diagnostics': {'default': True, 'actual': True}, 'fast_mode': {'default': True, 'actual': True}, 'force_load_balance': {'default': True, 'actual': True}, 'variable_importances': {'default': True, 'actual': True}, 'replicate_training_data': {'default': True, 'actual': True}, 'single_node_mode': {'default': False, 'actual': False}, 'shuffle_training_data': {'default': False, 'actual': False}, 'missing_values_handling': {'default': 'MeanImputation', 'actual': 'MeanImputation'}, 'quiet_mode': {'default': False, 'actual': False}, 'autoencoder': {'default': False, 'actual': False}, 'sparse': {'default': False, 'actual': False}, 'col_major': {'default': False, 'actual': False}, 'average_activation': {'default': 0.0, 'actual': 0.0}, 'sparsity_beta': {'default': 0.0, 'actual': 0.0}, 'max_categorical_features': {'default': 2147483647, 'actual': 2147483647}, 'reproducible': {'default': False, 'actual': False}, 'export_weights_and_biases': {'default': False, 'actual': False}, 'mini_batch_size': {'default': 1, 'actual': 1}, 'categorical_encoding': {'default': 'AUTO', 'actual': 'AUTO'}, 'elastic_averaging': {'default': False, 'actual': False}, 'elastic_averaging_moving_rate': {'default': 0.9, 'actual': 0.9}, 'elastic_averaging_regularization': {'default': 0.001, 'actual': 0.001}, 'export_checkpoints_dir': {'default': None, 'actual': None}}, {'model_id': {'default': None, 'actual': {'__meta': {'schema_version': 3, 'schema_name': 'ModelKeyV3', 'schema_type': 'Key<Model>'}, 'name': 'DeepLearning_grid_1_AutoML_20190422_173752_model_1', 'type': 'Key<Model>', 'URL': '/3/Models/DeepLearning_grid_1_AutoML_20190422_173752_model_1'}}, 'training_frame': {'default': None, 'actual': {'__meta': {'schema_version': 3, 'schema_name': 'FrameKeyV3', 'schema_type': 'Key<Frame>'}, 'name': 'automl_training_train_1500.hex', 'type': 'Key<Frame>', 'URL': '/3/Frames/automl_training_train_1500.hex'}}, 'validation_frame': {'default': None, 'actual': None}, 'nfolds': {'default': 0, 'actual': 5}, 'keep_cross_validation_models': {'default': True, 'actual': False}, 'keep_cross_validation_predictions': {'default': False, 'actual': True}, 'keep_cross_validation_fold_assignment': {'default': False, 'actual': False}, 'fold_assignment': {'default': 'AUTO', 'actual': 'Modulo'}, 'fold_column': {'default': None, 'actual': None}, 'response_column': {'default': None, 'actual': {'__meta': {'schema_version': 3, 'schema_name': 'ColSpecifierV3', 'schema_type': 'VecSpecifier'}, 'column_name': 'Claim', 'is_member_of_frames': None}}, 'ignored_columns': {'default': None, 'actual': []}, 'ignore_const_cols': {'default': True, 'actual': True}, 'score_each_iteration': {'default': False, 'actual': False}, 'weights_column': {'default': None, 'actual': None}, 'offset_column': {'default': None, 'actual': None}, 'balance_classes': {'default': False, 'actual': False}, 'class_sampling_factors': {'default': None, 'actual': None}, 'max_after_balance_size': {'default': 5.0, 'actual': 5.0}, 'max_confusion_matrix_size': {'default': 20, 'actual': 20}, 'max_hit_ratio_k': {'default': 0, 'actual': 0}, 'checkpoint': {'default': None, 'actual': None}, 'pretrained_autoencoder': {'default': None, 'actual': None}, 'overwrite_with_best_model': {'default': True, 'actual': False}, 'use_all_factor_levels': {'default': True, 'actual': True}, 'standardize': {'default': True, 'actual': True}, 'activation': {'default': 'Rectifier', 'actual': 'RectifierWithDropout'}, 'hidden': {'default': [200, 200], 'actual': [200]}, 'epochs': {'default': 10.0, 'actual': 6.0006102555172065}, 'train_samples_per_iteration': {'default': -2, 'actual': -2}, 'target_ratio_comm_to_comp': {'default': 0.05, 'actual': 0.05}, 'seed': {'default': -1, 'actual': -5723892508404118617}, 'adaptive_rate': {'default': True, 'actual': True}, 'rho': {'default': 0.99, 'actual': 0.9}, 'epsilon': {'default': 1e-08, 'actual': 1e-08}, 'rate': {'default': 0.005, 'actual': 0.005}, 'rate_annealing': {'default': 1e-06, 'actual': 1e-06}, 'rate_decay': {'default': 1.0, 'actual': 1.0}, 'momentum_start': {'default': 0.0, 'actual': 0.0}, 'momentum_ramp': {'default': 1000000.0, 'actual': 1000000.0}, 'momentum_stable': {'default': 0.0, 'actual': 0.0}, 'nesterov_accelerated_gradient': {'default': True, 'actual': True}, 'input_dropout_ratio': {'default': 0.0, 'actual': 0.15}, 'hidden_dropout_ratios': {'default': None, 'actual': [0.0]}, 'l1': {'default': 0.0, 'actual': 0.0}, 'l2': {'default': 0.0, 'actual': 0.0}, 'max_w2': {'default': 3.4028235e+38, 'actual': 3.4028235e+38}, 'initial_weight_distribution': {'default': 'UniformAdaptive', 'actual': 'UniformAdaptive'}, 'initial_weight_scale': {'default': 1.0, 'actual': 1.0}, 'initial_weights': {'default': None, 'actual': None}, 'initial_biases': {'default': None, 'actual': None}, 'loss': {'default': 'Automatic', 'actual': 'Automatic'}, 'distribution': {'default': 'AUTO', 'actual': 'AUTO'}, 'quantile_alpha': {'default': 0.5, 'actual': 0.5}, 'tweedie_power': {'default': 1.5, 'actual': 1.5}, 'huber_alpha': {'default': 0.9, 'actual': 0.9}, 'score_interval': {'default': 5.0, 'actual': 5.0}, 'score_training_samples': {'default': 10000, 'actual': 10000}, 'score_validation_samples': {'default': 0, 'actual': 0}, 'score_duty_cycle': {'default': 0.1, 'actual': 0.1}, 'classification_stop': {'default': 0.0, 'actual': 0.0}, 'regression_stop': {'default': 1e-06, 'actual': 1e-06}, 'stopping_rounds': {'default': 5, 'actual': 0}, 'stopping_metric': {'default': 'AUTO', 'actual': 'logloss'}, 'stopping_tolerance': {'default': 0.0, 'actual': 0.00397382714153187}, 'max_runtime_secs': {'default': 0.0, 'actual': 0.0}, 'score_validation_sampling': {'default': 'Uniform', 'actual': 'Uniform'}, 'diagnostics': {'default': True, 'actual': True}, 'fast_mode': {'default': True, 'actual': True}, 'force_load_balance': {'default': True, 'actual': True}, 'variable_importances': {'default': True, 'actual': True}, 'replicate_training_data': {'default': True, 'actual': True}, 'single_node_mode': {'default': False, 'actual': False}, 'shuffle_training_data': {'default': False, 'actual': False}, 'missing_values_handling': {'default': 'MeanImputation', 'actual': 'MeanImputation'}, 'quiet_mode': {'default': False, 'actual': False}, 'autoencoder': {'default': False, 'actual': False}, 'sparse': {'default': False, 'actual': False}, 'col_major': {'default': False, 'actual': False}, 'average_activation': {'default': 0.0, 'actual': 0.0}, 'sparsity_beta': {'default': 0.0, 'actual': 0.0}, 'max_categorical_features': {'default': 2147483647, 'actual': 2147483647}, 'reproducible': {'default': False, 'actual': False}, 'export_weights_and_biases': {'default': False, 'actual': False}, 'mini_batch_size': {'default': 1, 'actual': 1}, 'categorical_encoding': {'default': 'AUTO', 'actual': 'AUTO'}, 'elastic_averaging': {'default': False, 'actual': False}, 'elastic_averaging_moving_rate': {'default': 0.9, 'actual': 0.9}, 'elastic_averaging_regularization': {'default': 0.001, 'actual': 0.001}, 'export_checkpoints_dir': {'default': None, 'actual': None}}, {'model_id': {'default': None, 'actual': {'__meta': {'schema_version': 3, 'schema_name': 'ModelKeyV3', 'schema_type': 'Key<Model>'}, 'name': 'DeepLearning_grid_1_AutoML_20190422_173752_model_5', 'type': 'Key<Model>', 'URL': '/3/Models/DeepLearning_grid_1_AutoML_20190422_173752_model_5'}}, 'training_frame': {'default': None, 'actual': {'__meta': {'schema_version': 3, 'schema_name': 'FrameKeyV3', 'schema_type': 'Key<Frame>'}, 'name': 'automl_training_train_1500.hex', 'type': 'Key<Frame>', 'URL': '/3/Frames/automl_training_train_1500.hex'}}, 'validation_frame': {'default': None, 'actual': None}, 'nfolds': {'default': 0, 'actual': 5}, 'keep_cross_validation_models': {'default': True, 'actual': False}, 'keep_cross_validation_predictions': {'default': False, 'actual': True}, 'keep_cross_validation_fold_assignment': {'default': False, 'actual': False}, 'fold_assignment': {'default': 'AUTO', 'actual': 'Modulo'}, 'fold_column': {'default': None, 'actual': None}, 'response_column': {'default': None, 'actual': {'__meta': {'schema_version': 3, 'schema_name': 'ColSpecifierV3', 'schema_type': 'VecSpecifier'}, 'column_name': 'Claim', 'is_member_of_frames': None}}, 'ignored_columns': {'default': None, 'actual': []}, 'ignore_const_cols': {'default': True, 'actual': True}, 'score_each_iteration': {'default': False, 'actual': False}, 'weights_column': {'default': None, 'actual': None}, 'offset_column': {'default': None, 'actual': None}, 'balance_classes': {'default': False, 'actual': False}, 'class_sampling_factors': {'default': None, 'actual': None}, 'max_after_balance_size': {'default': 5.0, 'actual': 5.0}, 'max_confusion_matrix_size': {'default': 20, 'actual': 20}, 'max_hit_ratio_k': {'default': 0, 'actual': 0}, 'checkpoint': {'default': None, 'actual': None}, 'pretrained_autoencoder': {'default': None, 'actual': None}, 'overwrite_with_best_model': {'default': True, 'actual': False}, 'use_all_factor_levels': {'default': True, 'actual': True}, 'standardize': {'default': True, 'actual': True}, 'activation': {'default': 'Rectifier', 'actual': 'RectifierWithDropout'}, 'hidden': {'default': [200, 200], 'actual': [200, 200, 200]}, 'epochs': {'default': 10.0, 'actual': 0.8015962336770898}, 'train_samples_per_iteration': {'default': -2, 'actual': -2}, 'target_ratio_comm_to_comp': {'default': 0.05, 'actual': 0.05}, 'seed': {'default': -1, 'actual': -1980989108881180449}, 'adaptive_rate': {'default': True, 'actual': True}, 'rho': {'default': 0.99, 'actual': 0.95}, 'epsilon': {'default': 1e-08, 'actual': 1e-07}, 'rate': {'default': 0.005, 'actual': 0.005}, 'rate_annealing': {'default': 1e-06, 'actual': 1e-06}, 'rate_decay': {'default': 1.0, 'actual': 1.0}, 'momentum_start': {'default': 0.0, 'actual': 0.0}, 'momentum_ramp': {'default': 1000000.0, 'actual': 1000000.0}, 'momentum_stable': {'default': 0.0, 'actual': 0.0}, 'nesterov_accelerated_gradient': {'default': True, 'actual': True}, 'input_dropout_ratio': {'default': 0.0, 'actual': 0.0}, 'hidden_dropout_ratios': {'default': None, 'actual': [0.0, 0.0, 0.0]}, 'l1': {'default': 0.0, 'actual': 0.0}, 'l2': {'default': 0.0, 'actual': 0.0}, 'max_w2': {'default': 3.4028235e+38, 'actual': 3.4028235e+38}, 'initial_weight_distribution': {'default': 'UniformAdaptive', 'actual': 'UniformAdaptive'}, 'initial_weight_scale': {'default': 1.0, 'actual': 1.0}, 'initial_weights': {'default': None, 'actual': None}, 'initial_biases': {'default': None, 'actual': None}, 'loss': {'default': 'Automatic', 'actual': 'Automatic'}, 'distribution': {'default': 'AUTO', 'actual': 'AUTO'}, 'quantile_alpha': {'default': 0.5, 'actual': 0.5}, 'tweedie_power': {'default': 1.5, 'actual': 1.5}, 'huber_alpha': {'default': 0.9, 'actual': 0.9}, 'score_interval': {'default': 5.0, 'actual': 5.0}, 'score_training_samples': {'default': 10000, 'actual': 10000}, 'score_validation_samples': {'default': 0, 'actual': 0}, 'score_duty_cycle': {'default': 0.1, 'actual': 0.1}, 'classification_stop': {'default': 0.0, 'actual': 0.0}, 'regression_stop': {'default': 1e-06, 'actual': 1e-06}, 'stopping_rounds': {'default': 5, 'actual': 0}, 'stopping_metric': {'default': 'AUTO', 'actual': 'logloss'}, 'stopping_tolerance': {'default': 0.0, 'actual': 0.00397382714153187}, 'max_runtime_secs': {'default': 0.0, 'actual': 0.0}, 'score_validation_sampling': {'default': 'Uniform', 'actual': 'Uniform'}, 'diagnostics': {'default': True, 'actual': True}, 'fast_mode': {'default': True, 'actual': True}, 'force_load_balance': {'default': True, 'actual': True}, 'variable_importances': {'default': True, 'actual': True}, 'replicate_training_data': {'default': True, 'actual': True}, 'single_node_mode': {'default': False, 'actual': False}, 'shuffle_training_data': {'default': False, 'actual': False}, 'missing_values_handling': {'default': 'MeanImputation', 'actual': 'MeanImputation'}, 'quiet_mode': {'default': False, 'actual': False}, 'autoencoder': {'default': False, 'actual': False}, 'sparse': {'default': False, 'actual': False}, 'col_major': {'default': False, 'actual': False}, 'average_activation': {'default': 0.0, 'actual': 0.0}, 'sparsity_beta': {'default': 0.0, 'actual': 0.0}, 'max_categorical_features': {'default': 2147483647, 'actual': 2147483647}, 'reproducible': {'default': False, 'actual': False}, 'export_weights_and_biases': {'default': False, 'actual': False}, 'mini_batch_size': {'default': 1, 'actual': 1}, 'categorical_encoding': {'default': 'AUTO', 'actual': 'AUTO'}, 'elastic_averaging': {'default': False, 'actual': False}, 'elastic_averaging_moving_rate': {'default': 0.9, 'actual': 0.9}, 'elastic_averaging_regularization': {'default': 0.001, 'actual': 0.001}, 'export_checkpoints_dir': {'default': None, 'actual': None}}, {'model_id': {'default': None, 'actual': {'__meta': {'schema_version': 3, 'schema_name': 'ModelKeyV3', 'schema_type': 'Key<Model>'}, 'name': 'GBM_grid_1_AutoML_20190422_173752_model_5', 'type': 'Key<Model>', 'URL': '/3/Models/GBM_grid_1_AutoML_20190422_173752_model_5'}}, 'training_frame': {'default': None, 'actual': {'__meta': {'schema_version': 3, 'schema_name': 'FrameKeyV3', 'schema_type': 'Key<Frame>'}, 'name': 'automl_training_train_1500.hex', 'type': 'Key<Frame>', 'URL': '/3/Frames/automl_training_train_1500.hex'}}, 'validation_frame': {'default': None, 'actual': None}, 'nfolds': {'default': 0, 'actual': 5}, 'keep_cross_validation_models': {'default': True, 'actual': False}, 'keep_cross_validation_predictions': {'default': False, 'actual': True}, 'keep_cross_validation_fold_assignment': {'default': False, 'actual': False}, 'score_each_iteration': {'default': False, 'actual': False}, 'score_tree_interval': {'default': 0, 'actual': 5}, 'fold_assignment': {'default': 'AUTO', 'actual': 'Modulo'}, 'fold_column': {'default': None, 'actual': None}, 'response_column': {'default': None, 'actual': {'__meta': {'schema_version': 3, 'schema_name': 'ColSpecifierV3', 'schema_type': 'VecSpecifier'}, 'column_name': 'Claim', 'is_member_of_frames': None}}, 'ignored_columns': {'default': None, 'actual': []}, 'ignore_const_cols': {'default': True, 'actual': True}, 'offset_column': {'default': None, 'actual': None}, 'weights_column': {'default': None, 'actual': None}, 'balance_classes': {'default': False, 'actual': False}, 'class_sampling_factors': {'default': None, 'actual': None}, 'max_after_balance_size': {'default': 5.0, 'actual': 5.0}, 'max_confusion_matrix_size': {'default': 20, 'actual': 20}, 'max_hit_ratio_k': {'default': 0, 'actual': 0}, 'ntrees': {'default': 50, 'actual': 30}, 'max_depth': {'default': 5, 'actual': 10}, 'min_rows': {'default': 10.0, 'actual': 5.0}, 'nbins': {'default': 20, 'actual': 20}, 'nbins_top_level': {'default': 1024, 'actual': 1024}, 'nbins_cats': {'default': 1024, 'actual': 1024}, 'r2_stopping': {'default': 1.7976931348623157e+308, 'actual': 1.7976931348623157e+308}, 'stopping_rounds': {'default': 0, 'actual': 0}, 'stopping_metric': {'default': 'AUTO', 'actual': 'logloss'}, 'stopping_tolerance': {'default': 0.001, 'actual': 0.00397382714153187}, 'max_runtime_secs': {'default': 0.0, 'actual': 0.0}, 'seed': {'default': -1, 'actual': 7119339675202935301}, 'build_tree_one_node': {'default': False, 'actual': False}, 'learn_rate': {'default': 0.1, 'actual': 0.8}, 'learn_rate_annealing': {'default': 1.0, 'actual': 1.0}, 'distribution': {'default': 'AUTO', 'actual': 'bernoulli'}, 'quantile_alpha': {'default': 0.5, 'actual': 0.5}, 'tweedie_power': {'default': 1.5, 'actual': 1.5}, 'huber_alpha': {'default': 0.9, 'actual': 0.9}, 'checkpoint': {'default': None, 'actual': None}, 'sample_rate': {'default': 1.0, 'actual': 0.8}, 'sample_rate_per_class': {'default': None, 'actual': None}, 'col_sample_rate': {'default': 1.0, 'actual': 0.4}, 'col_sample_rate_change_per_level': {'default': 1.0, 'actual': 1.0}, 'col_sample_rate_per_tree': {'default': 1.0, 'actual': 1.0}, 'min_split_improvement': {'default': 1e-05, 'actual': 1e-05}, 'histogram_type': {'default': 'AUTO', 'actual': 'AUTO'}, 'max_abs_leafnode_pred': {'default': 1.7976931348623157e+308, 'actual': 1.7976931348623157e+308}, 'pred_noise_bandwidth': {'default': 0.0, 'actual': 0.0}, 'categorical_encoding': {'default': 'AUTO', 'actual': 'AUTO'}, 'calibrate_model': {'default': False, 'actual': False}, 'calibration_frame': {'default': None, 'actual': None}, 'custom_metric_func': {'default': None, 'actual': None}, 'export_checkpoints_dir': {'default': None, 'actual': None}, 'monotone_constraints': {'default': None, 'actual': None}, 'check_constant_response': {'default': True, 'actual': True}}, {'model_id': {'default': None, 'actual': {'__meta': {'schema_version': 3, 'schema_name': 'ModelKeyV3', 'schema_type': 'Key<Model>'}, 'name': 'GBM_grid_1_AutoML_20190422_173752_model_6', 'type': 'Key<Model>', 'URL': '/3/Models/GBM_grid_1_AutoML_20190422_173752_model_6'}}, 'training_frame': {'default': None, 'actual': {'__meta': {'schema_version': 3, 'schema_name': 'FrameKeyV3', 'schema_type': 'Key<Frame>'}, 'name': 'automl_training_train_1500.hex', 'type': 'Key<Frame>', 'URL': '/3/Frames/automl_training_train_1500.hex'}}, 'validation_frame': {'default': None, 'actual': None}, 'nfolds': {'default': 0, 'actual': 5}, 'keep_cross_validation_models': {'default': True, 'actual': False}, 'keep_cross_validation_predictions': {'default': False, 'actual': True}, 'keep_cross_validation_fold_assignment': {'default': False, 'actual': False}, 'score_each_iteration': {'default': False, 'actual': False}, 'score_tree_interval': {'default': 0, 'actual': 5}, 'fold_assignment': {'default': 'AUTO', 'actual': 'Modulo'}, 'fold_column': {'default': None, 'actual': None}, 'response_column': {'default': None, 'actual': {'__meta': {'schema_version': 3, 'schema_name': 'ColSpecifierV3', 'schema_type': 'VecSpecifier'}, 'column_name': 'Claim', 'is_member_of_frames': None}}, 'ignored_columns': {'default': None, 'actual': []}, 'ignore_const_cols': {'default': True, 'actual': True}, 'offset_column': {'default': None, 'actual': None}, 'weights_column': {'default': None, 'actual': None}, 'balance_classes': {'default': False, 'actual': False}, 'class_sampling_factors': {'default': None, 'actual': None}, 'max_after_balance_size': {'default': 5.0, 'actual': 5.0}, 'max_confusion_matrix_size': {'default': 20, 'actual': 20}, 'max_hit_ratio_k': {'default': 0, 'actual': 0}, 'ntrees': {'default': 50, 'actual': 30}, 'max_depth': {'default': 5, 'actual': 13}, 'min_rows': {'default': 10.0, 'actual': 15.0}, 'nbins': {'default': 20, 'actual': 20}, 'nbins_top_level': {'default': 1024, 'actual': 1024}, 'nbins_cats': {'default': 1024, 'actual': 1024}, 'r2_stopping': {'default': 1.7976931348623157e+308, 'actual': 1.7976931348623157e+308}, 'stopping_rounds': {'default': 0, 'actual': 0}, 'stopping_metric': {'default': 'AUTO', 'actual': 'logloss'}, 'stopping_tolerance': {'default': 0.001, 'actual': 0.00397382714153187}, 'max_runtime_secs': {'default': 0.0, 'actual': 0.0}, 'seed': {'default': -1, 'actual': 5578548409998585130}, 'build_tree_one_node': {'default': False, 'actual': False}, 'learn_rate': {'default': 0.1, 'actual': 0.8}, 'learn_rate_annealing': {'default': 1.0, 'actual': 1.0}, 'distribution': {'default': 'AUTO', 'actual': 'bernoulli'}, 'quantile_alpha': {'default': 0.5, 'actual': 0.5}, 'tweedie_power': {'default': 1.5, 'actual': 1.5}, 'huber_alpha': {'default': 0.9, 'actual': 0.9}, 'checkpoint': {'default': None, 'actual': None}, 'sample_rate': {'default': 1.0, 'actual': 0.6}, 'sample_rate_per_class': {'default': None, 'actual': None}, 'col_sample_rate': {'default': 1.0, 'actual': 0.4}, 'col_sample_rate_change_per_level': {'default': 1.0, 'actual': 1.0}, 'col_sample_rate_per_tree': {'default': 1.0, 'actual': 0.4}, 'min_split_improvement': {'default': 1e-05, 'actual': 1e-05}, 'histogram_type': {'default': 'AUTO', 'actual': 'AUTO'}, 'max_abs_leafnode_pred': {'default': 1.7976931348623157e+308, 'actual': 1.7976931348623157e+308}, 'pred_noise_bandwidth': {'default': 0.0, 'actual': 0.0}, 'categorical_encoding': {'default': 'AUTO', 'actual': 'AUTO'}, 'calibrate_model': {'default': False, 'actual': False}, 'calibration_frame': {'default': None, 'actual': None}, 'custom_metric_func': {'default': None, 'actual': None}, 'export_checkpoints_dir': {'default': None, 'actual': None}, 'monotone_constraints': {'default': None, 'actual': None}, 'check_constant_response': {'default': True, 'actual': True}}]"
     ]
    },
    {
     "name": "stdout",
     "output_type": "stream",
     "text": [
      "\n"
     ]
    }
   ],
   "source": [
    "print(jsonDicts)"
   ]
  },
  {
   "cell_type": "code",
   "execution_count": 127,
   "metadata": {},
   "outputs": [],
   "source": [
    "def hyperparameter_json(jsonDicts,name):\n",
    "    i = json.dumps(jsonDicts, indent=4)\n",
    "    f = open(name, 'w')\n",
    "    print(i, file=f)\n",
    "    f.close()\n",
    "# hyperparameters = mod_best.params\n",
    "name='Claim_hyperparameters.json'\n",
    "hyperparameter_json(jsonDicts,'hyperparameters_1500.json') \n",
    "hyperparameter_json(metadata,'meta_data_1500.json') \n",
    "#hyperparameter_json(show_leader_board,'lb_500.json')"
   ]
  },
  {
   "cell_type": "markdown",
   "metadata": {},
   "source": [
    "### H20 Part 4"
   ]
  },
  {
   "cell_type": "code",
   "execution_count": null,
   "metadata": {},
   "outputs": [],
   "source": [
    "data_path=None\n",
    "all_variables=None\n",
    "test_path=None\n",
    "# target='search_term'\n",
    "target=None\n",
    "nthreads=1 \n",
    "min_mem_size=6 \n",
    "run_time=2000\n",
    "classification=False\n",
    "scale=False\n",
    "max_models=9    \n",
    "model_path=None\n",
    "balance_y=False \n",
    "balance_threshold=0.2\n",
    "name=None \n",
    "server_path=None  \n",
    "analysis=0"
   ]
  },
  {
   "cell_type": "code",
   "execution_count": null,
   "metadata": {},
   "outputs": [],
   "source": [
    "pct_memory=0.5\n",
    "virtual_memory=psutil.virtual_memory()\n",
    "min_mem_size=int(round(int(pct_memory*virtual_memory.available)/1073741824,0))\n",
    "print(min_mem_size)"
   ]
  },
  {
   "cell_type": "code",
   "execution_count": null,
   "metadata": {},
   "outputs": [],
   "source": [
    "logs_path = os.getcwd()\n",
    "logfile = 'logs2.txt'"
   ]
  },
  {
   "cell_type": "code",
   "execution_count": null,
   "metadata": {},
   "outputs": [],
   "source": [
    "# 65535 Highest port no\n",
    "port_no=random.randint(5555,55555)\n",
    "h2o.init(strict_version_check=False,min_mem_size_GB=min_mem_size,port=port_no)"
   ]
  },
  {
   "cell_type": "code",
   "execution_count": null,
   "metadata": {},
   "outputs": [],
   "source": [
    "df.to_csv('train4.csv')"
   ]
  },
  {
   "cell_type": "code",
   "execution_count": null,
   "metadata": {},
   "outputs": [],
   "source": [
    "data_path = 'train4.csv'"
   ]
  },
  {
   "cell_type": "code",
   "execution_count": null,
   "metadata": {},
   "outputs": [],
   "source": [
    "# Load data into H2O\n",
    "train_data = h2o.import_file(data_path)"
   ]
  },
  {
   "cell_type": "code",
   "execution_count": null,
   "metadata": {},
   "outputs": [],
   "source": [
    "train_data.head()"
   ]
  },
  {
   "cell_type": "code",
   "execution_count": null,
   "metadata": {},
   "outputs": [],
   "source": [
    "target ='Claim'"
   ]
  },
  {
   "cell_type": "code",
   "execution_count": null,
   "metadata": {},
   "outputs": [],
   "source": [
    "# dependent variable\n",
    "# assign target and inputs for classification or regression\n",
    "if target==None:\n",
    "  target=train_data.columns[18]   \n",
    "y = target"
   ]
  },
  {
   "cell_type": "code",
   "execution_count": null,
   "metadata": {},
   "outputs": [],
   "source": [
    "def get_independent_variables(train_data, targ):\n",
    "    C = [name for name in train_data.columns if name != targ]\n",
    "    # determine column types\n",
    "    ints, reals, enums = [], [], []\n",
    "    for key, val in train_data.types.items():\n",
    "        if key in C:\n",
    "            if val == 'enum':\n",
    "                enums.append(key)\n",
    "            elif val == 'int':\n",
    "                ints.append(key)            \n",
    "            else: \n",
    "                reals.append(key)    \n",
    "    x = ints + enums + reals\n",
    "    return x\n",
    "\n",
    "X = get_independent_variables(train_data, target) \n",
    "print(X)\n",
    "y = target\n",
    "print(y)"
   ]
  },
  {
   "cell_type": "code",
   "execution_count": null,
   "metadata": {},
   "outputs": [],
   "source": [
    "# setup autoML\n",
    "run_time=2000\n",
    "aml = H2OAutoML(max_runtime_secs=run_time)"
   ]
  },
  {
   "cell_type": "code",
   "execution_count": null,
   "metadata": {},
   "outputs": [],
   "source": [
    "logs_path = os.getcwd()\n",
    "logfile = 'logs4.txt'"
   ]
  },
  {
   "cell_type": "code",
   "execution_count": null,
   "metadata": {},
   "outputs": [],
   "source": [
    "model_start_time = time.time()\n",
    "aml.train(x=X,y=y,training_frame=train_data)  # Change training_frame=train"
   ]
  },
  {
   "cell_type": "code",
   "execution_count": null,
   "metadata": {},
   "outputs": [],
   "source": [
    "# view leaderboard\n",
    "lb = aml.leaderboard\n",
    "lb"
   ]
  },
  {
   "cell_type": "code",
   "execution_count": null,
   "metadata": {},
   "outputs": [],
   "source": [
    "\n",
    "# get leaderboard\n",
    "aml_leaderboard_df=aml.leaderboard.as_data_frame()"
   ]
  },
  {
   "cell_type": "code",
   "execution_count": null,
   "metadata": {},
   "outputs": [],
   "source": [
    "aml_leaderboard_df"
   ]
  },
  {
   "cell_type": "code",
   "execution_count": null,
   "metadata": {},
   "outputs": [],
   "source": [
    "\n",
    "# STart best model as first model\n",
    "\n",
    "model_set=aml_leaderboard_df['model_id']\n",
    "mod_best=h2o.get_model(model_set[0])"
   ]
  },
  {
   "cell_type": "code",
   "execution_count": null,
   "metadata": {},
   "outputs": [],
   "source": [
    "\n",
    "mod_best._id"
   ]
  },
  {
   "cell_type": "code",
   "execution_count": null,
   "metadata": {},
   "outputs": [],
   "source": [
    "# h2o.get_model(mod_best)\n",
    "mod_best.params"
   ]
  },
  {
   "cell_type": "code",
   "execution_count": null,
   "metadata": {},
   "outputs": [],
   "source": [
    "def dict_to_json(dct,n):\n",
    "  j = json.dumps(dct, indent=4)\n",
    "  f = open(n, 'w')\n",
    "  print(j, file=f)\n",
    "  f.close()"
   ]
  },
  {
   "cell_type": "code",
   "execution_count": null,
   "metadata": {},
   "outputs": [],
   "source": [
    "hy_parameter = mod_best.params\n",
    "n='hyperparameter4.json'"
   ]
  },
  {
   "cell_type": "code",
   "execution_count": null,
   "metadata": {},
   "outputs": [],
   "source": [
    "dict_to_json(hy_parameter,n)"
   ]
  },
  {
   "cell_type": "code",
   "execution_count": null,
   "metadata": {},
   "outputs": [],
   "source": []
  }
 ],
 "metadata": {
  "kernelspec": {
   "display_name": "Python 3",
   "language": "python",
   "name": "python3"
  },
  "language_info": {
   "codemirror_mode": {
    "name": "ipython",
    "version": 3
   },
   "file_extension": ".py",
   "mimetype": "text/x-python",
   "name": "python",
   "nbconvert_exporter": "python",
   "pygments_lexer": "ipython3",
   "version": "3.7.1"
  }
 },
 "nbformat": 4,
 "nbformat_minor": 2
}
